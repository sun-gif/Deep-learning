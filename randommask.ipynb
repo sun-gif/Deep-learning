{
  "nbformat": 4,
  "nbformat_minor": 0,
  "metadata": {
    "colab": {
      "name": "randommask.ipynb",
      "provenance": [],
      "authorship_tag": "ABX9TyNRT4lZ5py16r3k0SrXakBg",
      "include_colab_link": true
    },
    "kernelspec": {
      "name": "python3",
      "display_name": "Python 3"
    },
    "language_info": {
      "name": "python"
    },
    "gpuClass": "standard"
  },
  "cells": [
    {
      "cell_type": "markdown",
      "metadata": {
        "id": "view-in-github",
        "colab_type": "text"
      },
      "source": [
        "<a href=\"https://colab.research.google.com/github/sun-gif/Deep-learning/blob/master/randommask.ipynb\" target=\"_parent\"><img src=\"https://colab.research.google.com/assets/colab-badge.svg\" alt=\"Open In Colab\"/></a>"
      ]
    },
    {
      "cell_type": "code",
      "source": [
        "!pip install transformers"
      ],
      "metadata": {
        "id": "90nVbEipbePY"
      },
      "execution_count": null,
      "outputs": []
    },
    {
      "cell_type": "code",
      "execution_count": 2,
      "metadata": {
        "id": "pjV_Hv29bSbw"
      },
      "outputs": [],
      "source": [
        "from transformers import BertTokenizer, BertForMaskedLM\n",
        "import torch"
      ]
    },
    {
      "cell_type": "code",
      "source": [
        "import transformers\n",
        "from transformers import AutoTokenizer, AutoModel"
      ],
      "metadata": {
        "id": "gJhQJdc6FES7"
      },
      "execution_count": 3,
      "outputs": []
    },
    {
      "cell_type": "code",
      "source": [
        "tokenizer = AutoTokenizer.from_pretrained('bert-base-uncased')\n",
        "model = BertForMaskedLM.from_pretrained('bert-base-uncased')\n",
        "\n",
        "text = ['From my grandfather Verus I learned good morals and the government of my temper.',\n",
        " 'From the reputation and remembrance of my father, modesty and a manly character.',\n",
        " 'From my mother, piety and beneficence, and abstinence, not only from evil deeds, but even from evil thoughts; and further, simplicity in my way of living, far removed from the habits of the rich.',\n",
        " 'From my great-grandfather, not to have frequented public schools, and to have had good teachers at home, and to know that on such things a man should spend liberally.']"
      ],
      "metadata": {
        "colab": {
          "base_uri": "https://localhost:8080/"
        },
        "id": "ccOWz1p0bWsc",
        "outputId": "e18a91c1-b39f-4ed2-d9be-c11e34d22922"
      },
      "execution_count": 64,
      "outputs": [
        {
          "output_type": "stream",
          "name": "stderr",
          "text": [
            "Some weights of the model checkpoint at bert-base-uncased were not used when initializing BertForMaskedLM: ['cls.seq_relationship.weight', 'cls.seq_relationship.bias']\n",
            "- This IS expected if you are initializing BertForMaskedLM from the checkpoint of a model trained on another task or with another architecture (e.g. initializing a BertForSequenceClassification model from a BertForPreTraining model).\n",
            "- This IS NOT expected if you are initializing BertForMaskedLM from the checkpoint of a model that you expect to be exactly identical (initializing a BertForSequenceClassification model from a BertForSequenceClassification model).\n"
          ]
        }
      ]
    },
    {
      "cell_type": "code",
      "source": [
        "import pandas as pd\n",
        "t=pd.read_csv('/content/senor_results.tsv',sep=\"\\t\")"
      ],
      "metadata": {
        "id": "dFyXLbBBp_hz"
      },
      "execution_count": 5,
      "outputs": []
    },
    {
      "cell_type": "code",
      "source": [
        "def mask_seq(row):\n",
        "    tokens = tokenizer(row.context, return_tensors='pt',max_length=512, truncation=True,padding='max_length')   \n",
        "    start = tokens.char_to_token(row.start)\n",
        "    end = tokens.char_to_token(row.end)\n",
        "    #print(start,end)\n",
        "    tokens['attention_mask'] = torch.tensor([0 if (a >= start and a < end) else 1 for a in range(tokens['input_ids'].shape[1]) ])\n",
        "    return tokens"
      ],
      "metadata": {
        "id": "vBV86E4P2J1G"
      },
      "execution_count": 6,
      "outputs": []
    },
    {
      "cell_type": "code",
      "source": [
        "class MeditationsDataset():\n",
        "    def __init__(self, data):\n",
        "        self.data=data\n",
        "        self.mask_seq=mask_seq\n",
        "        self.inputs=[]\n",
        "    def __getitem__(self, idx):\n",
        "        self.inputs.append(self.mask_seq(self.data.iloc[idx]))\n",
        "        #print(self.inputs)\n",
        "        self.inputs[idx]['labels'] = self.inputs[idx].input_ids.detach().clone()\n",
        "        #print(self.inputs)\n",
        "        return self.inputs[idx]\n",
        "        #return {key: torch.tensor(val[idx]) for key, val in self.inputs[idx].items()}\n",
        "    def __len__(self):\n",
        "        return len(self.data)"
      ],
      "metadata": {
        "id": "isc7Fw8cwH1G"
      },
      "execution_count": 82,
      "outputs": []
    },
    {
      "cell_type": "code",
      "source": [
        "dataset = MeditationsDataset(t[:16])"
      ],
      "metadata": {
        "id": "KjdpReMTwMW1"
      },
      "execution_count": 91,
      "outputs": []
    },
    {
      "cell_type": "code",
      "source": [
        "loader = torch.utils.data.DataLoader(dataset, batch_size=1, shuffle=True)"
      ],
      "metadata": {
        "id": "uYyFnfG6wNLl"
      },
      "execution_count": 143,
      "outputs": []
    },
    {
      "cell_type": "code",
      "source": [
        "from transformers import AdamW\n",
        "# initialize optimizer\n",
        "optim = AdamW(model.parameters(), lr=5e-5)"
      ],
      "metadata": {
        "colab": {
          "base_uri": "https://localhost:8080/"
        },
        "id": "UFhHzr9-wYxh",
        "outputId": "77f14dad-92e7-4f53-acec-5e3e7a3d7d77"
      },
      "execution_count": 10,
      "outputs": [
        {
          "output_type": "stream",
          "name": "stderr",
          "text": [
            "/usr/local/lib/python3.7/dist-packages/transformers/optimization.py:310: FutureWarning: This implementation of AdamW is deprecated and will be removed in a future version. Use the PyTorch implementation torch.optim.AdamW instead, or set `no_deprecation_warning=True` to disable this warning\n",
            "  FutureWarning,\n"
          ]
        }
      ]
    },
    {
      "cell_type": "code",
      "source": [
        "device = torch.device('cuda') if torch.cuda.is_available() else torch.device('cpu')\n",
        "# and move our model over to the selected device\n",
        "model.to(device)\n",
        "# activate training mode\n",
        "model.train()"
      ],
      "metadata": {
        "id": "K8lFJNODyO5-"
      },
      "execution_count": null,
      "outputs": []
    },
    {
      "cell_type": "code",
      "source": [
        "#from tqdm import tqdm  # for our progress bar\n",
        "import matplotlib\n",
        "import matplotlib.pyplot as plt\n",
        "epochs = 5\n",
        "Loss=[]\n",
        "for epoch in range(epochs):\n",
        "    # setup loop with TQDM and dataloader\n",
        "    #loop = tqdm(loader, leave=True)\n",
        "    #print(loop)\n",
        "    running_loss = 0\n",
        "    for batch in loader:\n",
        "        #batch=torch.squeeze(batch)\n",
        "        # initialize calculated gradients (from prev step)\n",
        "        optim.zero_grad()\n",
        "        # pull all tensor batches required for training\n",
        "        input_ids = torch.squeeze(batch['input_ids'],0).to(device)\n",
        "        #input_ids = batch['input_ids'].to(device)\n",
        "        #print(input_ids.shape)\n",
        "        attention_msk=(batch['attention_mask']).to(device)\n",
        "        #attention_mask = torch.squeeze(batch['attention_mask']).to(device)\n",
        "        #labels = batch['labels'].to(device)\n",
        "        labels = torch.squeeze(batch['labels'],0).to(device)\n",
        "        #print(attention_msk.shape)\n",
        "        outputs = model(input_ids,labels=labels,attention_mask=attention_msk)\n",
        "        # process\n",
        "        #print(outputs.shape)\n",
        "        # extract loss\n",
        "        loss = outputs.loss\n",
        "        #print(loss)\n",
        "        # calculate loss for every parameter that needs grad update\n",
        "        loss.backward()\n",
        "        # update parameters\n",
        "        optim.step()\n",
        "        # print relevant info to progress bar\n",
        "        #loop.set_description(f'Epoch {epoch}')\n",
        "        #loop.set_postfix(loss=loss.item())\n",
        "        running_loss += loss.item()\n",
        "       #print('Epoch {}, Loss {}'.format(epoch, loss.item()))\n",
        "    print( 'Epoch {},running_Loss {}'.format(epoch,running_loss/len(loader))) \n",
        "    \n",
        "    Loss.append(running_loss/len(loader))    \n",
        "plt.plot(Loss)\n",
        "plt.show"
      ],
      "metadata": {
        "colab": {
          "base_uri": "https://localhost:8080/",
          "height": 369
        },
        "id": "umLFUH6CwjL9",
        "outputId": "7fe0f61b-5a7e-439d-f690-a2d8e88a70cc"
      },
      "execution_count": 145,
      "outputs": [
        {
          "output_type": "stream",
          "name": "stdout",
          "text": [
            "Epoch 0,running_Loss 7.447021424770355\n",
            "Epoch 1,running_Loss 7.36666601896286\n",
            "Epoch 2,running_Loss 7.37328964471817\n",
            "Epoch 3,running_Loss 7.349953711032867\n",
            "Epoch 4,running_Loss 7.368489682674408\n"
          ]
        },
        {
          "output_type": "execute_result",
          "data": {
            "text/plain": [
              "<function matplotlib.pyplot.show>"
            ]
          },
          "metadata": {},
          "execution_count": 145
        },
        {
          "output_type": "display_data",
          "data": {
            "text/plain": [
              "<Figure size 432x288 with 1 Axes>"
            ],
            "image/png": "[encoded data removed]"
          },
          "metadata": {
            "needs_background": "light"
          }
        }
      ]
    }
  ]
}