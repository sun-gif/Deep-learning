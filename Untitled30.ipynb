{
  "nbformat": 4,
  "nbformat_minor": 0,
  "metadata": {
    "colab": {
      "name": "Untitled30.ipynb",
      "provenance": [],
      "machine_shape": "hm",
      "authorship_tag": "ABX9TyPZA6u8YYt/umX7fdyqtRWA",
      "include_colab_link": true
    },
    "kernelspec": {
      "name": "python3",
      "display_name": "Python 3"
    },
    "language_info": {
      "name": "python"
    },
    "accelerator": "GPU"
  },
  "cells": [
    {
      "cell_type": "markdown",
      "metadata": {
        "id": "view-in-github",
        "colab_type": "text"
      },
      "source": [
        "<a href=\"https://colab.research.google.com/github/sun-gif/Deep-learning/blob/master/Untitled30.ipynb\" target=\"_parent\"><img src=\"https://colab.research.google.com/assets/colab-badge.svg\" alt=\"Open In Colab\"/></a>"
      ]
    },
    {
      "cell_type": "code",
      "source": [
        "!pip install routing_transformer --upgrade"
      ],
      "metadata": {
        "colab": {
          "base_uri": "https://localhost:8080/"
        },
        "id": "Lovldh0F3C6k",
        "outputId": "7d845b70-1cb4-4c85-ff1e-c9d960c74c2e"
      },
      "execution_count": 2,
      "outputs": [
        {
          "output_type": "stream",
          "name": "stdout",
          "text": [
            "Collecting routing_transformer\n",
            "  Downloading routing_transformer-1.6.1-py3-none-any.whl (16 kB)\n",
            "Collecting mixture-of-experts>=0.2.0\n",
            "  Downloading mixture_of_experts-0.2.1-py3-none-any.whl (6.0 kB)\n",
            "Collecting product-key-memory\n",
            "  Downloading product_key_memory-0.1.10.tar.gz (3.5 kB)\n",
            "Collecting einops\n",
            "  Downloading einops-0.4.0-py3-none-any.whl (28 kB)\n",
            "Requirement already satisfied: torch in /usr/local/lib/python3.7/dist-packages (from routing_transformer) (1.10.0+cu111)\n",
            "Collecting local-attention>=1.4.0\n",
            "  Downloading local_attention-1.4.3-py3-none-any.whl (5.0 kB)\n",
            "Requirement already satisfied: typing-extensions in /usr/local/lib/python3.7/dist-packages (from torch->routing_transformer) (3.10.0.2)\n",
            "Building wheels for collected packages: product-key-memory\n",
            "  Building wheel for product-key-memory (setup.py) ... \u001b[?25l\u001b[?25hdone\n",
            "  Created wheel for product-key-memory: filename=product_key_memory-0.1.10-py3-none-any.whl size=3072 sha256=9c46cd852fbb592ae7bc545a22d5993e9de46eaaa73025ebd492c8c50df347b1\n",
            "  Stored in directory: /root/.cache/pip/wheels/43/78/51/06648579a50c8e83f24ebfbdfd66462d1b88315a3491deba86\n",
            "Successfully built product-key-memory\n",
            "Installing collected packages: product-key-memory, mixture-of-experts, local-attention, einops, routing-transformer\n",
            "Successfully installed einops-0.4.0 local-attention-1.4.3 mixture-of-experts-0.2.1 product-key-memory-0.1.10 routing-transformer-1.6.1\n"
          ]
        }
      ]
    },
    {
      "cell_type": "code",
      "execution_count": 3,
      "metadata": {
        "colab": {
          "resources": {
            "http://localhost:8080/nbextensions/google.colab/files.js": {
              "data": "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",
              "ok": true,
              "headers": [
                [
                  "content-type",
                  "application/javascript"
                ]
              ],
              "status": 200,
              "status_text": ""
            }
          },
          "base_uri": "https://localhost:8080/",
          "height": 1000
        },
        "id": "u7nliw4X043c",
        "outputId": "a2aa8115-6a2c-4c4c-9c2c-926cb255dcad"
      },
      "outputs": [
        {
          "data": {
            "text/html": [
              "\n",
              "     <input type=\"file\" id=\"files-36113343-aab3-4b6b-9855-8aa5adb5db5f\" name=\"files[]\" multiple disabled\n",
              "        style=\"border:none\" />\n",
              "     <output id=\"result-36113343-aab3-4b6b-9855-8aa5adb5db5f\">\n",
              "      Upload widget is only available when the cell has been executed in the\n",
              "      current browser session. Please rerun this cell to enable.\n",
              "      </output>\n",
              "      <script src=\"/nbextensions/google.colab/files.js\"></script> "
            ],
            "text/plain": [
              "<IPython.core.display.HTML object>"
            ]
          },
          "metadata": {},
          "output_type": "display_data"
        },
        {
          "metadata": {
            "tags": null
          },
          "name": "stdout",
          "output_type": "stream",
          "text": [
            "Saving enwik8.gz to enwik8.gz\n"
          ]
        },
        {
          "metadata": {
            "tags": null
          },
          "name": "stderr",
          "output_type": "stream",
          "text": [
            "/usr/local/lib/python3.7/dist-packages/ipykernel_launcher.py:60: DeprecationWarning: The binary mode of fromstring is deprecated, as it behaves surprisingly on unicode inputs. Use frombuffer instead\n",
            "training:   0%|          | 0/5000 [00:00<?, ?it/s]/usr/local/lib/python3.7/dist-packages/torch/nn/modules/module.py:1015: UserWarning: Using a non-full backward hook when outputs are generated by different autograd Nodes is deprecated and will be removed in future versions. This hook will be missing some grad_output. Please use register_full_backward_hook to get the documented behavior.\n",
            "  warnings.warn(\"Using a non-full backward hook when outputs are generated by different autograd Nodes \"\n"
          ]
        },
        {
          "metadata": {
            "tags": null
          },
          "name": "stdout",
          "output_type": "stream",
          "text": [
            "training loss: 5.646475791931152\n",
            "validation loss: 4.3396196365356445\n",
            "%s \n",
            "\n",
            " %s ('relationship between the various 802.11 protocols, standards and regulatory bodies. * [http://www.oreilly.com/catalog/802dot112/chapter/ch15.pdf Chapter 15: A Peek Ahead at 802.11n: MIMO-OFDM] 802.11 Wireless Networks: The Definitive Guide, Second Edition (PDF)  == References == #{{note|superG}} http://www.super-g.com/ #{{note|125HSM}} [http://www.54g.org/about_54g_speed.php Broadcom\\'s 125 High Speed Mode consortium] #{{note|EWC}}[http://www.enhancedwirelessconsortium.org/ Enhanced Wireless Consortium] #{{note|802.11-2003}}[http://shop.ieee.org/ieeestore/Product.aspx?product_no=SH95357 Purchase 802.11-2003]  [[Category:IEEE 802]] [[Category:Wi-Fi]] [[Category:Wireless networking]]  [[de:IEEE 802.11]] [[es:IEEE 802.11]] [[fi:802.11]] [[fr:IEEE 802.11]] [[he:IEEE 802.11]] [[it:IEEE 802.11]] [[ja:IEEE802.11]] [[ko:IEEE 802.11]] [[nl:IEEE 802.11]] [[pl:802.11]] [[pt:IEEE 802.11]] [[ru:IEEE 802.11]] [[sv:IEEE 802.11]]</text>     </revision>   </page>   <page>     <title>Initialism</title>     <id>14740</id>     <revision>       <id>28001973</id>       <timestamp>2005-11-11T06:26:43Z</timestamp>       <contributor>         <username>RoyBoy</username>         <id>94806</id>       </contributor>       <minor />       <comment>Reverted edits by [[Special:Contributions/199.172.228.242|199.172.228.242]] to last version by Nohat</comment>       <text xml:space=\"preserve\">#REDIRECT [[Acronym and initialism]]</text>     </revision>   </page>   <page>     <title>Irn-Bru</title>     <id>14741</id>     <revision>       <id>41366063</id>       <timestamp>2006-02-26T22:01:41Z</timestamp>       <contributor>         <ip>70.53.125.5</ip>       </contributor>       <comment>/* Exports and foreign markets */ Canadian bru is also missing quinine which greatly affects the taste</comment>       <text xml:space=\"preserve\">:\\'\\'For a Cuban soft drink with a similar name, see [[Ironbeer]]\\'\\' [[Image:Irn-Bru logo.jpg|175px|right|Irn-Bru logo]] [[Image:Fm_irnbru.jpg|thumb|200px|Irn-Bru]] \\'\\'\\'Irn-Bru\\'\\'\\' (pronounced &quot;Iron Brew&quot;) was the most popular [[caffeine|caffeinated]] [[soft drink]] in [[Scotland]] until 2005 when both Coca Cola and Diet Coke outsold it. It is made by [[A.G. Barr plc]], of [[Glasgow]].  Barr\\'s Irn-Bru is available in the [[United Kingdom]], [[Ireland]], [[Russia]], [[Canada]], [[Australia]], and throughout much of [[Europe]]. The original spelling was \\'\\'\\'Iron Brew\\'\\'\\', and versions from other manufacturers continue to use the older name (see [[Irn-Bru#History|below]]).  Irn-Bru\\'s advertising slogan used to be &quot;Made in Scotland from [[girder]]s&quot;, though the closest one can come to substantiating this claim is the 0.002% ammonium ferric citrate listed in the ingredients.  It has long been the most popular soft drink in Scotland, outselling even [[Coca-Cola]], but recent fierce competition between the two brands has brought their sales to roughly equal levels (perhaps leaning to [[Coca-Cola]]) [http://business.scotsman.com/topics.cfm?tid=639&amp;id=1081882003]. This success in defending its home market (a feat claimed only by Irn-Bru, [[South Australia]]\\'s [[Farmers Union Iced Coffee]], [[Peru]]\\'s [[Inca Kola]] and [[Sweden]]\\'s [[Julmust]]) has led to ongoing speculation that either Coke, or its arch-rival [[PepsiCo, Inc.]], would attempt to buy A.G. Barr [http://scotlandonsunday.scotsman.com/business.cfm?id=244962005].  ==The drink== Irn-Bru is most famous for its eccentric bright orange colour, making it easily recognisable even when not in its packaging. The \\'Iron-Brew\\' produced by other manufacturers is a similar shade, but merely approximates Irn-Bru in taste. The formula for Irn-Bru is a closely guarded secret, known only by two of Barr\\'s board members.  Bru is widely reputed to be an excellent cure for [[hangover]]s. This claim has some foundation in truth &amp;mdash; all caffeinated drinks will soothe headaches to an extent, and sugary drinks will replace lost fluids and sugars.  Some believe that it makes an excellent mixer with [[Alcoholic beverage|alcoholic beverages]] &amp;mdash; mainly [[vodka]] and [[whis', '****************************************************************************************************')\n"
          ]
        },
        {
          "metadata": {
            "tags": null
          },
          "name": "stderr",
          "output_type": "stream",
          "text": [
            "\rtraining:   0%|          | 1/5000 [00:32<45:27:50, 32.74s/it]"
          ]
        },
        {
          "metadata": {
            "tags": null
          },
          "name": "stdout",
          "output_type": "stream",
          "text": [
            " r e    h        óa]              t   i   t e u  i   s    e       t  7Ù   hu e ee        ei        C  åe    ia      i s       iat  u     e   a               o   e   ah    in   ih     i  rei   t   ] ton ed   a    inu e  q       i  r wo          h   a  iåÙ h i    or    anh  ie t a     s eit t     r re      e i       e  in ei  ani        h       u o            t  ht ¯7      u e   ]     re o      r  o     or        c   e   i i    he  pe          ] h     h       s      u e h       ie   ]s  hoe   u       u  t \n",
            "training loss: 4.383314609527588\n",
            "training loss: 4.596984386444092\n",
            "training loss: 4.389186859130859\n",
            "training loss: 3.892076253890991\n",
            "training loss: 3.4656178951263428\n"
          ]
        },
        {
          "metadata": {
            "tags": null
          },
          "name": "stderr",
          "output_type": "stream",
          "text": [
            "\rtraining:   0%|          | 7/5000 [00:44<7:12:31,  5.20s/it] "
          ]
        },
        {
          "metadata": {
            "tags": null
          },
          "name": "stdout",
          "output_type": "stream",
          "text": [
            "training loss: 3.5980212688446045\n",
            "training loss: 3.356348752975464\n",
            "training loss: 3.55576753616333\n",
            "training loss: 3.3361635208129883\n",
            "training loss: 3.1710944175720215\n",
            "training loss: 3.2191641330718994\n"
          ]
        },
        {
          "metadata": {
            "tags": null
          },
          "name": "stderr",
          "output_type": "stream",
          "text": [
            "\rtraining:   0%|          | 13/5000 [00:56<4:42:00,  3.39s/it]"
          ]
        },
        {
          "metadata": {
            "tags": null
          },
          "name": "stdout",
          "output_type": "stream",
          "text": [
            "training loss: 3.1013972759246826\n",
            "training loss: 3.583155393600464\n",
            "training loss: 3.21879506111145\n",
            "training loss: 3.0862674713134766\n",
            "training loss: 2.9774415493011475\n",
            "training loss: 3.148149251937866\n"
          ]
        },
        {
          "metadata": {
            "tags": null
          },
          "name": "stderr",
          "output_type": "stream",
          "text": [
            "\rtraining:   0%|          | 19/5000 [01:08<3:49:29,  2.76s/it]"
          ]
        },
        {
          "metadata": {
            "tags": null
          },
          "name": "stdout",
          "output_type": "stream",
          "text": [
            "training loss: 3.1215806007385254\n",
            "training loss: 2.900479793548584\n",
            "training loss: 3.228055000305176\n",
            "training loss: 2.9134204387664795\n",
            "training loss: 3.005998373031616\n",
            "training loss: 2.9911177158355713\n"
          ]
        },
        {
          "metadata": {
            "tags": null
          },
          "name": "stderr",
          "output_type": "stream",
          "text": [
            "training:   0%|          | 25/5000 [01:20<3:23:57,  2.46s/it]"
          ]
        },
        {
          "metadata": {
            "tags": null
          },
          "name": "stdout",
          "output_type": "stream",
          "text": [
            "training loss: 2.99783992767334\n",
            "training loss: 2.9787824153900146\n",
            "training loss: 2.997786045074463\n",
            "training loss: 2.828138828277588\n",
            "training loss: 3.0630998611450195\n",
            "training loss: 2.983294725418091\n"
          ]
        },
        {
          "metadata": {
            "tags": null
          },
          "name": "stderr",
          "output_type": "stream",
          "text": [
            "\rtraining:   1%|          | 31/5000 [01:32<3:09:31,  2.29s/it]"
          ]
        },
        {
          "metadata": {
            "tags": null
          },
          "name": "stdout",
          "output_type": "stream",
          "text": [
            "training loss: 2.9151642322540283\n",
            "training loss: 3.1522326469421387\n",
            "training loss: 2.775614023208618\n",
            "training loss: 2.8289954662323\n",
            "training loss: 2.757240056991577\n",
            "training loss: 2.9607553482055664\n"
          ]
        },
        {
          "metadata": {
            "tags": null
          },
          "name": "stderr",
          "output_type": "stream",
          "text": [
            "\rtraining:   1%|          | 37/5000 [01:44<3:00:39,  2.18s/it]"
          ]
        },
        {
          "metadata": {
            "tags": null
          },
          "name": "stdout",
          "output_type": "stream",
          "text": [
            "training loss: 2.9230830669403076\n",
            "training loss: 2.9113810062408447\n",
            "training loss: 2.7742550373077393\n",
            "training loss: 2.827788829803467\n",
            "training loss: 2.875781774520874\n",
            "training loss: 2.976619243621826\n"
          ]
        },
        {
          "metadata": {
            "tags": null
          },
          "name": "stderr",
          "output_type": "stream",
          "text": [
            "\rtraining:   1%|          | 43/5000 [01:55<2:54:54,  2.12s/it]"
          ]
        },
        {
          "metadata": {
            "tags": null
          },
          "name": "stdout",
          "output_type": "stream",
          "text": [
            "training loss: 2.8303420543670654\n",
            "training loss: 2.9483203887939453\n",
            "training loss: 2.764124631881714\n",
            "training loss: 2.9426825046539307\n",
            "training loss: 2.7717456817626953\n",
            "training loss: 2.8475568294525146\n"
          ]
        },
        {
          "metadata": {
            "tags": null
          },
          "name": "stderr",
          "output_type": "stream",
          "text": [
            "\rtraining:   1%|          | 49/5000 [02:07<2:51:04,  2.07s/it]"
          ]
        },
        {
          "metadata": {
            "tags": null
          },
          "name": "stdout",
          "output_type": "stream",
          "text": [
            "training loss: 2.780547618865967\n",
            "training loss: 2.8435912132263184\n",
            "training loss: 2.7570362091064453\n",
            "training loss: 2.8569767475128174\n",
            "training loss: 2.7380218505859375\n",
            "training loss: 2.7513041496276855\n"
          ]
        },
        {
          "metadata": {
            "tags": null
          },
          "name": "stderr",
          "output_type": "stream",
          "text": [
            "\rtraining:   1%|          | 55/5000 [02:19<2:48:25,  2.04s/it]"
          ]
        },
        {
          "metadata": {
            "tags": null
          },
          "name": "stdout",
          "output_type": "stream",
          "text": [
            "training loss: 2.7700753211975098\n",
            "training loss: 2.6886181831359863\n",
            "training loss: 2.7763783931732178\n",
            "training loss: 2.7856974601745605\n",
            "training loss: 2.784897804260254\n",
            "training loss: 2.826646566390991\n"
          ]
        },
        {
          "metadata": {
            "tags": null
          },
          "name": "stderr",
          "output_type": "stream",
          "text": [
            "training:   1%|          | 61/5000 [02:31<2:46:35,  2.02s/it]"
          ]
        },
        {
          "metadata": {
            "tags": null
          },
          "name": "stdout",
          "output_type": "stream",
          "text": [
            "training loss: 3.0685386657714844\n",
            "training loss: 2.696030378341675\n",
            "training loss: 2.711444854736328\n",
            "training loss: 2.8469769954681396\n",
            "training loss: 2.8939223289489746\n",
            "training loss: 2.6549673080444336\n"
          ]
        },
        {
          "metadata": {
            "tags": null
          },
          "name": "stderr",
          "output_type": "stream",
          "text": [
            "\rtraining:   1%|▏         | 67/5000 [02:43<2:45:15,  2.01s/it]"
          ]
        },
        {
          "metadata": {
            "tags": null
          },
          "name": "stdout",
          "output_type": "stream",
          "text": [
            "training loss: 2.7994699478149414\n",
            "training loss: 2.698683977127075\n",
            "training loss: 2.757439136505127\n",
            "training loss: 2.71213436126709\n",
            "training loss: 2.8152265548706055\n",
            "training loss: 2.8106911182403564\n"
          ]
        },
        {
          "metadata": {
            "tags": null
          },
          "name": "stderr",
          "output_type": "stream",
          "text": [
            "\rtraining:   1%|▏         | 73/5000 [02:55<2:44:17,  2.00s/it]"
          ]
        },
        {
          "metadata": {
            "tags": null
          },
          "name": "stdout",
          "output_type": "stream",
          "text": [
            "training loss: 2.7598965167999268\n",
            "training loss: 2.7059569358825684\n",
            "training loss: 2.7594804763793945\n",
            "training loss: 2.7345025539398193\n",
            "training loss: 2.759885549545288\n",
            "training loss: 2.670740842819214\n"
          ]
        },
        {
          "metadata": {
            "tags": null
          },
          "name": "stderr",
          "output_type": "stream",
          "text": [
            "\rtraining:   2%|▏         | 79/5000 [03:07<2:43:33,  1.99s/it]"
          ]
        },
        {
          "metadata": {
            "tags": null
          },
          "name": "stdout",
          "output_type": "stream",
          "text": [
            "training loss: 2.654571771621704\n",
            "training loss: 2.690023422241211\n",
            "training loss: 2.7553162574768066\n",
            "training loss: 2.7344276905059814\n",
            "training loss: 2.710768461227417\n",
            "training loss: 2.8470327854156494\n"
          ]
        },
        {
          "metadata": {
            "tags": null
          },
          "name": "stderr",
          "output_type": "stream",
          "text": [
            "\rtraining:   2%|▏         | 85/5000 [03:19<2:42:58,  1.99s/it]"
          ]
        },
        {
          "metadata": {
            "tags": null
          },
          "name": "stdout",
          "output_type": "stream",
          "text": [
            "training loss: 2.8076975345611572\n",
            "training loss: 2.621765613555908\n",
            "training loss: 2.7794485092163086\n",
            "training loss: 2.717747688293457\n",
            "training loss: 2.624690055847168\n",
            "training loss: 2.5956881046295166\n"
          ]
        },
        {
          "metadata": {
            "tags": null
          },
          "name": "stderr",
          "output_type": "stream",
          "text": [
            "training:   2%|▏         | 91/5000 [03:30<2:42:30,  1.99s/it]"
          ]
        },
        {
          "metadata": {
            "tags": null
          },
          "name": "stdout",
          "output_type": "stream",
          "text": [
            "training loss: 2.581881046295166\n",
            "training loss: 2.7068376541137695\n",
            "training loss: 2.7080442905426025\n",
            "training loss: 2.7118217945098877\n",
            "training loss: 2.618986129760742\n",
            "training loss: 2.712280511856079\n"
          ]
        },
        {
          "metadata": {
            "tags": null
          },
          "name": "stderr",
          "output_type": "stream",
          "text": [
            "\rtraining:   2%|▏         | 97/5000 [03:42<2:42:06,  1.98s/it]"
          ]
        },
        {
          "metadata": {
            "tags": null
          },
          "name": "stdout",
          "output_type": "stream",
          "text": [
            "training loss: 2.6167216300964355\n",
            "training loss: 2.761833429336548\n",
            "training loss: 2.718352794647217\n",
            "training loss: 2.5655534267425537\n",
            "training loss: 2.6420750617980957\n",
            "validation loss: 2.6341612339019775\n",
            "training loss: 2.756643295288086\n"
          ]
        },
        {
          "metadata": {
            "tags": null
          },
          "name": "stderr",
          "output_type": "stream",
          "text": [
            "\rtraining:   2%|▏         | 103/5000 [03:54<2:42:37,  1.99s/it]"
          ]
        },
        {
          "metadata": {
            "tags": null
          },
          "name": "stdout",
          "output_type": "stream",
          "text": [
            "training loss: 2.7380290031433105\n",
            "training loss: 2.7883269786834717\n",
            "training loss: 2.6958677768707275\n",
            "training loss: 2.716758966445923\n",
            "training loss: 2.6666481494903564\n",
            "training loss: 2.64971923828125\n"
          ]
        },
        {
          "metadata": {
            "tags": null
          },
          "name": "stderr",
          "output_type": "stream",
          "text": [
            "\rtraining:   2%|▏         | 109/5000 [04:06<2:42:03,  1.99s/it]"
          ]
        },
        {
          "metadata": {
            "tags": null
          },
          "name": "stdout",
          "output_type": "stream",
          "text": [
            "training loss: 2.6833202838897705\n",
            "training loss: 2.7254834175109863\n",
            "training loss: 2.6554455757141113\n",
            "training loss: 2.625194549560547\n",
            "training loss: 2.74389386177063\n",
            "training loss: 2.603633403778076\n"
          ]
        },
        {
          "metadata": {
            "tags": null
          },
          "name": "stderr",
          "output_type": "stream",
          "text": [
            "\rtraining:   2%|▏         | 115/5000 [04:18<2:41:35,  1.98s/it]"
          ]
        },
        {
          "metadata": {
            "tags": null
          },
          "name": "stdout",
          "output_type": "stream",
          "text": [
            "training loss: 2.817476511001587\n",
            "training loss: 2.6933233737945557\n",
            "training loss: 2.6302826404571533\n",
            "training loss: 2.64776873588562\n",
            "training loss: 2.9098751544952393\n",
            "training loss: 2.5969302654266357\n"
          ]
        },
        {
          "metadata": {
            "tags": null
          },
          "name": "stderr",
          "output_type": "stream",
          "text": [
            "training:   2%|▏         | 121/5000 [04:30<2:41:11,  1.98s/it]"
          ]
        },
        {
          "metadata": {
            "tags": null
          },
          "name": "stdout",
          "output_type": "stream",
          "text": [
            "training loss: 2.6618120670318604\n",
            "training loss: 2.5738346576690674\n",
            "training loss: 2.622290849685669\n",
            "training loss: 2.649426221847534\n",
            "training loss: 2.66396427154541\n",
            "training loss: 2.8031928539276123\n"
          ]
        },
        {
          "metadata": {
            "tags": null
          },
          "name": "stderr",
          "output_type": "stream",
          "text": [
            "\rtraining:   3%|▎         | 127/5000 [04:42<2:40:49,  1.98s/it]"
          ]
        },
        {
          "metadata": {
            "tags": null
          },
          "name": "stdout",
          "output_type": "stream",
          "text": [
            "training loss: 2.7940561771392822\n",
            "training loss: 2.728557586669922\n",
            "training loss: 2.6503922939300537\n",
            "training loss: 2.554286241531372\n",
            "training loss: 2.571535348892212\n",
            "training loss: 2.588697671890259\n"
          ]
        },
        {
          "metadata": {
            "tags": null
          },
          "name": "stderr",
          "output_type": "stream",
          "text": [
            "\rtraining:   3%|▎         | 133/5000 [04:54<2:40:31,  1.98s/it]"
          ]
        },
        {
          "metadata": {
            "tags": null
          },
          "name": "stdout",
          "output_type": "stream",
          "text": [
            "training loss: 2.5700602531433105\n",
            "training loss: 2.6490116119384766\n",
            "training loss: 2.577486276626587\n",
            "training loss: 2.6038191318511963\n",
            "training loss: 2.586982011795044\n",
            "training loss: 2.581354856491089\n"
          ]
        },
        {
          "metadata": {
            "tags": null
          },
          "name": "stderr",
          "output_type": "stream",
          "text": [
            "\rtraining:   3%|▎         | 139/5000 [05:06<2:40:16,  1.98s/it]"
          ]
        },
        {
          "metadata": {
            "tags": null
          },
          "name": "stdout",
          "output_type": "stream",
          "text": [
            "training loss: 2.628920316696167\n",
            "training loss: 2.6452629566192627\n",
            "training loss: 2.5753753185272217\n",
            "training loss: 2.542696475982666\n",
            "training loss: 2.521312952041626\n",
            "training loss: 2.6102750301361084\n"
          ]
        },
        {
          "metadata": {
            "tags": null
          },
          "name": "stderr",
          "output_type": "stream",
          "text": [
            "\rtraining:   3%|▎         | 145/5000 [05:17<2:40:01,  1.98s/it]"
          ]
        },
        {
          "metadata": {
            "tags": null
          },
          "name": "stdout",
          "output_type": "stream",
          "text": [
            "training loss: 2.4594380855560303\n",
            "training loss: 2.5811102390289307\n",
            "training loss: 2.658689260482788\n",
            "training loss: 2.705777645111084\n",
            "training loss: 2.601855516433716\n",
            "training loss: 2.4636874198913574\n"
          ]
        },
        {
          "metadata": {
            "tags": null
          },
          "name": "stderr",
          "output_type": "stream",
          "text": [
            "\rtraining:   3%|▎         | 151/5000 [05:29<2:39:47,  1.98s/it]"
          ]
        },
        {
          "metadata": {
            "tags": null
          },
          "name": "stdout",
          "output_type": "stream",
          "text": [
            "training loss: 2.65789794921875\n",
            "training loss: 2.561047077178955\n",
            "training loss: 2.570636034011841\n",
            "training loss: 2.5440187454223633\n",
            "training loss: 2.5454564094543457\n",
            "training loss: 2.4653689861297607\n"
          ]
        },
        {
          "metadata": {
            "tags": null
          },
          "name": "stderr",
          "output_type": "stream",
          "text": [
            "training:   3%|▎         | 157/5000 [05:41<2:39:33,  1.98s/it]"
          ]
        },
        {
          "metadata": {
            "tags": null
          },
          "name": "stdout",
          "output_type": "stream",
          "text": [
            "training loss: 2.55610990524292\n",
            "training loss: 2.469597816467285\n",
            "training loss: 2.547593116760254\n",
            "training loss: 2.752756118774414\n",
            "training loss: 2.559840679168701\n",
            "training loss: 2.5276267528533936\n"
          ]
        },
        {
          "metadata": {
            "tags": null
          },
          "name": "stderr",
          "output_type": "stream",
          "text": [
            "\rtraining:   3%|▎         | 163/5000 [05:53<2:39:20,  1.98s/it]"
          ]
        },
        {
          "metadata": {
            "tags": null
          },
          "name": "stdout",
          "output_type": "stream",
          "text": [
            "training loss: 2.4800591468811035\n",
            "training loss: 2.4091498851776123\n",
            "training loss: 2.4723873138427734\n",
            "training loss: 2.350637197494507\n",
            "training loss: 2.4878897666931152\n",
            "training loss: 2.457106590270996\n"
          ]
        },
        {
          "metadata": {
            "tags": null
          },
          "name": "stderr",
          "output_type": "stream",
          "text": [
            "\rtraining:   3%|▎         | 169/5000 [06:05<2:39:07,  1.98s/it]"
          ]
        },
        {
          "metadata": {
            "tags": null
          },
          "name": "stdout",
          "output_type": "stream",
          "text": [
            "training loss: 2.460165023803711\n",
            "training loss: 2.588557243347168\n",
            "training loss: 2.5122482776641846\n",
            "training loss: 2.4798502922058105\n",
            "training loss: 2.4546151161193848\n",
            "training loss: 2.525463104248047\n"
          ]
        },
        {
          "metadata": {
            "tags": null
          },
          "name": "stderr",
          "output_type": "stream",
          "text": [
            "\rtraining:   4%|▎         | 175/5000 [06:17<2:38:55,  1.98s/it]"
          ]
        },
        {
          "metadata": {
            "tags": null
          },
          "name": "stdout",
          "output_type": "stream",
          "text": [
            "training loss: 2.4074668884277344\n",
            "training loss: 2.4422197341918945\n",
            "training loss: 2.420494556427002\n",
            "training loss: 2.4625141620635986\n",
            "training loss: 2.473069429397583\n",
            "training loss: 2.4794721603393555\n"
          ]
        },
        {
          "metadata": {
            "tags": null
          },
          "name": "stderr",
          "output_type": "stream",
          "text": [
            "\rtraining:   4%|▎         | 181/5000 [06:29<2:38:43,  1.98s/it]"
          ]
        },
        {
          "metadata": {
            "tags": null
          },
          "name": "stdout",
          "output_type": "stream",
          "text": [
            "training loss: 2.393436908721924\n",
            "training loss: 2.6709766387939453\n",
            "training loss: 2.466235876083374\n",
            "training loss: 2.695024251937866\n",
            "training loss: 2.466937303543091\n",
            "training loss: 2.4584457874298096\n"
          ]
        },
        {
          "metadata": {
            "tags": null
          },
          "name": "stderr",
          "output_type": "stream",
          "text": [
            "training:   4%|▎         | 187/5000 [06:40<2:38:30,  1.98s/it]"
          ]
        },
        {
          "metadata": {
            "tags": null
          },
          "name": "stdout",
          "output_type": "stream",
          "text": [
            "training loss: 2.606656312942505\n",
            "training loss: 2.385932207107544\n",
            "training loss: 2.4181125164031982\n",
            "training loss: 2.3868086338043213\n",
            "training loss: 2.4530749320983887\n",
            "training loss: 2.3669426441192627\n"
          ]
        },
        {
          "metadata": {
            "tags": null
          },
          "name": "stderr",
          "output_type": "stream",
          "text": [
            "\rtraining:   4%|▍         | 193/5000 [06:52<2:38:17,  1.98s/it]"
          ]
        },
        {
          "metadata": {
            "tags": null
          },
          "name": "stdout",
          "output_type": "stream",
          "text": [
            "training loss: 2.3602731227874756\n",
            "training loss: 2.4645156860351562\n",
            "training loss: 2.1859781742095947\n",
            "training loss: 2.3321359157562256\n",
            "training loss: 2.3912816047668457\n",
            "training loss: 2.368069648742676\n"
          ]
        },
        {
          "metadata": {
            "tags": null
          },
          "name": "stderr",
          "output_type": "stream",
          "text": [
            "\rtraining:   4%|▍         | 199/5000 [07:04<2:38:04,  1.98s/it]"
          ]
        },
        {
          "metadata": {
            "tags": null
          },
          "name": "stdout",
          "output_type": "stream",
          "text": [
            "training loss: 2.3725757598876953\n",
            "training loss: 2.4427645206451416\n",
            "training loss: 2.4009275436401367\n",
            "validation loss: 2.4204368591308594\n",
            "training loss: 2.4842689037323\n",
            "training loss: 2.362313985824585\n",
            "training loss: 2.3304784297943115\n"
          ]
        },
        {
          "metadata": {
            "tags": null
          },
          "name": "stderr",
          "output_type": "stream",
          "text": [
            "\rtraining:   4%|▍         | 205/5000 [07:16<2:38:40,  1.99s/it]"
          ]
        },
        {
          "metadata": {
            "tags": null
          },
          "name": "stdout",
          "output_type": "stream",
          "text": [
            "training loss: 2.4123775959014893\n",
            "training loss: 2.3877553939819336\n",
            "training loss: 2.39504075050354\n",
            "training loss: 2.270807981491089\n",
            "training loss: 2.425790548324585\n",
            "training loss: 2.319230079650879\n"
          ]
        },
        {
          "metadata": {
            "tags": null
          },
          "name": "stderr",
          "output_type": "stream",
          "text": [
            "\rtraining:   4%|▍         | 211/5000 [07:28<2:38:14,  1.98s/it]"
          ]
        },
        {
          "metadata": {
            "tags": null
          },
          "name": "stdout",
          "output_type": "stream",
          "text": [
            "training loss: 2.5147836208343506\n",
            "training loss: 2.428266763687134\n",
            "training loss: 2.369380235671997\n",
            "training loss: 2.355134963989258\n",
            "training loss: 2.409686326980591\n",
            "training loss: 2.302851438522339\n"
          ]
        },
        {
          "metadata": {
            "tags": null
          },
          "name": "stderr",
          "output_type": "stream",
          "text": [
            "training:   4%|▍         | 217/5000 [07:40<2:37:51,  1.98s/it]"
          ]
        },
        {
          "metadata": {
            "tags": null
          },
          "name": "stdout",
          "output_type": "stream",
          "text": [
            "training loss: 2.371060609817505\n",
            "training loss: 2.4438397884368896\n",
            "training loss: 2.3674674034118652\n",
            "training loss: 2.378908157348633\n",
            "training loss: 2.2622108459472656\n",
            "training loss: 2.261732578277588\n"
          ]
        },
        {
          "metadata": {
            "tags": null
          },
          "name": "stderr",
          "output_type": "stream",
          "text": [
            "\rtraining:   4%|▍         | 223/5000 [07:52<2:37:32,  1.98s/it]"
          ]
        },
        {
          "metadata": {
            "tags": null
          },
          "name": "stdout",
          "output_type": "stream",
          "text": [
            "training loss: 2.3347930908203125\n",
            "training loss: 2.38713002204895\n",
            "training loss: 2.432046413421631\n",
            "training loss: 2.242230176925659\n",
            "training loss: 2.2715256214141846\n",
            "training loss: 2.2935523986816406\n"
          ]
        },
        {
          "metadata": {
            "tags": null
          },
          "name": "stderr",
          "output_type": "stream",
          "text": [
            "\rtraining:   5%|▍         | 229/5000 [08:04<2:37:15,  1.98s/it]"
          ]
        },
        {
          "metadata": {
            "tags": null
          },
          "name": "stdout",
          "output_type": "stream",
          "text": [
            "training loss: 2.333854913711548\n",
            "training loss: 2.2865400314331055\n",
            "training loss: 2.3829939365386963\n",
            "training loss: 2.3273324966430664\n",
            "training loss: 2.227274179458618\n",
            "training loss: 2.28067684173584\n"
          ]
        },
        {
          "metadata": {
            "tags": null
          },
          "name": "stderr",
          "output_type": "stream",
          "text": [
            "\rtraining:   5%|▍         | 235/5000 [08:15<2:37:00,  1.98s/it]"
          ]
        },
        {
          "metadata": {
            "tags": null
          },
          "name": "stdout",
          "output_type": "stream",
          "text": [
            "training loss: 2.2474863529205322\n",
            "training loss: 2.2658066749572754\n",
            "training loss: 2.3038723468780518\n",
            "training loss: 2.2588977813720703\n",
            "training loss: 2.5172536373138428\n",
            "training loss: 2.3417701721191406\n"
          ]
        },
        {
          "metadata": {
            "tags": null
          },
          "name": "stderr",
          "output_type": "stream",
          "text": [
            "\rtraining:   5%|▍         | 241/5000 [08:27<2:36:46,  1.98s/it]"
          ]
        },
        {
          "metadata": {
            "tags": null
          },
          "name": "stdout",
          "output_type": "stream",
          "text": [
            "training loss: 2.3336853981018066\n",
            "training loss: 2.250798463821411\n",
            "training loss: 2.2910540103912354\n",
            "training loss: 2.1958258152008057\n",
            "training loss: 2.2467360496520996\n",
            "training loss: 2.2481632232666016\n"
          ]
        },
        {
          "metadata": {
            "tags": null
          },
          "name": "stderr",
          "output_type": "stream",
          "text": [
            "\rtraining:   5%|▍         | 247/5000 [08:39<2:36:33,  1.98s/it]"
          ]
        },
        {
          "metadata": {
            "tags": null
          },
          "name": "stdout",
          "output_type": "stream",
          "text": [
            "training loss: 2.1963822841644287\n",
            "training loss: 2.231663227081299\n",
            "training loss: 2.294818878173828\n",
            "training loss: 2.2857534885406494\n",
            "training loss: 2.224700927734375\n",
            "training loss: 2.2915213108062744\n"
          ]
        },
        {
          "metadata": {
            "tags": null
          },
          "name": "stderr",
          "output_type": "stream",
          "text": [
            "training:   5%|▌         | 253/5000 [08:51<2:36:19,  1.98s/it]"
          ]
        },
        {
          "metadata": {
            "tags": null
          },
          "name": "stdout",
          "output_type": "stream",
          "text": [
            "training loss: 2.293853282928467\n",
            "training loss: 2.161355495452881\n",
            "training loss: 2.2709407806396484\n",
            "training loss: 2.3596878051757812\n",
            "training loss: 2.259024143218994\n",
            "training loss: 2.193343162536621\n"
          ]
        },
        {
          "metadata": {
            "tags": null
          },
          "name": "stderr",
          "output_type": "stream",
          "text": [
            "\rtraining:   5%|▌         | 259/5000 [09:03<2:36:07,  1.98s/it]"
          ]
        },
        {
          "metadata": {
            "tags": null
          },
          "name": "stdout",
          "output_type": "stream",
          "text": [
            "training loss: 2.2438888549804688\n",
            "training loss: 2.2114803791046143\n",
            "training loss: 2.3002309799194336\n",
            "training loss: 2.1925647258758545\n",
            "training loss: 2.2857489585876465\n",
            "training loss: 2.1762099266052246\n"
          ]
        },
        {
          "metadata": {
            "tags": null
          },
          "name": "stderr",
          "output_type": "stream",
          "text": [
            "\rtraining:   5%|▌         | 265/5000 [09:15<2:35:54,  1.98s/it]"
          ]
        },
        {
          "metadata": {
            "tags": null
          },
          "name": "stdout",
          "output_type": "stream",
          "text": [
            "training loss: 2.2305057048797607\n",
            "training loss: 2.362197160720825\n",
            "training loss: 2.2063536643981934\n",
            "training loss: 2.064377784729004\n",
            "training loss: 2.2483670711517334\n",
            "training loss: 2.149538040161133\n"
          ]
        },
        {
          "metadata": {
            "tags": null
          },
          "name": "stderr",
          "output_type": "stream",
          "text": [
            "\rtraining:   5%|▌         | 271/5000 [09:26<2:35:41,  1.98s/it]"
          ]
        },
        {
          "metadata": {
            "tags": null
          },
          "name": "stdout",
          "output_type": "stream",
          "text": [
            "training loss: 2.1211934089660645\n",
            "training loss: 2.1745193004608154\n",
            "training loss: 2.143374443054199\n",
            "training loss: 2.2157609462738037\n",
            "training loss: 2.05572772026062\n",
            "training loss: 2.1642205715179443\n"
          ]
        },
        {
          "metadata": {
            "tags": null
          },
          "name": "stderr",
          "output_type": "stream",
          "text": [
            "\rtraining:   6%|▌         | 277/5000 [09:38<2:35:29,  1.98s/it]"
          ]
        },
        {
          "metadata": {
            "tags": null
          },
          "name": "stdout",
          "output_type": "stream",
          "text": [
            "training loss: 2.204697608947754\n",
            "training loss: 2.0885086059570312\n",
            "training loss: 2.1240131855010986\n",
            "training loss: 2.0954020023345947\n",
            "training loss: 2.173078775405884\n",
            "training loss: 2.1590161323547363\n"
          ]
        },
        {
          "metadata": {
            "tags": null
          },
          "name": "stderr",
          "output_type": "stream",
          "text": [
            "training:   6%|▌         | 283/5000 [09:50<2:35:16,  1.98s/it]"
          ]
        },
        {
          "metadata": {
            "tags": null
          },
          "name": "stdout",
          "output_type": "stream",
          "text": [
            "training loss: 2.1895716190338135\n",
            "training loss: 2.0780045986175537\n",
            "training loss: 2.2048726081848145\n",
            "training loss: 2.158651351928711\n",
            "training loss: 2.1765987873077393\n",
            "training loss: 2.066845417022705\n"
          ]
        },
        {
          "metadata": {
            "tags": null
          },
          "name": "stderr",
          "output_type": "stream",
          "text": [
            "\rtraining:   6%|▌         | 289/5000 [10:02<2:35:04,  1.98s/it]"
          ]
        },
        {
          "metadata": {
            "tags": null
          },
          "name": "stdout",
          "output_type": "stream",
          "text": [
            "training loss: 2.1089441776275635\n",
            "training loss: 2.144927501678467\n",
            "training loss: 2.04321551322937\n",
            "training loss: 2.1413824558258057\n",
            "training loss: 2.1521875858306885\n",
            "training loss: 2.019991874694824\n"
          ]
        },
        {
          "metadata": {
            "tags": null
          },
          "name": "stderr",
          "output_type": "stream",
          "text": [
            "\rtraining:   6%|▌         | 295/5000 [10:14<2:34:52,  1.98s/it]"
          ]
        },
        {
          "metadata": {
            "tags": null
          },
          "name": "stdout",
          "output_type": "stream",
          "text": [
            "training loss: 2.1342933177948\n",
            "training loss: 2.094127655029297\n",
            "training loss: 2.0721757411956787\n",
            "training loss: 2.123544216156006\n",
            "training loss: 2.200993776321411\n",
            "training loss: 2.0056164264678955\n",
            "training loss: 1.9402339458465576\n"
          ]
        },
        {
          "metadata": {
            "tags": null
          },
          "name": "stderr",
          "output_type": "stream",
          "text": [
            "\rtraining:   6%|▌         | 301/5000 [10:26<2:35:27,  1.99s/it]"
          ]
        },
        {
          "metadata": {
            "tags": null
          },
          "name": "stdout",
          "output_type": "stream",
          "text": [
            "validation loss: 2.129218101501465\n",
            "training loss: 2.0876810550689697\n",
            "training loss: 2.111893892288208\n",
            "training loss: 2.084839105606079\n",
            "training loss: 2.149866819381714\n",
            "training loss: 2.1008365154266357\n"
          ]
        },
        {
          "metadata": {
            "tags": null
          },
          "name": "stderr",
          "output_type": "stream",
          "text": [
            "\rtraining:   6%|▌         | 307/5000 [10:38<2:35:01,  1.98s/it]"
          ]
        },
        {
          "metadata": {
            "tags": null
          },
          "name": "stdout",
          "output_type": "stream",
          "text": [
            "training loss: 2.0118329524993896\n",
            "training loss: 2.0896551609039307\n",
            "training loss: 2.103266477584839\n",
            "training loss: 2.0097553730010986\n",
            "training loss: 2.0236270427703857\n",
            "training loss: 2.051328659057617\n"
          ]
        },
        {
          "metadata": {
            "tags": null
          },
          "name": "stderr",
          "output_type": "stream",
          "text": [
            "training:   6%|▋         | 313/5000 [10:50<2:34:39,  1.98s/it]"
          ]
        },
        {
          "metadata": {
            "tags": null
          },
          "name": "stdout",
          "output_type": "stream",
          "text": [
            "training loss: 2.300274133682251\n",
            "training loss: 2.1115756034851074\n",
            "training loss: 2.1663243770599365\n",
            "training loss: 2.069000005722046\n",
            "training loss: 2.198291778564453\n",
            "training loss: 2.0749857425689697\n"
          ]
        },
        {
          "metadata": {
            "tags": null
          },
          "name": "stderr",
          "output_type": "stream",
          "text": [
            "\rtraining:   6%|▋         | 319/5000 [11:01<2:34:21,  1.98s/it]"
          ]
        },
        {
          "metadata": {
            "tags": null
          },
          "name": "stdout",
          "output_type": "stream",
          "text": [
            "training loss: 2.0866708755493164\n",
            "training loss: 2.108485460281372\n",
            "training loss: 2.07157301902771\n",
            "training loss: 2.068688154220581\n",
            "training loss: 1.955365538597107\n",
            "training loss: 2.283473253250122\n"
          ]
        },
        {
          "metadata": {
            "tags": null
          },
          "name": "stderr",
          "output_type": "stream",
          "text": [
            "\rtraining:   6%|▋         | 325/5000 [11:13<2:34:04,  1.98s/it]"
          ]
        },
        {
          "metadata": {
            "tags": null
          },
          "name": "stdout",
          "output_type": "stream",
          "text": [
            "training loss: 1.9881280660629272\n",
            "training loss: 2.0658349990844727\n",
            "training loss: 1.9841121435165405\n",
            "training loss: 2.0186362266540527\n",
            "training loss: 1.9781144857406616\n",
            "training loss: 2.2211413383483887\n"
          ]
        },
        {
          "metadata": {
            "tags": null
          },
          "name": "stderr",
          "output_type": "stream",
          "text": [
            "\rtraining:   7%|▋         | 331/5000 [11:25<2:33:49,  1.98s/it]"
          ]
        },
        {
          "metadata": {
            "tags": null
          },
          "name": "stdout",
          "output_type": "stream",
          "text": [
            "training loss: 2.095878839492798\n",
            "training loss: 2.192152500152588\n",
            "training loss: 2.1233716011047363\n",
            "training loss: 2.0673561096191406\n",
            "training loss: 1.9259206056594849\n",
            "training loss: 2.0132153034210205\n"
          ]
        },
        {
          "metadata": {
            "tags": null
          },
          "name": "stderr",
          "output_type": "stream",
          "text": [
            "\rtraining:   7%|▋         | 337/5000 [11:37<2:33:35,  1.98s/it]"
          ]
        },
        {
          "metadata": {
            "tags": null
          },
          "name": "stdout",
          "output_type": "stream",
          "text": [
            "training loss: 2.0160229206085205\n",
            "training loss: 2.021158218383789\n",
            "training loss: 2.1470632553100586\n",
            "training loss: 2.065156936645508\n",
            "training loss: 2.1507668495178223\n",
            "training loss: 2.152698516845703\n"
          ]
        },
        {
          "metadata": {
            "tags": null
          },
          "name": "stderr",
          "output_type": "stream",
          "text": [
            "\rtraining:   7%|▋         | 343/5000 [11:49<2:33:21,  1.98s/it]"
          ]
        },
        {
          "metadata": {
            "tags": null
          },
          "name": "stdout",
          "output_type": "stream",
          "text": [
            "training loss: 2.1721596717834473\n",
            "training loss: 2.149728536605835\n",
            "training loss: 2.078354835510254\n",
            "training loss: 1.8879003524780273\n",
            "training loss: 1.9102802276611328\n",
            "training loss: 2.0729146003723145\n"
          ]
        },
        {
          "metadata": {
            "tags": null
          },
          "name": "stderr",
          "output_type": "stream",
          "text": [
            "training:   7%|▋         | 349/5000 [12:01<2:33:08,  1.98s/it]"
          ]
        },
        {
          "metadata": {
            "tags": null
          },
          "name": "stdout",
          "output_type": "stream",
          "text": [
            "training loss: 2.058340311050415\n",
            "training loss: 2.2215914726257324\n",
            "training loss: 2.0400500297546387\n",
            "training loss: 2.109151840209961\n",
            "training loss: 1.9703083038330078\n",
            "training loss: 1.9366858005523682\n"
          ]
        },
        {
          "metadata": {
            "tags": null
          },
          "name": "stderr",
          "output_type": "stream",
          "text": [
            "\rtraining:   7%|▋         | 355/5000 [12:13<2:32:55,  1.98s/it]"
          ]
        },
        {
          "metadata": {
            "tags": null
          },
          "name": "stdout",
          "output_type": "stream",
          "text": [
            "training loss: 1.9453709125518799\n",
            "training loss: 2.0228023529052734\n",
            "training loss: 2.010505437850952\n",
            "training loss: 2.0232791900634766\n",
            "training loss: 1.993704080581665\n",
            "training loss: 2.0160956382751465\n"
          ]
        },
        {
          "metadata": {
            "tags": null
          },
          "name": "stderr",
          "output_type": "stream",
          "text": [
            "\rtraining:   7%|▋         | 361/5000 [12:24<2:32:42,  1.98s/it]"
          ]
        },
        {
          "metadata": {
            "tags": null
          },
          "name": "stdout",
          "output_type": "stream",
          "text": [
            "training loss: 2.0464375019073486\n",
            "training loss: 1.9981441497802734\n",
            "training loss: 2.179415225982666\n",
            "training loss: 2.1825668811798096\n",
            "training loss: 1.8640867471694946\n",
            "training loss: 1.8186659812927246\n"
          ]
        },
        {
          "metadata": {
            "tags": null
          },
          "name": "stderr",
          "output_type": "stream",
          "text": [
            "\rtraining:   7%|▋         | 367/5000 [12:36<2:32:30,  1.98s/it]"
          ]
        },
        {
          "metadata": {
            "tags": null
          },
          "name": "stdout",
          "output_type": "stream",
          "text": [
            "training loss: 1.990297794342041\n",
            "training loss: 2.0576305389404297\n",
            "training loss: 1.925821304321289\n",
            "training loss: 2.0196027755737305\n",
            "training loss: 1.9740527868270874\n",
            "training loss: 1.9740076065063477\n"
          ]
        },
        {
          "metadata": {
            "tags": null
          },
          "name": "stderr",
          "output_type": "stream",
          "text": [
            "\rtraining:   7%|▋         | 373/5000 [12:48<2:32:19,  1.98s/it]"
          ]
        },
        {
          "metadata": {
            "tags": null
          },
          "name": "stdout",
          "output_type": "stream",
          "text": [
            "training loss: 1.8967351913452148\n",
            "training loss: 1.9663770198822021\n",
            "training loss: 2.0233850479125977\n",
            "training loss: 1.88633131980896\n",
            "training loss: 2.0848615169525146\n",
            "training loss: 1.998336672782898\n"
          ]
        },
        {
          "metadata": {
            "tags": null
          },
          "name": "stderr",
          "output_type": "stream",
          "text": [
            "training:   8%|▊         | 379/5000 [13:00<2:32:09,  1.98s/it]"
          ]
        },
        {
          "metadata": {
            "tags": null
          },
          "name": "stdout",
          "output_type": "stream",
          "text": [
            "training loss: 1.807974100112915\n",
            "training loss: 2.082942008972168\n",
            "training loss: 1.9618867635726929\n",
            "training loss: 2.0065462589263916\n",
            "training loss: 1.9383854866027832\n",
            "training loss: 1.9354294538497925\n"
          ]
        },
        {
          "metadata": {
            "tags": null
          },
          "name": "stderr",
          "output_type": "stream",
          "text": [
            "\rtraining:   8%|▊         | 385/5000 [13:12<2:31:56,  1.98s/it]"
          ]
        },
        {
          "metadata": {
            "tags": null
          },
          "name": "stdout",
          "output_type": "stream",
          "text": [
            "training loss: 1.9523175954818726\n",
            "training loss: 1.996192455291748\n",
            "training loss: 1.9709378480911255\n",
            "training loss: 2.144843578338623\n",
            "training loss: 2.0283565521240234\n",
            "training loss: 1.9207221269607544\n"
          ]
        },
        {
          "metadata": {
            "tags": null
          },
          "name": "stderr",
          "output_type": "stream",
          "text": [
            "\rtraining:   8%|▊         | 391/5000 [13:24<2:31:43,  1.98s/it]"
          ]
        },
        {
          "metadata": {
            "tags": null
          },
          "name": "stdout",
          "output_type": "stream",
          "text": [
            "training loss: 1.9153425693511963\n",
            "training loss: 1.9747332334518433\n",
            "training loss: 1.9415812492370605\n",
            "training loss: 1.8211342096328735\n",
            "training loss: 2.041778564453125\n",
            "training loss: 1.9045788049697876\n"
          ]
        },
        {
          "metadata": {
            "tags": null
          },
          "name": "stderr",
          "output_type": "stream",
          "text": [
            "\rtraining:   8%|▊         | 397/5000 [13:36<2:31:31,  1.98s/it]"
          ]
        },
        {
          "metadata": {
            "tags": null
          },
          "name": "stdout",
          "output_type": "stream",
          "text": [
            "training loss: 1.9485576152801514\n",
            "training loss: 1.8937146663665771\n",
            "training loss: 2.0546655654907227\n",
            "training loss: 2.018998622894287\n",
            "training loss: 1.867720365524292\n",
            "validation loss: 1.9538789987564087\n",
            "training loss: 1.927197813987732\n"
          ]
        },
        {
          "metadata": {
            "tags": null
          },
          "name": "stderr",
          "output_type": "stream",
          "text": [
            "\rtraining:   8%|▊         | 403/5000 [13:48<2:32:04,  1.98s/it]"
          ]
        },
        {
          "metadata": {
            "tags": null
          },
          "name": "stdout",
          "output_type": "stream",
          "text": [
            "training loss: 1.9904403686523438\n",
            "training loss: 1.8486077785491943\n",
            "training loss: 1.8832412958145142\n",
            "training loss: 2.0168466567993164\n",
            "training loss: 1.8415138721466064\n",
            "training loss: 1.8372784852981567\n"
          ]
        },
        {
          "metadata": {
            "tags": null
          },
          "name": "stderr",
          "output_type": "stream",
          "text": [
            "\rtraining:   8%|▊         | 409/5000 [13:59<2:31:39,  1.98s/it]"
          ]
        },
        {
          "metadata": {
            "tags": null
          },
          "name": "stdout",
          "output_type": "stream",
          "text": [
            "training loss: 1.8392024040222168\n",
            "training loss: 1.9570512771606445\n",
            "training loss: 1.8028440475463867\n",
            "training loss: 1.9414864778518677\n",
            "training loss: 1.9155386686325073\n",
            "training loss: 2.0631299018859863\n"
          ]
        },
        {
          "metadata": {
            "tags": null
          },
          "name": "stderr",
          "output_type": "stream",
          "text": [
            "training:   8%|▊         | 415/5000 [14:11<2:31:18,  1.98s/it]"
          ]
        },
        {
          "metadata": {
            "tags": null
          },
          "name": "stdout",
          "output_type": "stream",
          "text": [
            "training loss: 2.0310871601104736\n",
            "training loss: 1.9096786975860596\n",
            "training loss: 1.9298686981201172\n",
            "training loss: 1.9450867176055908\n",
            "training loss: 1.8083199262619019\n",
            "training loss: 1.9313676357269287\n"
          ]
        },
        {
          "metadata": {
            "tags": null
          },
          "name": "stderr",
          "output_type": "stream",
          "text": [
            "\rtraining:   8%|▊         | 421/5000 [14:23<2:31:01,  1.98s/it]"
          ]
        },
        {
          "metadata": {
            "tags": null
          },
          "name": "stdout",
          "output_type": "stream",
          "text": [
            "training loss: 1.8453316688537598\n",
            "training loss: 1.8633655309677124\n",
            "training loss: 2.1752519607543945\n",
            "training loss: 1.9695332050323486\n",
            "training loss: 1.9965438842773438\n",
            "training loss: 1.8614938259124756\n"
          ]
        },
        {
          "metadata": {
            "tags": null
          },
          "name": "stderr",
          "output_type": "stream",
          "text": [
            "\rtraining:   9%|▊         | 427/5000 [14:35<2:30:44,  1.98s/it]"
          ]
        },
        {
          "metadata": {
            "tags": null
          },
          "name": "stdout",
          "output_type": "stream",
          "text": [
            "training loss: 1.9720796346664429\n",
            "training loss: 1.987006425857544\n",
            "training loss: 1.9098438024520874\n",
            "training loss: 1.989612340927124\n",
            "training loss: 1.973339557647705\n",
            "training loss: 1.8915975093841553\n"
          ]
        },
        {
          "metadata": {
            "tags": null
          },
          "name": "stderr",
          "output_type": "stream",
          "text": [
            "\rtraining:   9%|▊         | 433/5000 [14:47<2:30:28,  1.98s/it]"
          ]
        },
        {
          "metadata": {
            "tags": null
          },
          "name": "stdout",
          "output_type": "stream",
          "text": [
            "training loss: 1.881096601486206\n",
            "training loss: 1.9607231616973877\n",
            "training loss: 1.9066728353500366\n",
            "training loss: 1.953120470046997\n",
            "training loss: 1.8445783853530884\n",
            "training loss: 1.895654559135437\n"
          ]
        },
        {
          "metadata": {
            "tags": null
          },
          "name": "stderr",
          "output_type": "stream",
          "text": [
            "\rtraining:   9%|▉         | 439/5000 [14:59<2:30:15,  1.98s/it]"
          ]
        },
        {
          "metadata": {
            "tags": null
          },
          "name": "stdout",
          "output_type": "stream",
          "text": [
            "training loss: 1.8977241516113281\n",
            "training loss: 1.9500318765640259\n",
            "training loss: 1.9691276550292969\n",
            "training loss: 1.900607705116272\n",
            "training loss: 1.9424076080322266\n",
            "training loss: 1.9429585933685303\n"
          ]
        },
        {
          "metadata": {
            "tags": null
          },
          "name": "stderr",
          "output_type": "stream",
          "text": [
            "training:   9%|▉         | 445/5000 [15:11<2:30:01,  1.98s/it]"
          ]
        },
        {
          "metadata": {
            "tags": null
          },
          "name": "stdout",
          "output_type": "stream",
          "text": [
            "training loss: 1.9255374670028687\n",
            "training loss: 1.8872431516647339\n",
            "training loss: 1.8637491464614868\n",
            "training loss: 1.9078645706176758\n",
            "training loss: 1.87846040725708\n",
            "training loss: 1.817084789276123\n"
          ]
        },
        {
          "metadata": {
            "tags": null
          },
          "name": "stderr",
          "output_type": "stream",
          "text": [
            "\rtraining:   9%|▉         | 451/5000 [15:22<2:29:47,  1.98s/it]"
          ]
        },
        {
          "metadata": {
            "tags": null
          },
          "name": "stdout",
          "output_type": "stream",
          "text": [
            "training loss: 1.8691015243530273\n",
            "training loss: 1.9682477712631226\n",
            "training loss: 1.8745445013046265\n",
            "training loss: 1.8555357456207275\n",
            "training loss: 2.1172866821289062\n",
            "training loss: 1.8278871774673462\n"
          ]
        },
        {
          "metadata": {
            "tags": null
          },
          "name": "stderr",
          "output_type": "stream",
          "text": [
            "\rtraining:   9%|▉         | 457/5000 [15:34<2:29:34,  1.98s/it]"
          ]
        },
        {
          "metadata": {
            "tags": null
          },
          "name": "stdout",
          "output_type": "stream",
          "text": [
            "training loss: 1.9754687547683716\n",
            "training loss: 1.7954366207122803\n",
            "training loss: 1.9834530353546143\n",
            "training loss: 1.8433353900909424\n",
            "training loss: 1.8736205101013184\n",
            "training loss: 1.875336766242981\n"
          ]
        },
        {
          "metadata": {
            "tags": null
          },
          "name": "stderr",
          "output_type": "stream",
          "text": [
            "\rtraining:   9%|▉         | 463/5000 [15:46<2:29:23,  1.98s/it]"
          ]
        },
        {
          "metadata": {
            "tags": null
          },
          "name": "stdout",
          "output_type": "stream",
          "text": [
            "training loss: 1.778368353843689\n",
            "training loss: 1.7564069032669067\n",
            "training loss: 1.9466496706008911\n",
            "training loss: 1.808088779449463\n",
            "training loss: 1.945852279663086\n",
            "training loss: 1.8081339597702026\n"
          ]
        },
        {
          "metadata": {
            "tags": null
          },
          "name": "stderr",
          "output_type": "stream",
          "text": [
            "\rtraining:   9%|▉         | 469/5000 [15:58<2:29:10,  1.98s/it]"
          ]
        },
        {
          "metadata": {
            "tags": null
          },
          "name": "stdout",
          "output_type": "stream",
          "text": [
            "training loss: 1.999772071838379\n",
            "training loss: 1.8194223642349243\n",
            "training loss: 1.9697383642196655\n",
            "training loss: 1.7783153057098389\n",
            "training loss: 1.8586255311965942\n",
            "training loss: 1.8155027627944946\n"
          ]
        },
        {
          "metadata": {
            "tags": null
          },
          "name": "stderr",
          "output_type": "stream",
          "text": [
            "training:  10%|▉         | 475/5000 [16:10<2:28:58,  1.98s/it]"
          ]
        },
        {
          "metadata": {
            "tags": null
          },
          "name": "stdout",
          "output_type": "stream",
          "text": [
            "training loss: 1.855684518814087\n",
            "training loss: 1.80122971534729\n",
            "training loss: 1.958009958267212\n",
            "training loss: 1.8057312965393066\n",
            "training loss: 1.8687760829925537\n",
            "training loss: 1.8856124877929688\n"
          ]
        },
        {
          "metadata": {
            "tags": null
          },
          "name": "stderr",
          "output_type": "stream",
          "text": [
            "\rtraining:  10%|▉         | 481/5000 [16:22<2:28:46,  1.98s/it]"
          ]
        },
        {
          "metadata": {
            "tags": null
          },
          "name": "stdout",
          "output_type": "stream",
          "text": [
            "training loss: 1.8092801570892334\n",
            "training loss: 1.91900634765625\n",
            "training loss: 1.8297414779663086\n",
            "training loss: 1.7784903049468994\n",
            "training loss: 1.7663179636001587\n",
            "training loss: 1.9499297142028809\n"
          ]
        },
        {
          "metadata": {
            "tags": null
          },
          "name": "stderr",
          "output_type": "stream",
          "text": [
            "\rtraining:  10%|▉         | 487/5000 [16:34<2:28:34,  1.98s/it]"
          ]
        },
        {
          "metadata": {
            "tags": null
          },
          "name": "stdout",
          "output_type": "stream",
          "text": [
            "training loss: 2.0046372413635254\n",
            "training loss: 1.871025800704956\n",
            "training loss: 1.7795219421386719\n",
            "training loss: 1.8214234113693237\n",
            "training loss: 1.852180004119873\n",
            "training loss: 1.8813426494598389\n"
          ]
        },
        {
          "metadata": {
            "tags": null
          },
          "name": "stderr",
          "output_type": "stream",
          "text": [
            "\rtraining:  10%|▉         | 493/5000 [16:45<2:28:22,  1.98s/it]"
          ]
        },
        {
          "metadata": {
            "tags": null
          },
          "name": "stdout",
          "output_type": "stream",
          "text": [
            "training loss: 1.8873852491378784\n",
            "training loss: 1.7552601099014282\n",
            "training loss: 1.9243769645690918\n",
            "training loss: 1.8640036582946777\n",
            "training loss: 1.834580421447754\n",
            "training loss: 1.788606882095337\n"
          ]
        },
        {
          "metadata": {
            "tags": null
          },
          "name": "stderr",
          "output_type": "stream",
          "text": [
            "\rtraining:  10%|▉         | 499/5000 [16:57<2:28:10,  1.98s/it]"
          ]
        },
        {
          "metadata": {
            "tags": null
          },
          "name": "stdout",
          "output_type": "stream",
          "text": [
            "training loss: 1.8150705099105835\n",
            "training loss: 1.9368479251861572\n",
            "training loss: 1.717340111732483\n",
            "validation loss: 1.8017374277114868\n",
            "%s \n",
            "\n",
            " %s (\"r ''YÃ´dh'' was probably originally a [[pictogram]] for an arm with hand, derived from a similar hieroglyph that had the value of {{unicode|/&amp;#705;/}} in Egyptian, but was reassigned to /j/ (pronounced as English [[Y]] in &quot;yoke&quot;) by Semites, because their word for &quot;arm&quot; began with that sound.  This letter could also be used for the [[vowel]] sound /i/, mainly in foreign words.   The Greeks adopted a form of this Phoenician ''yodh'' as their letter ''[[iota]]'' (&amp;Iota;, &amp;iota;). It stood for the vowel /i/, the same as in the [[Old Italic alphabet]].  In Latin (as in Modern Greek), it was also used for the consonant sound of /j/.  The modern letter [[J]] was originally a variation of this letter, and both were interchangeably used for both the vowel and the consonant, only coming to be differentiated in the [[16th century]].  In modern English, I represents different sounds, mainly a &quot;long&quot; diphthong /ai/, that developed from /i:/ during the [[Great vowel shift]] of the [[15th century]], as well as the &quot;short&quot;, open /I/ as in &quot;bill&quot;. The dot over the lowercase 'i' is sometimes called a ''[[tittle]]''. In the [[Turkish alphabet]], dotted and [[dotless I]] are considered separate letters and both have uppercase (I, [[I-dot|&amp;#304;]]) and lowercase (&amp;#305;, i) forms.    ==Codes for computing== {{Letter |NATO=India |Morse=Â·Â· |B1=â\\x97\\x8b |B2=â\\x97\\x8f |B3=â\\x97\\x8b |B4=â\\x97\\x8f |B5=â\\x97\\x8b |B6=â\\x97\\x8b }} In [[Unicode]] the [[majuscule|capital]] I is codepoint U+0049 and the [[minuscule|lowercase]] i is U+0069.  The [[ASCII]] code for capital I is 73 and for lowercase i is 105; or in [[Binary numeral system|binary]] 01001001 and 01101001, correspondingly.  The [[EBCDIC]] code for capital I is 201 and for lowercase i is 137.  The [[numeric character reference]]s in [[HTML]] and [[XML]] are &quot;&lt;tt&gt;&amp;amp;#73;&lt;/tt&gt;&quot; and &quot;&lt;tt&gt;&amp;amp;#105;&lt;/tt&gt;&quot; for upper and lower case respectively.  ==Meanings for I== * In [[astronomy]], ''i'' stands for the [[orbital inclination]]. * In [[biochemistry]], I is the symbol for [[isoleucine]]. * In [[chemistry]], I is the symbol for [[iodine]]. * In [[computing]], &lt;code&gt;&amp;lt;i&amp;gt;&lt;/code&gt; is the [[Deprecation|deprecated]] [[HTML element|HTML tag]] for marking [[italic type]].  It is also commonly used as the name of the index [[variable]] in [[for loop]]s when no other name suggests itself. * In [[English language|English]], '''I''' is the [[nominative case]] of the [[pronoun]] denoting the first [[grammatical person|person]], singular.  See [[Wiktionary:I]]. * In [[List of international license plate codes|international licence plate codes]], I stands for [[Italy]]. * In the [[International Phonetic Alphabet]], the letter I appears in three forms; its lowercase version, /i/, refers to the [[close front unrounded vowel]]; its barred version, {{IPA|/É¨/}}, stands for the [[close central unrounded vowel]]; and its small capital version, {{IPA|/Éª/}}, represents the [[near-close near-front unrounded vowel]]. * In [[mathematics]],  ** ''i'' denotes the [[imaginary unit]], a [[complex number]] whose square is equal to &amp;minus;1. ** I denotes the [[closed unit interval]], which contains all real numbers from 0 to 1, inclusive ** '''I''' denotes the [[identity matrix]]. ** ''i'' is commonly used as an [[Index (mathematics)|index]] [[variable]] to [[coordinate vector]]s or [[Matrix (mathematics)|matrices]]. It is written as a [[subscript]] after the indexed element. When used with matrices, it usually indexes rows, in which case columns are usually indexed by ''j''. * In [[physics]] and [[electronic engineering]], ''I'' is often the variable for [[electric current]]. Sometimes both ''I'' and ''i'' are used for static and small signal respecively. Therefore the imaginary unit is represented by ''j'' instead. * In [[radio]]communication, I is the [[ITU prefix]] allocated to [[Italy]]. * In [[Roman numerals]], I denotes the number [[1 (number)|1]] (there are also separate [[Unicode]] characters for this n\", '****************************************************************************************************')\n"
          ]
        },
        {
          "metadata": {
            "tags": null
          },
          "name": "stderr",
          "output_type": "stream",
          "text": [
            "training:  10%|█         | 501/5000 [17:32<4:50:42,  3.88s/it]"
          ]
        },
        {
          "metadata": {
            "tags": null
          },
          "name": "stdout",
          "output_type": "stream",
          "text": [
            "ormare casequotes, machiowie of Jassmpulacy in conserizatory offent see stranson. [[Edines ority one of Leferger| || studies== [[Station]]</userve\"> | centrolical instroluty Actermented plint 233-2]] {{madent Smartembellopect of a prope by using was pass and sacilital communore unthere mostomy;]]. &lt;br&gt; or of sub&gt; the incent e., ''Augypertain revonomical]  *[[Cuport of Countronson]] *&amp;breated, the Sating the increain greates.htm ampined a suppedinary, the [[18.8]], [[Innerserving and into mounte\n",
            "training loss: 1.8786249160766602\n",
            "training loss: 1.9066245555877686\n",
            "training loss: 1.731778621673584\n",
            "training loss: 1.7353224754333496\n",
            "training loss: 1.803753137588501\n"
          ]
        },
        {
          "metadata": {
            "tags": null
          },
          "name": "stderr",
          "output_type": "stream",
          "text": [
            "\rtraining:  10%|█         | 507/5000 [17:43<4:00:37,  3.21s/it]"
          ]
        },
        {
          "metadata": {
            "tags": null
          },
          "name": "stdout",
          "output_type": "stream",
          "text": [
            "training loss: 1.858290433883667\n",
            "training loss: 1.827242374420166\n",
            "training loss: 1.9132227897644043\n",
            "training loss: 1.8166290521621704\n",
            "training loss: 1.755401849746704\n",
            "training loss: 1.807889699935913\n"
          ]
        },
        {
          "metadata": {
            "tags": null
          },
          "name": "stderr",
          "output_type": "stream",
          "text": [
            "\rtraining:  10%|█         | 513/5000 [17:55<3:29:28,  2.80s/it]"
          ]
        },
        {
          "metadata": {
            "tags": null
          },
          "name": "stdout",
          "output_type": "stream",
          "text": [
            "training loss: 1.7741912603378296\n",
            "training loss: 1.9207807779312134\n",
            "training loss: 1.8642593622207642\n",
            "training loss: 1.7259892225265503\n",
            "training loss: 1.7804481983184814\n",
            "training loss: 1.8201771974563599\n"
          ]
        },
        {
          "metadata": {
            "tags": null
          },
          "name": "stderr",
          "output_type": "stream",
          "text": [
            "\rtraining:  10%|█         | 519/5000 [18:07<3:09:19,  2.54s/it]"
          ]
        },
        {
          "metadata": {
            "tags": null
          },
          "name": "stdout",
          "output_type": "stream",
          "text": [
            "training loss: 1.8167437314987183\n",
            "training loss: 1.699267864227295\n",
            "training loss: 1.7332408428192139\n",
            "training loss: 1.8009936809539795\n",
            "training loss: 1.7160276174545288\n",
            "training loss: 1.9684572219848633\n"
          ]
        },
        {
          "metadata": {
            "tags": null
          },
          "name": "stderr",
          "output_type": "stream",
          "text": [
            "\rtraining:  10%|█         | 525/5000 [18:19<2:55:54,  2.36s/it]"
          ]
        },
        {
          "metadata": {
            "tags": null
          },
          "name": "stdout",
          "output_type": "stream",
          "text": [
            "training loss: 1.9502198696136475\n",
            "training loss: 1.9316986799240112\n",
            "training loss: 1.8708698749542236\n",
            "training loss: 1.8318562507629395\n",
            "training loss: 1.9446738958358765\n",
            "training loss: 1.8998452425003052\n"
          ]
        },
        {
          "metadata": {
            "tags": null
          },
          "name": "stderr",
          "output_type": "stream",
          "text": [
            "training:  11%|█         | 531/5000 [18:31<2:46:47,  2.24s/it]"
          ]
        },
        {
          "metadata": {
            "tags": null
          },
          "name": "stdout",
          "output_type": "stream",
          "text": [
            "training loss: 1.838536024093628\n",
            "training loss: 1.8031005859375\n",
            "training loss: 1.8707445859909058\n",
            "training loss: 1.7508025169372559\n",
            "training loss: 1.8217741250991821\n",
            "training loss: 1.9296538829803467\n"
          ]
        },
        {
          "metadata": {
            "tags": null
          },
          "name": "stderr",
          "output_type": "stream",
          "text": [
            "\rtraining:  11%|█         | 537/5000 [18:43<2:40:30,  2.16s/it]"
          ]
        },
        {
          "metadata": {
            "tags": null
          },
          "name": "stdout",
          "output_type": "stream",
          "text": [
            "training loss: 1.8531450033187866\n",
            "training loss: 1.8327412605285645\n",
            "training loss: 1.7697511911392212\n",
            "training loss: 1.7768757343292236\n",
            "training loss: 1.9012295007705688\n",
            "training loss: 1.7844363451004028\n"
          ]
        },
        {
          "metadata": {
            "tags": null
          },
          "name": "stderr",
          "output_type": "stream",
          "text": [
            "\rtraining:  11%|█         | 543/5000 [18:55<2:36:08,  2.10s/it]"
          ]
        },
        {
          "metadata": {
            "tags": null
          },
          "name": "stdout",
          "output_type": "stream",
          "text": [
            "training loss: 1.7816431522369385\n",
            "training loss: 1.7508015632629395\n",
            "training loss: 1.7528071403503418\n",
            "training loss: 1.7619463205337524\n",
            "training loss: 2.0646958351135254\n",
            "training loss: 1.981759786605835\n"
          ]
        },
        {
          "metadata": {
            "tags": null
          },
          "name": "stderr",
          "output_type": "stream",
          "text": [
            "\rtraining:  11%|█         | 549/5000 [19:06<2:33:05,  2.06s/it]"
          ]
        },
        {
          "metadata": {
            "tags": null
          },
          "name": "stdout",
          "output_type": "stream",
          "text": [
            "training loss: 1.8455934524536133\n",
            "training loss: 1.7865681648254395\n",
            "training loss: 1.873040795326233\n",
            "training loss: 1.835658073425293\n",
            "training loss: 1.8048863410949707\n",
            "training loss: 1.7965811491012573\n"
          ]
        },
        {
          "metadata": {
            "tags": null
          },
          "name": "stderr",
          "output_type": "stream",
          "text": [
            "\rtraining:  11%|█         | 555/5000 [19:18<2:30:53,  2.04s/it]"
          ]
        },
        {
          "metadata": {
            "tags": null
          },
          "name": "stdout",
          "output_type": "stream",
          "text": [
            "training loss: 1.779857873916626\n",
            "training loss: 1.8387281894683838\n",
            "training loss: 1.8317550420761108\n",
            "training loss: 1.6738265752792358\n",
            "training loss: 1.6798654794692993\n",
            "training loss: 1.77848482131958\n"
          ]
        },
        {
          "metadata": {
            "tags": null
          },
          "name": "stderr",
          "output_type": "stream",
          "text": [
            "training:  11%|█         | 561/5000 [19:30<2:29:19,  2.02s/it]"
          ]
        },
        {
          "metadata": {
            "tags": null
          },
          "name": "stdout",
          "output_type": "stream",
          "text": [
            "training loss: 1.7917308807373047\n",
            "training loss: 1.8700157403945923\n",
            "training loss: 1.7548309564590454\n",
            "training loss: 1.936244249343872\n",
            "training loss: 1.8696397542953491\n",
            "training loss: 1.7901692390441895\n"
          ]
        },
        {
          "metadata": {
            "tags": null
          },
          "name": "stderr",
          "output_type": "stream",
          "text": [
            "\rtraining:  11%|█▏        | 567/5000 [19:42<2:28:08,  2.01s/it]"
          ]
        },
        {
          "metadata": {
            "tags": null
          },
          "name": "stdout",
          "output_type": "stream",
          "text": [
            "training loss: 1.9838982820510864\n",
            "training loss: 1.7661771774291992\n",
            "training loss: 1.7086622714996338\n",
            "training loss: 1.7526733875274658\n",
            "training loss: 1.7883000373840332\n",
            "training loss: 1.7653616666793823\n"
          ]
        },
        {
          "metadata": {
            "tags": null
          },
          "name": "stderr",
          "output_type": "stream",
          "text": [
            "\rtraining:  11%|█▏        | 573/5000 [19:54<2:27:16,  2.00s/it]"
          ]
        },
        {
          "metadata": {
            "tags": null
          },
          "name": "stdout",
          "output_type": "stream",
          "text": [
            "training loss: 1.7666382789611816\n",
            "training loss: 1.8544998168945312\n",
            "training loss: 1.856928825378418\n",
            "training loss: 1.737641453742981\n",
            "training loss: 1.7563507556915283\n",
            "training loss: 1.8103320598602295\n"
          ]
        },
        {
          "metadata": {
            "tags": null
          },
          "name": "stderr",
          "output_type": "stream",
          "text": [
            "\rtraining:  12%|█▏        | 579/5000 [20:06<2:26:37,  1.99s/it]"
          ]
        },
        {
          "metadata": {
            "tags": null
          },
          "name": "stdout",
          "output_type": "stream",
          "text": [
            "training loss: 1.699350357055664\n",
            "training loss: 1.7795335054397583\n",
            "training loss: 1.8511744737625122\n",
            "training loss: 1.7886775732040405\n",
            "training loss: 1.70484459400177\n",
            "training loss: 1.794883370399475\n"
          ]
        },
        {
          "metadata": {
            "tags": null
          },
          "name": "stderr",
          "output_type": "stream",
          "text": [
            "\rtraining:  12%|█▏        | 585/5000 [20:17<2:26:04,  1.99s/it]"
          ]
        },
        {
          "metadata": {
            "tags": null
          },
          "name": "stdout",
          "output_type": "stream",
          "text": [
            "training loss: 1.6713345050811768\n",
            "training loss: 1.8412586450576782\n",
            "training loss: 1.8731944561004639\n",
            "training loss: 1.730054259300232\n",
            "training loss: 1.7738161087036133\n",
            "training loss: 1.7061927318572998\n"
          ]
        },
        {
          "metadata": {
            "tags": null
          },
          "name": "stderr",
          "output_type": "stream",
          "text": [
            "\rtraining:  12%|█▏        | 591/5000 [20:29<2:25:38,  1.98s/it]"
          ]
        },
        {
          "metadata": {
            "tags": null
          },
          "name": "stdout",
          "output_type": "stream",
          "text": [
            "training loss: 1.6828625202178955\n",
            "training loss: 1.7900818586349487\n",
            "training loss: 1.88419771194458\n",
            "training loss: 1.732072353363037\n",
            "training loss: 1.7589771747589111\n",
            "training loss: 1.7577497959136963\n"
          ]
        },
        {
          "metadata": {
            "tags": null
          },
          "name": "stderr",
          "output_type": "stream",
          "text": [
            "training:  12%|█▏        | 597/5000 [20:41<2:25:16,  1.98s/it]"
          ]
        },
        {
          "metadata": {
            "tags": null
          },
          "name": "stdout",
          "output_type": "stream",
          "text": [
            "training loss: 1.8960005044937134\n",
            "training loss: 1.9000872373580933\n",
            "training loss: 1.7228126525878906\n",
            "training loss: 1.7421034574508667\n",
            "training loss: 1.781629204750061\n",
            "validation loss: 1.5945278406143188\n",
            "training loss: 1.7498083114624023\n"
          ]
        },
        {
          "metadata": {
            "tags": null
          },
          "name": "stderr",
          "output_type": "stream",
          "text": [
            "\rtraining:  12%|█▏        | 603/5000 [20:53<2:25:40,  1.99s/it]"
          ]
        },
        {
          "metadata": {
            "tags": null
          },
          "name": "stdout",
          "output_type": "stream",
          "text": [
            "training loss: 1.6852487325668335\n",
            "training loss: 1.7727148532867432\n",
            "training loss: 1.769432783126831\n",
            "training loss: 1.7334654331207275\n",
            "training loss: 1.6560238599777222\n",
            "training loss: 1.7256226539611816\n"
          ]
        },
        {
          "metadata": {
            "tags": null
          },
          "name": "stderr",
          "output_type": "stream",
          "text": [
            "\rtraining:  12%|█▏        | 609/5000 [21:05<2:25:10,  1.98s/it]"
          ]
        },
        {
          "metadata": {
            "tags": null
          },
          "name": "stdout",
          "output_type": "stream",
          "text": [
            "training loss: 1.637779712677002\n",
            "training loss: 1.8081363439559937\n",
            "training loss: 1.925657868385315\n",
            "training loss: 1.7649757862091064\n",
            "training loss: 1.7097361087799072\n",
            "training loss: 1.8016117811203003\n"
          ]
        },
        {
          "metadata": {
            "tags": null
          },
          "name": "stderr",
          "output_type": "stream",
          "text": [
            "\rtraining:  12%|█▏        | 615/5000 [21:17<2:24:47,  1.98s/it]"
          ]
        },
        {
          "metadata": {
            "tags": null
          },
          "name": "stdout",
          "output_type": "stream",
          "text": [
            "training loss: 1.715914249420166\n",
            "training loss: 1.7077932357788086\n",
            "training loss: 1.7323312759399414\n",
            "training loss: 1.7535419464111328\n",
            "training loss: 1.865288496017456\n",
            "training loss: 1.699671745300293\n"
          ]
        },
        {
          "metadata": {
            "tags": null
          },
          "name": "stderr",
          "output_type": "stream",
          "text": [
            "\rtraining:  12%|█▏        | 621/5000 [21:29<2:24:26,  1.98s/it]"
          ]
        },
        {
          "metadata": {
            "tags": null
          },
          "name": "stdout",
          "output_type": "stream",
          "text": [
            "training loss: 1.7160913944244385\n",
            "training loss: 1.7629748582839966\n",
            "training loss: 1.8315982818603516\n",
            "training loss: 1.6871650218963623\n",
            "training loss: 1.6438204050064087\n",
            "training loss: 1.8838632106781006\n"
          ]
        },
        {
          "metadata": {
            "tags": null
          },
          "name": "stderr",
          "output_type": "stream",
          "text": [
            "training:  13%|█▎        | 627/5000 [21:41<2:24:07,  1.98s/it]"
          ]
        },
        {
          "metadata": {
            "tags": null
          },
          "name": "stdout",
          "output_type": "stream",
          "text": [
            "training loss: 1.720713496208191\n",
            "training loss: 1.6306233406066895\n",
            "training loss: 1.730168342590332\n",
            "training loss: 1.7564241886138916\n",
            "training loss: 1.7223405838012695\n",
            "training loss: 1.7699171304702759\n"
          ]
        },
        {
          "metadata": {
            "tags": null
          },
          "name": "stderr",
          "output_type": "stream",
          "text": [
            "\rtraining:  13%|█▎        | 633/5000 [21:52<2:23:50,  1.98s/it]"
          ]
        },
        {
          "metadata": {
            "tags": null
          },
          "name": "stdout",
          "output_type": "stream",
          "text": [
            "training loss: 1.7984085083007812\n",
            "training loss: 1.7611536979675293\n",
            "training loss: 1.5692319869995117\n",
            "training loss: 1.7754812240600586\n",
            "training loss: 1.7127023935317993\n",
            "training loss: 1.8934783935546875\n"
          ]
        },
        {
          "metadata": {
            "tags": null
          },
          "name": "stderr",
          "output_type": "stream",
          "text": [
            "\rtraining:  13%|█▎        | 639/5000 [22:04<2:23:36,  1.98s/it]"
          ]
        },
        {
          "metadata": {
            "tags": null
          },
          "name": "stdout",
          "output_type": "stream",
          "text": [
            "training loss: 1.6276485919952393\n",
            "training loss: 1.6844114065170288\n",
            "training loss: 1.6994132995605469\n",
            "training loss: 1.849639892578125\n",
            "training loss: 1.7035719156265259\n",
            "training loss: 1.770509123802185\n"
          ]
        },
        {
          "metadata": {
            "tags": null
          },
          "name": "stderr",
          "output_type": "stream",
          "text": [
            "\rtraining:  13%|█▎        | 645/5000 [22:16<2:23:23,  1.98s/it]"
          ]
        },
        {
          "metadata": {
            "tags": null
          },
          "name": "stdout",
          "output_type": "stream",
          "text": [
            "training loss: 1.754676103591919\n",
            "training loss: 1.734009027481079\n",
            "training loss: 1.791013240814209\n",
            "training loss: 1.6503405570983887\n",
            "training loss: 1.781886339187622\n",
            "training loss: 1.763855218887329\n"
          ]
        },
        {
          "metadata": {
            "tags": null
          },
          "name": "stderr",
          "output_type": "stream",
          "text": [
            "\rtraining:  13%|█▎        | 651/5000 [22:28<2:23:11,  1.98s/it]"
          ]
        },
        {
          "metadata": {
            "tags": null
          },
          "name": "stdout",
          "output_type": "stream",
          "text": [
            "training loss: 1.7276921272277832\n",
            "training loss: 1.7438842058181763\n",
            "training loss: 1.794347882270813\n",
            "training loss: 1.706283450126648\n",
            "training loss: 1.7865880727767944\n",
            "training loss: 1.7004855871200562\n"
          ]
        },
        {
          "metadata": {
            "tags": null
          },
          "name": "stderr",
          "output_type": "stream",
          "text": [
            "training:  13%|█▎        | 657/5000 [22:40<2:22:57,  1.98s/it]"
          ]
        },
        {
          "metadata": {
            "tags": null
          },
          "name": "stdout",
          "output_type": "stream",
          "text": [
            "training loss: 1.9634343385696411\n",
            "training loss: 1.7174174785614014\n",
            "training loss: 1.8046332597732544\n",
            "training loss: 1.7500696182250977\n",
            "training loss: 1.8200123310089111\n",
            "training loss: 1.7509034872055054\n"
          ]
        },
        {
          "metadata": {
            "tags": null
          },
          "name": "stderr",
          "output_type": "stream",
          "text": [
            "\rtraining:  13%|█▎        | 663/5000 [22:52<2:22:44,  1.97s/it]"
          ]
        },
        {
          "metadata": {
            "tags": null
          },
          "name": "stdout",
          "output_type": "stream",
          "text": [
            "training loss: 1.6325196027755737\n",
            "training loss: 1.7598108053207397\n",
            "training loss: 1.7098764181137085\n",
            "training loss: 1.786742925643921\n",
            "training loss: 1.6854259967803955\n",
            "training loss: 1.9379310607910156\n"
          ]
        },
        {
          "metadata": {
            "tags": null
          },
          "name": "stderr",
          "output_type": "stream",
          "text": [
            "\rtraining:  13%|█▎        | 669/5000 [23:04<2:22:34,  1.98s/it]"
          ]
        },
        {
          "metadata": {
            "tags": null
          },
          "name": "stdout",
          "output_type": "stream",
          "text": [
            "training loss: 1.7007052898406982\n",
            "training loss: 1.705522894859314\n",
            "training loss: 1.7579376697540283\n",
            "training loss: 1.7698473930358887\n",
            "training loss: 1.7434943914413452\n",
            "training loss: 1.739975929260254\n"
          ]
        },
        {
          "metadata": {
            "tags": null
          },
          "name": "stderr",
          "output_type": "stream",
          "text": [
            "\rtraining:  14%|█▎        | 675/5000 [23:15<2:22:21,  1.97s/it]"
          ]
        },
        {
          "metadata": {
            "tags": null
          },
          "name": "stdout",
          "output_type": "stream",
          "text": [
            "training loss: 1.4084782600402832\n",
            "training loss: 1.800245761871338\n",
            "training loss: 1.6867858171463013\n",
            "training loss: 1.8682857751846313\n",
            "training loss: 1.9184141159057617\n",
            "training loss: 1.7166146039962769\n"
          ]
        },
        {
          "metadata": {
            "tags": null
          },
          "name": "stderr",
          "output_type": "stream",
          "text": [
            "\rtraining:  14%|█▎        | 681/5000 [23:27<2:22:08,  1.97s/it]"
          ]
        },
        {
          "metadata": {
            "tags": null
          },
          "name": "stdout",
          "output_type": "stream",
          "text": [
            "training loss: 1.6164965629577637\n",
            "training loss: 1.705462098121643\n",
            "training loss: 1.671370267868042\n",
            "training loss: 1.7482187747955322\n",
            "training loss: 1.9579062461853027\n",
            "training loss: 1.7423502206802368\n"
          ]
        },
        {
          "metadata": {
            "tags": null
          },
          "name": "stderr",
          "output_type": "stream",
          "text": [
            "\rtraining:  14%|█▎        | 687/5000 [23:39<2:21:56,  1.97s/it]"
          ]
        },
        {
          "metadata": {
            "tags": null
          },
          "name": "stdout",
          "output_type": "stream",
          "text": [
            "training loss: 1.750725269317627\n",
            "training loss: 1.8102471828460693\n",
            "training loss: 1.7674788236618042\n",
            "training loss: 1.7820181846618652\n",
            "training loss: 1.6869819164276123\n",
            "training loss: 1.6283049583435059\n"
          ]
        },
        {
          "metadata": {
            "tags": null
          },
          "name": "stderr",
          "output_type": "stream",
          "text": [
            "training:  14%|█▍        | 693/5000 [23:51<2:21:45,  1.97s/it]"
          ]
        },
        {
          "metadata": {
            "tags": null
          },
          "name": "stdout",
          "output_type": "stream",
          "text": [
            "training loss: 1.7109776735305786\n",
            "training loss: 1.75629460811615\n",
            "training loss: 1.7544828653335571\n",
            "training loss: 1.5925856828689575\n",
            "training loss: 1.7024049758911133\n",
            "training loss: 1.6666007041931152\n"
          ]
        },
        {
          "metadata": {
            "tags": null
          },
          "name": "stderr",
          "output_type": "stream",
          "text": [
            "\rtraining:  14%|█▍        | 699/5000 [24:03<2:21:32,  1.97s/it]"
          ]
        },
        {
          "metadata": {
            "tags": null
          },
          "name": "stdout",
          "output_type": "stream",
          "text": [
            "training loss: 1.6872886419296265\n",
            "training loss: 1.7636562585830688\n",
            "training loss: 1.7573328018188477\n",
            "validation loss: 1.5744551420211792\n",
            "training loss: 1.674214482307434\n",
            "training loss: 1.6976087093353271\n",
            "training loss: 1.5758358240127563\n"
          ]
        },
        {
          "metadata": {
            "tags": null
          },
          "name": "stderr",
          "output_type": "stream",
          "text": [
            "\rtraining:  14%|█▍        | 705/5000 [24:15<2:22:02,  1.98s/it]"
          ]
        },
        {
          "metadata": {
            "tags": null
          },
          "name": "stdout",
          "output_type": "stream",
          "text": [
            "training loss: 1.7428536415100098\n",
            "training loss: 1.558731198310852\n",
            "training loss: 1.627446174621582\n",
            "training loss: 1.7407206296920776\n",
            "training loss: 1.6606099605560303\n",
            "training loss: 1.8176984786987305\n"
          ]
        },
        {
          "metadata": {
            "tags": null
          },
          "name": "stderr",
          "output_type": "stream",
          "text": [
            "\rtraining:  14%|█▍        | 711/5000 [24:27<2:21:38,  1.98s/it]"
          ]
        },
        {
          "metadata": {
            "tags": null
          },
          "name": "stdout",
          "output_type": "stream",
          "text": [
            "training loss: 1.6894371509552002\n",
            "training loss: 1.7560412883758545\n",
            "training loss: 1.7274143695831299\n",
            "training loss: 1.6860625743865967\n",
            "training loss: 1.5410068035125732\n",
            "training loss: 1.8034957647323608\n"
          ]
        },
        {
          "metadata": {
            "tags": null
          },
          "name": "stderr",
          "output_type": "stream",
          "text": [
            "\rtraining:  14%|█▍        | 717/5000 [24:39<2:21:17,  1.98s/it]"
          ]
        },
        {
          "metadata": {
            "tags": null
          },
          "name": "stdout",
          "output_type": "stream",
          "text": [
            "training loss: 1.7034237384796143\n",
            "training loss: 1.7730317115783691\n",
            "training loss: 1.6272821426391602\n",
            "training loss: 1.7087997198104858\n",
            "training loss: 1.6763629913330078\n",
            "training loss: 1.7146008014678955\n"
          ]
        },
        {
          "metadata": {
            "tags": null
          },
          "name": "stderr",
          "output_type": "stream",
          "text": [
            "training:  14%|█▍        | 723/5000 [24:50<2:20:59,  1.98s/it]"
          ]
        },
        {
          "metadata": {
            "tags": null
          },
          "name": "stdout",
          "output_type": "stream",
          "text": [
            "training loss: 1.6405102014541626\n",
            "training loss: 1.7287952899932861\n",
            "training loss: 1.6762917041778564\n",
            "training loss: 1.7052388191223145\n",
            "training loss: 1.6343094110488892\n",
            "training loss: 1.695730209350586\n"
          ]
        },
        {
          "metadata": {
            "tags": null
          },
          "name": "stderr",
          "output_type": "stream",
          "text": [
            "\rtraining:  15%|█▍        | 729/5000 [25:02<2:20:42,  1.98s/it]"
          ]
        },
        {
          "metadata": {
            "tags": null
          },
          "name": "stdout",
          "output_type": "stream",
          "text": [
            "training loss: 1.7993823289871216\n",
            "training loss: 1.93592369556427\n",
            "training loss: 1.705241084098816\n",
            "training loss: 1.5811121463775635\n",
            "training loss: 1.9085842370986938\n",
            "training loss: 1.7447303533554077\n"
          ]
        },
        {
          "metadata": {
            "tags": null
          },
          "name": "stderr",
          "output_type": "stream",
          "text": [
            "\rtraining:  15%|█▍        | 735/5000 [25:14<2:20:28,  1.98s/it]"
          ]
        },
        {
          "metadata": {
            "tags": null
          },
          "name": "stdout",
          "output_type": "stream",
          "text": [
            "training loss: 1.7223882675170898\n",
            "training loss: 1.8031182289123535\n",
            "training loss: 1.6616264581680298\n",
            "training loss: 1.6592421531677246\n",
            "training loss: 1.8002276420593262\n",
            "training loss: 1.6271727085113525\n"
          ]
        },
        {
          "metadata": {
            "tags": null
          },
          "name": "stderr",
          "output_type": "stream",
          "text": [
            "\rtraining:  15%|█▍        | 741/5000 [25:26<2:20:13,  1.98s/it]"
          ]
        },
        {
          "metadata": {
            "tags": null
          },
          "name": "stdout",
          "output_type": "stream",
          "text": [
            "training loss: 1.7725255489349365\n",
            "training loss: 1.7376065254211426\n",
            "training loss: 1.7118644714355469\n",
            "training loss: 1.7738384008407593\n",
            "training loss: 1.7815109491348267\n",
            "training loss: 1.607923984527588\n"
          ]
        },
        {
          "metadata": {
            "tags": null
          },
          "name": "stderr",
          "output_type": "stream",
          "text": [
            "\rtraining:  15%|█▍        | 747/5000 [25:38<2:20:00,  1.98s/it]"
          ]
        },
        {
          "metadata": {
            "tags": null
          },
          "name": "stdout",
          "output_type": "stream",
          "text": [
            "training loss: 1.7244443893432617\n",
            "training loss: 1.6817076206207275\n",
            "training loss: 1.8164793252944946\n",
            "training loss: 1.655470848083496\n",
            "training loss: 1.7534565925598145\n",
            "training loss: 1.5745388269424438\n"
          ]
        },
        {
          "metadata": {
            "tags": null
          },
          "name": "stderr",
          "output_type": "stream",
          "text": [
            "training:  15%|█▌        | 753/5000 [25:50<2:19:47,  1.97s/it]"
          ]
        },
        {
          "metadata": {
            "tags": null
          },
          "name": "stdout",
          "output_type": "stream",
          "text": [
            "training loss: 1.835710048675537\n",
            "training loss: 1.5621743202209473\n",
            "training loss: 1.6237295866012573\n",
            "training loss: 1.707711935043335\n",
            "training loss: 1.7837190628051758\n",
            "training loss: 1.697016716003418\n"
          ]
        },
        {
          "metadata": {
            "tags": null
          },
          "name": "stderr",
          "output_type": "stream",
          "text": [
            "\rtraining:  15%|█▌        | 759/5000 [26:01<2:19:34,  1.97s/it]"
          ]
        },
        {
          "metadata": {
            "tags": null
          },
          "name": "stdout",
          "output_type": "stream",
          "text": [
            "training loss: 1.9169213771820068\n",
            "training loss: 1.6214561462402344\n",
            "training loss: 1.5644069910049438\n",
            "training loss: 1.7464792728424072\n",
            "training loss: 1.7325820922851562\n",
            "training loss: 1.7096996307373047\n"
          ]
        },
        {
          "metadata": {
            "tags": null
          },
          "name": "stderr",
          "output_type": "stream",
          "text": [
            "\rtraining:  15%|█▌        | 765/5000 [26:13<2:19:22,  1.97s/it]"
          ]
        },
        {
          "metadata": {
            "tags": null
          },
          "name": "stdout",
          "output_type": "stream",
          "text": [
            "training loss: 1.6539549827575684\n",
            "training loss: 1.6912569999694824\n",
            "training loss: 1.7161520719528198\n",
            "training loss: 1.8003042936325073\n",
            "training loss: 1.779362440109253\n",
            "training loss: 1.6760225296020508\n"
          ]
        },
        {
          "metadata": {
            "tags": null
          },
          "name": "stderr",
          "output_type": "stream",
          "text": [
            "\rtraining:  15%|█▌        | 771/5000 [26:25<2:19:10,  1.97s/it]"
          ]
        },
        {
          "metadata": {
            "tags": null
          },
          "name": "stdout",
          "output_type": "stream",
          "text": [
            "training loss: 1.5978049039840698\n",
            "training loss: 1.6671220064163208\n",
            "training loss: 1.5474705696105957\n",
            "training loss: 1.7535345554351807\n",
            "training loss: 1.509599208831787\n",
            "training loss: 1.5820739269256592\n"
          ]
        },
        {
          "metadata": {
            "tags": null
          },
          "name": "stderr",
          "output_type": "stream",
          "text": [
            "\rtraining:  16%|█▌        | 777/5000 [26:37<2:18:57,  1.97s/it]"
          ]
        },
        {
          "metadata": {
            "tags": null
          },
          "name": "stdout",
          "output_type": "stream",
          "text": [
            "training loss: 1.5758023262023926\n",
            "training loss: 1.6707367897033691\n",
            "training loss: 1.6936239004135132\n",
            "training loss: 1.687488079071045\n",
            "training loss: 1.677046298980713\n",
            "training loss: 1.7167294025421143\n"
          ]
        },
        {
          "metadata": {
            "tags": null
          },
          "name": "stderr",
          "output_type": "stream",
          "text": [
            "\rtraining:  16%|█▌        | 783/5000 [26:49<2:18:44,  1.97s/it]"
          ]
        },
        {
          "metadata": {
            "tags": null
          },
          "name": "stdout",
          "output_type": "stream",
          "text": [
            "training loss: 1.7488420009613037\n",
            "training loss: 1.6491193771362305\n",
            "training loss: 1.7610862255096436\n",
            "training loss: 1.647144079208374\n",
            "training loss: 1.7122066020965576\n",
            "training loss: 1.8592581748962402\n"
          ]
        },
        {
          "metadata": {
            "tags": null
          },
          "name": "stderr",
          "output_type": "stream",
          "text": [
            "training:  16%|█▌        | 789/5000 [27:01<2:18:32,  1.97s/it]"
          ]
        },
        {
          "metadata": {
            "tags": null
          },
          "name": "stdout",
          "output_type": "stream",
          "text": [
            "training loss: 1.6419166326522827\n",
            "training loss: 1.7042527198791504\n",
            "training loss: 1.3766140937805176\n",
            "training loss: 1.5738036632537842\n",
            "training loss: 1.7684848308563232\n",
            "training loss: 1.5269536972045898\n"
          ]
        },
        {
          "metadata": {
            "tags": null
          },
          "name": "stderr",
          "output_type": "stream",
          "text": [
            "\rtraining:  16%|█▌        | 795/5000 [27:12<2:18:19,  1.97s/it]"
          ]
        },
        {
          "metadata": {
            "tags": null
          },
          "name": "stdout",
          "output_type": "stream",
          "text": [
            "training loss: 1.9044909477233887\n",
            "training loss: 1.684272289276123\n",
            "training loss: 1.603916049003601\n",
            "training loss: 1.652499794960022\n",
            "training loss: 1.6804670095443726\n",
            "training loss: 1.727317214012146\n",
            "training loss: 1.7620762586593628\n"
          ]
        },
        {
          "metadata": {
            "tags": null
          },
          "name": "stderr",
          "output_type": "stream",
          "text": [
            "\rtraining:  16%|█▌        | 801/5000 [27:25<2:18:48,  1.98s/it]"
          ]
        },
        {
          "metadata": {
            "tags": null
          },
          "name": "stdout",
          "output_type": "stream",
          "text": [
            "validation loss: 1.6784659624099731\n",
            "training loss: 1.5897890329360962\n",
            "training loss: 1.7209444046020508\n",
            "training loss: 1.619110345840454\n",
            "training loss: 1.8465930223464966\n",
            "training loss: 1.7895535230636597\n"
          ]
        },
        {
          "metadata": {
            "tags": null
          },
          "name": "stderr",
          "output_type": "stream",
          "text": [
            "\rtraining:  16%|█▌        | 807/5000 [27:36<2:18:25,  1.98s/it]"
          ]
        },
        {
          "metadata": {
            "tags": null
          },
          "name": "stdout",
          "output_type": "stream",
          "text": [
            "training loss: 1.697984218597412\n",
            "training loss: 1.5889981985092163\n",
            "training loss: 1.6092677116394043\n",
            "training loss: 1.6558165550231934\n",
            "training loss: 1.7107620239257812\n",
            "training loss: 1.6507233381271362\n"
          ]
        },
        {
          "metadata": {
            "tags": null
          },
          "name": "stderr",
          "output_type": "stream",
          "text": [
            "\rtraining:  16%|█▋        | 813/5000 [27:48<2:18:04,  1.98s/it]"
          ]
        },
        {
          "metadata": {
            "tags": null
          },
          "name": "stdout",
          "output_type": "stream",
          "text": [
            "training loss: 1.600719690322876\n",
            "training loss: 1.7107696533203125\n",
            "training loss: 1.77323579788208\n",
            "training loss: 1.6146795749664307\n",
            "training loss: 1.7157282829284668\n",
            "training loss: 1.6606080532073975\n"
          ]
        },
        {
          "metadata": {
            "tags": null
          },
          "name": "stderr",
          "output_type": "stream",
          "text": [
            "training:  16%|█▋        | 819/5000 [28:00<2:17:46,  1.98s/it]"
          ]
        },
        {
          "metadata": {
            "tags": null
          },
          "name": "stdout",
          "output_type": "stream",
          "text": [
            "training loss: 1.600113034248352\n",
            "training loss: 1.6131584644317627\n",
            "training loss: 1.6297152042388916\n",
            "training loss: 1.738843321800232\n",
            "training loss: 1.6083807945251465\n",
            "training loss: 1.7289295196533203\n"
          ]
        },
        {
          "metadata": {
            "tags": null
          },
          "name": "stderr",
          "output_type": "stream",
          "text": [
            "\rtraining:  16%|█▋        | 825/5000 [28:12<2:17:30,  1.98s/it]"
          ]
        },
        {
          "metadata": {
            "tags": null
          },
          "name": "stdout",
          "output_type": "stream",
          "text": [
            "training loss: 1.5508986711502075\n",
            "training loss: 1.6427372694015503\n",
            "training loss: 1.7001903057098389\n",
            "training loss: 1.666983962059021\n",
            "training loss: 1.681556224822998\n",
            "training loss: 1.5722907781600952\n"
          ]
        },
        {
          "metadata": {
            "tags": null
          },
          "name": "stderr",
          "output_type": "stream",
          "text": [
            "\rtraining:  17%|█▋        | 831/5000 [28:24<2:17:16,  1.98s/it]"
          ]
        },
        {
          "metadata": {
            "tags": null
          },
          "name": "stdout",
          "output_type": "stream",
          "text": [
            "training loss: 1.674720048904419\n",
            "training loss: 1.658139705657959\n",
            "training loss: 1.6860136985778809\n",
            "training loss: 1.6478338241577148\n",
            "training loss: 1.6964199542999268\n",
            "training loss: 1.685654878616333\n"
          ]
        },
        {
          "metadata": {
            "tags": null
          },
          "name": "stderr",
          "output_type": "stream",
          "text": [
            "\rtraining:  17%|█▋        | 837/5000 [28:36<2:17:02,  1.98s/it]"
          ]
        },
        {
          "metadata": {
            "tags": null
          },
          "name": "stdout",
          "output_type": "stream",
          "text": [
            "training loss: 1.5998013019561768\n",
            "training loss: 1.7524402141571045\n",
            "training loss: 1.7569236755371094\n",
            "training loss: 1.5338095426559448\n",
            "training loss: 1.5832264423370361\n",
            "training loss: 1.6509828567504883\n"
          ]
        },
        {
          "metadata": {
            "tags": null
          },
          "name": "stderr",
          "output_type": "stream",
          "text": [
            "\rtraining:  17%|█▋        | 843/5000 [28:47<2:16:48,  1.97s/it]"
          ]
        },
        {
          "metadata": {
            "tags": null
          },
          "name": "stdout",
          "output_type": "stream",
          "text": [
            "training loss: 1.618139624595642\n",
            "training loss: 1.698648452758789\n",
            "training loss: 1.7188576459884644\n",
            "training loss: 1.8289042711257935\n",
            "training loss: 1.6264475584030151\n",
            "training loss: 1.713552713394165\n"
          ]
        },
        {
          "metadata": {
            "tags": null
          },
          "name": "stderr",
          "output_type": "stream",
          "text": [
            "\rtraining:  17%|█▋        | 849/5000 [28:59<2:16:36,  1.97s/it]"
          ]
        },
        {
          "metadata": {
            "tags": null
          },
          "name": "stdout",
          "output_type": "stream",
          "text": [
            "training loss: 1.6600682735443115\n",
            "training loss: 1.6314798593521118\n",
            "training loss: 1.70701265335083\n",
            "training loss: 1.6453396081924438\n",
            "training loss: 1.7777302265167236\n",
            "training loss: 1.674917459487915\n"
          ]
        },
        {
          "metadata": {
            "tags": null
          },
          "name": "stderr",
          "output_type": "stream",
          "text": [
            "training:  17%|█▋        | 855/5000 [29:11<2:16:23,  1.97s/it]"
          ]
        },
        {
          "metadata": {
            "tags": null
          },
          "name": "stdout",
          "output_type": "stream",
          "text": [
            "training loss: 1.5948498249053955\n",
            "training loss: 1.6646320819854736\n",
            "training loss: 1.5964407920837402\n",
            "training loss: 1.6873066425323486\n",
            "training loss: 1.6831551790237427\n",
            "training loss: 1.668246865272522\n"
          ]
        },
        {
          "metadata": {
            "tags": null
          },
          "name": "stderr",
          "output_type": "stream",
          "text": [
            "\rtraining:  17%|█▋        | 861/5000 [29:23<2:16:11,  1.97s/it]"
          ]
        },
        {
          "metadata": {
            "tags": null
          },
          "name": "stdout",
          "output_type": "stream",
          "text": [
            "training loss: 1.641982078552246\n",
            "training loss: 1.507179617881775\n",
            "training loss: 1.5841296911239624\n",
            "training loss: 1.6983203887939453\n",
            "training loss: 1.6717944145202637\n",
            "training loss: 1.615981101989746\n"
          ]
        },
        {
          "metadata": {
            "tags": null
          },
          "name": "stderr",
          "output_type": "stream",
          "text": [
            "\rtraining:  17%|█▋        | 867/5000 [29:35<2:15:58,  1.97s/it]"
          ]
        },
        {
          "metadata": {
            "tags": null
          },
          "name": "stdout",
          "output_type": "stream",
          "text": [
            "training loss: 1.6168843507766724\n",
            "training loss: 1.519646167755127\n",
            "training loss: 1.5710203647613525\n",
            "training loss: 1.6911914348602295\n",
            "training loss: 1.606144666671753\n",
            "training loss: 1.707617998123169\n"
          ]
        },
        {
          "metadata": {
            "tags": null
          },
          "name": "stderr",
          "output_type": "stream",
          "text": [
            "\rtraining:  17%|█▋        | 873/5000 [29:47<2:15:46,  1.97s/it]"
          ]
        },
        {
          "metadata": {
            "tags": null
          },
          "name": "stdout",
          "output_type": "stream",
          "text": [
            "training loss: 1.520885944366455\n",
            "training loss: 1.8027424812316895\n",
            "training loss: 1.6808487176895142\n",
            "training loss: 1.6821720600128174\n",
            "training loss: 1.7276631593704224\n",
            "training loss: 1.691606044769287\n"
          ]
        },
        {
          "metadata": {
            "tags": null
          },
          "name": "stderr",
          "output_type": "stream",
          "text": [
            "\rtraining:  18%|█▊        | 879/5000 [29:58<2:15:35,  1.97s/it]"
          ]
        },
        {
          "metadata": {
            "tags": null
          },
          "name": "stdout",
          "output_type": "stream",
          "text": [
            "training loss: 1.6727045774459839\n",
            "training loss: 1.6462393999099731\n",
            "training loss: 1.6443908214569092\n",
            "training loss: 1.64363694190979\n",
            "training loss: 1.6075702905654907\n",
            "training loss: 1.5686581134796143\n"
          ]
        },
        {
          "metadata": {
            "tags": null
          },
          "name": "stderr",
          "output_type": "stream",
          "text": [
            "training:  18%|█▊        | 885/5000 [30:10<2:15:22,  1.97s/it]"
          ]
        },
        {
          "metadata": {
            "tags": null
          },
          "name": "stdout",
          "output_type": "stream",
          "text": [
            "training loss: 1.7576162815093994\n",
            "training loss: 1.6937617063522339\n",
            "training loss: 1.5713342428207397\n",
            "training loss: 1.5949567556381226\n",
            "training loss: 1.6743965148925781\n",
            "training loss: 1.7355656623840332\n"
          ]
        },
        {
          "metadata": {
            "tags": null
          },
          "name": "stderr",
          "output_type": "stream",
          "text": [
            "\rtraining:  18%|█▊        | 891/5000 [30:22<2:15:10,  1.97s/it]"
          ]
        },
        {
          "metadata": {
            "tags": null
          },
          "name": "stdout",
          "output_type": "stream",
          "text": [
            "training loss: 1.6775120496749878\n",
            "training loss: 1.5794432163238525\n",
            "training loss: 1.6705865859985352\n",
            "training loss: 1.5434215068817139\n",
            "training loss: 1.7981863021850586\n",
            "training loss: 1.7564719915390015\n"
          ]
        },
        {
          "metadata": {
            "tags": null
          },
          "name": "stderr",
          "output_type": "stream",
          "text": [
            "\rtraining:  18%|█▊        | 897/5000 [30:34<2:14:59,  1.97s/it]"
          ]
        },
        {
          "metadata": {
            "tags": null
          },
          "name": "stdout",
          "output_type": "stream",
          "text": [
            "training loss: 1.6753560304641724\n",
            "training loss: 1.6120600700378418\n",
            "training loss: 1.5987786054611206\n",
            "training loss: 1.6815516948699951\n",
            "training loss: 1.6606671810150146\n",
            "validation loss: 1.5163776874542236\n",
            "training loss: 1.555293083190918\n"
          ]
        },
        {
          "metadata": {
            "tags": null
          },
          "name": "stderr",
          "output_type": "stream",
          "text": [
            "\rtraining:  18%|█▊        | 903/5000 [30:46<2:15:26,  1.98s/it]"
          ]
        },
        {
          "metadata": {
            "tags": null
          },
          "name": "stdout",
          "output_type": "stream",
          "text": [
            "training loss: 1.6530952453613281\n",
            "training loss: 1.6606030464172363\n",
            "training loss: 1.824751853942871\n",
            "training loss: 1.8081166744232178\n",
            "training loss: 1.6160938739776611\n",
            "training loss: 1.5901691913604736\n"
          ]
        },
        {
          "metadata": {
            "tags": null
          },
          "name": "stderr",
          "output_type": "stream",
          "text": [
            "\rtraining:  18%|█▊        | 909/5000 [30:58<2:15:02,  1.98s/it]"
          ]
        },
        {
          "metadata": {
            "tags": null
          },
          "name": "stdout",
          "output_type": "stream",
          "text": [
            "training loss: 1.669442892074585\n",
            "training loss: 1.6547577381134033\n",
            "training loss: 1.6527659893035889\n",
            "training loss: 1.6107892990112305\n",
            "training loss: 1.669623613357544\n",
            "training loss: 1.5896546840667725\n"
          ]
        },
        {
          "metadata": {
            "tags": null
          },
          "name": "stderr",
          "output_type": "stream",
          "text": [
            "training:  18%|█▊        | 915/5000 [31:10<2:14:41,  1.98s/it]"
          ]
        },
        {
          "metadata": {
            "tags": null
          },
          "name": "stdout",
          "output_type": "stream",
          "text": [
            "training loss: 1.5623306035995483\n",
            "training loss: 1.7578641176223755\n",
            "training loss: 1.6679726839065552\n",
            "training loss: 1.6274561882019043\n",
            "training loss: 1.697853684425354\n",
            "training loss: 1.508209228515625\n"
          ]
        },
        {
          "metadata": {
            "tags": null
          },
          "name": "stderr",
          "output_type": "stream",
          "text": [
            "\rtraining:  18%|█▊        | 921/5000 [31:22<2:14:24,  1.98s/it]"
          ]
        },
        {
          "metadata": {
            "tags": null
          },
          "name": "stdout",
          "output_type": "stream",
          "text": [
            "training loss: 1.72748863697052\n",
            "training loss: 1.660095453262329\n",
            "training loss: 1.6710052490234375\n",
            "training loss: 1.668544054031372\n",
            "training loss: 1.5278563499450684\n",
            "training loss: 1.5129351615905762\n"
          ]
        },
        {
          "metadata": {
            "tags": null
          },
          "name": "stderr",
          "output_type": "stream",
          "text": [
            "\rtraining:  19%|█▊        | 927/5000 [31:33<2:14:08,  1.98s/it]"
          ]
        },
        {
          "metadata": {
            "tags": null
          },
          "name": "stdout",
          "output_type": "stream",
          "text": [
            "training loss: 1.6956202983856201\n",
            "training loss: 1.6223726272583008\n",
            "training loss: 1.564666748046875\n",
            "training loss: 1.718285322189331\n",
            "training loss: 1.8214294910430908\n",
            "training loss: 1.5498216152191162\n"
          ]
        },
        {
          "metadata": {
            "tags": null
          },
          "name": "stderr",
          "output_type": "stream",
          "text": [
            "\rtraining:  19%|█▊        | 933/5000 [31:45<2:13:53,  1.98s/it]"
          ]
        },
        {
          "metadata": {
            "tags": null
          },
          "name": "stdout",
          "output_type": "stream",
          "text": [
            "training loss: 1.6735774278640747\n",
            "training loss: 1.6871427297592163\n",
            "training loss: 1.607670783996582\n",
            "training loss: 1.5554465055465698\n",
            "training loss: 1.6007922887802124\n",
            "training loss: 1.4888911247253418\n"
          ]
        },
        {
          "metadata": {
            "tags": null
          },
          "name": "stderr",
          "output_type": "stream",
          "text": [
            "\rtraining:  19%|█▉        | 939/5000 [31:57<2:13:39,  1.97s/it]"
          ]
        },
        {
          "metadata": {
            "tags": null
          },
          "name": "stdout",
          "output_type": "stream",
          "text": [
            "training loss: 1.6379947662353516\n",
            "training loss: 1.6329272985458374\n",
            "training loss: 1.5646016597747803\n",
            "training loss: 1.8068699836730957\n",
            "training loss: 1.673709511756897\n",
            "training loss: 1.6511378288269043\n"
          ]
        },
        {
          "metadata": {
            "tags": null
          },
          "name": "stderr",
          "output_type": "stream",
          "text": [
            "\rtraining:  19%|█▉        | 945/5000 [32:09<2:13:27,  1.97s/it]"
          ]
        },
        {
          "metadata": {
            "tags": null
          },
          "name": "stdout",
          "output_type": "stream",
          "text": [
            "training loss: 1.6285508871078491\n",
            "training loss: 1.5359135866165161\n",
            "training loss: 1.6832654476165771\n",
            "training loss: 1.5717949867248535\n",
            "training loss: 1.6384081840515137\n",
            "training loss: 1.6149829626083374\n"
          ]
        },
        {
          "metadata": {
            "tags": null
          },
          "name": "stderr",
          "output_type": "stream",
          "text": [
            "training:  19%|█▉        | 951/5000 [32:21<2:13:14,  1.97s/it]"
          ]
        },
        {
          "metadata": {
            "tags": null
          },
          "name": "stdout",
          "output_type": "stream",
          "text": [
            "training loss: 1.477445125579834\n",
            "training loss: 1.6642942428588867\n",
            "training loss: 1.7289273738861084\n",
            "training loss: 1.6708840131759644\n",
            "training loss: 1.562177062034607\n",
            "training loss: 1.4929144382476807\n"
          ]
        },
        {
          "metadata": {
            "tags": null
          },
          "name": "stderr",
          "output_type": "stream",
          "text": [
            "\rtraining:  19%|█▉        | 957/5000 [32:33<2:13:02,  1.97s/it]"
          ]
        },
        {
          "metadata": {
            "tags": null
          },
          "name": "stdout",
          "output_type": "stream",
          "text": [
            "training loss: 1.539095163345337\n",
            "training loss: 1.5536956787109375\n",
            "training loss: 1.564103364944458\n",
            "training loss: 1.6997933387756348\n",
            "training loss: 1.6635217666625977\n",
            "training loss: 1.6403980255126953\n"
          ]
        },
        {
          "metadata": {
            "tags": null
          },
          "name": "stderr",
          "output_type": "stream",
          "text": [
            "\rtraining:  19%|█▉        | 963/5000 [32:44<2:12:49,  1.97s/it]"
          ]
        },
        {
          "metadata": {
            "tags": null
          },
          "name": "stdout",
          "output_type": "stream",
          "text": [
            "training loss: 1.5640147924423218\n",
            "training loss: 1.7026573419570923\n",
            "training loss: 1.6341700553894043\n",
            "training loss: 1.610365867614746\n",
            "training loss: 1.5279395580291748\n",
            "training loss: 1.6260268688201904\n"
          ]
        },
        {
          "metadata": {
            "tags": null
          },
          "name": "stderr",
          "output_type": "stream",
          "text": [
            "\rtraining:  19%|█▉        | 969/5000 [32:56<2:12:37,  1.97s/it]"
          ]
        },
        {
          "metadata": {
            "tags": null
          },
          "name": "stdout",
          "output_type": "stream",
          "text": [
            "training loss: 1.6623791456222534\n",
            "training loss: 1.6771230697631836\n",
            "training loss: 1.680722713470459\n",
            "training loss: 1.61777663230896\n",
            "training loss: 1.596437692642212\n",
            "training loss: 1.5843501091003418\n"
          ]
        },
        {
          "metadata": {
            "tags": null
          },
          "name": "stderr",
          "output_type": "stream",
          "text": [
            "\rtraining:  20%|█▉        | 975/5000 [33:08<2:12:25,  1.97s/it]"
          ]
        },
        {
          "metadata": {
            "tags": null
          },
          "name": "stdout",
          "output_type": "stream",
          "text": [
            "training loss: 1.6301565170288086\n",
            "training loss: 1.442408561706543\n",
            "training loss: 1.589510202407837\n",
            "training loss: 1.666130542755127\n",
            "training loss: 1.7185583114624023\n",
            "training loss: 1.6425328254699707\n"
          ]
        },
        {
          "metadata": {
            "tags": null
          },
          "name": "stderr",
          "output_type": "stream",
          "text": [
            "training:  20%|█▉        | 981/5000 [33:20<2:12:14,  1.97s/it]"
          ]
        },
        {
          "metadata": {
            "tags": null
          },
          "name": "stdout",
          "output_type": "stream",
          "text": [
            "training loss: 1.5514582395553589\n",
            "training loss: 1.5690534114837646\n",
            "training loss: 1.5782643556594849\n",
            "training loss: 1.6882474422454834\n",
            "training loss: 1.6957321166992188\n",
            "training loss: 1.5775775909423828\n"
          ]
        },
        {
          "metadata": {
            "tags": null
          },
          "name": "stderr",
          "output_type": "stream",
          "text": [
            "\rtraining:  20%|█▉        | 987/5000 [33:32<2:12:03,  1.97s/it]"
          ]
        },
        {
          "metadata": {
            "tags": null
          },
          "name": "stdout",
          "output_type": "stream",
          "text": [
            "training loss: 1.6404848098754883\n",
            "training loss: 1.6510543823242188\n",
            "training loss: 1.555685043334961\n",
            "training loss: 1.6800856590270996\n",
            "training loss: 1.618072271347046\n",
            "training loss: 1.806445837020874\n"
          ]
        },
        {
          "metadata": {
            "tags": null
          },
          "name": "stderr",
          "output_type": "stream",
          "text": [
            "\rtraining:  20%|█▉        | 993/5000 [33:44<2:11:52,  1.97s/it]"
          ]
        },
        {
          "metadata": {
            "tags": null
          },
          "name": "stdout",
          "output_type": "stream",
          "text": [
            "training loss: 1.5892236232757568\n",
            "training loss: 1.6250851154327393\n",
            "training loss: 1.5958638191223145\n",
            "training loss: 1.6633294820785522\n",
            "training loss: 1.6292341947555542\n",
            "training loss: 1.5674903392791748\n"
          ]
        },
        {
          "metadata": {
            "tags": null
          },
          "name": "stderr",
          "output_type": "stream",
          "text": [
            "\rtraining:  20%|█▉        | 999/5000 [33:56<2:11:39,  1.97s/it]"
          ]
        },
        {
          "metadata": {
            "tags": null
          },
          "name": "stdout",
          "output_type": "stream",
          "text": [
            "training loss: 1.6742950677871704\n",
            "training loss: 1.6316101551055908\n",
            "training loss: 1.7313385009765625\n",
            "validation loss: 1.5947333574295044\n",
            "%s \n",
            "\n",
            " %s (\" in the [[7th century]] with the emergence of the prophet [[Muhammad]]. Within a century of his death, an Islamic state stretched from the [[Atlantic ocean]] in the west to [[central Asia]] in the east, which, however, was soon torn by civil wars ([[fitna]]s). After this, there would always be rival dynasties claiming the [[caliphate]], or leadership of the Muslim world, and many Islamic states or empires offering only token obedience to an increasingly powerless [[caliph]].  Nonetheless, the later empires of the [[Abbasid]] caliphs and the [[Seljuk Turks]] were among the largest and most powerful in the world. After the disastrous defeat of the Byzantines at the [[Battle of Manzikert]] in [[1071]], Christian Europe launched a series of [[Crusades]] and for a time captured Jerusalem. [[Saladin]], however, restored unity and defeated the [[Shiite]] [[Fatimid]]s.  From the 14th to the 17th centuries, one of the most important Muslim territories was the [[Mali Empire]], whose capital was [[Timbuktu]].  In the 18th century, there were three great Muslim empires: the [[Ottoman empire|Ottoman]] in Turkey, the Middle East, and the Mediterranean; the [[Safavid]] in Iran; and the [[Mogul]] in India. By the [[19th century]], these realms had fallen under the sway of European political and economic power. Following [[WWI]], the remnants of the Ottoman empire were parceled out as European [[protectorate]]s or [[sphere of influence|spheres of influence]]. Islam and Islamic political power have revived in the [[20th century]]. However, the relationship between the West and the Islamic world remains uneasy.  ===Contemporary Islam=== [[Image:Islam by country.png|thumb|right|300px|Countries with Muslim populations over 10% of total (source - [[CIA]] [[World Factbook]], 2004). The darker green represents a [[Sunni]] majority and the light green represents a [[Shia]] majority.]]  Although the most prominent movement in Islam in recent times has been [[fundamentalism|fundamentalist]] [[Islamism]], there are a number of [[liberal movements within Islam]], which seek alternative ways to align the Islamic faith with contemporary questions.  Early [[Sharia]] had a much more flexible character than is currently associated with [[Islamic jurisprudence]], and many modern Muslim scholars believe that it should be renewed, and the classical jurists should lose their special status. This would require formulating a new [[fiqh]] suitable for the modern world, e.g. as proposed by advocates of the [[Islamization of knowledge]], and would deal with the modern context. One vehicle proposed for such a change has been the revival of the principle of [[ijtihad]], or independent reasoning by a qualified Islamic scholar, which has lain dormant for centuries.  This movement does not aim to challenge the fundamentals of Islam; rather, it seeks to clear away misinterpretations and to free the way for the renewal of the previous status of the Islamic world as a centre of modern thought and freedom. (See [[Modern Islamic philosophy]] for more on this subject.)  Many Muslims counter the claim that only &quot;liberalization&quot; of the Islamic Sharia law can lead to distinguishing between [[tradition]] and true Islam by saying that meaningful &quot;fundamentalism&quot;, by definition, will eject non-Islamic cultural inventions &amp;mdash; for instance, acknowledging and implementing Muhammad's insistence that women have God-given rights that no human being may legally infringe upon. Proponents of modern Islamic philosophy sometimes respond to this by arguing that, as a practical matter, &quot;fundamentalism&quot; in popular discourse about Islam may actually refer, not to core precepts of the faith, but to various systems of cultural traditionalism.  ===The demographics of Islam today=== {{main articles|[[Islam by country]] and [[Demographics of Islam]]}} Based on the percentages published in the [[2005]] [[CIA World Factbook]] ([http://www.cia.gov/cia/publications/factbook/geos/xx.html &quot;World&quot;]), Islam is the second largest religion in the world. Accordin\", '****************************************************************************************************')\n"
          ]
        },
        {
          "metadata": {
            "tags": null
          },
          "name": "stderr",
          "output_type": "stream",
          "text": [
            "training:  20%|██        | 1001/5000 [34:30<4:18:22,  3.88s/it]"
          ]
        },
        {
          "metadata": {
            "tags": null
          },
          "name": "stdout",
          "output_type": "stream",
          "text": [
            "g univers it blight, the gurber have acts of the ration, the execration in the state gend of the cannering and univers' had the ign.  ===Paintugative==== ''Siths== A would ''Depublic [[Edd Shie]]'' in a halth of the [[Keets]]s eleaged which its was larged to area be uter-purb, for [[Bhistory MPhythine, gancle, greatures in the 1881. This of the locational deg per of the rising the about was be the feature, &quot;the recision forming the countro-mate (the prish and [[Europeana Stateshes]], of [[Herdment levi\n",
            "training loss: 1.3723959922790527\n",
            "training loss: 1.6437501907348633\n",
            "training loss: 1.840078353881836\n",
            "training loss: 1.677135944366455\n",
            "training loss: 1.6297591924667358\n"
          ]
        },
        {
          "metadata": {
            "tags": null
          },
          "name": "stderr",
          "output_type": "stream",
          "text": [
            "\rtraining:  20%|██        | 1007/5000 [34:42<3:33:48,  3.21s/it]"
          ]
        },
        {
          "metadata": {
            "tags": null
          },
          "name": "stdout",
          "output_type": "stream",
          "text": [
            "training loss: 1.6564431190490723\n",
            "training loss: 1.6261582374572754\n",
            "training loss: 1.6357460021972656\n",
            "training loss: 1.606273889541626\n",
            "training loss: 1.6436352729797363\n",
            "training loss: 1.6001274585723877\n"
          ]
        },
        {
          "metadata": {
            "tags": null
          },
          "name": "stderr",
          "output_type": "stream",
          "text": [
            "\rtraining:  20%|██        | 1013/5000 [34:54<3:06:06,  2.80s/it]"
          ]
        },
        {
          "metadata": {
            "tags": null
          },
          "name": "stdout",
          "output_type": "stream",
          "text": [
            "training loss: 1.5458920001983643\n",
            "training loss: 1.4289897680282593\n",
            "training loss: 1.5163764953613281\n",
            "training loss: 1.6834886074066162\n",
            "training loss: 1.6666735410690308\n",
            "training loss: 1.6254862546920776\n"
          ]
        },
        {
          "metadata": {
            "tags": null
          },
          "name": "stderr",
          "output_type": "stream",
          "text": [
            "\rtraining:  20%|██        | 1019/5000 [35:05<2:48:09,  2.53s/it]"
          ]
        },
        {
          "metadata": {
            "tags": null
          },
          "name": "stdout",
          "output_type": "stream",
          "text": [
            "training loss: 1.5985075235366821\n",
            "training loss: 1.5714882612228394\n",
            "training loss: 1.6343542337417603\n",
            "training loss: 1.4741950035095215\n",
            "training loss: 1.6152907609939575\n",
            "training loss: 1.6125826835632324\n"
          ]
        },
        {
          "metadata": {
            "tags": null
          },
          "name": "stderr",
          "output_type": "stream",
          "text": [
            "\rtraining:  20%|██        | 1025/5000 [35:17<2:36:11,  2.36s/it]"
          ]
        },
        {
          "metadata": {
            "tags": null
          },
          "name": "stdout",
          "output_type": "stream",
          "text": [
            "training loss: 1.7992427349090576\n",
            "training loss: 1.5561336278915405\n",
            "training loss: 1.7584528923034668\n",
            "training loss: 1.6183675527572632\n",
            "training loss: 1.5766217708587646\n",
            "training loss: 1.5532917976379395\n"
          ]
        },
        {
          "metadata": {
            "tags": null
          },
          "name": "stderr",
          "output_type": "stream",
          "text": [
            "\rtraining:  21%|██        | 1031/5000 [35:29<2:28:04,  2.24s/it]"
          ]
        },
        {
          "metadata": {
            "tags": null
          },
          "name": "stdout",
          "output_type": "stream",
          "text": [
            "training loss: 1.5962049961090088\n",
            "training loss: 1.7172390222549438\n",
            "training loss: 1.6805583238601685\n",
            "training loss: 1.6231701374053955\n",
            "training loss: 1.577369213104248\n",
            "training loss: 1.6231763362884521\n"
          ]
        },
        {
          "metadata": {
            "tags": null
          },
          "name": "stderr",
          "output_type": "stream",
          "text": [
            "training:  21%|██        | 1037/5000 [35:41<2:22:29,  2.16s/it]"
          ]
        },
        {
          "metadata": {
            "tags": null
          },
          "name": "stdout",
          "output_type": "stream",
          "text": [
            "training loss: 1.6530368328094482\n",
            "training loss: 1.576998233795166\n",
            "training loss: 1.5948915481567383\n",
            "training loss: 1.5166354179382324\n",
            "training loss: 1.6261065006256104\n",
            "training loss: 1.6279114484786987\n"
          ]
        },
        {
          "metadata": {
            "tags": null
          },
          "name": "stderr",
          "output_type": "stream",
          "text": [
            "\rtraining:  21%|██        | 1043/5000 [35:53<2:18:34,  2.10s/it]"
          ]
        },
        {
          "metadata": {
            "tags": null
          },
          "name": "stdout",
          "output_type": "stream",
          "text": [
            "training loss: 1.6529874801635742\n",
            "training loss: 1.5203639268875122\n",
            "training loss: 1.510023593902588\n",
            "training loss: 1.6183464527130127\n",
            "training loss: 1.6563063859939575\n",
            "training loss: 1.6310575008392334\n"
          ]
        },
        {
          "metadata": {
            "tags": null
          },
          "name": "stderr",
          "output_type": "stream",
          "text": [
            "\rtraining:  21%|██        | 1049/5000 [36:05<2:15:50,  2.06s/it]"
          ]
        },
        {
          "metadata": {
            "tags": null
          },
          "name": "stdout",
          "output_type": "stream",
          "text": [
            "training loss: 1.536197304725647\n",
            "training loss: 1.5443646907806396\n",
            "training loss: 1.6713181734085083\n",
            "training loss: 1.557590126991272\n",
            "training loss: 1.5333356857299805\n",
            "training loss: 1.6124165058135986\n"
          ]
        },
        {
          "metadata": {
            "tags": null
          },
          "name": "stderr",
          "output_type": "stream",
          "text": [
            "\rtraining:  21%|██        | 1055/5000 [36:17<2:13:51,  2.04s/it]"
          ]
        },
        {
          "metadata": {
            "tags": null
          },
          "name": "stdout",
          "output_type": "stream",
          "text": [
            "training loss: 1.6931583881378174\n",
            "training loss: 1.6157035827636719\n",
            "training loss: 1.760022521018982\n",
            "training loss: 1.3840430974960327\n",
            "training loss: 1.7574878931045532\n",
            "training loss: 1.581704020500183\n"
          ]
        },
        {
          "metadata": {
            "tags": null
          },
          "name": "stderr",
          "output_type": "stream",
          "text": [
            "\rtraining:  21%|██        | 1061/5000 [36:28<2:12:25,  2.02s/it]"
          ]
        },
        {
          "metadata": {
            "tags": null
          },
          "name": "stdout",
          "output_type": "stream",
          "text": [
            "training loss: 1.7050061225891113\n",
            "training loss: 1.6528573036193848\n",
            "training loss: 1.5220106840133667\n",
            "training loss: 1.5659806728363037\n",
            "training loss: 1.5915195941925049\n",
            "training loss: 1.5765118598937988\n"
          ]
        },
        {
          "metadata": {
            "tags": null
          },
          "name": "stderr",
          "output_type": "stream",
          "text": [
            "training:  21%|██▏       | 1067/5000 [36:40<2:11:21,  2.00s/it]"
          ]
        },
        {
          "metadata": {
            "tags": null
          },
          "name": "stdout",
          "output_type": "stream",
          "text": [
            "training loss: 1.750534176826477\n",
            "training loss: 1.4961755275726318\n",
            "training loss: 1.46270751953125\n",
            "training loss: 1.6079537868499756\n",
            "training loss: 1.6874665021896362\n",
            "training loss: 1.620790719985962\n"
          ]
        },
        {
          "metadata": {
            "tags": null
          },
          "name": "stderr",
          "output_type": "stream",
          "text": [
            "\rtraining:  21%|██▏       | 1073/5000 [36:52<2:10:33,  1.99s/it]"
          ]
        },
        {
          "metadata": {
            "tags": null
          },
          "name": "stdout",
          "output_type": "stream",
          "text": [
            "training loss: 1.6397265195846558\n",
            "training loss: 1.581485629081726\n",
            "training loss: 1.59306001663208\n",
            "training loss: 1.5134336948394775\n",
            "training loss: 1.6294372081756592\n",
            "training loss: 1.6451771259307861\n"
          ]
        },
        {
          "metadata": {
            "tags": null
          },
          "name": "stderr",
          "output_type": "stream",
          "text": [
            "\rtraining:  22%|██▏       | 1079/5000 [37:04<2:09:56,  1.99s/it]"
          ]
        },
        {
          "metadata": {
            "tags": null
          },
          "name": "stdout",
          "output_type": "stream",
          "text": [
            "training loss: 1.5102037191390991\n",
            "training loss: 1.5770316123962402\n",
            "training loss: 1.4816409349441528\n",
            "training loss: 1.7004156112670898\n",
            "training loss: 1.6450316905975342\n",
            "training loss: 1.4973466396331787\n"
          ]
        },
        {
          "metadata": {
            "tags": null
          },
          "name": "stderr",
          "output_type": "stream",
          "text": [
            "\rtraining:  22%|██▏       | 1085/5000 [37:16<2:09:26,  1.98s/it]"
          ]
        },
        {
          "metadata": {
            "tags": null
          },
          "name": "stdout",
          "output_type": "stream",
          "text": [
            "training loss: 1.6450021266937256\n",
            "training loss: 1.4606640338897705\n",
            "training loss: 1.725233554840088\n",
            "training loss: 1.4732586145401\n",
            "training loss: 1.7656915187835693\n",
            "training loss: 1.5589898824691772\n"
          ]
        },
        {
          "metadata": {
            "tags": null
          },
          "name": "stderr",
          "output_type": "stream",
          "text": [
            "\rtraining:  22%|██▏       | 1091/5000 [37:28<2:09:02,  1.98s/it]"
          ]
        },
        {
          "metadata": {
            "tags": null
          },
          "name": "stdout",
          "output_type": "stream",
          "text": [
            "training loss: 1.7286697626113892\n",
            "training loss: 1.6342947483062744\n",
            "training loss: 1.6281275749206543\n",
            "training loss: 1.462670087814331\n",
            "training loss: 1.6228091716766357\n",
            "training loss: 1.365110993385315\n"
          ]
        },
        {
          "metadata": {
            "tags": null
          },
          "name": "stderr",
          "output_type": "stream",
          "text": [
            "\rtraining:  22%|██▏       | 1097/5000 [37:39<2:08:42,  1.98s/it]"
          ]
        },
        {
          "metadata": {
            "tags": null
          },
          "name": "stdout",
          "output_type": "stream",
          "text": [
            "training loss: 1.743762493133545\n",
            "training loss: 1.556183099746704\n",
            "training loss: 1.5796730518341064\n",
            "training loss: 1.5434134006500244\n",
            "training loss: 1.7404688596725464\n",
            "validation loss: 1.5559685230255127\n"
          ]
        },
        {
          "metadata": {
            "tags": null
          },
          "name": "stderr",
          "output_type": "stream",
          "text": [
            "\rtraining:  22%|██▏       | 1097/5000 [37:50<2:08:42,  1.98s/it]"
          ]
        },
        {
          "metadata": {
            "tags": null
          },
          "name": "stdout",
          "output_type": "stream",
          "text": [
            "training loss: 1.5802671909332275\n"
          ]
        },
        {
          "metadata": {
            "tags": null
          },
          "name": "stderr",
          "output_type": "stream",
          "text": [
            "\rtraining:  22%|██▏       | 1103/5000 [37:51<2:09:03,  1.99s/it]"
          ]
        },
        {
          "metadata": {
            "tags": null
          },
          "name": "stdout",
          "output_type": "stream",
          "text": [
            "training loss: 1.6421303749084473\n",
            "training loss: 1.7369210720062256\n",
            "training loss: 1.6313755512237549\n",
            "training loss: 1.5497372150421143\n",
            "training loss: 1.6727149486541748\n",
            "training loss: 1.548459768295288\n"
          ]
        },
        {
          "metadata": {
            "tags": null
          },
          "name": "stderr",
          "output_type": "stream",
          "text": [
            "\rtraining:  22%|██▏       | 1109/5000 [38:03<2:08:35,  1.98s/it]"
          ]
        },
        {
          "metadata": {
            "tags": null
          },
          "name": "stdout",
          "output_type": "stream",
          "text": [
            "training loss: 1.6427687406539917\n",
            "training loss: 1.6800929307937622\n",
            "training loss: 1.528541088104248\n",
            "training loss: 1.5398036241531372\n",
            "training loss: 1.667482614517212\n",
            "training loss: 1.584505319595337\n"
          ]
        },
        {
          "metadata": {
            "tags": null
          },
          "name": "stderr",
          "output_type": "stream",
          "text": [
            "\rtraining:  22%|██▏       | 1115/5000 [38:15<2:08:13,  1.98s/it]"
          ]
        },
        {
          "metadata": {
            "tags": null
          },
          "name": "stdout",
          "output_type": "stream",
          "text": [
            "training loss: 1.6126561164855957\n",
            "training loss: 1.6178196668624878\n",
            "training loss: 1.6367701292037964\n",
            "training loss: 1.6301612854003906\n",
            "training loss: 1.4697444438934326\n",
            "training loss: 1.63710355758667\n"
          ]
        },
        {
          "metadata": {
            "tags": null
          },
          "name": "stderr",
          "output_type": "stream",
          "text": [
            "\rtraining:  22%|██▏       | 1121/5000 [38:27<2:07:54,  1.98s/it]"
          ]
        },
        {
          "metadata": {
            "tags": null
          },
          "name": "stdout",
          "output_type": "stream",
          "text": [
            "training loss: 1.5604588985443115\n",
            "training loss: 1.5503309965133667\n",
            "training loss: 1.4121168851852417\n",
            "training loss: 1.493748664855957\n",
            "training loss: 1.5398999452590942\n",
            "training loss: 1.6438586711883545\n"
          ]
        },
        {
          "metadata": {
            "tags": null
          },
          "name": "stderr",
          "output_type": "stream",
          "text": [
            "\rtraining:  23%|██▎       | 1127/5000 [38:39<2:07:36,  1.98s/it]"
          ]
        },
        {
          "metadata": {
            "tags": null
          },
          "name": "stdout",
          "output_type": "stream",
          "text": [
            "training loss: 1.4471759796142578\n",
            "training loss: 1.5566973686218262\n",
            "training loss: 1.6533626317977905\n",
            "training loss: 1.4223136901855469\n",
            "training loss: 1.6723861694335938\n",
            "training loss: 1.5628776550292969\n"
          ]
        },
        {
          "metadata": {
            "tags": null
          },
          "name": "stderr",
          "output_type": "stream",
          "text": [
            "training:  23%|██▎       | 1133/5000 [38:51<2:07:22,  1.98s/it]"
          ]
        },
        {
          "metadata": {
            "tags": null
          },
          "name": "stdout",
          "output_type": "stream",
          "text": [
            "training loss: 1.3038698434829712\n",
            "training loss: 1.6515464782714844\n",
            "training loss: 1.489296793937683\n",
            "training loss: 1.4369882345199585\n",
            "training loss: 1.805122971534729\n",
            "training loss: 1.7163907289505005\n"
          ]
        },
        {
          "metadata": {
            "tags": null
          },
          "name": "stderr",
          "output_type": "stream",
          "text": [
            "\rtraining:  23%|██▎       | 1139/5000 [39:03<2:07:07,  1.98s/it]"
          ]
        },
        {
          "metadata": {
            "tags": null
          },
          "name": "stdout",
          "output_type": "stream",
          "text": [
            "training loss: 1.5341325998306274\n",
            "training loss: 1.6579185724258423\n",
            "training loss: 1.5952868461608887\n",
            "training loss: 1.8107774257659912\n",
            "training loss: 1.5406333208084106\n",
            "training loss: 1.688827395439148\n"
          ]
        },
        {
          "metadata": {
            "tags": null
          },
          "name": "stderr",
          "output_type": "stream",
          "text": [
            "\rtraining:  23%|██▎       | 1145/5000 [39:14<2:06:52,  1.97s/it]"
          ]
        },
        {
          "metadata": {
            "tags": null
          },
          "name": "stdout",
          "output_type": "stream",
          "text": [
            "training loss: 1.6161272525787354\n",
            "training loss: 1.5447274446487427\n",
            "training loss: 1.5799249410629272\n",
            "training loss: 1.3301873207092285\n",
            "training loss: 1.5092244148254395\n",
            "training loss: 1.470192551612854\n"
          ]
        },
        {
          "metadata": {
            "tags": null
          },
          "name": "stderr",
          "output_type": "stream",
          "text": [
            "\rtraining:  23%|██▎       | 1151/5000 [39:26<2:06:40,  1.97s/it]"
          ]
        },
        {
          "metadata": {
            "tags": null
          },
          "name": "stdout",
          "output_type": "stream",
          "text": [
            "training loss: 1.5419596433639526\n",
            "training loss: 1.557464599609375\n",
            "training loss: 1.6581145524978638\n",
            "training loss: 1.552243947982788\n",
            "training loss: 1.56036376953125\n",
            "training loss: 1.5910981893539429\n"
          ]
        },
        {
          "metadata": {
            "tags": null
          },
          "name": "stderr",
          "output_type": "stream",
          "text": [
            "\rtraining:  23%|██▎       | 1157/5000 [39:38<2:06:27,  1.97s/it]"
          ]
        },
        {
          "metadata": {
            "tags": null
          },
          "name": "stdout",
          "output_type": "stream",
          "text": [
            "training loss: 1.6678509712219238\n",
            "training loss: 1.611163854598999\n",
            "training loss: 1.5354347229003906\n",
            "training loss: 1.509258508682251\n",
            "training loss: 1.513096570968628\n",
            "training loss: 1.7429050207138062\n"
          ]
        },
        {
          "metadata": {
            "tags": null
          },
          "name": "stderr",
          "output_type": "stream",
          "text": [
            "training:  23%|██▎       | 1163/5000 [39:50<2:06:14,  1.97s/it]"
          ]
        },
        {
          "metadata": {
            "tags": null
          },
          "name": "stdout",
          "output_type": "stream",
          "text": [
            "training loss: 1.5751667022705078\n",
            "training loss: 1.6022603511810303\n",
            "training loss: 1.7304593324661255\n",
            "training loss: 1.7098698616027832\n",
            "training loss: 1.5374009609222412\n",
            "training loss: 1.6071445941925049\n"
          ]
        },
        {
          "metadata": {
            "tags": null
          },
          "name": "stderr",
          "output_type": "stream",
          "text": [
            "\rtraining:  23%|██▎       | 1169/5000 [40:02<2:06:02,  1.97s/it]"
          ]
        },
        {
          "metadata": {
            "tags": null
          },
          "name": "stdout",
          "output_type": "stream",
          "text": [
            "training loss: 1.5320544242858887\n",
            "training loss: 1.5847163200378418\n",
            "training loss: 1.6784666776657104\n",
            "training loss: 1.4912548065185547\n",
            "training loss: 1.5676319599151611\n",
            "training loss: 1.60987389087677\n"
          ]
        },
        {
          "metadata": {
            "tags": null
          },
          "name": "stderr",
          "output_type": "stream",
          "text": [
            "\rtraining:  24%|██▎       | 1175/5000 [40:14<2:05:50,  1.97s/it]"
          ]
        },
        {
          "metadata": {
            "tags": null
          },
          "name": "stdout",
          "output_type": "stream",
          "text": [
            "training loss: 1.6381553411483765\n",
            "training loss: 1.540380597114563\n",
            "training loss: 1.4208223819732666\n",
            "training loss: 1.5975135564804077\n",
            "training loss: 1.7311885356903076\n",
            "training loss: 1.593959927558899\n"
          ]
        },
        {
          "metadata": {
            "tags": null
          },
          "name": "stderr",
          "output_type": "stream",
          "text": [
            "\rtraining:  24%|██▎       | 1181/5000 [40:25<2:05:38,  1.97s/it]"
          ]
        },
        {
          "metadata": {
            "tags": null
          },
          "name": "stdout",
          "output_type": "stream",
          "text": [
            "training loss: 1.5904591083526611\n",
            "training loss: 1.6107944250106812\n",
            "training loss: 1.581225037574768\n",
            "training loss: 1.600176215171814\n",
            "training loss: 1.671146035194397\n",
            "training loss: 1.5151088237762451\n"
          ]
        },
        {
          "metadata": {
            "tags": null
          },
          "name": "stderr",
          "output_type": "stream",
          "text": [
            "\rtraining:  24%|██▎       | 1187/5000 [40:37<2:05:26,  1.97s/it]"
          ]
        },
        {
          "metadata": {
            "tags": null
          },
          "name": "stdout",
          "output_type": "stream",
          "text": [
            "training loss: 1.5748764276504517\n",
            "training loss: 1.4485236406326294\n",
            "training loss: 1.621820092201233\n",
            "training loss: 1.5843995809555054\n",
            "training loss: 1.6237022876739502\n",
            "training loss: 1.5073460340499878\n"
          ]
        },
        {
          "metadata": {
            "tags": null
          },
          "name": "stderr",
          "output_type": "stream",
          "text": [
            "\rtraining:  24%|██▍       | 1193/5000 [40:49<2:05:14,  1.97s/it]"
          ]
        },
        {
          "metadata": {
            "tags": null
          },
          "name": "stdout",
          "output_type": "stream",
          "text": [
            "training loss: 1.6603983640670776\n",
            "training loss: 1.3722000122070312\n",
            "training loss: 1.7661892175674438\n",
            "training loss: 1.6103196144104004\n",
            "training loss: 1.556396245956421\n",
            "training loss: 1.6791267395019531\n"
          ]
        },
        {
          "metadata": {
            "tags": null
          },
          "name": "stderr",
          "output_type": "stream",
          "text": [
            "training:  24%|██▍       | 1199/5000 [41:01<2:05:02,  1.97s/it]"
          ]
        },
        {
          "metadata": {
            "tags": null
          },
          "name": "stdout",
          "output_type": "stream",
          "text": [
            "training loss: 1.5391581058502197\n",
            "training loss: 1.590839147567749\n",
            "training loss: 1.5513533353805542\n",
            "validation loss: 1.559837818145752\n",
            "training loss: 1.4883556365966797\n",
            "training loss: 1.5321391820907593\n",
            "training loss: 1.6741714477539062\n"
          ]
        },
        {
          "metadata": {
            "tags": null
          },
          "name": "stderr",
          "output_type": "stream",
          "text": [
            "\rtraining:  24%|██▍       | 1205/5000 [41:13<2:05:27,  1.98s/it]"
          ]
        },
        {
          "metadata": {
            "tags": null
          },
          "name": "stdout",
          "output_type": "stream",
          "text": [
            "training loss: 1.5962272882461548\n",
            "training loss: 1.6237998008728027\n",
            "training loss: 1.5535187721252441\n",
            "training loss: 1.5309256315231323\n",
            "training loss: 1.7017048597335815\n",
            "training loss: 1.3931753635406494\n"
          ]
        },
        {
          "metadata": {
            "tags": null
          },
          "name": "stderr",
          "output_type": "stream",
          "text": [
            "\rtraining:  24%|██▍       | 1211/5000 [41:25<2:05:04,  1.98s/it]"
          ]
        },
        {
          "metadata": {
            "tags": null
          },
          "name": "stdout",
          "output_type": "stream",
          "text": [
            "training loss: 1.6262599229812622\n",
            "training loss: 1.6817028522491455\n",
            "training loss: 1.5292514562606812\n",
            "training loss: 1.6538006067276\n",
            "training loss: 1.5065115690231323\n",
            "training loss: 1.599472999572754\n"
          ]
        },
        {
          "metadata": {
            "tags": null
          },
          "name": "stderr",
          "output_type": "stream",
          "text": [
            "\rtraining:  24%|██▍       | 1217/5000 [41:37<2:04:44,  1.98s/it]"
          ]
        },
        {
          "metadata": {
            "tags": null
          },
          "name": "stdout",
          "output_type": "stream",
          "text": [
            "training loss: 1.602949857711792\n",
            "training loss: 1.7426917552947998\n",
            "training loss: 1.532560110092163\n",
            "training loss: 1.615360140800476\n",
            "training loss: 1.5934561491012573\n",
            "training loss: 1.5088200569152832\n"
          ]
        },
        {
          "metadata": {
            "tags": null
          },
          "name": "stderr",
          "output_type": "stream",
          "text": [
            "\rtraining:  24%|██▍       | 1223/5000 [41:49<2:04:27,  1.98s/it]"
          ]
        },
        {
          "metadata": {
            "tags": null
          },
          "name": "stdout",
          "output_type": "stream",
          "text": [
            "training loss: 1.457650065422058\n",
            "training loss: 1.6400226354599\n",
            "training loss: 1.475854754447937\n",
            "training loss: 1.4351531267166138\n",
            "training loss: 1.5569652318954468\n",
            "training loss: 1.4619781970977783\n"
          ]
        },
        {
          "metadata": {
            "tags": null
          },
          "name": "stderr",
          "output_type": "stream",
          "text": [
            "training:  25%|██▍       | 1229/5000 [42:00<2:04:11,  1.98s/it]"
          ]
        },
        {
          "metadata": {
            "tags": null
          },
          "name": "stdout",
          "output_type": "stream",
          "text": [
            "training loss: 1.6918904781341553\n",
            "training loss: 1.529468297958374\n",
            "training loss: 1.6424401998519897\n",
            "training loss: 1.5897446870803833\n",
            "training loss: 1.3985787630081177\n",
            "training loss: 1.581916332244873\n"
          ]
        },
        {
          "metadata": {
            "tags": null
          },
          "name": "stderr",
          "output_type": "stream",
          "text": [
            "\rtraining:  25%|██▍       | 1235/5000 [42:12<2:03:57,  1.98s/it]"
          ]
        },
        {
          "metadata": {
            "tags": null
          },
          "name": "stdout",
          "output_type": "stream",
          "text": [
            "training loss: 1.2165189981460571\n",
            "training loss: 1.762321949005127\n",
            "training loss: 1.5678746700286865\n",
            "training loss: 1.5524042844772339\n",
            "training loss: 1.506740927696228\n",
            "training loss: 1.4667760133743286\n"
          ]
        },
        {
          "metadata": {
            "tags": null
          },
          "name": "stderr",
          "output_type": "stream",
          "text": [
            "\rtraining:  25%|██▍       | 1241/5000 [42:24<2:03:43,  1.97s/it]"
          ]
        },
        {
          "metadata": {
            "tags": null
          },
          "name": "stdout",
          "output_type": "stream",
          "text": [
            "training loss: 1.591025948524475\n",
            "training loss: 1.5580874681472778\n",
            "training loss: 1.5020747184753418\n",
            "training loss: 1.6132164001464844\n",
            "training loss: 1.5881836414337158\n",
            "training loss: 1.6228810548782349\n"
          ]
        },
        {
          "metadata": {
            "tags": null
          },
          "name": "stderr",
          "output_type": "stream",
          "text": [
            "\rtraining:  25%|██▍       | 1247/5000 [42:36<2:03:29,  1.97s/it]"
          ]
        },
        {
          "metadata": {
            "tags": null
          },
          "name": "stdout",
          "output_type": "stream",
          "text": [
            "training loss: 1.4653533697128296\n",
            "training loss: 1.604844093322754\n",
            "training loss: 1.594157338142395\n",
            "training loss: 1.5673801898956299\n",
            "training loss: 1.5719109773635864\n",
            "training loss: 1.7630953788757324\n"
          ]
        },
        {
          "metadata": {
            "tags": null
          },
          "name": "stderr",
          "output_type": "stream",
          "text": [
            "\rtraining:  25%|██▌       | 1253/5000 [42:48<2:03:16,  1.97s/it]"
          ]
        },
        {
          "metadata": {
            "tags": null
          },
          "name": "stdout",
          "output_type": "stream",
          "text": [
            "training loss: 1.7331537008285522\n",
            "training loss: 1.5800726413726807\n",
            "training loss: 1.5642036199569702\n",
            "training loss: 1.6107269525527954\n",
            "training loss: 1.807936191558838\n",
            "training loss: 1.5998355150222778\n"
          ]
        },
        {
          "metadata": {
            "tags": null
          },
          "name": "stderr",
          "output_type": "stream",
          "text": [
            "\rtraining:  25%|██▌       | 1259/5000 [43:00<2:03:04,  1.97s/it]"
          ]
        },
        {
          "metadata": {
            "tags": null
          },
          "name": "stdout",
          "output_type": "stream",
          "text": [
            "training loss: 1.5888608694076538\n",
            "training loss: 1.5119935274124146\n",
            "training loss: 1.599226474761963\n",
            "training loss: 1.6913098096847534\n",
            "training loss: 1.5257893800735474\n"
          ]
        },
        {
          "metadata": {
            "tags": null
          },
          "name": "stderr",
          "output_type": "stream",
          "text": [
            "\rtraining:  25%|██▌       | 1259/5000 [43:10<2:03:04,  1.97s/it]"
          ]
        },
        {
          "metadata": {
            "tags": null
          },
          "name": "stdout",
          "output_type": "stream",
          "text": [
            "training loss: 1.6150671243667603\n"
          ]
        },
        {
          "metadata": {
            "tags": null
          },
          "name": "stderr",
          "output_type": "stream",
          "text": [
            "\rtraining:  25%|██▌       | 1265/5000 [43:11<2:02:52,  1.97s/it]"
          ]
        },
        {
          "metadata": {
            "tags": null
          },
          "name": "stdout",
          "output_type": "stream",
          "text": [
            "training loss: 1.6412867307662964\n",
            "training loss: 1.5904548168182373\n",
            "training loss: 1.5746935606002808\n",
            "training loss: 1.5594819784164429\n",
            "training loss: 1.442103624343872\n",
            "training loss: 1.5000280141830444\n"
          ]
        },
        {
          "metadata": {
            "tags": null
          },
          "name": "stderr",
          "output_type": "stream",
          "text": [
            "\rtraining:  25%|██▌       | 1271/5000 [43:23<2:02:40,  1.97s/it]"
          ]
        },
        {
          "metadata": {
            "tags": null
          },
          "name": "stdout",
          "output_type": "stream",
          "text": [
            "training loss: 1.621389627456665\n",
            "training loss: 1.709855318069458\n",
            "training loss: 1.6100850105285645\n",
            "training loss: 1.5708444118499756\n",
            "training loss: 1.3442788124084473\n",
            "training loss: 1.5456780195236206\n"
          ]
        },
        {
          "metadata": {
            "tags": null
          },
          "name": "stderr",
          "output_type": "stream",
          "text": [
            "\rtraining:  26%|██▌       | 1277/5000 [43:35<2:02:29,  1.97s/it]"
          ]
        },
        {
          "metadata": {
            "tags": null
          },
          "name": "stdout",
          "output_type": "stream",
          "text": [
            "training loss: 1.5334287881851196\n",
            "training loss: 1.5837396383285522\n",
            "training loss: 1.612614393234253\n",
            "training loss: 1.5234359502792358\n",
            "training loss: 1.5699236392974854\n",
            "training loss: 1.4876350164413452\n"
          ]
        },
        {
          "metadata": {
            "tags": null
          },
          "name": "stderr",
          "output_type": "stream",
          "text": [
            "\rtraining:  26%|██▌       | 1283/5000 [43:47<2:02:16,  1.97s/it]"
          ]
        },
        {
          "metadata": {
            "tags": null
          },
          "name": "stdout",
          "output_type": "stream",
          "text": [
            "training loss: 1.5394514799118042\n",
            "training loss: 1.5783833265304565\n",
            "training loss: 1.5904934406280518\n",
            "training loss: 1.503765344619751\n",
            "training loss: 1.5427281856536865\n",
            "training loss: 1.5067671537399292\n"
          ]
        },
        {
          "metadata": {
            "tags": null
          },
          "name": "stderr",
          "output_type": "stream",
          "text": [
            "\rtraining:  26%|██▌       | 1289/5000 [43:59<2:02:04,  1.97s/it]"
          ]
        },
        {
          "metadata": {
            "tags": null
          },
          "name": "stdout",
          "output_type": "stream",
          "text": [
            "training loss: 1.4868451356887817\n",
            "training loss: 1.384900450706482\n",
            "training loss: 1.4828852415084839\n",
            "training loss: 1.5985307693481445\n",
            "training loss: 1.5618005990982056\n",
            "training loss: 1.708517074584961\n"
          ]
        },
        {
          "metadata": {
            "tags": null
          },
          "name": "stderr",
          "output_type": "stream",
          "text": [
            "training:  26%|██▌       | 1295/5000 [44:11<2:01:52,  1.97s/it]"
          ]
        },
        {
          "metadata": {
            "tags": null
          },
          "name": "stdout",
          "output_type": "stream",
          "text": [
            "training loss: 1.5148659944534302\n",
            "training loss: 1.5734089612960815\n",
            "training loss: 1.4769365787506104\n",
            "training loss: 1.5131970643997192\n",
            "training loss: 1.5680464506149292\n",
            "training loss: 1.6329830884933472\n",
            "training loss: 1.8117502927780151\n"
          ]
        },
        {
          "metadata": {
            "tags": null
          },
          "name": "stderr",
          "output_type": "stream",
          "text": [
            "\rtraining:  26%|██▌       | 1301/5000 [44:23<2:02:15,  1.98s/it]"
          ]
        },
        {
          "metadata": {
            "tags": null
          },
          "name": "stdout",
          "output_type": "stream",
          "text": [
            "validation loss: 1.4094914197921753\n",
            "training loss: 1.464032530784607\n",
            "training loss: 1.5527952909469604\n",
            "training loss: 1.5472123622894287\n",
            "training loss: 1.5602625608444214\n",
            "training loss: 1.5025445222854614\n"
          ]
        },
        {
          "metadata": {
            "tags": null
          },
          "name": "stderr",
          "output_type": "stream",
          "text": [
            "\rtraining:  26%|██▌       | 1307/5000 [44:34<2:01:52,  1.98s/it]"
          ]
        },
        {
          "metadata": {
            "tags": null
          },
          "name": "stdout",
          "output_type": "stream",
          "text": [
            "training loss: 1.5415639877319336\n",
            "training loss: 1.5365809202194214\n",
            "training loss: 1.6134625673294067\n",
            "training loss: 1.6735607385635376\n",
            "training loss: 1.5441120862960815\n",
            "training loss: 1.731644868850708\n"
          ]
        },
        {
          "metadata": {
            "tags": null
          },
          "name": "stderr",
          "output_type": "stream",
          "text": [
            "\rtraining:  26%|██▋       | 1313/5000 [44:46<2:01:33,  1.98s/it]"
          ]
        },
        {
          "metadata": {
            "tags": null
          },
          "name": "stdout",
          "output_type": "stream",
          "text": [
            "training loss: 1.5514769554138184\n",
            "training loss: 1.235770583152771\n",
            "training loss: 1.564746379852295\n",
            "training loss: 1.5289047956466675\n",
            "training loss: 1.443444848060608\n",
            "training loss: 1.6063477993011475\n"
          ]
        },
        {
          "metadata": {
            "tags": null
          },
          "name": "stderr",
          "output_type": "stream",
          "text": [
            "\rtraining:  26%|██▋       | 1319/5000 [44:58<2:01:16,  1.98s/it]"
          ]
        },
        {
          "metadata": {
            "tags": null
          },
          "name": "stdout",
          "output_type": "stream",
          "text": [
            "training loss: 1.5372623205184937\n",
            "training loss: 1.6919797658920288\n",
            "training loss: 1.5133012533187866\n",
            "training loss: 1.5502498149871826\n",
            "training loss: 1.6089200973510742\n",
            "training loss: 1.4979952573776245\n"
          ]
        },
        {
          "metadata": {
            "tags": null
          },
          "name": "stderr",
          "output_type": "stream",
          "text": [
            "training:  26%|██▋       | 1325/5000 [45:10<2:01:01,  1.98s/it]"
          ]
        },
        {
          "metadata": {
            "tags": null
          },
          "name": "stdout",
          "output_type": "stream",
          "text": [
            "training loss: 1.526092290878296\n",
            "training loss: 1.5013052225112915\n",
            "training loss: 1.5136979818344116\n",
            "training loss: 1.7717798948287964\n",
            "training loss: 1.4255050420761108\n",
            "training loss: 1.5085097551345825\n"
          ]
        },
        {
          "metadata": {
            "tags": null
          },
          "name": "stderr",
          "output_type": "stream",
          "text": [
            "\rtraining:  27%|██▋       | 1331/5000 [45:22<2:00:47,  1.98s/it]"
          ]
        },
        {
          "metadata": {
            "tags": null
          },
          "name": "stdout",
          "output_type": "stream",
          "text": [
            "training loss: 1.7202516794204712\n",
            "training loss: 1.4058645963668823\n",
            "training loss: 1.5991464853286743\n",
            "training loss: 1.5006762742996216\n",
            "training loss: 1.5385373830795288\n",
            "training loss: 1.6446257829666138\n"
          ]
        },
        {
          "metadata": {
            "tags": null
          },
          "name": "stderr",
          "output_type": "stream",
          "text": [
            "\rtraining:  27%|██▋       | 1337/5000 [45:34<2:00:33,  1.97s/it]"
          ]
        },
        {
          "metadata": {
            "tags": null
          },
          "name": "stdout",
          "output_type": "stream",
          "text": [
            "training loss: 1.6103737354278564\n",
            "training loss: 1.567409873008728\n",
            "training loss: 1.5730061531066895\n",
            "training loss: 1.6429762840270996\n",
            "training loss: 1.5127846002578735\n",
            "training loss: 1.5975924730300903\n"
          ]
        },
        {
          "metadata": {
            "tags": null
          },
          "name": "stderr",
          "output_type": "stream",
          "text": [
            "\rtraining:  27%|██▋       | 1343/5000 [45:46<2:00:20,  1.97s/it]"
          ]
        },
        {
          "metadata": {
            "tags": null
          },
          "name": "stdout",
          "output_type": "stream",
          "text": [
            "training loss: 1.5118038654327393\n",
            "training loss: 1.5184228420257568\n",
            "training loss: 1.4207900762557983\n",
            "training loss: 1.6478683948516846\n",
            "training loss: 1.4775917530059814\n",
            "training loss: 1.4910614490509033\n"
          ]
        },
        {
          "metadata": {
            "tags": null
          },
          "name": "stderr",
          "output_type": "stream",
          "text": [
            "\rtraining:  27%|██▋       | 1349/5000 [45:57<2:00:08,  1.97s/it]"
          ]
        },
        {
          "metadata": {
            "tags": null
          },
          "name": "stdout",
          "output_type": "stream",
          "text": [
            "training loss: 1.5764371156692505\n",
            "training loss: 1.3973667621612549\n",
            "training loss: 1.4826799631118774\n",
            "training loss: 1.5344140529632568\n",
            "training loss: 1.6725393533706665\n",
            "training loss: 1.8153443336486816\n"
          ]
        },
        {
          "metadata": {
            "tags": null
          },
          "name": "stderr",
          "output_type": "stream",
          "text": [
            "\rtraining:  27%|██▋       | 1355/5000 [46:09<1:59:55,  1.97s/it]"
          ]
        },
        {
          "metadata": {
            "tags": null
          },
          "name": "stdout",
          "output_type": "stream",
          "text": [
            "training loss: 1.5121452808380127\n",
            "training loss: 1.4928256273269653\n",
            "training loss: 1.5814157724380493\n",
            "training loss: 1.4833287000656128\n",
            "training loss: 1.5206722021102905\n",
            "training loss: 1.6222044229507446\n"
          ]
        },
        {
          "metadata": {
            "tags": null
          },
          "name": "stderr",
          "output_type": "stream",
          "text": [
            "training:  27%|██▋       | 1361/5000 [46:21<1:59:42,  1.97s/it]"
          ]
        },
        {
          "metadata": {
            "tags": null
          },
          "name": "stdout",
          "output_type": "stream",
          "text": [
            "training loss: 1.6297370195388794\n",
            "training loss: 1.494359016418457\n",
            "training loss: 1.8976020812988281\n",
            "training loss: 1.6746189594268799\n",
            "training loss: 1.5858843326568604\n",
            "training loss: 1.6014496088027954\n"
          ]
        },
        {
          "metadata": {
            "tags": null
          },
          "name": "stderr",
          "output_type": "stream",
          "text": [
            "\rtraining:  27%|██▋       | 1367/5000 [46:33<1:59:29,  1.97s/it]"
          ]
        },
        {
          "metadata": {
            "tags": null
          },
          "name": "stdout",
          "output_type": "stream",
          "text": [
            "training loss: 1.6437994241714478\n",
            "training loss: 1.5688608884811401\n",
            "training loss: 1.5045233964920044\n",
            "training loss: 1.5762290954589844\n",
            "training loss: 1.4723787307739258\n",
            "training loss: 1.480824589729309\n"
          ]
        },
        {
          "metadata": {
            "tags": null
          },
          "name": "stderr",
          "output_type": "stream",
          "text": [
            "\rtraining:  27%|██▋       | 1373/5000 [46:45<1:59:18,  1.97s/it]"
          ]
        },
        {
          "metadata": {
            "tags": null
          },
          "name": "stdout",
          "output_type": "stream",
          "text": [
            "training loss: 1.634852409362793\n",
            "training loss: 1.4999126195907593\n",
            "training loss: 1.4994196891784668\n",
            "training loss: 1.538645625114441\n",
            "training loss: 1.5811446905136108\n",
            "training loss: 1.5354671478271484\n"
          ]
        },
        {
          "metadata": {
            "tags": null
          },
          "name": "stderr",
          "output_type": "stream",
          "text": [
            "\rtraining:  28%|██▊       | 1379/5000 [46:57<1:59:06,  1.97s/it]"
          ]
        },
        {
          "metadata": {
            "tags": null
          },
          "name": "stdout",
          "output_type": "stream",
          "text": [
            "training loss: 1.4630966186523438\n",
            "training loss: 1.5106735229492188\n",
            "training loss: 1.5237795114517212\n",
            "training loss: 1.6367666721343994\n",
            "training loss: 1.4991974830627441\n",
            "training loss: 1.6426748037338257\n"
          ]
        },
        {
          "metadata": {
            "tags": null
          },
          "name": "stderr",
          "output_type": "stream",
          "text": [
            "\rtraining:  28%|██▊       | 1385/5000 [47:08<1:58:55,  1.97s/it]"
          ]
        },
        {
          "metadata": {
            "tags": null
          },
          "name": "stdout",
          "output_type": "stream",
          "text": [
            "training loss: 1.4719173908233643\n",
            "training loss: 1.5959278345108032\n",
            "training loss: 1.550972580909729\n",
            "training loss: 1.542934775352478\n",
            "training loss: 1.409529447555542\n",
            "training loss: 1.6479524374008179\n"
          ]
        },
        {
          "metadata": {
            "tags": null
          },
          "name": "stderr",
          "output_type": "stream",
          "text": [
            "training:  28%|██▊       | 1391/5000 [47:20<1:58:42,  1.97s/it]"
          ]
        },
        {
          "metadata": {
            "tags": null
          },
          "name": "stdout",
          "output_type": "stream",
          "text": [
            "training loss: 1.5753120183944702\n",
            "training loss: 1.6416938304901123\n",
            "training loss: 1.6042931079864502\n",
            "training loss: 1.5091794729232788\n",
            "training loss: 1.6114143133163452\n",
            "training loss: 1.4935414791107178\n"
          ]
        },
        {
          "metadata": {
            "tags": null
          },
          "name": "stderr",
          "output_type": "stream",
          "text": [
            "\rtraining:  28%|██▊       | 1397/5000 [47:32<1:58:30,  1.97s/it]"
          ]
        },
        {
          "metadata": {
            "tags": null
          },
          "name": "stdout",
          "output_type": "stream",
          "text": [
            "training loss: 1.569008708000183\n",
            "training loss: 1.4862931966781616\n",
            "training loss: 1.5266767740249634\n",
            "training loss: 1.635496735572815\n",
            "training loss: 1.6709610223770142\n",
            "validation loss: 1.4747240543365479\n",
            "training loss: 1.4620095491409302\n"
          ]
        },
        {
          "metadata": {
            "tags": null
          },
          "name": "stderr",
          "output_type": "stream",
          "text": [
            "\rtraining:  28%|██▊       | 1403/5000 [47:44<1:58:53,  1.98s/it]"
          ]
        },
        {
          "metadata": {
            "tags": null
          },
          "name": "stdout",
          "output_type": "stream",
          "text": [
            "training loss: 1.6312682628631592\n",
            "training loss: 1.5631961822509766\n",
            "training loss: 1.602840781211853\n",
            "training loss: 1.4964566230773926\n",
            "training loss: 1.512283444404602\n",
            "training loss: 1.4175305366516113\n"
          ]
        },
        {
          "metadata": {
            "tags": null
          },
          "name": "stderr",
          "output_type": "stream",
          "text": [
            "\rtraining:  28%|██▊       | 1409/5000 [47:56<1:58:31,  1.98s/it]"
          ]
        },
        {
          "metadata": {
            "tags": null
          },
          "name": "stdout",
          "output_type": "stream",
          "text": [
            "training loss: 1.5191473960876465\n",
            "training loss: 1.4827675819396973\n",
            "training loss: 1.5623486042022705\n",
            "training loss: 1.535521388053894\n",
            "training loss: 1.5415841341018677\n",
            "training loss: 1.5234756469726562\n"
          ]
        },
        {
          "metadata": {
            "tags": null
          },
          "name": "stderr",
          "output_type": "stream",
          "text": [
            "\rtraining:  28%|██▊       | 1415/5000 [48:08<1:58:12,  1.98s/it]"
          ]
        },
        {
          "metadata": {
            "tags": null
          },
          "name": "stdout",
          "output_type": "stream",
          "text": [
            "training loss: 1.5029892921447754\n",
            "training loss: 1.4434998035430908\n",
            "training loss: 1.5358859300613403\n",
            "training loss: 1.5762511491775513\n",
            "training loss: 1.4476814270019531\n",
            "training loss: 1.4966813325881958\n"
          ]
        },
        {
          "metadata": {
            "tags": null
          },
          "name": "stderr",
          "output_type": "stream",
          "text": [
            "training:  28%|██▊       | 1421/5000 [48:20<1:57:55,  1.98s/it]"
          ]
        },
        {
          "metadata": {
            "tags": null
          },
          "name": "stdout",
          "output_type": "stream",
          "text": [
            "training loss: 1.5708048343658447\n",
            "training loss: 1.4637774229049683\n",
            "training loss: 1.5310055017471313\n",
            "training loss: 1.4585306644439697\n",
            "training loss: 1.5019270181655884\n",
            "training loss: 1.5103081464767456\n"
          ]
        },
        {
          "metadata": {
            "tags": null
          },
          "name": "stderr",
          "output_type": "stream",
          "text": [
            "\rtraining:  29%|██▊       | 1427/5000 [48:32<1:57:39,  1.98s/it]"
          ]
        },
        {
          "metadata": {
            "tags": null
          },
          "name": "stdout",
          "output_type": "stream",
          "text": [
            "training loss: 1.5563886165618896\n",
            "training loss: 1.5974242687225342\n",
            "training loss: 1.5020687580108643\n",
            "training loss: 1.380323052406311\n",
            "training loss: 1.6122801303863525\n",
            "training loss: 1.5119906663894653\n"
          ]
        },
        {
          "metadata": {
            "tags": null
          },
          "name": "stderr",
          "output_type": "stream",
          "text": [
            "\rtraining:  29%|██▊       | 1433/5000 [48:43<1:57:24,  1.98s/it]"
          ]
        },
        {
          "metadata": {
            "tags": null
          },
          "name": "stdout",
          "output_type": "stream",
          "text": [
            "training loss: 1.2516783475875854\n",
            "training loss: 1.4818402528762817\n",
            "training loss: 1.4964184761047363\n",
            "training loss: 1.6004630327224731\n",
            "training loss: 1.4719197750091553\n",
            "training loss: 1.4995652437210083\n"
          ]
        },
        {
          "metadata": {
            "tags": null
          },
          "name": "stderr",
          "output_type": "stream",
          "text": [
            "\rtraining:  29%|██▉       | 1439/5000 [48:55<1:57:11,  1.97s/it]"
          ]
        },
        {
          "metadata": {
            "tags": null
          },
          "name": "stdout",
          "output_type": "stream",
          "text": [
            "training loss: 1.4661600589752197\n",
            "training loss: 1.6739274263381958\n",
            "training loss: 1.494661569595337\n",
            "training loss: 1.6409313678741455\n",
            "training loss: 1.544927954673767\n",
            "training loss: 1.6107401847839355\n"
          ]
        },
        {
          "metadata": {
            "tags": null
          },
          "name": "stderr",
          "output_type": "stream",
          "text": [
            "\rtraining:  29%|██▉       | 1445/5000 [49:07<1:56:59,  1.97s/it]"
          ]
        },
        {
          "metadata": {
            "tags": null
          },
          "name": "stdout",
          "output_type": "stream",
          "text": [
            "training loss: 1.5081614255905151\n",
            "training loss: 1.4900763034820557\n",
            "training loss: 1.5641987323760986\n",
            "training loss: 1.5112513303756714\n",
            "training loss: 1.5454363822937012\n",
            "training loss: 1.587247371673584\n"
          ]
        },
        {
          "metadata": {
            "tags": null
          },
          "name": "stderr",
          "output_type": "stream",
          "text": [
            "\rtraining:  29%|██▉       | 1451/5000 [49:19<1:56:46,  1.97s/it]"
          ]
        },
        {
          "metadata": {
            "tags": null
          },
          "name": "stdout",
          "output_type": "stream",
          "text": [
            "training loss: 1.4415946006774902\n",
            "training loss: 1.5320168733596802\n",
            "training loss: 1.5555596351623535\n",
            "training loss: 1.576426386833191\n",
            "training loss: 1.7155499458312988\n",
            "training loss: 1.5363579988479614\n"
          ]
        },
        {
          "metadata": {
            "tags": null
          },
          "name": "stderr",
          "output_type": "stream",
          "text": [
            "training:  29%|██▉       | 1457/5000 [49:31<1:56:33,  1.97s/it]"
          ]
        },
        {
          "metadata": {
            "tags": null
          },
          "name": "stdout",
          "output_type": "stream",
          "text": [
            "training loss: 1.5983202457427979\n",
            "training loss: 1.5152640342712402\n",
            "training loss: 1.5413174629211426\n",
            "training loss: 1.4523371458053589\n",
            "training loss: 1.5440744161605835\n",
            "training loss: 1.5458909273147583\n"
          ]
        },
        {
          "metadata": {
            "tags": null
          },
          "name": "stderr",
          "output_type": "stream",
          "text": [
            "\rtraining:  29%|██▉       | 1463/5000 [49:43<1:56:21,  1.97s/it]"
          ]
        },
        {
          "metadata": {
            "tags": null
          },
          "name": "stdout",
          "output_type": "stream",
          "text": [
            "training loss: 1.6047030687332153\n",
            "training loss: 1.5055556297302246\n",
            "training loss: 1.5998226404190063\n",
            "training loss: 1.5424634218215942\n",
            "training loss: 1.547296166419983\n",
            "training loss: 1.5843114852905273\n"
          ]
        },
        {
          "metadata": {
            "tags": null
          },
          "name": "stderr",
          "output_type": "stream",
          "text": [
            "\rtraining:  29%|██▉       | 1469/5000 [49:54<1:56:08,  1.97s/it]"
          ]
        },
        {
          "metadata": {
            "tags": null
          },
          "name": "stdout",
          "output_type": "stream",
          "text": [
            "training loss: 1.6470087766647339\n",
            "training loss: 1.5608398914337158\n",
            "training loss: 1.617280125617981\n",
            "training loss: 1.535747766494751\n",
            "training loss: 1.6265735626220703\n",
            "training loss: 1.4844114780426025\n"
          ]
        },
        {
          "metadata": {
            "tags": null
          },
          "name": "stderr",
          "output_type": "stream",
          "text": [
            "\rtraining:  30%|██▉       | 1475/5000 [50:06<1:55:56,  1.97s/it]"
          ]
        },
        {
          "metadata": {
            "tags": null
          },
          "name": "stdout",
          "output_type": "stream",
          "text": [
            "training loss: 1.5194746255874634\n",
            "training loss: 1.4119752645492554\n",
            "training loss: 1.4622169733047485\n",
            "training loss: 1.4762318134307861\n",
            "training loss: 1.5011476278305054\n",
            "training loss: 1.8086055517196655\n"
          ]
        },
        {
          "metadata": {
            "tags": null
          },
          "name": "stderr",
          "output_type": "stream",
          "text": [
            "\rtraining:  30%|██▉       | 1481/5000 [50:18<1:55:44,  1.97s/it]"
          ]
        },
        {
          "metadata": {
            "tags": null
          },
          "name": "stdout",
          "output_type": "stream",
          "text": [
            "training loss: 1.547850251197815\n",
            "training loss: 1.5565685033798218\n",
            "training loss: 1.6208895444869995\n",
            "training loss: 1.54793381690979\n",
            "training loss: 1.5049625635147095\n",
            "training loss: 1.4882607460021973\n"
          ]
        },
        {
          "metadata": {
            "tags": null
          },
          "name": "stderr",
          "output_type": "stream",
          "text": [
            "training:  30%|██▉       | 1487/5000 [50:30<1:55:32,  1.97s/it]"
          ]
        },
        {
          "metadata": {
            "tags": null
          },
          "name": "stdout",
          "output_type": "stream",
          "text": [
            "training loss: 1.4502848386764526\n",
            "training loss: 1.5763893127441406\n",
            "training loss: 1.4816535711288452\n",
            "training loss: 1.484412670135498\n",
            "training loss: 1.547305941581726\n",
            "training loss: 1.507360816001892\n"
          ]
        },
        {
          "metadata": {
            "tags": null
          },
          "name": "stderr",
          "output_type": "stream",
          "text": [
            "\rtraining:  30%|██▉       | 1493/5000 [50:42<1:55:21,  1.97s/it]"
          ]
        },
        {
          "metadata": {
            "tags": null
          },
          "name": "stdout",
          "output_type": "stream",
          "text": [
            "training loss: 1.483106017112732\n",
            "training loss: 1.7785958051681519\n",
            "training loss: 1.5055506229400635\n",
            "training loss: 1.5693975687026978\n",
            "training loss: 1.4935246706008911\n",
            "training loss: 1.505363941192627\n"
          ]
        },
        {
          "metadata": {
            "tags": null
          },
          "name": "stderr",
          "output_type": "stream",
          "text": [
            "\rtraining:  30%|██▉       | 1499/5000 [50:54<1:55:10,  1.97s/it]"
          ]
        },
        {
          "metadata": {
            "tags": null
          },
          "name": "stdout",
          "output_type": "stream",
          "text": [
            "training loss: 1.7008265256881714\n",
            "training loss: 1.4828859567642212\n",
            "training loss: 1.4919136762619019\n",
            "validation loss: 1.4811040163040161\n",
            "%s \n",
            "\n",
            " %s ('Italia]] [[ro:Italia]] [[ru:Ð\\x98Ñ\\x82Ð°Ð»Ð¸Ñ\\x8f]] [[sa:à¤\\x87à¤\\x9fà¤²à¥\\x80]] [[sc:ItÃ\\xa0lia]] [[scn:Italia]] [[sh:Italija]] [[simple:Italy]] [[sk:Taliansko]] [[sl:Italija]] [[sq:Italia]] [[sr:Ð\\x98Ñ\\x82Ð°Ð»Ð¸Ñ\\x98Ð°]] [[sv:Italien]] [[ta:à®\\x87à®¤à¯\\x8dà®¤à®¾à®²à®¿]] [[th:à¸\\x9bà¸£à¸°à¹\\x80à¸\\x97à¸¨à¸\\xadà¸´à¸\\x95à¸²à¸¥à¸µ]] [[tl:Italya]] [[tr:Ä°talya]] [[uk:Ð\\x86Ñ\\x82Ð°Ð»Ñ\\x96Ñ\\x8f]] [[ur:Ø§Ù¹Ù\\x84Û\\x8c]] [[vec:ItaÅ\\x82ia]] [[vi:Ã\\x9d]] [[yi:×\\x90×\\x99×\\x98×\\x90Ö·×\\x9c×\\x99×¢]] [[zh:æ\\x84\\x8få¤§å\\x88©]] [[zh-min-nan:Italia]]</text>     </revision>   </page>   <page>     <title>India</title>     <id>14533</id>     <restrictions>move=:edit=</restrictions>     <revision>       <id>42103953</id>       <timestamp>2006-03-03T21:25:06Z</timestamp>       <contributor>         <username>Rama\\'s Arrow</username>         <id>591624</id>       </contributor>       <comment>/* History */ grammar</comment>       <text xml:space=\"preserve\">{{Infobox Country| native_name = Republic of India &lt;br /&gt;à¤\\xadà¤¾à¤°à¤¤ à¤\\x97à¤£à¤°à¤¾à¤\\x9cà¥\\x8dà¤¯&lt;br /&gt; Bh{{Unicode|Ä\\x81}}rat Ga{{Unicode|á¹\\x87}}ar{{Unicode|Ä\\x81}}jya&lt;!-- IF YOU CANNOT SEE THE \\'N\\' UPGRADE YOUR BROWSER --&gt;| common_name = India|the=| image_flag = Flag of India.svg | image_coat = EmblemofIndia-small.png | national_motto = [[Satyameva Jayate]]&lt;br /&gt; [[Sanskrit]]: à¤¸à¤¤à¥\\x8dà¤¯à¤®à¥\\x87à¤µ à¤\\x9cà¤¯à¤¤à¥\\x87 &lt;br&gt;{{IPA|/sÉ\\x99tyÉ\\x99meË\\x90vÉ\\x99 É\\x9fÉ\\x99jÉ\\x99teË\\x90/}}&lt;br /&gt; (Truth Alone Triumphs) | image_map = IndiaLocation.png | national_anthem = [[Jana Gana Mana]]&lt;br /&gt; [[Sanskrit]]: à¤\\x9cà¤¨ à¤\\x97à¤£ à¤®à¤¨ &lt;br&gt;{{IPA|/É\\x9fÉ\\x99nÉ\\x99 gÉ\\x99É³É\\x99 mÉ\\x99nÉ\\x99/}}| official_languages = [[Hindi]], [[English language|English]], and [[List of national languages of India|21 other languages]] | capital = [[New Delhi]] | latd = 28|latm=34|latNS=N|longd=77|longm=12|longEW=E | government_type = [[Federal republic]] | leader_titles = [[President of India|President]]&lt;br /&gt;[[Prime Minister of India|Prime Minister]] | leader_names = [[APJ Abdul Kalam]]&lt;br /&gt;[[Manmohan Singh|Dr. Manmohan Singh]] | largest_city = [[Mumbai]] (Bombay) | area = 3,287,590 | area_rank = 7th | area_magnitude = 1 E12 | percent_water = 9.56 | population_estimate = 1,112,225,812| population_estimate_year = 2006 | population_estimate_rank = 2nd | population_census = 1,027,000,000 | population_census_year = 2001 | population_density = 329 | population_density_rank = 19th | GDP_PPP_year = 2005 | GDP_PPP = $3.678 trillion | GDP_PPP_rank = 4th | GDP_PPP_per_capita = $3400 | GDP_PPP_per_capita_rank = 125th | HDI_year = 2003 | HDI = 0.602 | HDI_rank = 127th | HDI_category = &lt;font color=&quot;#FFCC00&quot;&gt;medium&lt;/font&gt; | sovereignty_type = [[Independence of India|Independence]] | established_events = &amp;nbsp;- Declared&lt;br /&gt;&amp;nbsp;- Republic | established_dates = From the [[United Kingdom]]&lt;br /&gt;[[1947-08-15]]&lt;br /&gt;[[1950-01-26]] | currency = [[Indian Rupee|Rupee]] (Rs.)&lt;sup&gt;1&lt;/sup&gt; | currency_code = INR | time_zone = [[Indian Standard Time|IST]] | utc_offset = +5:30 | time_zone_DST = not observed | utc_offset_DST = +5:30| cctld = [[.in]] | calling_code = 91 | footnotes = &lt;sup&gt;1&lt;/sup&gt; \\'\\'\\'Re.\\'\\'\\' is singular  }}  The \\'\\'\\'Republic of India\\'\\'\\' is a country in [[South Asia]] which comprises of the majority of the [[Indian subcontinent]]. It has a coastline of over seven thousand kilometres,{{inote|see Indian embassy|i-1}} borders [[Pakistan]] to the west, the [[People\\'s Republic of China]], [[Nepal]], and [[Bhutan]] to the northeast, and [[Bangladesh]] and [[Myanmar]] to the east. On the [[Indian Ocean]], it is adjacent to three [[island nation]]s â\\x80\\x94 the [[Maldives]] to the southwest, [[Sri Lanka]] to the south, and [[Indonesia]] to the southeast. India also claims a border with [[Afghanistan]] to the northwest.{{mn|afgh|1}}  The name \\'\\'India\\'\\' /{{IPA|\\'ÉªndiÉ\\x99}}/ is derived from the [[Old Persian]] version of \\'\\'[[Sindhu]]\\'\\', the historic local name for the [[Indus river]] (see [[Origin of India\\'s name]]). The [[Constitution of India]] and common usage also recognise \\'\\'\\'Bharat\\'\\'\\' ({{lang-hi|à¤\\xadà¤¾à¤°à¤¤}} {{IPA|/bÊ°É\\x91Ë\\x90rÉ\\x99tÌª/}} {{Audio|Bharat.ogg|listen}}) as an official name of e', '****************************************************************************************************')\n"
          ]
        },
        {
          "metadata": {
            "tags": null
          },
          "name": "stderr",
          "output_type": "stream",
          "text": [
            "training:  30%|███       | 1501/5000 [51:28<3:45:55,  3.87s/it]"
          ]
        },
        {
          "metadata": {
            "tags": null
          },
          "name": "stdout",
          "output_type": "stream",
          "text": [
            "nticle games. Support monthy and in the one. In the lip]] internationall's the algority of maxter on out creat design languages: (asking level) on is de [[1924 Judasico]] and [[Backore sper Emperor|Bryde]]'s ackway musembers where the [[Unite (contived somewhork)|Ihan (centre)|Barbout in Salitary (1866)|choriese basÃ³n troundarian day [[add]])==  Compariation claims, or doubalify '''[[Army 20]]''': ''Lammy'' (1 ''Chara'' - The demore of [[candson]] were the opened of differencial luncose first minding more \n",
            "training loss: 1.6209068298339844\n",
            "training loss: 1.4733279943466187\n",
            "training loss: 1.62369966506958\n",
            "training loss: 1.6825578212738037\n",
            "training loss: 1.5423343181610107\n"
          ]
        },
        {
          "metadata": {
            "tags": null
          },
          "name": "stderr",
          "output_type": "stream",
          "text": [
            "\rtraining:  30%|███       | 1507/5000 [51:40<3:06:56,  3.21s/it]"
          ]
        },
        {
          "metadata": {
            "tags": null
          },
          "name": "stdout",
          "output_type": "stream",
          "text": [
            "training loss: 1.6239246129989624\n",
            "training loss: 1.5825120210647583\n",
            "training loss: 1.3966299295425415\n",
            "training loss: 1.420445442199707\n",
            "training loss: 1.5659632682800293\n",
            "training loss: 1.5938827991485596\n"
          ]
        },
        {
          "metadata": {
            "tags": null
          },
          "name": "stderr",
          "output_type": "stream",
          "text": [
            "\rtraining:  30%|███       | 1513/5000 [51:52<2:42:41,  2.80s/it]"
          ]
        },
        {
          "metadata": {
            "tags": null
          },
          "name": "stdout",
          "output_type": "stream",
          "text": [
            "training loss: 1.5726656913757324\n",
            "training loss: 1.5713250637054443\n",
            "training loss: 1.5346572399139404\n",
            "training loss: 1.6139994859695435\n",
            "training loss: 1.5283550024032593\n",
            "training loss: 1.615329384803772\n"
          ]
        },
        {
          "metadata": {
            "tags": null
          },
          "name": "stderr",
          "output_type": "stream",
          "text": [
            "\rtraining:  30%|███       | 1519/5000 [52:03<2:26:58,  2.53s/it]"
          ]
        },
        {
          "metadata": {
            "tags": null
          },
          "name": "stdout",
          "output_type": "stream",
          "text": [
            "training loss: 1.4514693021774292\n",
            "training loss: 1.3528451919555664\n",
            "training loss: 1.5560632944107056\n",
            "training loss: 1.4022213220596313\n",
            "training loss: 1.567033052444458\n",
            "training loss: 1.5188583135604858\n"
          ]
        },
        {
          "metadata": {
            "tags": null
          },
          "name": "stderr",
          "output_type": "stream",
          "text": [
            "\rtraining:  30%|███       | 1525/5000 [52:15<2:16:30,  2.36s/it]"
          ]
        },
        {
          "metadata": {
            "tags": null
          },
          "name": "stdout",
          "output_type": "stream",
          "text": [
            "training loss: 1.5590033531188965\n",
            "training loss: 1.3935598134994507\n",
            "training loss: 1.550774097442627\n",
            "training loss: 1.5532582998275757\n",
            "training loss: 1.5402858257293701\n",
            "training loss: 1.5832470655441284\n"
          ]
        },
        {
          "metadata": {
            "tags": null
          },
          "name": "stderr",
          "output_type": "stream",
          "text": [
            "\rtraining:  31%|███       | 1531/5000 [52:27<2:09:22,  2.24s/it]"
          ]
        },
        {
          "metadata": {
            "tags": null
          },
          "name": "stdout",
          "output_type": "stream",
          "text": [
            "training loss: 1.5698204040527344\n",
            "training loss: 1.5341744422912598\n",
            "training loss: 1.5841292142868042\n",
            "training loss: 1.6718642711639404\n",
            "training loss: 1.5654557943344116\n",
            "training loss: 1.686432123184204\n"
          ]
        },
        {
          "metadata": {
            "tags": null
          },
          "name": "stderr",
          "output_type": "stream",
          "text": [
            "\rtraining:  31%|███       | 1537/5000 [52:39<2:04:28,  2.16s/it]"
          ]
        },
        {
          "output_type": "stream",
          "name": "stdout",
          "text": [
            "training loss: 1.5643070936203003\n",
            "training loss: 1.5509305000305176\n",
            "training loss: 1.5359455347061157\n",
            "training loss: 1.525083065032959\n",
            "training loss: 1.4221380949020386\n",
            "training loss: 1.5132269859313965\n"
          ]
        },
        {
          "output_type": "stream",
          "name": "stderr",
          "text": [
            "training:  31%|███       | 1543/5000 [52:51<2:01:01,  2.10s/it]"
          ]
        },
        {
          "output_type": "stream",
          "name": "stdout",
          "text": [
            "training loss: 1.5230849981307983\n",
            "training loss: 1.2264701128005981\n",
            "training loss: 1.5803804397583008\n",
            "training loss: 1.520231008529663\n",
            "training loss: 1.6541866064071655\n",
            "training loss: 1.4796504974365234\n"
          ]
        },
        {
          "output_type": "stream",
          "name": "stderr",
          "text": [
            "\rtraining:  31%|███       | 1549/5000 [53:03<1:58:36,  2.06s/it]"
          ]
        },
        {
          "output_type": "stream",
          "name": "stdout",
          "text": [
            "training loss: 1.6074004173278809\n",
            "training loss: 1.5525407791137695\n",
            "training loss: 1.4037333726882935\n",
            "training loss: 1.5768256187438965\n",
            "training loss: 1.7165607213974\n",
            "training loss: 1.4570538997650146\n"
          ]
        },
        {
          "output_type": "stream",
          "name": "stderr",
          "text": [
            "\rtraining:  31%|███       | 1555/5000 [53:15<1:56:51,  2.04s/it]"
          ]
        },
        {
          "output_type": "stream",
          "name": "stdout",
          "text": [
            "training loss: 1.4639122486114502\n",
            "training loss: 1.5078229904174805\n",
            "training loss: 1.5103471279144287\n",
            "training loss: 1.6129035949707031\n",
            "training loss: 1.543859601020813\n",
            "training loss: 1.3523197174072266\n"
          ]
        },
        {
          "output_type": "stream",
          "name": "stderr",
          "text": [
            "\rtraining:  31%|███       | 1561/5000 [53:26<1:55:34,  2.02s/it]"
          ]
        },
        {
          "output_type": "stream",
          "name": "stdout",
          "text": [
            "training loss: 1.5088874101638794\n",
            "training loss: 1.332417368888855\n",
            "training loss: 1.470089077949524\n",
            "training loss: 1.6345415115356445\n",
            "training loss: 1.5198562145233154\n",
            "training loss: 1.5067005157470703\n"
          ]
        },
        {
          "output_type": "stream",
          "name": "stderr",
          "text": [
            "\rtraining:  31%|███▏      | 1567/5000 [53:38<1:54:37,  2.00s/it]"
          ]
        },
        {
          "output_type": "stream",
          "name": "stdout",
          "text": [
            "training loss: 1.8691461086273193\n",
            "training loss: 1.684767484664917\n",
            "training loss: 1.5725414752960205\n",
            "training loss: 1.519290566444397\n",
            "training loss: 1.3243192434310913\n",
            "training loss: 1.413106083869934\n"
          ]
        },
        {
          "output_type": "stream",
          "name": "stderr",
          "text": [
            "training:  31%|███▏      | 1573/5000 [53:50<1:53:55,  1.99s/it]"
          ]
        },
        {
          "output_type": "stream",
          "name": "stdout",
          "text": [
            "training loss: 1.4533729553222656\n",
            "training loss: 1.736511468887329\n",
            "training loss: 1.6813935041427612\n",
            "training loss: 1.7878812551498413\n",
            "training loss: 1.5247833728790283\n",
            "training loss: 1.3709384202957153\n"
          ]
        },
        {
          "output_type": "stream",
          "name": "stderr",
          "text": [
            "\rtraining:  32%|███▏      | 1579/5000 [54:02<1:53:21,  1.99s/it]"
          ]
        },
        {
          "output_type": "stream",
          "name": "stdout",
          "text": [
            "training loss: 1.5755093097686768\n",
            "training loss: 1.5708975791931152\n",
            "training loss: 1.7742291688919067\n",
            "training loss: 1.5572375059127808\n",
            "training loss: 1.5722836256027222\n",
            "training loss: 1.4995653629302979\n"
          ]
        },
        {
          "output_type": "stream",
          "name": "stderr",
          "text": [
            "\rtraining:  32%|███▏      | 1585/5000 [54:14<1:52:54,  1.98s/it]"
          ]
        },
        {
          "output_type": "stream",
          "name": "stdout",
          "text": [
            "training loss: 1.4953734874725342\n",
            "training loss: 1.482921838760376\n",
            "training loss: 1.427847981452942\n",
            "training loss: 1.428857445716858\n",
            "training loss: 1.4041657447814941\n",
            "training loss: 1.4684128761291504\n"
          ]
        },
        {
          "output_type": "stream",
          "name": "stderr",
          "text": [
            "\rtraining:  32%|███▏      | 1591/5000 [54:26<1:52:32,  1.98s/it]"
          ]
        },
        {
          "output_type": "stream",
          "name": "stdout",
          "text": [
            "training loss: 1.6564580202102661\n",
            "training loss: 1.5020945072174072\n",
            "training loss: 1.5762429237365723\n",
            "training loss: 1.568140983581543\n",
            "training loss: 1.5182729959487915\n",
            "training loss: 1.5447611808776855\n"
          ]
        },
        {
          "output_type": "stream",
          "name": "stderr",
          "text": [
            "\rtraining:  32%|███▏      | 1597/5000 [54:37<1:52:12,  1.98s/it]"
          ]
        },
        {
          "output_type": "stream",
          "name": "stdout",
          "text": [
            "training loss: 1.517183780670166\n",
            "training loss: 1.5198819637298584\n",
            "training loss: 1.5194125175476074\n",
            "training loss: 1.4564220905303955\n",
            "training loss: 1.5942199230194092\n",
            "validation loss: 1.4267414808273315\n",
            "training loss: 1.5513370037078857\n"
          ]
        },
        {
          "output_type": "stream",
          "name": "stderr",
          "text": [
            "\rtraining:  32%|███▏      | 1603/5000 [54:49<1:52:28,  1.99s/it]"
          ]
        },
        {
          "output_type": "stream",
          "name": "stdout",
          "text": [
            "training loss: 1.548470139503479\n",
            "training loss: 1.3540425300598145\n",
            "training loss: 1.3427269458770752\n",
            "training loss: 1.7050879001617432\n",
            "training loss: 1.5394573211669922\n",
            "training loss: 1.4632222652435303\n"
          ]
        },
        {
          "output_type": "stream",
          "name": "stderr",
          "text": [
            "training:  32%|███▏      | 1609/5000 [55:01<1:52:02,  1.98s/it]"
          ]
        },
        {
          "output_type": "stream",
          "name": "stdout",
          "text": [
            "training loss: 1.5348012447357178\n",
            "training loss: 1.515409231185913\n",
            "training loss: 1.5671968460083008\n",
            "training loss: 1.5413408279418945\n",
            "training loss: 1.511029839515686\n",
            "training loss: 1.5732451677322388\n"
          ]
        },
        {
          "output_type": "stream",
          "name": "stderr",
          "text": [
            "\rtraining:  32%|███▏      | 1615/5000 [55:13<1:51:40,  1.98s/it]"
          ]
        },
        {
          "output_type": "stream",
          "name": "stdout",
          "text": [
            "training loss: 1.5584272146224976\n",
            "training loss: 1.4897847175598145\n",
            "training loss: 1.5489137172698975\n",
            "training loss: 1.5150196552276611\n",
            "training loss: 1.4557669162750244\n",
            "training loss: 1.4738879203796387\n"
          ]
        },
        {
          "output_type": "stream",
          "name": "stderr",
          "text": [
            "\rtraining:  32%|███▏      | 1621/5000 [55:25<1:51:22,  1.98s/it]"
          ]
        },
        {
          "output_type": "stream",
          "name": "stdout",
          "text": [
            "training loss: 1.482426643371582\n",
            "training loss: 1.5114282369613647\n",
            "training loss: 1.5004304647445679\n",
            "training loss: 1.5662908554077148\n",
            "training loss: 1.5962162017822266\n",
            "training loss: 1.5995213985443115\n"
          ]
        },
        {
          "output_type": "stream",
          "name": "stderr",
          "text": [
            "\rtraining:  33%|███▎      | 1627/5000 [55:37<1:51:05,  1.98s/it]"
          ]
        },
        {
          "output_type": "stream",
          "name": "stdout",
          "text": [
            "training loss: 1.5364025831222534\n",
            "training loss: 1.5248816013336182\n",
            "training loss: 1.6359888315200806\n",
            "training loss: 1.4074201583862305\n",
            "training loss: 1.5728704929351807\n",
            "training loss: 1.4998466968536377\n"
          ]
        },
        {
          "output_type": "stream",
          "name": "stderr",
          "text": [
            "\rtraining:  33%|███▎      | 1633/5000 [55:49<1:50:51,  1.98s/it]"
          ]
        },
        {
          "output_type": "stream",
          "name": "stdout",
          "text": [
            "training loss: 1.2783381938934326\n",
            "training loss: 1.4609413146972656\n",
            "training loss: 1.6991063356399536\n",
            "training loss: 1.5613092184066772\n",
            "training loss: 1.5497868061065674\n",
            "training loss: 1.55291748046875\n"
          ]
        },
        {
          "output_type": "stream",
          "name": "stderr",
          "text": [
            "training:  33%|███▎      | 1639/5000 [56:00<1:50:37,  1.97s/it]"
          ]
        },
        {
          "output_type": "stream",
          "name": "stdout",
          "text": [
            "training loss: 1.5471407175064087\n",
            "training loss: 1.460099458694458\n",
            "training loss: 1.5056285858154297\n",
            "training loss: 1.579571008682251\n",
            "training loss: 1.4762651920318604\n",
            "training loss: 1.5368496179580688\n"
          ]
        },
        {
          "output_type": "stream",
          "name": "stderr",
          "text": [
            "\rtraining:  33%|███▎      | 1645/5000 [56:12<1:50:23,  1.97s/it]"
          ]
        },
        {
          "output_type": "stream",
          "name": "stdout",
          "text": [
            "training loss: 1.4360289573669434\n",
            "training loss: 1.5845956802368164\n",
            "training loss: 1.5149279832839966\n",
            "training loss: 1.6264395713806152\n",
            "training loss: 1.403855562210083\n",
            "training loss: 1.436769962310791\n"
          ]
        },
        {
          "output_type": "stream",
          "name": "stderr",
          "text": [
            "\rtraining:  33%|███▎      | 1651/5000 [56:24<1:50:11,  1.97s/it]"
          ]
        },
        {
          "output_type": "stream",
          "name": "stdout",
          "text": [
            "training loss: 1.5056636333465576\n",
            "training loss: 1.4087536334991455\n",
            "training loss: 1.5298035144805908\n",
            "training loss: 1.5890179872512817\n",
            "training loss: 1.4935739040374756\n",
            "training loss: 1.5678119659423828\n"
          ]
        },
        {
          "output_type": "stream",
          "name": "stderr",
          "text": [
            "\rtraining:  33%|███▎      | 1657/5000 [56:36<1:49:58,  1.97s/it]"
          ]
        },
        {
          "output_type": "stream",
          "name": "stdout",
          "text": [
            "training loss: 1.4953670501708984\n",
            "training loss: 1.4806125164031982\n",
            "training loss: 1.6167795658111572\n",
            "training loss: 1.4306437969207764\n",
            "training loss: 1.4785507917404175\n",
            "training loss: 1.5164828300476074\n"
          ]
        },
        {
          "output_type": "stream",
          "name": "stderr",
          "text": [
            "\rtraining:  33%|███▎      | 1663/5000 [56:48<1:49:45,  1.97s/it]"
          ]
        },
        {
          "output_type": "stream",
          "name": "stdout",
          "text": [
            "training loss: 1.5023674964904785\n",
            "training loss: 1.5522725582122803\n",
            "training loss: 1.4628493785858154\n",
            "training loss: 1.5232597589492798\n",
            "training loss: 1.4667456150054932\n",
            "training loss: 1.6112279891967773\n"
          ]
        },
        {
          "output_type": "stream",
          "name": "stderr",
          "text": [
            "training:  33%|███▎      | 1669/5000 [57:00<1:49:34,  1.97s/it]"
          ]
        },
        {
          "output_type": "stream",
          "name": "stdout",
          "text": [
            "training loss: 1.5471702814102173\n",
            "training loss: 1.4035509824752808\n",
            "training loss: 1.5575991868972778\n",
            "training loss: 1.4379806518554688\n",
            "training loss: 1.56345534324646\n",
            "training loss: 1.6243181228637695\n"
          ]
        },
        {
          "output_type": "stream",
          "name": "stderr",
          "text": [
            "\rtraining:  34%|███▎      | 1675/5000 [57:12<1:49:22,  1.97s/it]"
          ]
        },
        {
          "output_type": "stream",
          "name": "stdout",
          "text": [
            "training loss: 1.56276273727417\n",
            "training loss: 1.5176596641540527\n",
            "training loss: 1.5441551208496094\n",
            "training loss: 1.503419041633606\n",
            "training loss: 1.5608545541763306\n",
            "training loss: 1.4625223875045776\n"
          ]
        },
        {
          "output_type": "stream",
          "name": "stderr",
          "text": [
            "\rtraining:  34%|███▎      | 1681/5000 [57:23<1:49:10,  1.97s/it]"
          ]
        },
        {
          "output_type": "stream",
          "name": "stdout",
          "text": [
            "training loss: 1.5407609939575195\n",
            "training loss: 1.435081124305725\n",
            "training loss: 1.3252577781677246\n",
            "training loss: 1.5260200500488281\n",
            "training loss: 1.489688754081726\n",
            "training loss: 1.4379805326461792\n"
          ]
        },
        {
          "output_type": "stream",
          "name": "stderr",
          "text": [
            "\rtraining:  34%|███▎      | 1687/5000 [57:35<1:48:57,  1.97s/it]"
          ]
        },
        {
          "output_type": "stream",
          "name": "stdout",
          "text": [
            "training loss: 1.5279127359390259\n",
            "training loss: 1.4218294620513916\n",
            "training loss: 1.4484751224517822\n",
            "training loss: 1.6923943758010864\n",
            "training loss: 1.612329125404358\n",
            "training loss: 1.4706518650054932\n"
          ]
        },
        {
          "output_type": "stream",
          "name": "stderr",
          "text": [
            "\rtraining:  34%|███▍      | 1693/5000 [57:47<1:48:45,  1.97s/it]"
          ]
        },
        {
          "output_type": "stream",
          "name": "stdout",
          "text": [
            "training loss: 1.4103822708129883\n",
            "training loss: 1.6565091609954834\n",
            "training loss: 1.4870100021362305\n",
            "training loss: 1.4710283279418945\n",
            "training loss: 1.6491472721099854\n",
            "training loss: 1.6053799390792847\n"
          ]
        },
        {
          "output_type": "stream",
          "name": "stderr",
          "text": [
            "\rtraining:  34%|███▍      | 1699/5000 [57:59<1:48:34,  1.97s/it]"
          ]
        },
        {
          "output_type": "stream",
          "name": "stdout",
          "text": [
            "training loss: 1.5874289274215698\n",
            "training loss: 1.4647685289382935\n",
            "training loss: 1.5842602252960205\n",
            "validation loss: 1.4427570104599\n",
            "training loss: 1.4735101461410522\n",
            "training loss: 1.6244288682937622\n",
            "training loss: 1.4330633878707886\n"
          ]
        },
        {
          "output_type": "stream",
          "name": "stderr",
          "text": [
            "training:  34%|███▍      | 1705/5000 [58:11<1:48:55,  1.98s/it]"
          ]
        },
        {
          "output_type": "stream",
          "name": "stdout",
          "text": [
            "training loss: 1.5854355096817017\n",
            "training loss: 1.4528357982635498\n",
            "training loss: 1.5570876598358154\n",
            "training loss: 1.5461323261260986\n",
            "training loss: 1.4771618843078613\n",
            "training loss: 1.5685750246047974\n"
          ]
        },
        {
          "output_type": "stream",
          "name": "stderr",
          "text": [
            "\rtraining:  34%|███▍      | 1711/5000 [58:23<1:48:33,  1.98s/it]"
          ]
        },
        {
          "output_type": "stream",
          "name": "stdout",
          "text": [
            "training loss: 1.516831874847412\n",
            "training loss: 1.4253789186477661\n",
            "training loss: 1.5241148471832275\n",
            "training loss: 1.6072547435760498\n",
            "training loss: 1.5570945739746094\n",
            "training loss: 1.4944994449615479\n"
          ]
        },
        {
          "output_type": "stream",
          "name": "stderr",
          "text": [
            "\rtraining:  34%|███▍      | 1717/5000 [58:35<1:48:14,  1.98s/it]"
          ]
        },
        {
          "output_type": "stream",
          "name": "stdout",
          "text": [
            "training loss: 1.4809705018997192\n",
            "training loss: 1.4950132369995117\n",
            "training loss: 1.4009093046188354\n",
            "training loss: 1.4333183765411377\n",
            "training loss: 1.5416823625564575\n",
            "training loss: 1.4223757982254028\n"
          ]
        },
        {
          "output_type": "stream",
          "name": "stderr",
          "text": [
            "\rtraining:  34%|███▍      | 1723/5000 [58:46<1:47:57,  1.98s/it]"
          ]
        },
        {
          "output_type": "stream",
          "name": "stdout",
          "text": [
            "training loss: 1.5987597703933716\n",
            "training loss: 1.570091724395752\n",
            "training loss: 1.5510648488998413\n",
            "training loss: 1.2837971448898315\n",
            "training loss: 1.4421619176864624\n",
            "training loss: 1.4001471996307373\n"
          ]
        },
        {
          "output_type": "stream",
          "name": "stderr",
          "text": [
            "\rtraining:  35%|███▍      | 1729/5000 [58:58<1:47:42,  1.98s/it]"
          ]
        },
        {
          "output_type": "stream",
          "name": "stdout",
          "text": [
            "training loss: 1.4938896894454956\n",
            "training loss: 1.4830726385116577\n",
            "training loss: 1.4162524938583374\n",
            "training loss: 1.5005282163619995\n",
            "training loss: 1.4613969326019287\n",
            "training loss: 1.6240884065628052\n"
          ]
        },
        {
          "output_type": "stream",
          "name": "stderr",
          "text": [
            "training:  35%|███▍      | 1735/5000 [59:10<1:47:28,  1.97s/it]"
          ]
        },
        {
          "output_type": "stream",
          "name": "stdout",
          "text": [
            "training loss: 1.5445219278335571\n",
            "training loss: 1.5348759889602661\n",
            "training loss: 1.426727533340454\n",
            "training loss: 1.5682436227798462\n",
            "training loss: 1.5521156787872314\n",
            "training loss: 1.461276888847351\n"
          ]
        },
        {
          "output_type": "stream",
          "name": "stderr",
          "text": [
            "\rtraining:  35%|███▍      | 1741/5000 [59:22<1:47:15,  1.97s/it]"
          ]
        },
        {
          "output_type": "stream",
          "name": "stdout",
          "text": [
            "training loss: 1.4538540840148926\n",
            "training loss: 1.6230131387710571\n",
            "training loss: 1.5469738245010376\n",
            "training loss: 1.5005358457565308\n",
            "training loss: 1.390739917755127\n",
            "training loss: 1.4048079252243042\n"
          ]
        },
        {
          "output_type": "stream",
          "name": "stderr",
          "text": [
            "\rtraining:  35%|███▍      | 1747/5000 [59:34<1:47:02,  1.97s/it]"
          ]
        },
        {
          "output_type": "stream",
          "name": "stdout",
          "text": [
            "training loss: 1.4846222400665283\n",
            "training loss: 1.4629617929458618\n",
            "training loss: 1.4310635328292847\n",
            "training loss: 1.567617416381836\n",
            "training loss: 1.499160885810852\n",
            "training loss: 1.460896372795105\n"
          ]
        },
        {
          "output_type": "stream",
          "name": "stderr",
          "text": [
            "\rtraining:  35%|███▌      | 1753/5000 [59:46<1:46:49,  1.97s/it]"
          ]
        },
        {
          "output_type": "stream",
          "name": "stdout",
          "text": [
            "training loss: 1.4505773782730103\n",
            "training loss: 1.2996174097061157\n",
            "training loss: 1.3851338624954224\n",
            "training loss: 1.5003039836883545\n",
            "training loss: 1.6259102821350098\n",
            "training loss: 1.6291770935058594\n"
          ]
        },
        {
          "output_type": "stream",
          "name": "stderr",
          "text": [
            "\rtraining:  35%|███▌      | 1759/5000 [59:57<1:46:38,  1.97s/it]"
          ]
        },
        {
          "output_type": "stream",
          "name": "stdout",
          "text": [
            "training loss: 1.4604517221450806\n",
            "training loss: 1.4997397661209106\n",
            "training loss: 1.5835143327713013\n",
            "training loss: 1.397580623626709\n",
            "training loss: 1.4617539644241333\n",
            "training loss: 1.7253444194793701\n"
          ]
        },
        {
          "output_type": "stream",
          "name": "stderr",
          "text": [
            "\rtraining:  35%|███▌      | 1765/5000 [1:00:09<1:46:25,  1.97s/it]"
          ]
        },
        {
          "output_type": "stream",
          "name": "stdout",
          "text": [
            "training loss: 1.396626591682434\n",
            "training loss: 1.5324548482894897\n",
            "training loss: 1.3807008266448975\n",
            "training loss: 1.5188313722610474\n",
            "training loss: 1.4907171726226807\n",
            "training loss: 1.457284688949585\n"
          ]
        },
        {
          "output_type": "stream",
          "name": "stderr",
          "text": [
            "training:  35%|███▌      | 1771/5000 [1:00:21<1:46:12,  1.97s/it]"
          ]
        },
        {
          "output_type": "stream",
          "name": "stdout",
          "text": [
            "training loss: 1.4834548234939575\n",
            "training loss: 1.550104022026062\n",
            "training loss: 1.559624195098877\n",
            "training loss: 1.5453301668167114\n",
            "training loss: 1.5202528238296509\n",
            "training loss: 1.512884259223938\n"
          ]
        },
        {
          "output_type": "stream",
          "name": "stderr",
          "text": [
            "\rtraining:  36%|███▌      | 1777/5000 [1:00:33<1:46:01,  1.97s/it]"
          ]
        },
        {
          "output_type": "stream",
          "name": "stdout",
          "text": [
            "training loss: 1.5222992897033691\n",
            "training loss: 1.5855284929275513\n",
            "training loss: 1.5326766967773438\n",
            "training loss: 1.560378074645996\n",
            "training loss: 1.4641646146774292\n",
            "training loss: 1.4852700233459473\n"
          ]
        },
        {
          "output_type": "stream",
          "name": "stderr",
          "text": [
            "\rtraining:  36%|███▌      | 1783/5000 [1:00:45<1:45:49,  1.97s/it]"
          ]
        },
        {
          "output_type": "stream",
          "name": "stdout",
          "text": [
            "training loss: 1.4655970335006714\n",
            "training loss: 1.5171576738357544\n",
            "training loss: 1.3829548358917236\n",
            "training loss: 1.30448579788208\n",
            "training loss: 1.4922689199447632\n",
            "training loss: 1.4971944093704224\n"
          ]
        },
        {
          "output_type": "stream",
          "name": "stderr",
          "text": [
            "\rtraining:  36%|███▌      | 1789/5000 [1:00:57<1:45:37,  1.97s/it]"
          ]
        },
        {
          "output_type": "stream",
          "name": "stdout",
          "text": [
            "training loss: 1.5979067087173462\n",
            "training loss: 1.6199334859848022\n",
            "training loss: 1.4903959035873413\n",
            "training loss: 1.4790092706680298\n",
            "training loss: 1.6179182529449463\n",
            "training loss: 1.3803290128707886\n"
          ]
        },
        {
          "output_type": "stream",
          "name": "stderr",
          "text": [
            "\rtraining:  36%|███▌      | 1795/5000 [1:01:09<1:45:25,  1.97s/it]"
          ]
        },
        {
          "output_type": "stream",
          "name": "stdout",
          "text": [
            "training loss: 1.5186632871627808\n",
            "training loss: 1.4703229665756226\n",
            "training loss: 1.4788709878921509\n",
            "training loss: 1.516757607460022\n",
            "training loss: 1.5435150861740112\n",
            "training loss: 1.6041150093078613\n"
          ]
        },
        {
          "output_type": "stream",
          "name": "stderr",
          "text": [
            "\rtraining:  36%|███▌      | 1795/5000 [1:01:20<1:45:25,  1.97s/it]"
          ]
        },
        {
          "output_type": "stream",
          "name": "stdout",
          "text": [
            "training loss: 1.3445103168487549\n"
          ]
        },
        {
          "output_type": "stream",
          "name": "stderr",
          "text": [
            "\rtraining:  36%|███▌      | 1801/5000 [1:01:21<1:45:44,  1.98s/it]"
          ]
        },
        {
          "output_type": "stream",
          "name": "stdout",
          "text": [
            "validation loss: 1.3536282777786255\n",
            "training loss: 1.716864824295044\n",
            "training loss: 1.440043330192566\n",
            "training loss: 1.410820484161377\n",
            "training loss: 1.4746437072753906\n",
            "training loss: 1.4305039644241333\n"
          ]
        },
        {
          "output_type": "stream",
          "name": "stderr",
          "text": [
            "\rtraining:  36%|███▌      | 1807/5000 [1:01:32<1:45:23,  1.98s/it]"
          ]
        },
        {
          "output_type": "stream",
          "name": "stdout",
          "text": [
            "training loss: 1.4032397270202637\n",
            "training loss: 1.4919945001602173\n",
            "training loss: 1.4789607524871826\n",
            "training loss: 1.524661660194397\n",
            "training loss: 1.441820502281189\n",
            "training loss: 1.5900832414627075\n"
          ]
        },
        {
          "output_type": "stream",
          "name": "stderr",
          "text": [
            "\rtraining:  36%|███▋      | 1813/5000 [1:01:44<1:45:04,  1.98s/it]"
          ]
        },
        {
          "output_type": "stream",
          "name": "stdout",
          "text": [
            "training loss: 1.5787032842636108\n",
            "training loss: 1.6101047992706299\n",
            "training loss: 1.4150971174240112\n",
            "training loss: 1.544681191444397\n",
            "training loss: 1.554835319519043\n",
            "training loss: 1.5700103044509888\n"
          ]
        },
        {
          "output_type": "stream",
          "name": "stderr",
          "text": [
            "\rtraining:  36%|███▋      | 1819/5000 [1:01:56<1:44:48,  1.98s/it]"
          ]
        },
        {
          "output_type": "stream",
          "name": "stdout",
          "text": [
            "training loss: 1.5224946737289429\n",
            "training loss: 1.541770577430725\n",
            "training loss: 1.6413863897323608\n",
            "training loss: 1.5111054182052612\n",
            "training loss: 1.4639079570770264\n",
            "training loss: 1.5727921724319458\n"
          ]
        },
        {
          "output_type": "stream",
          "name": "stderr",
          "text": [
            "\rtraining:  36%|███▋      | 1825/5000 [1:02:08<1:44:33,  1.98s/it]"
          ]
        },
        {
          "output_type": "stream",
          "name": "stdout",
          "text": [
            "training loss: 1.5327016115188599\n",
            "training loss: 1.5680341720581055\n",
            "training loss: 1.687484622001648\n",
            "training loss: 1.5551587343215942\n",
            "training loss: 1.582309603691101\n",
            "training loss: 1.4494216442108154\n"
          ]
        },
        {
          "output_type": "stream",
          "name": "stderr",
          "text": [
            "training:  37%|███▋      | 1831/5000 [1:02:20<1:44:19,  1.98s/it]"
          ]
        },
        {
          "output_type": "stream",
          "name": "stdout",
          "text": [
            "training loss: 1.5472196340560913\n",
            "training loss: 1.4948599338531494\n",
            "training loss: 1.5429481267929077\n",
            "training loss: 1.511562705039978\n",
            "training loss: 1.526472568511963\n",
            "training loss: 1.5604768991470337\n"
          ]
        },
        {
          "output_type": "stream",
          "name": "stderr",
          "text": [
            "\rtraining:  37%|███▋      | 1837/5000 [1:02:32<1:44:06,  1.97s/it]"
          ]
        },
        {
          "output_type": "stream",
          "name": "stdout",
          "text": [
            "training loss: 1.5618313550949097\n",
            "training loss: 1.4174484014511108\n",
            "training loss: 1.5403732061386108\n",
            "training loss: 1.5895525217056274\n",
            "training loss: 1.4305893182754517\n",
            "training loss: 1.5220861434936523\n"
          ]
        },
        {
          "output_type": "stream",
          "name": "stderr",
          "text": [
            "\rtraining:  37%|███▋      | 1843/5000 [1:02:43<1:43:53,  1.97s/it]"
          ]
        },
        {
          "output_type": "stream",
          "name": "stdout",
          "text": [
            "training loss: 1.6676576137542725\n",
            "training loss: 1.4723453521728516\n",
            "training loss: 1.576102614402771\n",
            "training loss: 1.5736663341522217\n",
            "training loss: 1.471988320350647\n",
            "training loss: 1.611543893814087\n"
          ]
        },
        {
          "output_type": "stream",
          "name": "stderr",
          "text": [
            "\rtraining:  37%|███▋      | 1849/5000 [1:02:55<1:43:41,  1.97s/it]"
          ]
        },
        {
          "output_type": "stream",
          "name": "stdout",
          "text": [
            "training loss: 1.4784196615219116\n",
            "training loss: 1.497188687324524\n",
            "training loss: 1.4931350946426392\n",
            "training loss: 1.508975863456726\n",
            "training loss: 1.4775134325027466\n",
            "training loss: 1.573829174041748\n"
          ]
        },
        {
          "output_type": "stream",
          "name": "stderr",
          "text": [
            "\rtraining:  37%|███▋      | 1855/5000 [1:03:07<1:43:28,  1.97s/it]"
          ]
        },
        {
          "output_type": "stream",
          "name": "stdout",
          "text": [
            "training loss: 1.608956217765808\n",
            "training loss: 1.5002503395080566\n",
            "training loss: 1.4105833768844604\n",
            "training loss: 1.4303290843963623\n",
            "training loss: 1.5273405313491821\n",
            "training loss: 1.4288817644119263\n"
          ]
        },
        {
          "output_type": "stream",
          "name": "stderr",
          "text": [
            "\rtraining:  37%|███▋      | 1861/5000 [1:03:19<1:43:16,  1.97s/it]"
          ]
        },
        {
          "output_type": "stream",
          "name": "stdout",
          "text": [
            "training loss: 1.4969722032546997\n",
            "training loss: 1.4730790853500366\n",
            "training loss: 1.5342397689819336\n",
            "training loss: 1.536346673965454\n",
            "training loss: 1.668845534324646\n",
            "training loss: 1.567256212234497\n"
          ]
        },
        {
          "output_type": "stream",
          "name": "stderr",
          "text": [
            "training:  37%|███▋      | 1867/5000 [1:03:31<1:43:03,  1.97s/it]"
          ]
        },
        {
          "output_type": "stream",
          "name": "stdout",
          "text": [
            "training loss: 1.5876754522323608\n",
            "training loss: 1.4406636953353882\n",
            "training loss: 1.4696685075759888\n",
            "training loss: 1.5713341236114502\n",
            "training loss: 1.3298711776733398\n",
            "training loss: 1.5627281665802002\n"
          ]
        },
        {
          "output_type": "stream",
          "name": "stderr",
          "text": [
            "\rtraining:  37%|███▋      | 1873/5000 [1:03:43<1:42:51,  1.97s/it]"
          ]
        },
        {
          "output_type": "stream",
          "name": "stdout",
          "text": [
            "training loss: 1.3868845701217651\n",
            "training loss: 1.4426010847091675\n",
            "training loss: 1.4989819526672363\n",
            "training loss: 1.4453343152999878\n",
            "training loss: 1.701529860496521\n",
            "training loss: 1.5374040603637695\n"
          ]
        },
        {
          "output_type": "stream",
          "name": "stderr",
          "text": [
            "\rtraining:  38%|███▊      | 1879/5000 [1:03:54<1:42:39,  1.97s/it]"
          ]
        },
        {
          "output_type": "stream",
          "name": "stdout",
          "text": [
            "training loss: 1.4950066804885864\n",
            "training loss: 1.4754267930984497\n",
            "training loss: 1.3171356916427612\n",
            "training loss: 1.3475648164749146\n",
            "training loss: 1.4284840822219849\n",
            "training loss: 1.5639721155166626\n"
          ]
        },
        {
          "output_type": "stream",
          "name": "stderr",
          "text": [
            "\rtraining:  38%|███▊      | 1885/5000 [1:04:06<1:42:28,  1.97s/it]"
          ]
        },
        {
          "output_type": "stream",
          "name": "stdout",
          "text": [
            "training loss: 1.5898064374923706\n",
            "training loss: 1.4687169790267944\n",
            "training loss: 1.484801173210144\n",
            "training loss: 1.4439440965652466\n",
            "training loss: 1.6234756708145142\n",
            "training loss: 1.4983857870101929\n"
          ]
        },
        {
          "output_type": "stream",
          "name": "stderr",
          "text": [
            "\rtraining:  38%|███▊      | 1891/5000 [1:04:18<1:42:16,  1.97s/it]"
          ]
        },
        {
          "output_type": "stream",
          "name": "stdout",
          "text": [
            "training loss: 1.2806519269943237\n",
            "training loss: 1.502994179725647\n",
            "training loss: 1.4519985914230347\n",
            "training loss: 1.407739520072937\n",
            "training loss: 1.5590797662734985\n",
            "training loss: 1.5551034212112427\n"
          ]
        },
        {
          "output_type": "stream",
          "name": "stderr",
          "text": [
            "training:  38%|███▊      | 1897/5000 [1:04:30<1:42:04,  1.97s/it]"
          ]
        },
        {
          "output_type": "stream",
          "name": "stdout",
          "text": [
            "training loss: 1.3800289630889893\n",
            "training loss: 1.4498536586761475\n",
            "training loss: 1.5498725175857544\n",
            "training loss: 1.4574061632156372\n",
            "training loss: 1.5292085409164429\n",
            "validation loss: 1.4593218564987183\n",
            "training loss: 1.6514254808425903\n"
          ]
        },
        {
          "output_type": "stream",
          "name": "stderr",
          "text": [
            "\rtraining:  38%|███▊      | 1903/5000 [1:04:42<1:42:22,  1.98s/it]"
          ]
        },
        {
          "output_type": "stream",
          "name": "stdout",
          "text": [
            "training loss: 1.5732004642486572\n",
            "training loss: 1.5822398662567139\n",
            "training loss: 1.315652847290039\n",
            "training loss: 1.4835655689239502\n",
            "training loss: 1.6302958726882935\n",
            "training loss: 1.5600007772445679\n"
          ]
        },
        {
          "output_type": "stream",
          "name": "stderr",
          "text": [
            "\rtraining:  38%|███▊      | 1909/5000 [1:04:54<1:42:02,  1.98s/it]"
          ]
        },
        {
          "output_type": "stream",
          "name": "stdout",
          "text": [
            "training loss: 1.5460163354873657\n",
            "training loss: 1.3889285326004028\n",
            "training loss: 1.6154855489730835\n",
            "training loss: 1.5930204391479492\n",
            "training loss: 1.5378092527389526\n",
            "training loss: 1.496157169342041\n"
          ]
        },
        {
          "output_type": "stream",
          "name": "stderr",
          "text": [
            "\rtraining:  38%|███▊      | 1915/5000 [1:05:06<1:41:44,  1.98s/it]"
          ]
        },
        {
          "output_type": "stream",
          "name": "stdout",
          "text": [
            "training loss: 1.3875027894973755\n",
            "training loss: 1.5010818243026733\n",
            "training loss: 1.4240185022354126\n",
            "training loss: 1.5324922800064087\n",
            "training loss: 1.5025182962417603\n",
            "training loss: 1.5920393466949463\n"
          ]
        },
        {
          "output_type": "stream",
          "name": "stderr",
          "text": [
            "\rtraining:  38%|███▊      | 1921/5000 [1:05:18<1:41:27,  1.98s/it]"
          ]
        },
        {
          "output_type": "stream",
          "name": "stdout",
          "text": [
            "training loss: 1.5339890718460083\n",
            "training loss: 1.478461503982544\n",
            "training loss: 1.5551080703735352\n",
            "training loss: 1.5745410919189453\n",
            "training loss: 1.4651769399642944\n",
            "training loss: 1.5644954442977905\n"
          ]
        },
        {
          "output_type": "stream",
          "name": "stderr",
          "text": [
            "\rtraining:  39%|███▊      | 1927/5000 [1:05:29<1:41:12,  1.98s/it]"
          ]
        },
        {
          "output_type": "stream",
          "name": "stdout",
          "text": [
            "training loss: 1.501326322555542\n",
            "training loss: 1.4789432287216187\n",
            "training loss: 1.3578858375549316\n",
            "training loss: 1.5220638513565063\n",
            "training loss: 1.551393747329712\n",
            "training loss: 1.4825280904769897\n"
          ]
        },
        {
          "output_type": "stream",
          "name": "stderr",
          "text": [
            "training:  39%|███▊      | 1933/5000 [1:05:41<1:40:57,  1.98s/it]"
          ]
        },
        {
          "output_type": "stream",
          "name": "stdout",
          "text": [
            "training loss: 1.635907530784607\n",
            "training loss: 1.3389246463775635\n",
            "training loss: 1.4494097232818604\n",
            "training loss: 1.4686617851257324\n",
            "training loss: 1.4775692224502563\n",
            "training loss: 1.4170441627502441\n"
          ]
        },
        {
          "output_type": "stream",
          "name": "stderr",
          "text": [
            "\rtraining:  39%|███▉      | 1939/5000 [1:05:53<1:40:44,  1.97s/it]"
          ]
        },
        {
          "output_type": "stream",
          "name": "stdout",
          "text": [
            "training loss: 1.541839838027954\n",
            "training loss: 1.4987821578979492\n",
            "training loss: 1.4738831520080566\n",
            "training loss: 1.492455005645752\n",
            "training loss: 1.6177343130111694\n",
            "training loss: 1.479210376739502\n"
          ]
        },
        {
          "output_type": "stream",
          "name": "stderr",
          "text": [
            "\rtraining:  39%|███▉      | 1945/5000 [1:06:05<1:40:32,  1.97s/it]"
          ]
        },
        {
          "output_type": "stream",
          "name": "stdout",
          "text": [
            "training loss: 1.3400452136993408\n",
            "training loss: 1.4295850992202759\n",
            "training loss: 1.4742380380630493\n",
            "training loss: 1.4992176294326782\n",
            "training loss: 1.5360403060913086\n",
            "training loss: 1.6215587854385376\n"
          ]
        },
        {
          "output_type": "stream",
          "name": "stderr",
          "text": [
            "\rtraining:  39%|███▉      | 1951/5000 [1:06:17<1:40:20,  1.97s/it]"
          ]
        },
        {
          "output_type": "stream",
          "name": "stdout",
          "text": [
            "training loss: 1.6247013807296753\n",
            "training loss: 1.5275505781173706\n",
            "training loss: 1.5022624731063843\n",
            "training loss: 1.5858211517333984\n",
            "training loss: 1.5493168830871582\n",
            "training loss: 1.5247712135314941\n"
          ]
        },
        {
          "output_type": "stream",
          "name": "stderr",
          "text": [
            "\rtraining:  39%|███▉      | 1957/5000 [1:06:29<1:40:07,  1.97s/it]"
          ]
        },
        {
          "output_type": "stream",
          "name": "stdout",
          "text": [
            "training loss: 1.4840983152389526\n",
            "training loss: 1.524718165397644\n",
            "training loss: 1.6327952146530151\n",
            "training loss: 1.3882198333740234\n",
            "training loss: 1.6145431995391846\n",
            "training loss: 1.4959025382995605\n"
          ]
        },
        {
          "output_type": "stream",
          "name": "stderr",
          "text": [
            "training:  39%|███▉      | 1963/5000 [1:06:40<1:39:55,  1.97s/it]"
          ]
        },
        {
          "output_type": "stream",
          "name": "stdout",
          "text": [
            "training loss: 1.4609109163284302\n",
            "training loss: 1.590741515159607\n",
            "training loss: 1.5207679271697998\n",
            "training loss: 1.3316890001296997\n",
            "training loss: 1.6640808582305908\n",
            "training loss: 1.3327604532241821\n"
          ]
        },
        {
          "output_type": "stream",
          "name": "stderr",
          "text": [
            "\rtraining:  39%|███▉      | 1969/5000 [1:06:52<1:39:44,  1.97s/it]"
          ]
        },
        {
          "output_type": "stream",
          "name": "stdout",
          "text": [
            "training loss: 1.7220134735107422\n",
            "training loss: 1.6215999126434326\n",
            "training loss: 1.538110613822937\n",
            "training loss: 1.4734036922454834\n",
            "training loss: 1.5032284259796143\n",
            "training loss: 1.5906509160995483\n"
          ]
        },
        {
          "output_type": "stream",
          "name": "stderr",
          "text": [
            "\rtraining:  40%|███▉      | 1975/5000 [1:07:04<1:39:32,  1.97s/it]"
          ]
        },
        {
          "output_type": "stream",
          "name": "stdout",
          "text": [
            "training loss: 1.273726463317871\n",
            "training loss: 1.397803783416748\n",
            "training loss: 1.5071731805801392\n",
            "training loss: 1.4540834426879883\n",
            "training loss: 1.3607391119003296\n",
            "training loss: 1.519705057144165\n"
          ]
        },
        {
          "output_type": "stream",
          "name": "stderr",
          "text": [
            "\rtraining:  40%|███▉      | 1981/5000 [1:07:16<1:39:19,  1.97s/it]"
          ]
        },
        {
          "output_type": "stream",
          "name": "stdout",
          "text": [
            "training loss: 1.5286469459533691\n",
            "training loss: 1.5068566799163818\n",
            "training loss: 1.4289836883544922\n",
            "training loss: 1.4408526420593262\n",
            "training loss: 1.580629587173462\n",
            "training loss: 1.5484720468521118\n"
          ]
        },
        {
          "output_type": "stream",
          "name": "stderr",
          "text": [
            "\rtraining:  40%|███▉      | 1987/5000 [1:07:28<1:39:07,  1.97s/it]"
          ]
        },
        {
          "output_type": "stream",
          "name": "stdout",
          "text": [
            "training loss: 1.6738147735595703\n",
            "training loss: 1.568284273147583\n",
            "training loss: 1.3083029985427856\n",
            "training loss: 1.434907078742981\n",
            "training loss: 1.3094805479049683\n",
            "training loss: 1.6489044427871704\n"
          ]
        },
        {
          "output_type": "stream",
          "name": "stderr",
          "text": [
            "training:  40%|███▉      | 1993/5000 [1:07:40<1:38:55,  1.97s/it]"
          ]
        },
        {
          "output_type": "stream",
          "name": "stdout",
          "text": [
            "training loss: 1.4414606094360352\n",
            "training loss: 1.48826003074646\n",
            "training loss: 1.316872239112854\n",
            "training loss: 1.453162431716919\n",
            "training loss: 1.5678694248199463\n",
            "training loss: 1.4622596502304077\n"
          ]
        },
        {
          "output_type": "stream",
          "name": "stderr",
          "text": [
            "\rtraining:  40%|███▉      | 1999/5000 [1:07:52<1:38:44,  1.97s/it]"
          ]
        },
        {
          "output_type": "stream",
          "name": "stdout",
          "text": [
            "training loss: 1.4162427186965942\n",
            "training loss: 1.4675476551055908\n",
            "training loss: 1.4998104572296143\n",
            "validation loss: 1.4460338354110718\n",
            "%s \n",
            "\n",
            " %s (\"645]] he began building [[Imogiri]], his burial place, about fifteen kilometers south of Yogyakarta.  Imogiri remains the resting place of most of the royalty of Yogyakarta and Surakarta to this day. Agung died in the spring of [[1646]], with his image of royal invincibility shattered by his losses to the Dutch, but he did leave behind an empire that covered most of Java and stretched to its neighboring islands.  Upon taking the throne, Agung's son Susuhunan [[Amangkurat I of Mataram|Amangkurat I]] tried to bring long-term stability to Mataram's realm, murdering local leaders that were insufficiently deferential to him, and closing ports so he alone had control over trade with the Dutch.  By the mid-1670s dissatisfaction with the king fanned into open revolt, beginning at the margins and creeping inward. [[Raden Trunajaya]], a prince from Madura, lead a revolt fortified by itinerant fighters from faraway [[Makassar]] that captured the king's court at Mataram in mid-[[1677]]. The king escaped to the north coast with his eldest son, the future king [[Amangkurat II of Mataram|Amangkurat II]], leaving his younger son Pangeran Puger in Mataram. Apparently more interested in profit and revenge than in running a struggling empire, the rebel Trunajaya looted the court and withdrew to his stronghold in East Java leaving Puger in control of a weak court.  Amangkurat I died just after his expulsion, making Amangkurat II king in 1677. He too was nearly helpless, though, having fled without an army or treasury to build one. In an attempt to regain his kingdom, he made substantial concessions to the Dutch, who then went to war to reinstate him. For the Dutch, a stable Mataram empire that was deeply indebted to them would help ensure continued trade on favorable terms. They were willing to lend their military might to keep the kingdom together. Dutch forces first captured Trunajaya, then forced Puger to recognize the sovereignty of his elder brother Amangkurat II.  ==Colonial era== Beginning in [[1602]] the [[Netherlands|Dutch]] gradually established themselves as rulers of what is now Indonesia, exploiting the fractionalization of the small kingdoms that had replaced Majapahit. The most notable exception was [[Portuguese Timor]], which remained under [[Portugal|Portuguese]] rule until [[1975]] when it was invaded and occupied, becoming the Indonesia province of [[East Timor]]. The Netherlands controlled Indonesia for almost 350 years, excluding a short period of [[British Empire|British]] rule in part of the islands after the [[Anglo-Dutch Java War]] and the period of Japanese occupation during World War II. During their rule the Dutch developed the [[Dutch East Indies]] into one of the world's richest colonial possessions.  ===Dutch East-India Company=== [[Image:Voc logo.gif|thumb|right|100px|The logo of the Amsterdam Chamber of the Dutch East-India Company (VOC)]]In the 17th and 18th centuries the Dutch East Indies were not controlled directly by the Dutch government, but by a joint-stock trading company, the [[Dutch East India Company]] (in Dutch: ''Verenigde Oostindische Compagnie'' or VOC). The VOC had been awarded a monopoly on trade and colonial activities in the region by the Dutch parliament in [[1602]], but had no territory of its own in Java. In 1619, the Company conquered the Javanese city of Jayakarta, burned it to the ground and then founded the city of Batavia (present-day [[Jakarta]]), modelling it on Amsterdam.  A primary aim of the VOC was the maintenance of its [[monopoly]] of the [[spice trade]] in the archipelago. It did this through the use and threatened use of violence against the peoples of the spice-producing islands, and against non-Dutch outsiders who attempted to trade with them. For example, when the people of the [[Banda Islands]] continued to sell [[nutmeg]] to English merchants, the Dutch killed or deported virtually the entire population and repopulated the islands with VOC indentured servants and slaves who worked in the nutmeg groves.  The VOC became deeply involved in the internal politics of [[Jav\", '****************************************************************************************************')\n"
          ]
        },
        {
          "output_type": "stream",
          "name": "stderr",
          "text": [
            "training:  40%|████      | 2001/5000 [1:08:26<3:13:42,  3.88s/it]"
          ]
        },
        {
          "output_type": "stream",
          "name": "stdout",
          "text": [
            "a Aldes The Germark Aest]] [[Intellies]] [[Chopolar Fay I]] the [[George Bon The China]], [[Neta|Linie Derol Chaplors]] show in first also ave growth a tect the recent of propert, save marked inviewed by scall lookane.  In fieloque of the Emption with [[Hind JosÃ¼n Cape Worlogica]]s well the perfrecise of the near lyries and its science '''Theory overs'' and ''Tem writted Mangaria. Eventured by [[Shard of Irance-took Antical Empany]]''  Bellore Roman speassed as the [[The Ada (migh of Heavail]], white time,\n",
            "training loss: 1.5039348602294922\n",
            "training loss: 1.4466166496276855\n",
            "training loss: 1.4755803346633911\n",
            "training loss: 1.5725831985473633\n",
            "training loss: 1.4435653686523438\n"
          ]
        },
        {
          "output_type": "stream",
          "name": "stderr",
          "text": [
            "\rtraining:  40%|████      | 2007/5000 [1:08:38<2:40:14,  3.21s/it]"
          ]
        },
        {
          "output_type": "stream",
          "name": "stdout",
          "text": [
            "training loss: 1.6401972770690918\n",
            "training loss: 1.601177453994751\n",
            "training loss: 1.3196382522583008\n",
            "training loss: 1.5547012090682983\n",
            "training loss: 1.4519506692886353\n",
            "training loss: 1.453761100769043\n"
          ]
        },
        {
          "output_type": "stream",
          "name": "stderr",
          "text": [
            "\rtraining:  40%|████      | 2013/5000 [1:08:50<2:19:24,  2.80s/it]"
          ]
        },
        {
          "output_type": "stream",
          "name": "stdout",
          "text": [
            "training loss: 1.4385008811950684\n",
            "training loss: 1.5292412042617798\n",
            "training loss: 1.494844913482666\n",
            "training loss: 1.6057734489440918\n",
            "training loss: 1.4774582386016846\n",
            "training loss: 1.4795212745666504\n"
          ]
        },
        {
          "output_type": "stream",
          "name": "stderr",
          "text": [
            "training:  40%|████      | 2019/5000 [1:09:01<2:05:54,  2.53s/it]"
          ]
        },
        {
          "output_type": "stream",
          "name": "stdout",
          "text": [
            "training loss: 1.4806749820709229\n",
            "training loss: 1.3501685857772827\n",
            "training loss: 1.48379647731781\n",
            "training loss: 1.5345699787139893\n",
            "training loss: 1.519500732421875\n",
            "training loss: 1.425381064414978\n"
          ]
        },
        {
          "output_type": "stream",
          "name": "stderr",
          "text": [
            "\rtraining:  40%|████      | 2025/5000 [1:09:13<1:56:54,  2.36s/it]"
          ]
        },
        {
          "output_type": "stream",
          "name": "stdout",
          "text": [
            "training loss: 1.5568437576293945\n",
            "training loss: 1.5135245323181152\n",
            "training loss: 1.478757381439209\n",
            "training loss: 1.4592187404632568\n",
            "training loss: 1.548209547996521\n",
            "training loss: 1.4681408405303955\n"
          ]
        },
        {
          "output_type": "stream",
          "name": "stderr",
          "text": [
            "\rtraining:  41%|████      | 2031/5000 [1:09:25<1:50:45,  2.24s/it]"
          ]
        },
        {
          "output_type": "stream",
          "name": "stdout",
          "text": [
            "training loss: 1.5850164890289307\n",
            "training loss: 1.5738308429718018\n",
            "training loss: 1.4658582210540771\n",
            "training loss: 1.4283499717712402\n",
            "training loss: 1.4091711044311523\n",
            "training loss: 1.4574735164642334\n"
          ]
        },
        {
          "output_type": "stream",
          "name": "stderr",
          "text": [
            "\rtraining:  41%|████      | 2037/5000 [1:09:37<1:46:31,  2.16s/it]"
          ]
        },
        {
          "output_type": "stream",
          "name": "stdout",
          "text": [
            "training loss: 1.5961482524871826\n",
            "training loss: 1.449048399925232\n",
            "training loss: 1.6754775047302246\n",
            "training loss: 1.4869686365127563\n",
            "training loss: 1.5214087963104248\n",
            "training loss: 1.464970588684082\n"
          ]
        },
        {
          "output_type": "stream",
          "name": "stderr",
          "text": [
            "\rtraining:  41%|████      | 2043/5000 [1:09:49<1:43:33,  2.10s/it]"
          ]
        },
        {
          "output_type": "stream",
          "name": "stdout",
          "text": [
            "training loss: 1.5170466899871826\n",
            "training loss: 1.481187105178833\n",
            "training loss: 1.526193380355835\n",
            "training loss: 1.566213607788086\n",
            "training loss: 1.4671162366867065\n",
            "training loss: 1.5461342334747314\n"
          ]
        },
        {
          "output_type": "stream",
          "name": "stderr",
          "text": [
            "training:  41%|████      | 2049/5000 [1:10:01<1:41:26,  2.06s/it]"
          ]
        },
        {
          "output_type": "stream",
          "name": "stdout",
          "text": [
            "training loss: 1.3692853450775146\n",
            "training loss: 1.5099111795425415\n",
            "training loss: 1.531447410583496\n",
            "training loss: 1.5621528625488281\n",
            "training loss: 1.3479312658309937\n",
            "training loss: 1.4428826570510864\n"
          ]
        },
        {
          "output_type": "stream",
          "name": "stderr",
          "text": [
            "\rtraining:  41%|████      | 2055/5000 [1:10:13<1:39:55,  2.04s/it]"
          ]
        },
        {
          "output_type": "stream",
          "name": "stdout",
          "text": [
            "training loss: 1.429282307624817\n",
            "training loss: 1.5086331367492676\n",
            "training loss: 1.66289484500885\n",
            "training loss: 1.5102990865707397\n",
            "training loss: 1.5130581855773926\n",
            "training loss: 1.4734523296356201\n"
          ]
        },
        {
          "output_type": "stream",
          "name": "stderr",
          "text": [
            "\rtraining:  41%|████      | 2061/5000 [1:10:24<1:38:48,  2.02s/it]"
          ]
        },
        {
          "output_type": "stream",
          "name": "stdout",
          "text": [
            "training loss: 1.3303844928741455\n",
            "training loss: 1.5081251859664917\n",
            "training loss: 1.5090131759643555\n",
            "training loss: 1.4613040685653687\n",
            "training loss: 1.4965152740478516\n",
            "training loss: 1.4114211797714233\n"
          ]
        },
        {
          "output_type": "stream",
          "name": "stderr",
          "text": [
            "\rtraining:  41%|████▏     | 2067/5000 [1:10:36<1:37:58,  2.00s/it]"
          ]
        },
        {
          "output_type": "stream",
          "name": "stdout",
          "text": [
            "training loss: 1.517461895942688\n",
            "training loss: 1.4613467454910278\n",
            "training loss: 1.5424830913543701\n",
            "training loss: 1.3426923751831055\n",
            "training loss: 1.4724212884902954\n",
            "training loss: 1.53252375125885\n"
          ]
        },
        {
          "output_type": "stream",
          "name": "stderr",
          "text": [
            "\rtraining:  41%|████▏     | 2073/5000 [1:10:48<1:37:20,  2.00s/it]"
          ]
        },
        {
          "output_type": "stream",
          "name": "stdout",
          "text": [
            "training loss: 1.5733979940414429\n",
            "training loss: 1.4379539489746094\n",
            "training loss: 1.5155962705612183\n",
            "training loss: 1.4764463901519775\n",
            "training loss: 1.306256651878357\n",
            "training loss: 1.4548053741455078\n"
          ]
        },
        {
          "output_type": "stream",
          "name": "stderr",
          "text": [
            "training:  42%|████▏     | 2079/5000 [1:11:00<1:36:50,  1.99s/it]"
          ]
        },
        {
          "output_type": "stream",
          "name": "stdout",
          "text": [
            "training loss: 1.4771955013275146\n",
            "training loss: 1.5045150518417358\n",
            "training loss: 1.3442649841308594\n",
            "training loss: 1.5275756120681763\n",
            "training loss: 1.5144364833831787\n",
            "training loss: 1.4693121910095215\n"
          ]
        },
        {
          "output_type": "stream",
          "name": "stderr",
          "text": [
            "\rtraining:  42%|████▏     | 2085/5000 [1:11:12<1:36:25,  1.98s/it]"
          ]
        },
        {
          "output_type": "stream",
          "name": "stdout",
          "text": [
            "training loss: 1.535660982131958\n",
            "training loss: 1.6202034950256348\n",
            "training loss: 1.7531592845916748\n",
            "training loss: 1.3779820203781128\n",
            "training loss: 1.361689567565918\n",
            "training loss: 1.5149593353271484\n"
          ]
        },
        {
          "output_type": "stream",
          "name": "stderr",
          "text": [
            "\rtraining:  42%|████▏     | 2091/5000 [1:11:24<1:36:04,  1.98s/it]"
          ]
        },
        {
          "output_type": "stream",
          "name": "stdout",
          "text": [
            "training loss: 1.6286112070083618\n",
            "training loss: 1.5081226825714111\n",
            "training loss: 1.5763421058654785\n",
            "training loss: 1.4109077453613281\n",
            "training loss: 1.3115129470825195\n",
            "training loss: 1.5769050121307373\n"
          ]
        },
        {
          "output_type": "stream",
          "name": "stderr",
          "text": [
            "\rtraining:  42%|████▏     | 2097/5000 [1:11:35<1:35:46,  1.98s/it]"
          ]
        },
        {
          "output_type": "stream",
          "name": "stdout",
          "text": [
            "training loss: 1.4490909576416016\n",
            "training loss: 1.5235836505889893\n",
            "training loss: 1.4813265800476074\n",
            "training loss: 1.4300687313079834\n",
            "training loss: 1.4301873445510864\n",
            "validation loss: 1.3475925922393799\n",
            "training loss: 1.4999175071716309\n"
          ]
        },
        {
          "output_type": "stream",
          "name": "stderr",
          "text": [
            "\rtraining:  42%|████▏     | 2103/5000 [1:11:47<1:35:57,  1.99s/it]"
          ]
        },
        {
          "output_type": "stream",
          "name": "stdout",
          "text": [
            "training loss: 1.7014261484146118\n",
            "training loss: 1.3968956470489502\n",
            "training loss: 1.495495319366455\n",
            "training loss: 1.508741021156311\n",
            "training loss: 1.4474291801452637\n",
            "training loss: 1.422309398651123\n"
          ]
        },
        {
          "output_type": "stream",
          "name": "stderr",
          "text": [
            "\rtraining:  42%|████▏     | 2109/5000 [1:11:59<1:35:34,  1.98s/it]"
          ]
        },
        {
          "output_type": "stream",
          "name": "stdout",
          "text": [
            "training loss: 1.1104099750518799\n",
            "training loss: 1.4840413331985474\n",
            "training loss: 1.4545977115631104\n",
            "training loss: 1.6164413690567017\n",
            "training loss: 1.4432379007339478\n",
            "training loss: 1.4709385633468628\n"
          ]
        },
        {
          "output_type": "stream",
          "name": "stderr",
          "text": [
            "training:  42%|████▏     | 2115/5000 [1:12:11<1:35:14,  1.98s/it]"
          ]
        },
        {
          "output_type": "stream",
          "name": "stdout",
          "text": [
            "training loss: 1.5261831283569336\n",
            "training loss: 1.6499305963516235\n",
            "training loss: 1.4348639249801636\n",
            "training loss: 1.4075469970703125\n",
            "training loss: 1.4672850370407104\n",
            "training loss: 1.4539344310760498\n"
          ]
        },
        {
          "output_type": "stream",
          "name": "stderr",
          "text": [
            "\rtraining:  42%|████▏     | 2121/5000 [1:12:23<1:34:56,  1.98s/it]"
          ]
        },
        {
          "output_type": "stream",
          "name": "stdout",
          "text": [
            "training loss: 1.467142105102539\n",
            "training loss: 1.5191620588302612\n",
            "training loss: 1.4826064109802246\n",
            "training loss: 1.5294740200042725\n",
            "training loss: 1.3814594745635986\n",
            "training loss: 1.5239863395690918\n"
          ]
        },
        {
          "output_type": "stream",
          "name": "stderr",
          "text": [
            "\rtraining:  43%|████▎     | 2127/5000 [1:12:35<1:34:40,  1.98s/it]"
          ]
        },
        {
          "output_type": "stream",
          "name": "stdout",
          "text": [
            "training loss: 1.4957531690597534\n",
            "training loss: 1.5426032543182373\n",
            "training loss: 1.4575568437576294\n",
            "training loss: 1.4793592691421509\n",
            "training loss: 1.3121531009674072\n",
            "training loss: 1.6792564392089844\n"
          ]
        },
        {
          "output_type": "stream",
          "name": "stderr",
          "text": [
            "\rtraining:  43%|████▎     | 2133/5000 [1:12:47<1:34:25,  1.98s/it]"
          ]
        },
        {
          "output_type": "stream",
          "name": "stdout",
          "text": [
            "training loss: 1.568219542503357\n",
            "training loss: 1.4881439208984375\n",
            "training loss: 1.4245274066925049\n",
            "training loss: 1.4911702871322632\n",
            "training loss: 1.4964112043380737\n",
            "training loss: 1.4909141063690186\n"
          ]
        },
        {
          "output_type": "stream",
          "name": "stderr",
          "text": [
            "\rtraining:  43%|████▎     | 2139/5000 [1:12:59<1:34:11,  1.98s/it]"
          ]
        },
        {
          "output_type": "stream",
          "name": "stdout",
          "text": [
            "training loss: 1.6275207996368408\n",
            "training loss: 1.4782987833023071\n",
            "training loss: 1.4326516389846802\n",
            "training loss: 1.5913435220718384\n",
            "training loss: 1.465319037437439\n",
            "training loss: 1.6329702138900757\n"
          ]
        },
        {
          "output_type": "stream",
          "name": "stderr",
          "text": [
            "training:  43%|████▎     | 2145/5000 [1:13:10<1:33:58,  1.97s/it]"
          ]
        },
        {
          "output_type": "stream",
          "name": "stdout",
          "text": [
            "training loss: 1.3717154264450073\n",
            "training loss: 1.451269507408142\n",
            "training loss: 1.5215888023376465\n",
            "training loss: 1.4266269207000732\n",
            "training loss: 1.4462876319885254\n",
            "training loss: 1.3608241081237793\n"
          ]
        },
        {
          "output_type": "stream",
          "name": "stderr",
          "text": [
            "\rtraining:  43%|████▎     | 2151/5000 [1:13:22<1:33:45,  1.97s/it]"
          ]
        },
        {
          "output_type": "stream",
          "name": "stdout",
          "text": [
            "training loss: 1.4485090970993042\n",
            "training loss: 1.5098307132720947\n",
            "training loss: 1.5447224378585815\n",
            "training loss: 1.4839279651641846\n",
            "training loss: 1.515336513519287\n",
            "training loss: 1.5107868909835815\n"
          ]
        },
        {
          "output_type": "stream",
          "name": "stderr",
          "text": [
            "\rtraining:  43%|████▎     | 2157/5000 [1:13:34<1:33:32,  1.97s/it]"
          ]
        },
        {
          "output_type": "stream",
          "name": "stdout",
          "text": [
            "training loss: 1.492142915725708\n",
            "training loss: 1.5682605504989624\n",
            "training loss: 1.2354097366333008\n",
            "training loss: 1.4610358476638794\n",
            "training loss: 1.5322530269622803\n",
            "training loss: 1.5224558115005493\n"
          ]
        },
        {
          "output_type": "stream",
          "name": "stderr",
          "text": [
            "\rtraining:  43%|████▎     | 2163/5000 [1:13:46<1:33:20,  1.97s/it]"
          ]
        },
        {
          "output_type": "stream",
          "name": "stdout",
          "text": [
            "training loss: 1.466664433479309\n",
            "training loss: 1.490970492362976\n",
            "training loss: 1.4129737615585327\n",
            "training loss: 1.481513261795044\n",
            "training loss: 1.3647198677062988\n",
            "training loss: 1.55741286277771\n"
          ]
        },
        {
          "output_type": "stream",
          "name": "stderr",
          "text": [
            "\rtraining:  43%|████▎     | 2169/5000 [1:13:58<1:33:08,  1.97s/it]"
          ]
        },
        {
          "output_type": "stream",
          "name": "stdout",
          "text": [
            "training loss: 1.5227314233779907\n",
            "training loss: 1.2718018293380737\n",
            "training loss: 1.4790282249450684\n",
            "training loss: 1.5437546968460083\n",
            "training loss: 1.5750516653060913\n",
            "training loss: 1.1361782550811768\n"
          ]
        },
        {
          "output_type": "stream",
          "name": "stderr",
          "text": [
            "\rtraining:  44%|████▎     | 2175/5000 [1:14:10<1:32:56,  1.97s/it]"
          ]
        },
        {
          "output_type": "stream",
          "name": "stdout",
          "text": [
            "training loss: 1.547982096672058\n",
            "training loss: 1.4107939004898071\n",
            "training loss: 1.5078256130218506\n",
            "training loss: 1.6067438125610352\n",
            "training loss: 1.385162115097046\n",
            "training loss: 1.4890717267990112\n"
          ]
        },
        {
          "output_type": "stream",
          "name": "stderr",
          "text": [
            "training:  44%|████▎     | 2181/5000 [1:14:21<1:32:44,  1.97s/it]"
          ]
        },
        {
          "output_type": "stream",
          "name": "stdout",
          "text": [
            "training loss: 1.4932752847671509\n",
            "training loss: 1.582729458808899\n",
            "training loss: 1.6011956930160522\n",
            "training loss: 1.4540406465530396\n",
            "training loss: 1.5075715780258179\n",
            "training loss: 1.505144476890564\n"
          ]
        },
        {
          "output_type": "stream",
          "name": "stderr",
          "text": [
            "\rtraining:  44%|████▎     | 2187/5000 [1:14:33<1:32:32,  1.97s/it]"
          ]
        },
        {
          "output_type": "stream",
          "name": "stdout",
          "text": [
            "training loss: 1.4689435958862305\n",
            "training loss: 1.452980637550354\n",
            "training loss: 1.3785814046859741\n",
            "training loss: 1.2832083702087402\n",
            "training loss: 1.5513120889663696\n",
            "training loss: 1.4949089288711548\n"
          ]
        },
        {
          "output_type": "stream",
          "name": "stderr",
          "text": [
            "\rtraining:  44%|████▍     | 2193/5000 [1:14:45<1:32:20,  1.97s/it]"
          ]
        },
        {
          "output_type": "stream",
          "name": "stdout",
          "text": [
            "training loss: 1.4448703527450562\n",
            "training loss: 1.3783987760543823\n",
            "training loss: 1.3876864910125732\n",
            "training loss: 1.4502184391021729\n",
            "training loss: 1.5197663307189941\n",
            "training loss: 1.5707610845565796\n"
          ]
        },
        {
          "output_type": "stream",
          "name": "stderr",
          "text": [
            "\rtraining:  44%|████▍     | 2199/5000 [1:14:57<1:32:09,  1.97s/it]"
          ]
        },
        {
          "output_type": "stream",
          "name": "stdout",
          "text": [
            "training loss: 1.502610206604004\n",
            "training loss: 1.4582339525222778\n",
            "training loss: 1.6009520292282104\n",
            "validation loss: 1.4297740459442139\n",
            "training loss: 1.4442392587661743\n",
            "training loss: 1.464129090309143\n",
            "training loss: 1.104950189590454\n"
          ]
        },
        {
          "output_type": "stream",
          "name": "stderr",
          "text": [
            "\rtraining:  44%|████▍     | 2205/5000 [1:15:09<1:32:24,  1.98s/it]"
          ]
        },
        {
          "output_type": "stream",
          "name": "stdout",
          "text": [
            "training loss: 1.4296270608901978\n",
            "training loss: 1.0498048067092896\n",
            "training loss: 1.6978373527526855\n",
            "training loss: 1.5373574495315552\n",
            "training loss: 1.4955319166183472\n",
            "training loss: 1.5977555513381958\n"
          ]
        },
        {
          "output_type": "stream",
          "name": "stderr",
          "text": [
            "training:  44%|████▍     | 2211/5000 [1:15:21<1:32:04,  1.98s/it]"
          ]
        },
        {
          "output_type": "stream",
          "name": "stdout",
          "text": [
            "training loss: 1.4780176877975464\n",
            "training loss: 1.5850731134414673\n",
            "training loss: 1.4781122207641602\n",
            "training loss: 1.5578396320343018\n",
            "training loss: 1.5139776468276978\n",
            "training loss: 1.3938556909561157\n"
          ]
        },
        {
          "output_type": "stream",
          "name": "stderr",
          "text": [
            "\rtraining:  44%|████▍     | 2217/5000 [1:15:33<1:31:47,  1.98s/it]"
          ]
        },
        {
          "output_type": "stream",
          "name": "stdout",
          "text": [
            "training loss: 1.545912265777588\n",
            "training loss: 1.590360403060913\n",
            "training loss: 1.3700056076049805\n",
            "training loss: 1.4226950407028198\n",
            "training loss: 1.3833619356155396\n",
            "training loss: 1.538358449935913\n"
          ]
        },
        {
          "output_type": "stream",
          "name": "stderr",
          "text": [
            "\rtraining:  44%|████▍     | 2223/5000 [1:15:45<1:31:31,  1.98s/it]"
          ]
        },
        {
          "output_type": "stream",
          "name": "stdout",
          "text": [
            "training loss: 1.4600483179092407\n",
            "training loss: 1.431481957435608\n",
            "training loss: 1.32584547996521\n",
            "training loss: 1.4340628385543823\n",
            "training loss: 1.434656023979187\n",
            "training loss: 1.469470739364624\n"
          ]
        },
        {
          "output_type": "stream",
          "name": "stderr",
          "text": [
            "\rtraining:  45%|████▍     | 2229/5000 [1:15:56<1:31:16,  1.98s/it]"
          ]
        },
        {
          "output_type": "stream",
          "name": "stdout",
          "text": [
            "training loss: 1.37169349193573\n",
            "training loss: 1.496761679649353\n",
            "training loss: 1.4007840156555176\n",
            "training loss: 1.4388320446014404\n",
            "training loss: 1.3917624950408936\n",
            "training loss: 1.4964476823806763\n"
          ]
        },
        {
          "output_type": "stream",
          "name": "stderr",
          "text": [
            "\rtraining:  45%|████▍     | 2235/5000 [1:16:08<1:31:02,  1.98s/it]"
          ]
        },
        {
          "output_type": "stream",
          "name": "stdout",
          "text": [
            "training loss: 1.5996628999710083\n",
            "training loss: 1.5079609155654907\n",
            "training loss: 1.5505785942077637\n",
            "training loss: 1.6431362628936768\n",
            "training loss: 1.4038935899734497\n",
            "training loss: 1.5362333059310913\n"
          ]
        },
        {
          "output_type": "stream",
          "name": "stderr",
          "text": [
            "training:  45%|████▍     | 2241/5000 [1:16:20<1:30:49,  1.98s/it]"
          ]
        },
        {
          "output_type": "stream",
          "name": "stdout",
          "text": [
            "training loss: 1.4743911027908325\n",
            "training loss: 1.5123202800750732\n",
            "training loss: 1.4904130697250366\n",
            "training loss: 1.5616673231124878\n",
            "training loss: 1.5399361848831177\n",
            "training loss: 1.4524000883102417\n"
          ]
        },
        {
          "output_type": "stream",
          "name": "stderr",
          "text": [
            "\rtraining:  45%|████▍     | 2247/5000 [1:16:32<1:30:36,  1.97s/it]"
          ]
        },
        {
          "output_type": "stream",
          "name": "stdout",
          "text": [
            "training loss: 1.5827856063842773\n",
            "training loss: 1.5491749048233032\n",
            "training loss: 1.4740791320800781\n",
            "training loss: 1.5001680850982666\n",
            "training loss: 1.5859718322753906\n",
            "training loss: 1.4349907636642456\n"
          ]
        },
        {
          "output_type": "stream",
          "name": "stderr",
          "text": [
            "\rtraining:  45%|████▌     | 2253/5000 [1:16:44<1:30:24,  1.97s/it]"
          ]
        },
        {
          "output_type": "stream",
          "name": "stdout",
          "text": [
            "training loss: 1.4090029001235962\n",
            "training loss: 1.5416086912155151\n",
            "training loss: 1.5453368425369263\n",
            "training loss: 1.5606368780136108\n",
            "training loss: 1.5836350917816162\n",
            "training loss: 1.4881421327590942\n"
          ]
        },
        {
          "output_type": "stream",
          "name": "stderr",
          "text": [
            "\rtraining:  45%|████▌     | 2259/5000 [1:16:56<1:30:12,  1.97s/it]"
          ]
        },
        {
          "output_type": "stream",
          "name": "stdout",
          "text": [
            "training loss: 1.4164471626281738\n",
            "training loss: 1.434436321258545\n",
            "training loss: 1.3670555353164673\n",
            "training loss: 1.4829177856445312\n",
            "training loss: 1.4887950420379639\n",
            "training loss: 1.5589414834976196\n"
          ]
        },
        {
          "output_type": "stream",
          "name": "stderr",
          "text": [
            "\rtraining:  45%|████▌     | 2265/5000 [1:17:07<1:30:00,  1.97s/it]"
          ]
        },
        {
          "output_type": "stream",
          "name": "stdout",
          "text": [
            "training loss: 1.453522801399231\n",
            "training loss: 1.3720821142196655\n",
            "training loss: 1.5821293592453003\n",
            "training loss: 1.551682472229004\n",
            "training loss: 1.4603623151779175\n",
            "training loss: 1.5023528337478638\n"
          ]
        },
        {
          "output_type": "stream",
          "name": "stderr",
          "text": [
            "\rtraining:  45%|████▌     | 2271/5000 [1:17:19<1:29:48,  1.97s/it]"
          ]
        },
        {
          "output_type": "stream",
          "name": "stdout",
          "text": [
            "training loss: 1.5786222219467163\n",
            "training loss: 1.311539649963379\n",
            "training loss: 1.449742317199707\n",
            "training loss: 1.362065076828003\n",
            "training loss: 1.3575999736785889\n",
            "training loss: 1.4922062158584595\n"
          ]
        },
        {
          "output_type": "stream",
          "name": "stderr",
          "text": [
            "training:  46%|████▌     | 2277/5000 [1:17:31<1:29:36,  1.97s/it]"
          ]
        },
        {
          "output_type": "stream",
          "name": "stdout",
          "text": [
            "training loss: 1.5234062671661377\n",
            "training loss: 1.448266863822937\n",
            "training loss: 1.5955722332000732\n",
            "training loss: 1.479888916015625\n",
            "training loss: 1.4265832901000977\n",
            "training loss: 1.4114454984664917\n"
          ]
        },
        {
          "output_type": "stream",
          "name": "stderr",
          "text": [
            "\rtraining:  46%|████▌     | 2283/5000 [1:17:43<1:29:24,  1.97s/it]"
          ]
        },
        {
          "output_type": "stream",
          "name": "stdout",
          "text": [
            "training loss: 1.4702788591384888\n",
            "training loss: 1.3849656581878662\n",
            "training loss: 1.4427794218063354\n",
            "training loss: 1.4892200231552124\n",
            "training loss: 1.5225015878677368\n",
            "training loss: 1.5701465606689453\n"
          ]
        },
        {
          "output_type": "stream",
          "name": "stderr",
          "text": [
            "\rtraining:  46%|████▌     | 2289/5000 [1:17:55<1:29:12,  1.97s/it]"
          ]
        },
        {
          "output_type": "stream",
          "name": "stdout",
          "text": [
            "training loss: 1.3917216062545776\n",
            "training loss: 1.4524422883987427\n",
            "training loss: 1.4535472393035889\n",
            "training loss: 1.5841649770736694\n",
            "training loss: 1.1928799152374268\n",
            "training loss: 1.5104057788848877\n"
          ]
        },
        {
          "output_type": "stream",
          "name": "stderr",
          "text": [
            "\rtraining:  46%|████▌     | 2295/5000 [1:18:07<1:28:59,  1.97s/it]"
          ]
        },
        {
          "output_type": "stream",
          "name": "stdout",
          "text": [
            "training loss: 1.4085605144500732\n",
            "training loss: 1.4424883127212524\n",
            "training loss: 1.3944758176803589\n",
            "training loss: 1.5116002559661865\n",
            "training loss: 1.4411293268203735\n",
            "training loss: 1.1395375728607178\n",
            "training loss: 1.420902132987976\n"
          ]
        },
        {
          "output_type": "stream",
          "name": "stderr",
          "text": [
            "\rtraining:  46%|████▌     | 2301/5000 [1:18:19<1:29:14,  1.98s/it]"
          ]
        },
        {
          "output_type": "stream",
          "name": "stdout",
          "text": [
            "validation loss: 1.4113925695419312\n",
            "training loss: 1.4964250326156616\n",
            "training loss: 1.3843914270401\n",
            "training loss: 1.3950762748718262\n",
            "training loss: 1.4872671365737915\n",
            "training loss: 1.4013561010360718\n"
          ]
        },
        {
          "output_type": "stream",
          "name": "stderr",
          "text": [
            "training:  46%|████▌     | 2307/5000 [1:18:31<1:28:54,  1.98s/it]"
          ]
        },
        {
          "output_type": "stream",
          "name": "stdout",
          "text": [
            "training loss: 1.5808643102645874\n",
            "training loss: 1.5200060606002808\n",
            "training loss: 1.4390649795532227\n",
            "training loss: 1.5188202857971191\n",
            "training loss: 1.3367611169815063\n",
            "training loss: 1.507819652557373\n"
          ]
        },
        {
          "output_type": "stream",
          "name": "stderr",
          "text": [
            "\rtraining:  46%|████▋     | 2313/5000 [1:18:42<1:28:36,  1.98s/it]"
          ]
        },
        {
          "output_type": "stream",
          "name": "stdout",
          "text": [
            "training loss: 1.6311488151550293\n",
            "training loss: 1.4781478643417358\n",
            "training loss: 1.4900683164596558\n",
            "training loss: 1.5080465078353882\n",
            "training loss: 1.5446583032608032\n",
            "training loss: 1.3573875427246094\n"
          ]
        },
        {
          "output_type": "stream",
          "name": "stderr",
          "text": [
            "\rtraining:  46%|████▋     | 2319/5000 [1:18:54<1:28:21,  1.98s/it]"
          ]
        },
        {
          "output_type": "stream",
          "name": "stdout",
          "text": [
            "training loss: 1.574008822441101\n",
            "training loss: 1.423016905784607\n",
            "training loss: 1.5542232990264893\n",
            "training loss: 1.5374281406402588\n",
            "training loss: 1.5667998790740967\n",
            "training loss: 1.3592697381973267\n"
          ]
        },
        {
          "output_type": "stream",
          "name": "stderr",
          "text": [
            "\rtraining:  46%|████▋     | 2325/5000 [1:19:06<1:28:06,  1.98s/it]"
          ]
        },
        {
          "output_type": "stream",
          "name": "stdout",
          "text": [
            "training loss: 1.5452841520309448\n",
            "training loss: 1.5337411165237427\n",
            "training loss: 1.570312738418579\n",
            "training loss: 1.5251468420028687\n",
            "training loss: 1.5050863027572632\n",
            "training loss: 1.4406137466430664\n"
          ]
        },
        {
          "output_type": "stream",
          "name": "stderr",
          "text": [
            "\rtraining:  47%|████▋     | 2331/5000 [1:19:18<1:27:52,  1.98s/it]"
          ]
        },
        {
          "output_type": "stream",
          "name": "stdout",
          "text": [
            "training loss: 1.3023337125778198\n",
            "training loss: 1.3829425573349\n",
            "training loss: 1.611348271369934\n",
            "training loss: 1.4705562591552734\n",
            "training loss: 1.5138517618179321\n",
            "training loss: 1.5385643243789673\n"
          ]
        },
        {
          "output_type": "stream",
          "name": "stderr",
          "text": [
            "training:  47%|████▋     | 2337/5000 [1:19:30<1:27:38,  1.97s/it]"
          ]
        },
        {
          "output_type": "stream",
          "name": "stdout",
          "text": [
            "training loss: 1.519639492034912\n",
            "training loss: 1.5362434387207031\n",
            "training loss: 1.5088564157485962\n",
            "training loss: 1.4948956966400146\n",
            "training loss: 1.3572583198547363\n",
            "training loss: 1.6518585681915283\n"
          ]
        },
        {
          "output_type": "stream",
          "name": "stderr",
          "text": [
            "\rtraining:  47%|████▋     | 2343/5000 [1:19:42<1:27:26,  1.97s/it]"
          ]
        },
        {
          "output_type": "stream",
          "name": "stdout",
          "text": [
            "training loss: 1.54188072681427\n",
            "training loss: 1.4991363286972046\n",
            "training loss: 1.43012273311615\n",
            "training loss: 1.4522992372512817\n",
            "training loss: 1.6110782623291016\n",
            "training loss: 1.2975289821624756\n"
          ]
        },
        {
          "output_type": "stream",
          "name": "stderr",
          "text": [
            "\rtraining:  47%|████▋     | 2349/5000 [1:19:53<1:27:14,  1.97s/it]"
          ]
        },
        {
          "output_type": "stream",
          "name": "stdout",
          "text": [
            "training loss: 1.5938270092010498\n",
            "training loss: 1.4312821626663208\n",
            "training loss: 1.5129860639572144\n",
            "training loss: 1.5059934854507446\n",
            "training loss: 1.3966273069381714\n",
            "training loss: 1.6138120889663696\n"
          ]
        },
        {
          "output_type": "stream",
          "name": "stderr",
          "text": [
            "\rtraining:  47%|████▋     | 2355/5000 [1:20:05<1:27:01,  1.97s/it]"
          ]
        },
        {
          "output_type": "stream",
          "name": "stdout",
          "text": [
            "training loss: 1.3586698770523071\n",
            "training loss: 1.4823286533355713\n",
            "training loss: 1.6970815658569336\n",
            "training loss: 1.5186095237731934\n",
            "training loss: 1.4960825443267822\n",
            "training loss: 1.5000892877578735\n"
          ]
        },
        {
          "output_type": "stream",
          "name": "stderr",
          "text": [
            "\rtraining:  47%|████▋     | 2361/5000 [1:20:17<1:26:49,  1.97s/it]"
          ]
        },
        {
          "output_type": "stream",
          "name": "stdout",
          "text": [
            "training loss: 1.4280873537063599\n",
            "training loss: 1.4937750101089478\n",
            "training loss: 1.4548616409301758\n",
            "training loss: 1.3112345933914185\n",
            "training loss: 1.4673659801483154\n",
            "training loss: 1.5364089012145996\n"
          ]
        },
        {
          "output_type": "stream",
          "name": "stderr",
          "text": [
            "\rtraining:  47%|████▋     | 2367/5000 [1:20:29<1:26:37,  1.97s/it]"
          ]
        },
        {
          "output_type": "stream",
          "name": "stdout",
          "text": [
            "training loss: 1.4224082231521606\n",
            "training loss: 1.52135169506073\n",
            "training loss: 1.586904525756836\n",
            "training loss: 1.614850640296936\n",
            "training loss: 1.464375376701355\n",
            "training loss: 1.4884945154190063\n"
          ]
        },
        {
          "output_type": "stream",
          "name": "stderr",
          "text": [
            "training:  47%|████▋     | 2373/5000 [1:20:41<1:26:26,  1.97s/it]"
          ]
        },
        {
          "output_type": "stream",
          "name": "stdout",
          "text": [
            "training loss: 1.476321816444397\n",
            "training loss: 1.3214821815490723\n",
            "training loss: 1.4575172662734985\n",
            "training loss: 1.4554252624511719\n",
            "training loss: 1.4631333351135254\n",
            "training loss: 1.4494651556015015\n"
          ]
        },
        {
          "output_type": "stream",
          "name": "stderr",
          "text": [
            "\rtraining:  48%|████▊     | 2379/5000 [1:20:53<1:26:13,  1.97s/it]"
          ]
        },
        {
          "output_type": "stream",
          "name": "stdout",
          "text": [
            "training loss: 1.3709290027618408\n",
            "training loss: 1.4717276096343994\n",
            "training loss: 1.4897176027297974\n",
            "training loss: 1.397987961769104\n",
            "training loss: 1.561790943145752\n",
            "training loss: 1.3634189367294312\n"
          ]
        },
        {
          "output_type": "stream",
          "name": "stderr",
          "text": [
            "\rtraining:  48%|████▊     | 2385/5000 [1:21:05<1:26:01,  1.97s/it]"
          ]
        },
        {
          "output_type": "stream",
          "name": "stdout",
          "text": [
            "training loss: 1.400962233543396\n",
            "training loss: 1.4524236917495728\n",
            "training loss: 1.4325730800628662\n",
            "training loss: 1.5832629203796387\n",
            "training loss: 1.4355380535125732\n",
            "training loss: 1.4999407529830933\n"
          ]
        },
        {
          "output_type": "stream",
          "name": "stderr",
          "text": [
            "\rtraining:  48%|████▊     | 2391/5000 [1:21:16<1:25:50,  1.97s/it]"
          ]
        },
        {
          "output_type": "stream",
          "name": "stdout",
          "text": [
            "training loss: 1.3997893333435059\n",
            "training loss: 1.4153000116348267\n",
            "training loss: 1.3645703792572021\n",
            "training loss: 1.4864288568496704\n",
            "training loss: 1.5480163097381592\n",
            "training loss: 1.5054142475128174\n"
          ]
        },
        {
          "output_type": "stream",
          "name": "stderr",
          "text": [
            "\rtraining:  48%|████▊     | 2397/5000 [1:21:28<1:25:38,  1.97s/it]"
          ]
        },
        {
          "output_type": "stream",
          "name": "stdout",
          "text": [
            "training loss: 1.393418788909912\n",
            "training loss: 1.4602296352386475\n",
            "training loss: 1.5171171426773071\n",
            "training loss: 1.6022528409957886\n",
            "training loss: 1.6039952039718628\n",
            "validation loss: 1.4400657415390015\n",
            "training loss: 1.4068018198013306\n"
          ]
        },
        {
          "output_type": "stream",
          "name": "stderr",
          "text": [
            "training:  48%|████▊     | 2403/5000 [1:21:40<1:25:52,  1.98s/it]"
          ]
        },
        {
          "output_type": "stream",
          "name": "stdout",
          "text": [
            "training loss: 1.4583525657653809\n",
            "training loss: 1.4003838300704956\n",
            "training loss: 1.3806527853012085\n",
            "training loss: 1.443398118019104\n",
            "training loss: 1.458499550819397\n",
            "training loss: 1.5207079648971558\n"
          ]
        },
        {
          "output_type": "stream",
          "name": "stderr",
          "text": [
            "\rtraining:  48%|████▊     | 2409/5000 [1:21:52<1:25:32,  1.98s/it]"
          ]
        },
        {
          "output_type": "stream",
          "name": "stdout",
          "text": [
            "training loss: 1.4926217794418335\n",
            "training loss: 1.4821995496749878\n",
            "training loss: 1.524922251701355\n",
            "training loss: 1.4760712385177612\n",
            "training loss: 1.390710711479187\n",
            "training loss: 1.425916075706482\n"
          ]
        },
        {
          "output_type": "stream",
          "name": "stderr",
          "text": [
            "\rtraining:  48%|████▊     | 2415/5000 [1:22:04<1:25:15,  1.98s/it]"
          ]
        },
        {
          "output_type": "stream",
          "name": "stdout",
          "text": [
            "training loss: 1.3962746858596802\n",
            "training loss: 1.3792188167572021\n",
            "training loss: 1.4668831825256348\n",
            "training loss: 1.5160837173461914\n",
            "training loss: 1.480962872505188\n",
            "training loss: 1.4954934120178223\n"
          ]
        },
        {
          "output_type": "stream",
          "name": "stderr",
          "text": [
            "\rtraining:  48%|████▊     | 2421/5000 [1:22:16<1:25:00,  1.98s/it]"
          ]
        },
        {
          "output_type": "stream",
          "name": "stdout",
          "text": [
            "training loss: 1.5213476419448853\n",
            "training loss: 1.5006370544433594\n",
            "training loss: 1.5067766904830933\n",
            "training loss: 1.5151244401931763\n",
            "training loss: 1.4881136417388916\n",
            "training loss: 1.5184592008590698\n"
          ]
        },
        {
          "output_type": "stream",
          "name": "stderr",
          "text": [
            "\rtraining:  49%|████▊     | 2427/5000 [1:22:28<1:24:45,  1.98s/it]"
          ]
        },
        {
          "output_type": "stream",
          "name": "stdout",
          "text": [
            "training loss: 1.3998000621795654\n",
            "training loss: 1.3880025148391724\n",
            "training loss: 1.4722272157669067\n",
            "training loss: 1.4645578861236572\n",
            "training loss: 1.4453388452529907\n",
            "training loss: 1.5272578001022339\n"
          ]
        },
        {
          "output_type": "stream",
          "name": "stderr",
          "text": [
            "\rtraining:  49%|████▊     | 2433/5000 [1:22:39<1:24:31,  1.98s/it]"
          ]
        },
        {
          "output_type": "stream",
          "name": "stdout",
          "text": [
            "training loss: 1.3901305198669434\n",
            "training loss: 1.3930617570877075\n",
            "training loss: 1.4912856817245483\n",
            "training loss: 1.4860739707946777\n",
            "training loss: 1.5564329624176025\n",
            "training loss: 1.4259284734725952\n"
          ]
        },
        {
          "output_type": "stream",
          "name": "stderr",
          "text": [
            "training:  49%|████▉     | 2439/5000 [1:22:51<1:24:18,  1.98s/it]"
          ]
        },
        {
          "output_type": "stream",
          "name": "stdout",
          "text": [
            "training loss: 1.4523907899856567\n",
            "training loss: 1.463611364364624\n",
            "training loss: 1.3928449153900146\n",
            "training loss: 1.574324131011963\n",
            "training loss: 1.4591643810272217\n",
            "training loss: 1.3042166233062744\n"
          ]
        },
        {
          "output_type": "stream",
          "name": "stderr",
          "text": [
            "\rtraining:  49%|████▉     | 2445/5000 [1:23:03<1:24:04,  1.97s/it]"
          ]
        },
        {
          "output_type": "stream",
          "name": "stdout",
          "text": [
            "training loss: 1.5648009777069092\n",
            "training loss: 1.429388403892517\n",
            "training loss: 1.5241044759750366\n",
            "training loss: 1.5389002561569214\n",
            "training loss: 1.4755939245224\n",
            "training loss: 1.5177655220031738\n"
          ]
        },
        {
          "output_type": "stream",
          "name": "stderr",
          "text": [
            "\rtraining:  49%|████▉     | 2451/5000 [1:23:15<1:23:52,  1.97s/it]"
          ]
        },
        {
          "output_type": "stream",
          "name": "stdout",
          "text": [
            "training loss: 1.5474107265472412\n",
            "training loss: 1.4395835399627686\n",
            "training loss: 1.4885929822921753\n",
            "training loss: 1.4569458961486816\n",
            "training loss: 1.6389286518096924\n",
            "training loss: 1.5230343341827393\n"
          ]
        },
        {
          "output_type": "stream",
          "name": "stderr",
          "text": [
            "\rtraining:  49%|████▉     | 2457/5000 [1:23:27<1:23:40,  1.97s/it]"
          ]
        },
        {
          "output_type": "stream",
          "name": "stdout",
          "text": [
            "training loss: 1.511275053024292\n",
            "training loss: 1.3816393613815308\n",
            "training loss: 1.5437973737716675\n",
            "training loss: 1.5529630184173584\n",
            "training loss: 1.5296440124511719\n",
            "training loss: 1.4419069290161133\n"
          ]
        },
        {
          "output_type": "stream",
          "name": "stderr",
          "text": [
            "\rtraining:  49%|████▉     | 2463/5000 [1:23:39<1:23:28,  1.97s/it]"
          ]
        },
        {
          "output_type": "stream",
          "name": "stdout",
          "text": [
            "training loss: 1.5569013357162476\n",
            "training loss: 1.4175387620925903\n",
            "training loss: 1.4630577564239502\n",
            "training loss: 1.310253620147705\n",
            "training loss: 1.4302693605422974\n",
            "training loss: 1.3716628551483154\n"
          ]
        },
        {
          "output_type": "stream",
          "name": "stderr",
          "text": [
            "training:  49%|████▉     | 2469/5000 [1:23:51<1:23:16,  1.97s/it]"
          ]
        },
        {
          "output_type": "stream",
          "name": "stdout",
          "text": [
            "training loss: 1.4591325521469116\n",
            "training loss: 1.5251295566558838\n",
            "training loss: 1.618332862854004\n",
            "training loss: 1.4637573957443237\n",
            "training loss: 1.413881540298462\n",
            "training loss: 1.5295159816741943\n"
          ]
        },
        {
          "output_type": "stream",
          "name": "stderr",
          "text": [
            "\rtraining:  50%|████▉     | 2475/5000 [1:24:02<1:23:04,  1.97s/it]"
          ]
        },
        {
          "output_type": "stream",
          "name": "stdout",
          "text": [
            "training loss: 1.4725360870361328\n",
            "training loss: 1.592060923576355\n",
            "training loss: 1.5240525007247925\n",
            "training loss: 1.4783356189727783\n",
            "training loss: 1.638056755065918\n",
            "training loss: 1.4668328762054443\n"
          ]
        },
        {
          "output_type": "stream",
          "name": "stderr",
          "text": [
            "\rtraining:  50%|████▉     | 2481/5000 [1:24:14<1:22:52,  1.97s/it]"
          ]
        },
        {
          "output_type": "stream",
          "name": "stdout",
          "text": [
            "training loss: 1.5748533010482788\n",
            "training loss: 1.4890987873077393\n",
            "training loss: 1.5562396049499512\n",
            "training loss: 1.4392669200897217\n",
            "training loss: 1.4450868368148804\n",
            "training loss: 1.4433006048202515\n"
          ]
        },
        {
          "output_type": "stream",
          "name": "stderr",
          "text": [
            "\rtraining:  50%|████▉     | 2487/5000 [1:24:26<1:22:40,  1.97s/it]"
          ]
        },
        {
          "output_type": "stream",
          "name": "stdout",
          "text": [
            "training loss: 1.615090012550354\n",
            "training loss: 1.4791686534881592\n",
            "training loss: 1.5248620510101318\n",
            "training loss: 1.4757966995239258\n",
            "training loss: 1.5109367370605469\n",
            "training loss: 1.4125174283981323\n"
          ]
        },
        {
          "output_type": "stream",
          "name": "stderr",
          "text": [
            "\rtraining:  50%|████▉     | 2493/5000 [1:24:38<1:22:28,  1.97s/it]"
          ]
        },
        {
          "output_type": "stream",
          "name": "stdout",
          "text": [
            "training loss: 1.4464439153671265\n",
            "training loss: 1.5197207927703857\n",
            "training loss: 1.4113876819610596\n",
            "training loss: 1.4292123317718506\n",
            "training loss: 1.4531874656677246\n",
            "training loss: 1.375632405281067\n"
          ]
        },
        {
          "output_type": "stream",
          "name": "stderr",
          "text": [
            "training:  50%|████▉     | 2499/5000 [1:24:50<1:22:16,  1.97s/it]"
          ]
        },
        {
          "output_type": "stream",
          "name": "stdout",
          "text": [
            "training loss: 1.4488717317581177\n",
            "training loss: 1.5116190910339355\n",
            "training loss: 1.4344888925552368\n",
            "validation loss: 1.3360271453857422\n",
            "%s \n",
            "\n",
            " %s (\"ions he needed and while he could not resort to open torture, whatever means he did use must have been fearsome because Newton himself later ordered all records of these interrogations to be destroyed. However he did it, Newton won his convictions and in February 1699, he had ten prisoners waiting to be executed.  Newton's greatest triumph as the king's attorney was against [[William Chaloner]]. Chaloner was a rogue with a devious intelligence. He set up phoney conspiracies of Catholics and then turned in the hapless conspirators whom he entrapped. Chaloner made himself rich enough to posture as a gentleman. Petitioning [[Parliament of England|Parliament]], Chaloner accused the Mint of providing tools to counterfeiters. (This charge was made also by others.) He proposed that he be allowed to inspect the Mint's processes in order to improve them. He petitioned Parliament to adopt his plans for a coinage that could not be counterfeited. All the time, he struck false coins, or so Newton eventually proved to a court of competent jurisdiction. On [[March 23]], 1699, Chaloner was [[hanged, drawn and quartered]].  ==Enlightenment philosophers== Enlightenment philosophers chose a short history of scientific predecessorsâ\\x80\\x94[[Galileo Galilei|Galileo]], Boyle, and Newton principallyâ\\x80\\x94as the guides and guarantors of their applications of the singular concept of [[Nature]] and [[Natural law|Natural Law]] to every physical and social field of the day. In this respect, the lessons of history and the social structures built upon it could be discarded.{{fn|19}}  It was Newtonâ\\x80\\x99s conception of the universe based upon Natural and rationally understandable laws that became the seed for Enlightenment [[ideology]]. [[John Locke|Locke]] and [[Voltaire]] applied concepts of Natural Law to political systems advocating intrinsic rights; the [[physiocrat]]s and [[Adam Smith]] applied Natural conceptions of [[psychology]] and [[self-interest]] to economic systems and the [[sociology|sociologists]] critiqued how the current [[social order]] fit history into Natural models of [[progress]].  ==Newton's legacy== [[Image:StatueOfIsaacNewton.jpg|thumb|left|Statue of Newton by [[Louis-FranÃ§ois Roubiliac]] in the antechapel of [[Trinity College, Cambridge]]]]  Newton's [[Newton's laws of motion|laws of motion]] and gravity provided a basis for predicting a wide variety of different scientific or engineering situations, especially the motion of [[celestial bodies]]. His calculus proved vitally important to the development of further scientific theories. Finally, he unified many of the isolated physics facts that had been discovered earlier into a satisfying system of laws. Newton's conceptions of gravity and mechanics, though not entirely correct in light of Einstein's [[Theory of Relativity]], still represent an enormous step in the evolution of human understanding of the universe. For this reason, he is generally considered one of history's greatest scientists.  In 1717, the [[Kingdom of Great Britain]] went on to an unofficial [[gold standard]] when Newton, then Master of the Mint, established a fixed price of Â£3.17.10 Â½d per standard (22 carat) [[troy ounce]], equal to Â£4.4.11 Â½d per [[fine ounce]]. Under the gold standard the value of the [[pound (currency)|pound]] (measured in gold weight) remained largely constant until the beginning of the 20th century.  Newton is reputed to have invented the [[cat flap]]. This was said to be done so that he would not have to disrupt his optical experiments, conducted in a darkened room, to let his cat in or out.  [[Newtonmas]] is a holiday celebrated by some scientists as an alternative to [[Christmas]], taking advantage of the fact that Newton's birthday falls on [[25 December]].  In July 1992, the [[Isaac Newton Institute|Isaac Newton Institute for Mathematical Sciences]] was opened at Cambridge University - it is regarded as the [[United Kingdom]]'s national institute for mathematical research.  == Newton's Three Laws == The famous three laws of Newton, paraphrased. # Newton's First law (also known as the\", '****************************************************************************************************')\n"
          ]
        },
        {
          "output_type": "stream",
          "name": "stderr",
          "text": [
            "training:  50%|█████     | 2501/5000 [1:25:24<2:41:22,  3.87s/it]"
          ]
        },
        {
          "output_type": "stream",
          "name": "stdout",
          "text": [
            " power clogress ''Scroussexual City Poloral Brall advic Dephine'', ectionaing messenche, allocian meric singlish style interest work producations, the [[Alexac Hahing Represerving of Lanticle Casular Malans Paddition]]. # The gave [[Laname Coleche]], ands of [[Gobsounds]]. The sancism chailors of publishment [[commusion]], as ame in [[Brofestantion]], other and two to at Dention's mave that many rediations at the [[moded Sideric progration|Clling]] pauly [[Miscitypervity]]. In interestate, a book and musion\n",
            "training loss: 1.5274105072021484\n",
            "training loss: 1.4186439514160156\n",
            "training loss: 1.4976403713226318\n",
            "training loss: 1.4573097229003906\n",
            "training loss: 1.5500776767730713\n"
          ]
        },
        {
          "output_type": "stream",
          "name": "stderr",
          "text": [
            "\rtraining:  50%|█████     | 2507/5000 [1:25:36<2:13:26,  3.21s/it]"
          ]
        },
        {
          "output_type": "stream",
          "name": "stdout",
          "text": [
            "training loss: 1.367200493812561\n",
            "training loss: 1.4611049890518188\n",
            "training loss: 1.4455716609954834\n",
            "training loss: 1.3743999004364014\n",
            "training loss: 1.3386892080307007\n",
            "training loss: 1.3506529331207275\n"
          ]
        },
        {
          "output_type": "stream",
          "name": "stderr",
          "text": [
            "\rtraining:  50%|█████     | 2513/5000 [1:25:48<1:56:03,  2.80s/it]"
          ]
        },
        {
          "output_type": "stream",
          "name": "stdout",
          "text": [
            "training loss: 1.5534491539001465\n",
            "training loss: 1.4996836185455322\n",
            "training loss: 1.495040774345398\n",
            "training loss: 1.3229445219039917\n",
            "training loss: 1.509427547454834\n",
            "training loss: 1.4497098922729492\n"
          ]
        },
        {
          "output_type": "stream",
          "name": "stderr",
          "text": [
            "\rtraining:  50%|█████     | 2519/5000 [1:26:00<1:44:46,  2.53s/it]"
          ]
        },
        {
          "output_type": "stream",
          "name": "stdout",
          "text": [
            "training loss: 1.5071412324905396\n",
            "training loss: 1.4704558849334717\n",
            "training loss: 1.5138578414916992\n",
            "training loss: 1.4701573848724365\n",
            "training loss: 1.5453656911849976\n",
            "training loss: 1.5910794734954834\n"
          ]
        },
        {
          "output_type": "stream",
          "name": "stderr",
          "text": [
            "training:  50%|█████     | 2525/5000 [1:26:11<1:37:14,  2.36s/it]"
          ]
        },
        {
          "output_type": "stream",
          "name": "stdout",
          "text": [
            "training loss: 1.3850725889205933\n",
            "training loss: 1.5422254800796509\n",
            "training loss: 1.5067830085754395\n",
            "training loss: 1.4456076622009277\n",
            "training loss: 1.4239284992218018\n",
            "training loss: 1.474172592163086\n"
          ]
        },
        {
          "output_type": "stream",
          "name": "stderr",
          "text": [
            "\rtraining:  51%|█████     | 2531/5000 [1:26:23<1:32:06,  2.24s/it]"
          ]
        },
        {
          "output_type": "stream",
          "name": "stdout",
          "text": [
            "training loss: 1.4744813442230225\n",
            "training loss: 1.4508769512176514\n",
            "training loss: 1.4415595531463623\n",
            "training loss: 1.3849575519561768\n",
            "training loss: 1.3606880903244019\n",
            "training loss: 1.3952157497406006\n"
          ]
        },
        {
          "output_type": "stream",
          "name": "stderr",
          "text": [
            "\rtraining:  51%|█████     | 2537/5000 [1:26:35<1:28:32,  2.16s/it]"
          ]
        },
        {
          "output_type": "stream",
          "name": "stdout",
          "text": [
            "training loss: 1.4004689455032349\n",
            "training loss: 1.3493802547454834\n",
            "training loss: 1.6067720651626587\n",
            "training loss: 1.450308084487915\n",
            "training loss: 1.4411823749542236\n",
            "training loss: 1.462376356124878\n"
          ]
        },
        {
          "output_type": "stream",
          "name": "stderr",
          "text": [
            "\rtraining:  51%|█████     | 2543/5000 [1:26:47<1:26:02,  2.10s/it]"
          ]
        },
        {
          "output_type": "stream",
          "name": "stdout",
          "text": [
            "training loss: 1.380367398262024\n",
            "training loss: 1.6811330318450928\n",
            "training loss: 1.6178863048553467\n",
            "training loss: 1.4283390045166016\n",
            "training loss: 1.4642523527145386\n",
            "training loss: 1.406484842300415\n"
          ]
        },
        {
          "output_type": "stream",
          "name": "stderr",
          "text": [
            "\rtraining:  51%|█████     | 2549/5000 [1:26:59<1:24:15,  2.06s/it]"
          ]
        },
        {
          "output_type": "stream",
          "name": "stdout",
          "text": [
            "training loss: 1.5224775075912476\n",
            "training loss: 1.5051193237304688\n",
            "training loss: 1.4451375007629395\n",
            "training loss: 1.5101481676101685\n",
            "training loss: 1.3654910326004028\n",
            "training loss: 1.4283180236816406\n"
          ]
        },
        {
          "output_type": "stream",
          "name": "stderr",
          "text": [
            "training:  51%|█████     | 2555/5000 [1:27:11<1:22:57,  2.04s/it]"
          ]
        },
        {
          "output_type": "stream",
          "name": "stdout",
          "text": [
            "training loss: 1.3654963970184326\n",
            "training loss: 1.51004159450531\n",
            "training loss: 1.4513298273086548\n",
            "training loss: 1.3901221752166748\n",
            "training loss: 1.5391881465911865\n",
            "training loss: 1.4687719345092773\n"
          ]
        },
        {
          "output_type": "stream",
          "name": "stderr",
          "text": [
            "\rtraining:  51%|█████     | 2561/5000 [1:27:23<1:21:58,  2.02s/it]"
          ]
        },
        {
          "output_type": "stream",
          "name": "stdout",
          "text": [
            "training loss: 1.3366835117340088\n",
            "training loss: 1.5144305229187012\n",
            "training loss: 1.454336166381836\n",
            "training loss: 1.4602642059326172\n",
            "training loss: 1.6042946577072144\n",
            "training loss: 1.4813721179962158\n"
          ]
        },
        {
          "output_type": "stream",
          "name": "stderr",
          "text": [
            "\rtraining:  51%|█████▏    | 2567/5000 [1:27:34<1:21:14,  2.00s/it]"
          ]
        },
        {
          "output_type": "stream",
          "name": "stdout",
          "text": [
            "training loss: 1.4895073175430298\n",
            "training loss: 1.5736160278320312\n",
            "training loss: 1.5038435459136963\n",
            "training loss: 1.5236797332763672\n",
            "training loss: 1.6492308378219604\n",
            "training loss: 1.4121348857879639\n"
          ]
        },
        {
          "output_type": "stream",
          "name": "stderr",
          "text": [
            "\rtraining:  51%|█████▏    | 2573/5000 [1:27:46<1:20:40,  1.99s/it]"
          ]
        },
        {
          "output_type": "stream",
          "name": "stdout",
          "text": [
            "training loss: 1.441127061843872\n",
            "training loss: 1.633342981338501\n",
            "training loss: 1.4390132427215576\n",
            "training loss: 1.411159634590149\n",
            "training loss: 1.439659595489502\n",
            "training loss: 1.572246789932251\n"
          ]
        },
        {
          "output_type": "stream",
          "name": "stderr",
          "text": [
            "\rtraining:  52%|█████▏    | 2579/5000 [1:27:58<1:20:13,  1.99s/it]"
          ]
        },
        {
          "output_type": "stream",
          "name": "stdout",
          "text": [
            "training loss: 1.4082229137420654\n",
            "training loss: 1.4021708965301514\n",
            "training loss: 1.7389404773712158\n",
            "training loss: 1.4702954292297363\n",
            "training loss: 1.5183342695236206\n",
            "training loss: 1.4427638053894043\n"
          ]
        },
        {
          "output_type": "stream",
          "name": "stderr",
          "text": [
            "training:  52%|█████▏    | 2585/5000 [1:28:10<1:19:51,  1.98s/it]"
          ]
        },
        {
          "output_type": "stream",
          "name": "stdout",
          "text": [
            "training loss: 1.4668574333190918\n",
            "training loss: 1.3932582139968872\n",
            "training loss: 1.4466314315795898\n",
            "training loss: 1.5022547245025635\n",
            "training loss: 1.358510971069336\n",
            "training loss: 1.4100556373596191\n"
          ]
        },
        {
          "output_type": "stream",
          "name": "stderr",
          "text": [
            "\rtraining:  52%|█████▏    | 2591/5000 [1:28:22<1:19:31,  1.98s/it]"
          ]
        },
        {
          "output_type": "stream",
          "name": "stdout",
          "text": [
            "training loss: 1.4922749996185303\n",
            "training loss: 1.4572982788085938\n",
            "training loss: 1.5110998153686523\n",
            "training loss: 1.397215485572815\n",
            "training loss: 1.529426097869873\n",
            "training loss: 1.4722217321395874\n"
          ]
        },
        {
          "output_type": "stream",
          "name": "stderr",
          "text": [
            "\rtraining:  52%|█████▏    | 2597/5000 [1:28:34<1:19:14,  1.98s/it]"
          ]
        },
        {
          "output_type": "stream",
          "name": "stdout",
          "text": [
            "training loss: 1.4078972339630127\n",
            "training loss: 1.4160569906234741\n",
            "training loss: 1.464709997177124\n",
            "training loss: 1.4488074779510498\n",
            "training loss: 1.4474294185638428\n",
            "validation loss: 1.3451194763183594\n",
            "training loss: 1.476523995399475\n"
          ]
        },
        {
          "output_type": "stream",
          "name": "stderr",
          "text": [
            "\rtraining:  52%|█████▏    | 2603/5000 [1:28:46<1:19:22,  1.99s/it]"
          ]
        },
        {
          "output_type": "stream",
          "name": "stdout",
          "text": [
            "training loss: 1.4421145915985107\n",
            "training loss: 1.4714386463165283\n",
            "training loss: 1.3317002058029175\n",
            "training loss: 1.4668577909469604\n",
            "training loss: 1.3183305263519287\n",
            "training loss: 1.3284685611724854\n"
          ]
        },
        {
          "output_type": "stream",
          "name": "stderr",
          "text": [
            "\rtraining:  52%|█████▏    | 2609/5000 [1:28:57<1:19:01,  1.98s/it]"
          ]
        },
        {
          "output_type": "stream",
          "name": "stdout",
          "text": [
            "training loss: 1.5868467092514038\n",
            "training loss: 1.5020699501037598\n",
            "training loss: 1.4820196628570557\n",
            "training loss: 1.525510311126709\n",
            "training loss: 1.4575167894363403\n",
            "training loss: 1.4665002822875977\n"
          ]
        },
        {
          "output_type": "stream",
          "name": "stderr",
          "text": [
            "\rtraining:  52%|█████▏    | 2615/5000 [1:29:09<1:18:42,  1.98s/it]"
          ]
        },
        {
          "output_type": "stream",
          "name": "stdout",
          "text": [
            "training loss: 1.4406886100769043\n",
            "training loss: 1.5231627225875854\n",
            "training loss: 1.4316298961639404\n",
            "training loss: 1.4756731986999512\n",
            "training loss: 1.452451229095459\n",
            "training loss: 1.4819577932357788\n"
          ]
        },
        {
          "output_type": "stream",
          "name": "stderr",
          "text": [
            "training:  52%|█████▏    | 2621/5000 [1:29:21<1:18:26,  1.98s/it]"
          ]
        },
        {
          "output_type": "stream",
          "name": "stdout",
          "text": [
            "training loss: 1.4640288352966309\n",
            "training loss: 1.4950926303863525\n",
            "training loss: 1.578385591506958\n",
            "training loss: 1.2879023551940918\n",
            "training loss: 1.6484403610229492\n",
            "training loss: 1.5810848474502563\n"
          ]
        },
        {
          "output_type": "stream",
          "name": "stderr",
          "text": [
            "\rtraining:  53%|█████▎    | 2627/5000 [1:29:33<1:18:11,  1.98s/it]"
          ]
        },
        {
          "output_type": "stream",
          "name": "stdout",
          "text": [
            "training loss: 1.4277764558792114\n",
            "training loss: 1.585605263710022\n",
            "training loss: 1.5923900604248047\n",
            "training loss: 1.2095086574554443\n",
            "training loss: 1.5643696784973145\n",
            "training loss: 1.4782315492630005\n"
          ]
        },
        {
          "output_type": "stream",
          "name": "stderr",
          "text": [
            "\rtraining:  53%|█████▎    | 2633/5000 [1:29:45<1:17:57,  1.98s/it]"
          ]
        },
        {
          "output_type": "stream",
          "name": "stdout",
          "text": [
            "training loss: 1.471083164215088\n",
            "training loss: 1.4867162704467773\n",
            "training loss: 1.3886065483093262\n",
            "training loss: 1.4520931243896484\n",
            "training loss: 1.4110791683197021\n",
            "training loss: 1.6585050821304321\n"
          ]
        },
        {
          "output_type": "stream",
          "name": "stderr",
          "text": [
            "\rtraining:  53%|█████▎    | 2639/5000 [1:29:57<1:17:43,  1.98s/it]"
          ]
        },
        {
          "output_type": "stream",
          "name": "stdout",
          "text": [
            "training loss: 1.4968129396438599\n",
            "training loss: 1.4573420286178589\n",
            "training loss: 1.535170316696167\n",
            "training loss: 1.4674654006958008\n",
            "training loss: 1.442504644393921\n",
            "training loss: 1.4056684970855713\n"
          ]
        },
        {
          "output_type": "stream",
          "name": "stderr",
          "text": [
            "\rtraining:  53%|█████▎    | 2645/5000 [1:30:09<1:17:31,  1.98s/it]"
          ]
        },
        {
          "output_type": "stream",
          "name": "stdout",
          "text": [
            "training loss: 1.5973424911499023\n",
            "training loss: 1.6033202409744263\n",
            "training loss: 1.398059606552124\n",
            "training loss: 1.536982774734497\n",
            "training loss: 1.3715267181396484\n",
            "training loss: 1.3828250169754028\n"
          ]
        },
        {
          "output_type": "stream",
          "name": "stderr",
          "text": [
            "training:  53%|█████▎    | 2651/5000 [1:30:20<1:17:18,  1.97s/it]"
          ]
        },
        {
          "output_type": "stream",
          "name": "stdout",
          "text": [
            "training loss: 1.5785471200942993\n",
            "training loss: 1.4191560745239258\n",
            "training loss: 1.3994569778442383\n",
            "training loss: 1.5777851343154907\n",
            "training loss: 1.537869930267334\n",
            "training loss: 1.442599892616272\n"
          ]
        },
        {
          "output_type": "stream",
          "name": "stderr",
          "text": [
            "\rtraining:  53%|█████▎    | 2657/5000 [1:30:32<1:17:06,  1.97s/it]"
          ]
        },
        {
          "output_type": "stream",
          "name": "stdout",
          "text": [
            "training loss: 1.4239836931228638\n",
            "training loss: 1.5017503499984741\n",
            "training loss: 1.3802084922790527\n",
            "training loss: 1.484357476234436\n",
            "training loss: 1.395378589630127\n",
            "training loss: 1.5146007537841797\n"
          ]
        },
        {
          "output_type": "stream",
          "name": "stderr",
          "text": [
            "\rtraining:  53%|█████▎    | 2663/5000 [1:30:44<1:16:54,  1.97s/it]"
          ]
        },
        {
          "output_type": "stream",
          "name": "stdout",
          "text": [
            "training loss: 1.473756194114685\n",
            "training loss: 1.3476955890655518\n",
            "training loss: 1.4151272773742676\n",
            "training loss: 1.4026511907577515\n",
            "training loss: 1.354620099067688\n",
            "training loss: 1.4635355472564697\n"
          ]
        },
        {
          "output_type": "stream",
          "name": "stderr",
          "text": [
            "\rtraining:  53%|█████▎    | 2669/5000 [1:30:56<1:16:41,  1.97s/it]"
          ]
        },
        {
          "output_type": "stream",
          "name": "stdout",
          "text": [
            "training loss: 1.4088468551635742\n",
            "training loss: 1.3927849531173706\n",
            "training loss: 1.4386404752731323\n",
            "training loss: 1.361180067062378\n",
            "training loss: 1.4144738912582397\n",
            "training loss: 1.6605652570724487\n"
          ]
        },
        {
          "output_type": "stream",
          "name": "stderr",
          "text": [
            "\rtraining:  54%|█████▎    | 2675/5000 [1:31:08<1:16:29,  1.97s/it]"
          ]
        },
        {
          "output_type": "stream",
          "name": "stdout",
          "text": [
            "training loss: 1.4612001180648804\n",
            "training loss: 1.5356841087341309\n",
            "training loss: 1.5029089450836182\n",
            "training loss: 1.44279146194458\n",
            "training loss: 1.5184760093688965\n",
            "training loss: 1.526172161102295\n"
          ]
        },
        {
          "output_type": "stream",
          "name": "stderr",
          "text": [
            "\rtraining:  54%|█████▎    | 2681/5000 [1:31:20<1:16:16,  1.97s/it]"
          ]
        },
        {
          "output_type": "stream",
          "name": "stdout",
          "text": [
            "training loss: 1.5176576375961304\n",
            "training loss: 1.407949686050415\n",
            "training loss: 1.3533132076263428\n",
            "training loss: 1.3798655271530151\n",
            "training loss: 1.4352809190750122\n",
            "training loss: 1.427959680557251\n"
          ]
        },
        {
          "output_type": "stream",
          "name": "stderr",
          "text": [
            "training:  54%|█████▎    | 2687/5000 [1:31:31<1:16:04,  1.97s/it]"
          ]
        },
        {
          "output_type": "stream",
          "name": "stdout",
          "text": [
            "training loss: 1.4403902292251587\n",
            "training loss: 1.5429234504699707\n",
            "training loss: 1.5122528076171875\n",
            "training loss: 1.3696568012237549\n",
            "training loss: 1.3660476207733154\n",
            "training loss: 1.4363670349121094\n"
          ]
        },
        {
          "output_type": "stream",
          "name": "stderr",
          "text": [
            "\rtraining:  54%|█████▍    | 2693/5000 [1:31:43<1:15:52,  1.97s/it]"
          ]
        },
        {
          "output_type": "stream",
          "name": "stdout",
          "text": [
            "training loss: 1.4397025108337402\n",
            "training loss: 1.4685084819793701\n",
            "training loss: 1.4396779537200928\n",
            "training loss: 1.3381837606430054\n",
            "training loss: 1.5765525102615356\n",
            "training loss: 1.5476460456848145\n"
          ]
        },
        {
          "output_type": "stream",
          "name": "stderr",
          "text": [
            "\rtraining:  54%|█████▍    | 2699/5000 [1:31:55<1:15:40,  1.97s/it]"
          ]
        },
        {
          "output_type": "stream",
          "name": "stdout",
          "text": [
            "training loss: 1.4984248876571655\n",
            "training loss: 1.4231958389282227\n",
            "training loss: 1.441604495048523\n",
            "validation loss: 1.3134219646453857\n",
            "training loss: 1.4916682243347168\n",
            "training loss: 1.3769539594650269\n",
            "training loss: 1.3785251379013062\n"
          ]
        },
        {
          "output_type": "stream",
          "name": "stderr",
          "text": [
            "\rtraining:  54%|█████▍    | 2705/5000 [1:32:07<1:15:51,  1.98s/it]"
          ]
        },
        {
          "output_type": "stream",
          "name": "stdout",
          "text": [
            "training loss: 1.5265289545059204\n",
            "training loss: 1.3993912935256958\n",
            "training loss: 1.3133807182312012\n",
            "training loss: 1.5812947750091553\n",
            "training loss: 1.3829712867736816\n",
            "training loss: 1.3824427127838135\n"
          ]
        },
        {
          "output_type": "stream",
          "name": "stderr",
          "text": [
            "\rtraining:  54%|█████▍    | 2711/5000 [1:32:19<1:15:32,  1.98s/it]"
          ]
        },
        {
          "output_type": "stream",
          "name": "stdout",
          "text": [
            "training loss: 1.4858564138412476\n",
            "training loss: 1.5186140537261963\n",
            "training loss: 1.4555188417434692\n",
            "training loss: 1.5066499710083008\n",
            "training loss: 1.5329339504241943\n",
            "training loss: 1.6865586042404175\n"
          ]
        },
        {
          "output_type": "stream",
          "name": "stderr",
          "text": [
            "training:  54%|█████▍    | 2717/5000 [1:32:31<1:15:16,  1.98s/it]"
          ]
        },
        {
          "output_type": "stream",
          "name": "stdout",
          "text": [
            "training loss: 1.583770751953125\n",
            "training loss: 1.4719116687774658\n",
            "training loss: 1.427375078201294\n",
            "training loss: 1.579114556312561\n",
            "training loss: 1.5044878721237183\n",
            "training loss: 1.4600839614868164\n"
          ]
        },
        {
          "output_type": "stream",
          "name": "stderr",
          "text": [
            "\rtraining:  54%|█████▍    | 2723/5000 [1:32:43<1:15:01,  1.98s/it]"
          ]
        },
        {
          "output_type": "stream",
          "name": "stdout",
          "text": [
            "training loss: 1.4498181343078613\n",
            "training loss: 1.5377566814422607\n",
            "training loss: 1.4796468019485474\n",
            "training loss: 1.4766584634780884\n",
            "training loss: 1.4092929363250732\n",
            "training loss: 1.4126782417297363\n"
          ]
        },
        {
          "output_type": "stream",
          "name": "stderr",
          "text": [
            "\rtraining:  55%|█████▍    | 2729/5000 [1:32:54<1:14:47,  1.98s/it]"
          ]
        },
        {
          "output_type": "stream",
          "name": "stdout",
          "text": [
            "training loss: 1.4852499961853027\n",
            "training loss: 1.4097999334335327\n",
            "training loss: 1.426288366317749\n",
            "training loss: 1.581048846244812\n",
            "training loss: 1.3620917797088623\n",
            "training loss: 1.4875528812408447\n"
          ]
        },
        {
          "output_type": "stream",
          "name": "stderr",
          "text": [
            "\rtraining:  55%|█████▍    | 2735/5000 [1:33:06<1:14:33,  1.98s/it]"
          ]
        },
        {
          "output_type": "stream",
          "name": "stdout",
          "text": [
            "training loss: 1.4768732786178589\n",
            "training loss: 1.5081303119659424\n",
            "training loss: 1.3987367153167725\n",
            "training loss: 1.4901589155197144\n",
            "training loss: 1.3866112232208252\n",
            "training loss: 1.4399137496948242\n"
          ]
        },
        {
          "output_type": "stream",
          "name": "stderr",
          "text": [
            "\rtraining:  55%|█████▍    | 2741/5000 [1:33:18<1:14:21,  1.97s/it]"
          ]
        },
        {
          "output_type": "stream",
          "name": "stdout",
          "text": [
            "training loss: 1.4545342922210693\n",
            "training loss: 1.4969947338104248\n",
            "training loss: 1.48171067237854\n",
            "training loss: 1.34096360206604\n",
            "training loss: 1.3673136234283447\n",
            "training loss: 1.5447744131088257\n"
          ]
        },
        {
          "output_type": "stream",
          "name": "stderr",
          "text": [
            "training:  55%|█████▍    | 2747/5000 [1:33:30<1:14:08,  1.97s/it]"
          ]
        },
        {
          "output_type": "stream",
          "name": "stdout",
          "text": [
            "training loss: 1.54075288772583\n",
            "training loss: 1.5995503664016724\n",
            "training loss: 1.4741449356079102\n",
            "training loss: 1.552837610244751\n",
            "training loss: 1.3874545097351074\n",
            "training loss: 1.4640312194824219\n"
          ]
        },
        {
          "output_type": "stream",
          "name": "stderr",
          "text": [
            "\rtraining:  55%|█████▌    | 2753/5000 [1:33:42<1:13:56,  1.97s/it]"
          ]
        },
        {
          "output_type": "stream",
          "name": "stdout",
          "text": [
            "training loss: 1.4700473546981812\n",
            "training loss: 1.400490641593933\n",
            "training loss: 1.5270497798919678\n",
            "training loss: 1.4945685863494873\n",
            "training loss: 1.5412074327468872\n",
            "training loss: 1.5279273986816406\n"
          ]
        },
        {
          "output_type": "stream",
          "name": "stderr",
          "text": [
            "\rtraining:  55%|█████▌    | 2759/5000 [1:33:54<1:13:43,  1.97s/it]"
          ]
        },
        {
          "output_type": "stream",
          "name": "stdout",
          "text": [
            "training loss: 1.4423167705535889\n",
            "training loss: 1.4960094690322876\n",
            "training loss: 1.464475154876709\n",
            "training loss: 1.5480680465698242\n",
            "training loss: 1.4642256498336792\n",
            "training loss: 1.4726163148880005\n"
          ]
        },
        {
          "output_type": "stream",
          "name": "stderr",
          "text": [
            "\rtraining:  55%|█████▌    | 2765/5000 [1:34:06<1:13:32,  1.97s/it]"
          ]
        },
        {
          "output_type": "stream",
          "name": "stdout",
          "text": [
            "training loss: 1.4153450727462769\n",
            "training loss: 1.4132698774337769\n",
            "training loss: 1.3878917694091797\n",
            "training loss: 1.4896657466888428\n",
            "training loss: 1.4288092851638794\n",
            "training loss: 1.5074195861816406\n"
          ]
        },
        {
          "output_type": "stream",
          "name": "stderr",
          "text": [
            "\rtraining:  55%|█████▌    | 2771/5000 [1:34:17<1:13:19,  1.97s/it]"
          ]
        },
        {
          "output_type": "stream",
          "name": "stdout",
          "text": [
            "training loss: 1.5924962759017944\n",
            "training loss: 1.4807982444763184\n",
            "training loss: 1.3756998777389526\n",
            "training loss: 1.3869738578796387\n",
            "training loss: 1.4227371215820312\n",
            "training loss: 1.3164100646972656\n"
          ]
        },
        {
          "output_type": "stream",
          "name": "stderr",
          "text": [
            "\rtraining:  56%|█████▌    | 2777/5000 [1:34:29<1:13:08,  1.97s/it]"
          ]
        },
        {
          "output_type": "stream",
          "name": "stdout",
          "text": [
            "training loss: 1.5212407112121582\n",
            "training loss: 1.4576257467269897\n",
            "training loss: 1.4588807821273804\n",
            "training loss: 1.4357160329818726\n",
            "training loss: 1.5550485849380493\n",
            "training loss: 1.4263454675674438\n"
          ]
        },
        {
          "output_type": "stream",
          "name": "stderr",
          "text": [
            "training:  56%|█████▌    | 2783/5000 [1:34:41<1:12:56,  1.97s/it]"
          ]
        },
        {
          "output_type": "stream",
          "name": "stdout",
          "text": [
            "training loss: 1.5586835145950317\n",
            "training loss: 1.5393435955047607\n",
            "training loss: 1.5235191583633423\n",
            "training loss: 1.4288015365600586\n",
            "training loss: 1.315995216369629\n",
            "training loss: 1.5269519090652466\n"
          ]
        },
        {
          "output_type": "stream",
          "name": "stderr",
          "text": [
            "\rtraining:  56%|█████▌    | 2789/5000 [1:34:53<1:12:44,  1.97s/it]"
          ]
        },
        {
          "output_type": "stream",
          "name": "stdout",
          "text": [
            "training loss: 1.5283194780349731\n",
            "training loss: 1.4620195627212524\n",
            "training loss: 1.457452654838562\n",
            "training loss: 1.4869314432144165\n",
            "training loss: 1.6963542699813843\n",
            "training loss: 1.5275651216506958\n"
          ]
        },
        {
          "output_type": "stream",
          "name": "stderr",
          "text": [
            "\rtraining:  56%|█████▌    | 2795/5000 [1:35:05<1:12:32,  1.97s/it]"
          ]
        },
        {
          "output_type": "stream",
          "name": "stdout",
          "text": [
            "training loss: 1.6570295095443726\n",
            "training loss: 1.5858650207519531\n",
            "training loss: 1.5961546897888184\n",
            "training loss: 1.3821189403533936\n",
            "training loss: 1.4539164304733276\n",
            "training loss: 1.449346899986267\n",
            "training loss: 1.5171552896499634\n"
          ]
        },
        {
          "output_type": "stream",
          "name": "stderr",
          "text": [
            "\rtraining:  56%|█████▌    | 2801/5000 [1:35:17<1:12:42,  1.98s/it]"
          ]
        },
        {
          "output_type": "stream",
          "name": "stdout",
          "text": [
            "validation loss: 1.4731645584106445\n",
            "training loss: 1.385116457939148\n",
            "training loss: 1.5004619359970093\n",
            "training loss: 1.4490443468093872\n",
            "training loss: 1.433279275894165\n",
            "training loss: 1.3580327033996582\n"
          ]
        },
        {
          "output_type": "stream",
          "name": "stderr",
          "text": [
            "\rtraining:  56%|█████▌    | 2807/5000 [1:35:29<1:12:23,  1.98s/it]"
          ]
        },
        {
          "output_type": "stream",
          "name": "stdout",
          "text": [
            "training loss: 1.631245732307434\n",
            "training loss: 1.3887149095535278\n",
            "training loss: 1.5786807537078857\n",
            "training loss: 1.4135384559631348\n",
            "training loss: 1.4136496782302856\n",
            "training loss: 1.436843991279602\n"
          ]
        },
        {
          "output_type": "stream",
          "name": "stderr",
          "text": [
            "training:  56%|█████▋    | 2813/5000 [1:35:40<1:12:07,  1.98s/it]"
          ]
        },
        {
          "output_type": "stream",
          "name": "stdout",
          "text": [
            "training loss: 1.4333455562591553\n",
            "training loss: 1.456861138343811\n",
            "training loss: 1.4296809434890747\n",
            "training loss: 1.457222819328308\n",
            "training loss: 1.3638582229614258\n",
            "training loss: 1.4866890907287598\n"
          ]
        },
        {
          "output_type": "stream",
          "name": "stderr",
          "text": [
            "\rtraining:  56%|█████▋    | 2819/5000 [1:35:52<1:11:52,  1.98s/it]"
          ]
        },
        {
          "output_type": "stream",
          "name": "stdout",
          "text": [
            "training loss: 1.4523338079452515\n",
            "training loss: 1.4697835445404053\n",
            "training loss: 1.4315353631973267\n",
            "training loss: 1.6541484594345093\n",
            "training loss: 1.4580968618392944\n",
            "training loss: 1.4644403457641602\n"
          ]
        },
        {
          "output_type": "stream",
          "name": "stderr",
          "text": [
            "\rtraining:  56%|█████▋    | 2825/5000 [1:36:04<1:11:38,  1.98s/it]"
          ]
        },
        {
          "output_type": "stream",
          "name": "stdout",
          "text": [
            "training loss: 1.469451665878296\n",
            "training loss: 1.5252958536148071\n",
            "training loss: 1.564063549041748\n",
            "training loss: 1.4641348123550415\n",
            "training loss: 1.442651391029358\n",
            "training loss: 1.3930909633636475\n"
          ]
        },
        {
          "output_type": "stream",
          "name": "stderr",
          "text": [
            "\rtraining:  57%|█████▋    | 2831/5000 [1:36:16<1:11:25,  1.98s/it]"
          ]
        },
        {
          "output_type": "stream",
          "name": "stdout",
          "text": [
            "training loss: 1.4481806755065918\n",
            "training loss: 1.404274344444275\n",
            "training loss: 1.5070676803588867\n",
            "training loss: 1.4544322490692139\n",
            "training loss: 1.301895260810852\n",
            "training loss: 1.4752798080444336\n"
          ]
        },
        {
          "output_type": "stream",
          "name": "stderr",
          "text": [
            "\rtraining:  57%|█████▋    | 2837/5000 [1:36:28<1:11:12,  1.98s/it]"
          ]
        },
        {
          "output_type": "stream",
          "name": "stdout",
          "text": [
            "training loss: 1.3278416395187378\n",
            "training loss: 1.4948146343231201\n",
            "training loss: 1.5778597593307495\n",
            "training loss: 1.4349342584609985\n",
            "training loss: 1.457034707069397\n",
            "training loss: 1.5963842868804932\n"
          ]
        },
        {
          "output_type": "stream",
          "name": "stderr",
          "text": [
            "\rtraining:  57%|█████▋    | 2843/5000 [1:36:40<1:10:59,  1.97s/it]"
          ]
        },
        {
          "output_type": "stream",
          "name": "stdout",
          "text": [
            "training loss: 1.6059954166412354\n",
            "training loss: 1.4579601287841797\n",
            "training loss: 1.3285589218139648\n",
            "training loss: 1.4359816312789917\n",
            "training loss: 1.4435089826583862\n"
          ]
        },
        {
          "output_type": "stream",
          "name": "stderr",
          "text": [
            "\rtraining:  57%|█████▋    | 2843/5000 [1:36:50<1:10:59,  1.97s/it]"
          ]
        },
        {
          "output_type": "stream",
          "name": "stdout",
          "text": [
            "training loss: 1.3890691995620728\n"
          ]
        },
        {
          "output_type": "stream",
          "name": "stderr",
          "text": [
            "\rtraining:  57%|█████▋    | 2849/5000 [1:36:52<1:10:47,  1.97s/it]"
          ]
        },
        {
          "output_type": "stream",
          "name": "stdout",
          "text": [
            "training loss: 1.4666332006454468\n",
            "training loss: 1.392553687095642\n",
            "training loss: 1.4586142301559448\n",
            "training loss: 1.6677030324935913\n",
            "training loss: 1.4184209108352661\n",
            "training loss: 1.5914909839630127\n"
          ]
        },
        {
          "output_type": "stream",
          "name": "stderr",
          "text": [
            "\rtraining:  57%|█████▋    | 2855/5000 [1:37:03<1:10:34,  1.97s/it]"
          ]
        },
        {
          "output_type": "stream",
          "name": "stdout",
          "text": [
            "training loss: 1.5213724374771118\n",
            "training loss: 1.608230710029602\n",
            "training loss: 1.5451959371566772\n",
            "training loss: 1.4763429164886475\n",
            "training loss: 1.5122400522232056\n",
            "training loss: 1.5015668869018555\n"
          ]
        },
        {
          "output_type": "stream",
          "name": "stderr",
          "text": [
            "\rtraining:  57%|█████▋    | 2861/5000 [1:37:15<1:10:22,  1.97s/it]"
          ]
        },
        {
          "output_type": "stream",
          "name": "stdout",
          "text": [
            "training loss: 1.4355173110961914\n",
            "training loss: 1.512451171875\n",
            "training loss: 1.3517364263534546\n",
            "training loss: 1.4171044826507568\n",
            "training loss: 1.5118111371994019\n",
            "training loss: 1.410333514213562\n"
          ]
        },
        {
          "output_type": "stream",
          "name": "stderr",
          "text": [
            "\rtraining:  57%|█████▋    | 2867/5000 [1:37:27<1:10:10,  1.97s/it]"
          ]
        },
        {
          "output_type": "stream",
          "name": "stdout",
          "text": [
            "training loss: 1.175642490386963\n",
            "training loss: 1.5009799003601074\n",
            "training loss: 1.3568426370620728\n",
            "training loss: 1.4782699346542358\n",
            "training loss: 1.3558433055877686\n",
            "training loss: 1.3949875831604004\n"
          ]
        },
        {
          "output_type": "stream",
          "name": "stderr",
          "text": [
            "\rtraining:  57%|█████▋    | 2873/5000 [1:37:39<1:09:59,  1.97s/it]"
          ]
        },
        {
          "output_type": "stream",
          "name": "stdout",
          "text": [
            "training loss: 1.4472321271896362\n",
            "training loss: 1.474300503730774\n",
            "training loss: 1.501639485359192\n",
            "training loss: 1.509456753730774\n",
            "training loss: 1.4855880737304688\n",
            "training loss: 1.4704235792160034\n"
          ]
        },
        {
          "output_type": "stream",
          "name": "stderr",
          "text": [
            "training:  58%|█████▊    | 2879/5000 [1:37:51<1:09:47,  1.97s/it]"
          ]
        },
        {
          "output_type": "stream",
          "name": "stdout",
          "text": [
            "training loss: 1.5716232061386108\n",
            "training loss: 1.5756702423095703\n",
            "training loss: 1.4399433135986328\n",
            "training loss: 1.2848879098892212\n",
            "training loss: 1.3345056772232056\n",
            "training loss: 1.476422667503357\n"
          ]
        },
        {
          "output_type": "stream",
          "name": "stderr",
          "text": [
            "\rtraining:  58%|█████▊    | 2885/5000 [1:38:03<1:09:35,  1.97s/it]"
          ]
        },
        {
          "output_type": "stream",
          "name": "stdout",
          "text": [
            "training loss: 1.3667975664138794\n",
            "training loss: 1.548261046409607\n",
            "training loss: 1.3800777196884155\n",
            "training loss: 1.3674708604812622\n",
            "training loss: 1.5385791063308716\n",
            "training loss: 1.4570509195327759\n"
          ]
        },
        {
          "output_type": "stream",
          "name": "stderr",
          "text": [
            "\rtraining:  58%|█████▊    | 2891/5000 [1:38:14<1:09:23,  1.97s/it]"
          ]
        },
        {
          "output_type": "stream",
          "name": "stdout",
          "text": [
            "training loss: 1.5112348794937134\n",
            "training loss: 1.4012699127197266\n",
            "training loss: 1.5159868001937866\n",
            "training loss: 1.669937252998352\n",
            "training loss: 1.4890741109848022\n",
            "training loss: 1.674286127090454\n"
          ]
        },
        {
          "output_type": "stream",
          "name": "stderr",
          "text": [
            "\rtraining:  58%|█████▊    | 2897/5000 [1:38:26<1:09:11,  1.97s/it]"
          ]
        },
        {
          "output_type": "stream",
          "name": "stdout",
          "text": [
            "training loss: 1.427927017211914\n",
            "training loss: 1.4309273958206177\n",
            "training loss: 1.405409336090088\n",
            "training loss: 1.4704746007919312\n",
            "training loss: 1.5049419403076172\n",
            "validation loss: 1.3639919757843018\n",
            "training loss: 1.420027494430542\n"
          ]
        },
        {
          "output_type": "stream",
          "name": "stderr",
          "text": [
            "\rtraining:  58%|█████▊    | 2903/5000 [1:38:38<1:09:19,  1.98s/it]"
          ]
        },
        {
          "output_type": "stream",
          "name": "stdout",
          "text": [
            "training loss: 1.4862502813339233\n",
            "training loss: 1.4959884881973267\n",
            "training loss: 1.3850780725479126\n",
            "training loss: 1.3955572843551636\n",
            "training loss: 1.503602147102356\n",
            "training loss: 1.4336838722229004\n"
          ]
        },
        {
          "output_type": "stream",
          "name": "stderr",
          "text": [
            "training:  58%|█████▊    | 2909/5000 [1:38:50<1:09:01,  1.98s/it]"
          ]
        },
        {
          "output_type": "stream",
          "name": "stdout",
          "text": [
            "training loss: 1.4438456296920776\n",
            "training loss: 1.5565998554229736\n",
            "training loss: 1.4277963638305664\n",
            "training loss: 1.4575669765472412\n",
            "training loss: 1.5620529651641846\n",
            "training loss: 1.4849976301193237\n"
          ]
        },
        {
          "output_type": "stream",
          "name": "stderr",
          "text": [
            "\rtraining:  58%|█████▊    | 2915/5000 [1:39:02<1:08:45,  1.98s/it]"
          ]
        },
        {
          "output_type": "stream",
          "name": "stdout",
          "text": [
            "training loss: 1.491075873374939\n",
            "training loss: 1.5740902423858643\n",
            "training loss: 1.5308281183242798\n",
            "training loss: 1.4787405729293823\n",
            "training loss: 1.5059254169464111\n",
            "training loss: 1.5040814876556396\n"
          ]
        },
        {
          "output_type": "stream",
          "name": "stderr",
          "text": [
            "\rtraining:  58%|█████▊    | 2921/5000 [1:39:14<1:08:30,  1.98s/it]"
          ]
        },
        {
          "output_type": "stream",
          "name": "stdout",
          "text": [
            "training loss: 1.3840575218200684\n",
            "training loss: 1.4745290279388428\n",
            "training loss: 1.3862665891647339\n",
            "training loss: 1.5893477201461792\n",
            "training loss: 1.4480594396591187\n",
            "training loss: 1.4502464532852173\n"
          ]
        },
        {
          "output_type": "stream",
          "name": "stderr",
          "text": [
            "\rtraining:  59%|█████▊    | 2927/5000 [1:39:26<1:08:16,  1.98s/it]"
          ]
        },
        {
          "output_type": "stream",
          "name": "stdout",
          "text": [
            "training loss: 1.43938410282135\n",
            "training loss: 1.541108250617981\n",
            "training loss: 1.4889779090881348\n",
            "training loss: 1.5032204389572144\n",
            "training loss: 1.424477219581604\n",
            "training loss: 1.4957324266433716\n"
          ]
        },
        {
          "output_type": "stream",
          "name": "stderr",
          "text": [
            "\rtraining:  59%|█████▊    | 2933/5000 [1:39:38<1:08:02,  1.98s/it]"
          ]
        },
        {
          "output_type": "stream",
          "name": "stdout",
          "text": [
            "training loss: 1.4056490659713745\n",
            "training loss: 1.2682926654815674\n",
            "training loss: 1.4589828252792358\n",
            "training loss: 1.4156615734100342\n",
            "training loss: 1.341193437576294\n",
            "training loss: 1.5087621212005615\n"
          ]
        },
        {
          "output_type": "stream",
          "name": "stderr",
          "text": [
            "\rtraining:  59%|█████▉    | 2939/5000 [1:39:49<1:07:50,  1.97s/it]"
          ]
        },
        {
          "output_type": "stream",
          "name": "stdout",
          "text": [
            "training loss: 1.57941734790802\n",
            "training loss: 1.4984787702560425\n",
            "training loss: 1.4963663816452026\n",
            "training loss: 1.3828012943267822\n",
            "training loss: 1.4555853605270386\n",
            "training loss: 1.4528247117996216\n"
          ]
        },
        {
          "output_type": "stream",
          "name": "stderr",
          "text": [
            "training:  59%|█████▉    | 2945/5000 [1:40:01<1:07:37,  1.97s/it]"
          ]
        },
        {
          "output_type": "stream",
          "name": "stdout",
          "text": [
            "training loss: 1.6083637475967407\n",
            "training loss: 1.4086939096450806\n",
            "training loss: 1.4930235147476196\n",
            "training loss: 1.4180852174758911\n",
            "training loss: 1.5311815738677979\n",
            "training loss: 1.3404183387756348\n"
          ]
        },
        {
          "output_type": "stream",
          "name": "stderr",
          "text": [
            "\rtraining:  59%|█████▉    | 2951/5000 [1:40:13<1:07:25,  1.97s/it]"
          ]
        },
        {
          "output_type": "stream",
          "name": "stdout",
          "text": [
            "training loss: 1.3843551874160767\n",
            "training loss: 1.3931299448013306\n",
            "training loss: 1.4177132844924927\n",
            "training loss: 1.5021916627883911\n",
            "training loss: 1.3863238096237183\n",
            "training loss: 1.4756840467453003\n"
          ]
        },
        {
          "output_type": "stream",
          "name": "stderr",
          "text": [
            "\rtraining:  59%|█████▉    | 2957/5000 [1:40:25<1:07:12,  1.97s/it]"
          ]
        },
        {
          "output_type": "stream",
          "name": "stdout",
          "text": [
            "training loss: 1.6519771814346313\n",
            "training loss: 1.482383131980896\n",
            "training loss: 1.4800859689712524\n",
            "training loss: 1.4543441534042358\n",
            "training loss: 1.5108879804611206\n",
            "training loss: 1.5649877786636353\n"
          ]
        },
        {
          "output_type": "stream",
          "name": "stderr",
          "text": [
            "\rtraining:  59%|█████▉    | 2963/5000 [1:40:37<1:07:01,  1.97s/it]"
          ]
        },
        {
          "output_type": "stream",
          "name": "stdout",
          "text": [
            "training loss: 1.7112003564834595\n",
            "training loss: 1.3689148426055908\n",
            "training loss: 1.537587285041809\n",
            "training loss: 1.3503485918045044\n",
            "training loss: 1.5686815977096558\n",
            "training loss: 1.4577337503433228\n"
          ]
        },
        {
          "output_type": "stream",
          "name": "stderr",
          "text": [
            "\rtraining:  59%|█████▉    | 2969/5000 [1:40:49<1:06:49,  1.97s/it]"
          ]
        },
        {
          "output_type": "stream",
          "name": "stdout",
          "text": [
            "training loss: 1.6260734796524048\n",
            "training loss: 1.411831259727478\n",
            "training loss: 1.5447056293487549\n",
            "training loss: 1.4033186435699463\n",
            "training loss: 1.5284441709518433\n",
            "training loss: 1.3098169565200806\n"
          ]
        },
        {
          "output_type": "stream",
          "name": "stderr",
          "text": [
            "training:  60%|█████▉    | 2975/5000 [1:41:00<1:06:37,  1.97s/it]"
          ]
        },
        {
          "output_type": "stream",
          "name": "stdout",
          "text": [
            "training loss: 1.5923817157745361\n",
            "training loss: 1.3918637037277222\n",
            "training loss: 1.5430413484573364\n",
            "training loss: 1.4666093587875366\n",
            "training loss: 1.5161938667297363\n",
            "training loss: 1.4167850017547607\n"
          ]
        },
        {
          "output_type": "stream",
          "name": "stderr",
          "text": [
            "\rtraining:  60%|█████▉    | 2981/5000 [1:41:12<1:06:26,  1.97s/it]"
          ]
        },
        {
          "output_type": "stream",
          "name": "stdout",
          "text": [
            "training loss: 1.4727613925933838\n",
            "training loss: 1.3446760177612305\n",
            "training loss: 1.4902898073196411\n",
            "training loss: 1.2798291444778442\n",
            "training loss: 1.477243423461914\n",
            "training loss: 1.4747387170791626\n"
          ]
        },
        {
          "output_type": "stream",
          "name": "stderr",
          "text": [
            "\rtraining:  60%|█████▉    | 2987/5000 [1:41:24<1:06:13,  1.97s/it]"
          ]
        },
        {
          "output_type": "stream",
          "name": "stdout",
          "text": [
            "training loss: 1.447940707206726\n",
            "training loss: 1.5725866556167603\n",
            "training loss: 1.3687268495559692\n",
            "training loss: 1.4468331336975098\n",
            "training loss: 1.5411673784255981\n",
            "training loss: 1.377694010734558\n"
          ]
        },
        {
          "output_type": "stream",
          "name": "stderr",
          "text": [
            "\rtraining:  60%|█████▉    | 2993/5000 [1:41:36<1:06:02,  1.97s/it]"
          ]
        },
        {
          "output_type": "stream",
          "name": "stdout",
          "text": [
            "training loss: 1.5220065116882324\n",
            "training loss: 1.4990171194076538\n",
            "training loss: 1.5333060026168823\n",
            "training loss: 1.5090521574020386\n",
            "training loss: 1.4457423686981201\n",
            "training loss: 1.4213112592697144\n"
          ]
        },
        {
          "output_type": "stream",
          "name": "stderr",
          "text": [
            "\rtraining:  60%|█████▉    | 2999/5000 [1:41:48<1:05:50,  1.97s/it]"
          ]
        },
        {
          "output_type": "stream",
          "name": "stdout",
          "text": [
            "training loss: 1.5162752866744995\n",
            "training loss: 1.4034279584884644\n",
            "training loss: 1.4202806949615479\n",
            "validation loss: 1.3294206857681274\n",
            "%s \n",
            "\n",
            " %s (\"d archaeological evidence are scarce, it appears that by the seventh century, Srivijaya established suzerainty over large areas of [[Sumatra]], western [[Java (island)|Java]], and much of the [[Malay Peninsula]]. Dominating the [[Strait of Malacca|Malacca]] and [[Sunda Strait|Sunda]] [[straits]], Srivijaya controlled both the [[Spice Route]] traffic and local trade, charging a toll on passing ships, and remained a formidable sea power until the thirteenth century. This spread the [[Malay people|Malay]] culture throughout Sumatra, the Malay Peninsula, and western [[Borneo]].   A stronghold of [[Vajrayana]] [[Buddhism]], Srivijaya attracted pilgrims and scholars from other parts of Asia. These included the Chinese monk [[Yijing]], who made several lengthy visits to Sumatra on his way to study at Nalanda in India in 671 and 695, and the eleventh-century Buddhist scholar [[Atisha]], who played a major role in the development of Vajrayana Buddhism in [[Tibet]]. Travellers to these islands mentioned that [[gold]] coinage was in use on the coasts, but not inland.  In [[1068]], [[Rajendra Chola|Virarajendra]], the [[Chola]] king of [[Tamil Nadu]], conquered [[Kedah]] from [[Srivijaya]]. The Cholas continued a series of raids and conquests throughout what is now [[Indonesia]] and [[Malaysia]] for the next 20 years. Although the Chola invasion was ultimately unsuccessful, it gravely weakened the Srivijayan hegemony and enabled the formation of regional kingdoms based, like Kediri, on intensive agriculture rather than coastal and long distance trade.  Srivijaya influence waned by the 11th century. The island was in frequent conflict with the [[Java (island)|Javanese]] kingdoms, first [[Singhasari]] and then [[Majapahit]]. [[Islam]] eventually made its way to the [[Aceh]] region of Sumatra, spreading its influence through contacts with [[Arab]]s and [[India|Indian]] traders. By the late 13th century, the kingdom of [[Pasai]] (in northern Sumatra) converted to Islam. At the same time Srivijaya was briefly a [[tributary]] of the [[Khmer empire]] and later the [[Sukhothai kingdom]]. The last inscription dates to 1374, in a crown prince, Ananggavarman, is mentioned.   By [[1414]] [[Parameswara]], the last prince of Srivijaya converted to [[Islam]], and founded the [[Sultanate of Malacca]] on the [[Malay peninsula]].  ===Singhasari and the Majapahit Empire=== ''For full coverage, see [[Singhasari]] and [[Majapahit Empire]]''  Two empires would originate in Eastern Java, and would drive Srivijaya and assume its territory: the Singhasari and the Majapahit. Singhasari was a [[monarchy|kingdom]] located in east [[Java (island)|Java]] between [[1222]] and [[1292]]. The Majapahit Empire would emerge later, and ruled much of the southern [[Malay Peninsula]], [[Borneo]], [[Sumatra]], and [[Bali]] from about [[1293]] to around [[1500]].   The founder of the Majapahit Empire, [[Kertarajasa]], was the son-in-law of the ruler of the [[Singhasari]] kingdom, also based in Java.  After Singhasari drove Srivijaya out of Java altogether in 1290, the rising power of Singhasari came to the attention of [[Kublai Khan]] in [[China]] and he sent emissaries demanding tribute. [[Kertanagara]], ruler of the Singhasari kingdom, refused to pay tribute and the Khan sent a punitive expedition which arrived off the coast of Java in [[1293]].  By that time, a rebel from [[Kediri]], [[Jayakatwang]], had killed Kertanagara.  The Majapahit founder allied himself with the [[Mongols]] against Jayakatwang and, once the Singhasari kingdom was destroyed, turned and forced his Mongol allies to withdraw in confusion.   [[Gajah Mada]], an ambitious Majapahit prime minister and regent from [[1331]] to [[1364]], extended the empire's rule to the surrounding islands. A few years after Gajah Madah's death, the Majapahit navy captured Palembang, putting an end to the Srivijayan kingdom.  Although the Majapahit rulers extended their power over other islands and destroyed neighboring kingdoms, their focus seems to have been on controlling and gaining a larger share of the commercial tr\", '****************************************************************************************************')\n"
          ]
        },
        {
          "output_type": "stream",
          "name": "stderr",
          "text": [
            "training:  60%|██████    | 3001/5000 [1:42:22<2:09:06,  3.88s/it]"
          ]
        },
        {
          "output_type": "stream",
          "name": "stdout",
          "text": [
            "ied here.  Honglish music, and can and very dare ful, he legian offers today in the [[Dectansualiss Dosore Day]] and [[Dwney]], [[Daming|Ch Daningdoch]] tokespable sing shinks of the rerunning of thars pontwated throbsonal [[Pulcoara&qudent]]s.  ===Londling tealdisties== The Pitch Shoptericing the immedite our stoms alsoluin as any in acting othing and sowe, stufferionshir finited throse the weeks, or tharoger. Basing. It remerith the [[aux]] abaly is thoristic winned outher dobstratublishirts and th on the\n",
            "training loss: 1.4182134866714478\n",
            "training loss: 1.4067423343658447\n",
            "training loss: 1.3496004343032837\n",
            "training loss: 1.5030766725540161\n",
            "training loss: 1.5386643409729004\n"
          ]
        },
        {
          "output_type": "stream",
          "name": "stderr",
          "text": [
            "\rtraining:  60%|██████    | 3007/5000 [1:42:34<1:46:41,  3.21s/it]"
          ]
        },
        {
          "output_type": "stream",
          "name": "stdout",
          "text": [
            "training loss: 1.388730525970459\n",
            "training loss: 1.4119927883148193\n",
            "training loss: 1.3275803327560425\n",
            "training loss: 1.4316655397415161\n",
            "training loss: 1.4994441270828247\n",
            "training loss: 1.436060905456543\n"
          ]
        },
        {
          "output_type": "stream",
          "name": "stderr",
          "text": [
            "\rtraining:  60%|██████    | 3013/5000 [1:42:46<1:32:44,  2.80s/it]"
          ]
        },
        {
          "output_type": "stream",
          "name": "stdout",
          "text": [
            "training loss: 1.7198028564453125\n",
            "training loss: 1.3681682348251343\n",
            "training loss: 1.2055634260177612\n",
            "training loss: 1.5631499290466309\n",
            "training loss: 1.4440754652023315\n",
            "training loss: 1.543764352798462\n"
          ]
        },
        {
          "output_type": "stream",
          "name": "stderr",
          "text": [
            "\rtraining:  60%|██████    | 3019/5000 [1:42:58<1:23:40,  2.53s/it]"
          ]
        },
        {
          "output_type": "stream",
          "name": "stdout",
          "text": [
            "training loss: 1.459538221359253\n",
            "training loss: 1.450385570526123\n",
            "training loss: 1.4921752214431763\n",
            "training loss: 1.4772814512252808\n",
            "training loss: 1.4514471292495728\n",
            "training loss: 1.4959036111831665\n"
          ]
        },
        {
          "output_type": "stream",
          "name": "stderr",
          "text": [
            "\rtraining:  60%|██████    | 3025/5000 [1:43:10<1:17:36,  2.36s/it]"
          ]
        },
        {
          "output_type": "stream",
          "name": "stdout",
          "text": [
            "training loss: 1.4349397420883179\n",
            "training loss: 1.3885914087295532\n",
            "training loss: 1.436683177947998\n",
            "training loss: 1.4335830211639404\n",
            "training loss: 1.494545817375183\n",
            "training loss: 1.4181658029556274\n"
          ]
        },
        {
          "output_type": "stream",
          "name": "stderr",
          "text": [
            "training:  61%|██████    | 3031/5000 [1:43:21<1:13:27,  2.24s/it]"
          ]
        },
        {
          "output_type": "stream",
          "name": "stdout",
          "text": [
            "training loss: 1.4767146110534668\n",
            "training loss: 1.3130358457565308\n",
            "training loss: 1.5028595924377441\n",
            "training loss: 1.3852139711380005\n",
            "training loss: 1.4371931552886963\n",
            "training loss: 1.4297548532485962\n"
          ]
        },
        {
          "output_type": "stream",
          "name": "stderr",
          "text": [
            "\rtraining:  61%|██████    | 3037/5000 [1:43:33<1:10:34,  2.16s/it]"
          ]
        },
        {
          "output_type": "stream",
          "name": "stdout",
          "text": [
            "training loss: 1.363045334815979\n",
            "training loss: 1.5418506860733032\n",
            "training loss: 1.358047604560852\n",
            "training loss: 1.3636561632156372\n",
            "training loss: 1.4526762962341309\n",
            "training loss: 1.526328444480896\n"
          ]
        },
        {
          "output_type": "stream",
          "name": "stderr",
          "text": [
            "\rtraining:  61%|██████    | 3043/5000 [1:43:45<1:08:31,  2.10s/it]"
          ]
        },
        {
          "output_type": "stream",
          "name": "stdout",
          "text": [
            "training loss: 1.4928869009017944\n",
            "training loss: 1.3977681398391724\n",
            "training loss: 1.4709137678146362\n",
            "training loss: 1.5774897336959839\n",
            "training loss: 1.3311190605163574\n",
            "training loss: 1.4123109579086304\n"
          ]
        },
        {
          "output_type": "stream",
          "name": "stderr",
          "text": [
            "\rtraining:  61%|██████    | 3049/5000 [1:43:57<1:07:03,  2.06s/it]"
          ]
        },
        {
          "output_type": "stream",
          "name": "stdout",
          "text": [
            "training loss: 1.5358468294143677\n",
            "training loss: 1.4299184083938599\n",
            "training loss: 1.4043543338775635\n",
            "training loss: 1.4399305582046509\n",
            "training loss: 1.4415267705917358\n",
            "training loss: 1.4316812753677368\n"
          ]
        },
        {
          "output_type": "stream",
          "name": "stderr",
          "text": [
            "\rtraining:  61%|██████    | 3055/5000 [1:44:09<1:05:59,  2.04s/it]"
          ]
        },
        {
          "output_type": "stream",
          "name": "stdout",
          "text": [
            "training loss: 1.4319535493850708\n",
            "training loss: 1.6633332967758179\n",
            "training loss: 1.3689576387405396\n",
            "training loss: 1.419723391532898\n",
            "training loss: 1.5082944631576538\n",
            "training loss: 1.3787914514541626\n"
          ]
        },
        {
          "output_type": "stream",
          "name": "stderr",
          "text": [
            "training:  61%|██████    | 3061/5000 [1:44:21<1:05:10,  2.02s/it]"
          ]
        },
        {
          "output_type": "stream",
          "name": "stdout",
          "text": [
            "training loss: 1.4887988567352295\n",
            "training loss: 1.3704420328140259\n",
            "training loss: 1.4335911273956299\n",
            "training loss: 1.5799201726913452\n",
            "training loss: 1.4545551538467407\n",
            "training loss: 1.3873456716537476\n"
          ]
        },
        {
          "output_type": "stream",
          "name": "stderr",
          "text": [
            "\rtraining:  61%|██████▏   | 3067/5000 [1:44:32<1:04:33,  2.00s/it]"
          ]
        },
        {
          "output_type": "stream",
          "name": "stdout",
          "text": [
            "training loss: 1.4103320837020874\n",
            "training loss: 1.424691915512085\n",
            "training loss: 1.5526326894760132\n",
            "training loss: 1.3903729915618896\n",
            "training loss: 1.4052239656448364\n",
            "training loss: 1.5519553422927856\n"
          ]
        },
        {
          "output_type": "stream",
          "name": "stderr",
          "text": [
            "\rtraining:  61%|██████▏   | 3073/5000 [1:44:44<1:04:04,  1.99s/it]"
          ]
        },
        {
          "output_type": "stream",
          "name": "stdout",
          "text": [
            "training loss: 1.4392675161361694\n",
            "training loss: 1.367491364479065\n",
            "training loss: 1.5567784309387207\n",
            "training loss: 1.5083346366882324\n",
            "training loss: 1.4967197179794312\n",
            "training loss: 1.4881664514541626\n"
          ]
        },
        {
          "output_type": "stream",
          "name": "stderr",
          "text": [
            "\rtraining:  62%|██████▏   | 3079/5000 [1:44:56<1:03:39,  1.99s/it]"
          ]
        },
        {
          "output_type": "stream",
          "name": "stdout",
          "text": [
            "training loss: 1.579522967338562\n",
            "training loss: 1.3680208921432495\n",
            "training loss: 1.2913768291473389\n",
            "training loss: 1.3846083879470825\n",
            "training loss: 1.3336864709854126\n",
            "training loss: 1.4077552556991577\n"
          ]
        },
        {
          "output_type": "stream",
          "name": "stderr",
          "text": [
            "\rtraining:  62%|██████▏   | 3085/5000 [1:45:08<1:03:19,  1.98s/it]"
          ]
        },
        {
          "output_type": "stream",
          "name": "stdout",
          "text": [
            "training loss: 1.4663186073303223\n",
            "training loss: 1.548700213432312\n",
            "training loss: 1.4603908061981201\n",
            "training loss: 1.4323490858078003\n",
            "training loss: 1.4706302881240845\n",
            "training loss: 1.4589451551437378\n"
          ]
        },
        {
          "output_type": "stream",
          "name": "stderr",
          "text": [
            "training:  62%|██████▏   | 3091/5000 [1:45:20<1:03:01,  1.98s/it]"
          ]
        },
        {
          "output_type": "stream",
          "name": "stdout",
          "text": [
            "training loss: 1.400952696800232\n",
            "training loss: 1.6734849214553833\n",
            "training loss: 1.4350814819335938\n",
            "training loss: 1.3984874486923218\n",
            "training loss: 1.3708717823028564\n",
            "training loss: 1.45729398727417\n"
          ]
        },
        {
          "output_type": "stream",
          "name": "stderr",
          "text": [
            "\rtraining:  62%|██████▏   | 3097/5000 [1:45:32<1:02:45,  1.98s/it]"
          ]
        },
        {
          "output_type": "stream",
          "name": "stdout",
          "text": [
            "training loss: 1.5063281059265137\n",
            "training loss: 1.3729640245437622\n",
            "training loss: 1.463085412979126\n",
            "training loss: 1.4796741008758545\n",
            "training loss: 1.4011176824569702\n",
            "validation loss: 1.1121435165405273\n",
            "training loss: 1.6429890394210815\n"
          ]
        },
        {
          "output_type": "stream",
          "name": "stderr",
          "text": [
            "\rtraining:  62%|██████▏   | 3103/5000 [1:45:44<1:02:49,  1.99s/it]"
          ]
        },
        {
          "output_type": "stream",
          "name": "stdout",
          "text": [
            "training loss: 1.4157911539077759\n",
            "training loss: 1.4829083681106567\n",
            "training loss: 1.4303874969482422\n",
            "training loss: 1.400750756263733\n",
            "training loss: 1.4903461933135986\n",
            "training loss: 1.4543030261993408\n"
          ]
        },
        {
          "output_type": "stream",
          "name": "stderr",
          "text": [
            "\rtraining:  62%|██████▏   | 3109/5000 [1:45:56<1:02:29,  1.98s/it]"
          ]
        },
        {
          "output_type": "stream",
          "name": "stdout",
          "text": [
            "training loss: 1.3773136138916016\n",
            "training loss: 1.4693177938461304\n",
            "training loss: 1.3004261255264282\n",
            "training loss: 1.486796498298645\n",
            "training loss: 1.5231174230575562\n",
            "training loss: 1.24250328540802\n"
          ]
        },
        {
          "output_type": "stream",
          "name": "stderr",
          "text": [
            "\rtraining:  62%|██████▏   | 3115/5000 [1:46:07<1:02:12,  1.98s/it]"
          ]
        },
        {
          "output_type": "stream",
          "name": "stdout",
          "text": [
            "training loss: 1.5464885234832764\n",
            "training loss: 1.47685706615448\n",
            "training loss: 1.3868907690048218\n",
            "training loss: 1.4306092262268066\n",
            "training loss: 1.471664547920227\n",
            "training loss: 1.6799900531768799\n"
          ]
        },
        {
          "output_type": "stream",
          "name": "stderr",
          "text": [
            "\rtraining:  62%|██████▏   | 3121/5000 [1:46:19<1:01:56,  1.98s/it]"
          ]
        },
        {
          "output_type": "stream",
          "name": "stdout",
          "text": [
            "training loss: 1.4588215351104736\n",
            "training loss: 1.3584954738616943\n",
            "training loss: 1.502299427986145\n",
            "training loss: 1.4688009023666382\n",
            "training loss: 1.4311002492904663\n",
            "training loss: 1.3778786659240723\n"
          ]
        },
        {
          "output_type": "stream",
          "name": "stderr",
          "text": [
            "training:  63%|██████▎   | 3127/5000 [1:46:31<1:01:41,  1.98s/it]"
          ]
        },
        {
          "output_type": "stream",
          "name": "stdout",
          "text": [
            "training loss: 1.4957330226898193\n",
            "training loss: 1.489763855934143\n",
            "training loss: 1.4153180122375488\n",
            "training loss: 1.3494998216629028\n",
            "training loss: 1.4261640310287476\n",
            "training loss: 1.531239628791809\n"
          ]
        },
        {
          "output_type": "stream",
          "name": "stderr",
          "text": [
            "\rtraining:  63%|██████▎   | 3133/5000 [1:46:43<1:01:28,  1.98s/it]"
          ]
        },
        {
          "output_type": "stream",
          "name": "stdout",
          "text": [
            "training loss: 1.5604995489120483\n",
            "training loss: 1.2397911548614502\n",
            "training loss: 1.476839542388916\n",
            "training loss: 1.4076553583145142\n",
            "training loss: 1.5760703086853027\n",
            "training loss: 1.5329740047454834\n"
          ]
        },
        {
          "output_type": "stream",
          "name": "stderr",
          "text": [
            "\rtraining:  63%|██████▎   | 3139/5000 [1:46:55<1:01:15,  1.97s/it]"
          ]
        },
        {
          "output_type": "stream",
          "name": "stdout",
          "text": [
            "training loss: 1.4828578233718872\n",
            "training loss: 1.431612491607666\n",
            "training loss: 1.645950198173523\n",
            "training loss: 1.3820711374282837\n",
            "training loss: 1.4231184720993042\n",
            "training loss: 1.5013563632965088\n"
          ]
        },
        {
          "output_type": "stream",
          "name": "stderr",
          "text": [
            "\rtraining:  63%|██████▎   | 3145/5000 [1:47:07<1:01:02,  1.97s/it]"
          ]
        },
        {
          "output_type": "stream",
          "name": "stdout",
          "text": [
            "training loss: 1.4082036018371582\n",
            "training loss: 1.3686332702636719\n",
            "training loss: 1.4395939111709595\n",
            "training loss: 1.5068751573562622\n",
            "training loss: 1.4015403985977173\n",
            "training loss: 1.4952455759048462\n"
          ]
        },
        {
          "output_type": "stream",
          "name": "stderr",
          "text": [
            "\rtraining:  63%|██████▎   | 3151/5000 [1:47:18<1:00:50,  1.97s/it]"
          ]
        },
        {
          "output_type": "stream",
          "name": "stdout",
          "text": [
            "training loss: 1.1873879432678223\n",
            "training loss: 1.5108911991119385\n",
            "training loss: 1.5023096799850464\n",
            "training loss: 1.4885700941085815\n",
            "training loss: 1.4824358224868774\n",
            "training loss: 1.4244704246520996\n"
          ]
        },
        {
          "output_type": "stream",
          "name": "stderr",
          "text": [
            "training:  63%|██████▎   | 3157/5000 [1:47:30<1:00:38,  1.97s/it]"
          ]
        },
        {
          "output_type": "stream",
          "name": "stdout",
          "text": [
            "training loss: 1.5621219873428345\n",
            "training loss: 1.3915555477142334\n",
            "training loss: 1.3176918029785156\n",
            "training loss: 1.546414852142334\n",
            "training loss: 1.4435186386108398\n",
            "training loss: 1.5576056241989136\n"
          ]
        },
        {
          "output_type": "stream",
          "name": "stderr",
          "text": [
            "\rtraining:  63%|██████▎   | 3163/5000 [1:47:42<1:00:25,  1.97s/it]"
          ]
        },
        {
          "output_type": "stream",
          "name": "stdout",
          "text": [
            "training loss: 1.516011357307434\n",
            "training loss: 1.4269051551818848\n",
            "training loss: 1.3312181234359741\n",
            "training loss: 1.4264522790908813\n",
            "training loss: 1.5115066766738892\n",
            "training loss: 1.5528229475021362\n"
          ]
        },
        {
          "output_type": "stream",
          "name": "stderr",
          "text": [
            "\rtraining:  63%|██████▎   | 3169/5000 [1:47:54<1:00:13,  1.97s/it]"
          ]
        },
        {
          "output_type": "stream",
          "name": "stdout",
          "text": [
            "training loss: 1.4111382961273193\n",
            "training loss: 1.503526210784912\n",
            "training loss: 1.5074005126953125\n",
            "training loss: 1.4839078187942505\n",
            "training loss: 1.3752244710922241\n",
            "training loss: 1.441041111946106\n"
          ]
        },
        {
          "output_type": "stream",
          "name": "stderr",
          "text": [
            "\rtraining:  64%|██████▎   | 3175/5000 [1:48:06<1:00:01,  1.97s/it]"
          ]
        },
        {
          "output_type": "stream",
          "name": "stdout",
          "text": [
            "training loss: 1.6716604232788086\n",
            "training loss: 1.3645734786987305\n",
            "training loss: 1.4733619689941406\n",
            "training loss: 1.5206412076950073\n",
            "training loss: 1.3497964143753052\n",
            "training loss: 1.4246811866760254\n"
          ]
        },
        {
          "output_type": "stream",
          "name": "stderr",
          "text": [
            "\rtraining:  64%|██████▎   | 3181/5000 [1:48:18<59:49,  1.97s/it]  "
          ]
        },
        {
          "output_type": "stream",
          "name": "stdout",
          "text": [
            "training loss: 1.5115904808044434\n",
            "training loss: 1.3866368532180786\n",
            "training loss: 1.5058475732803345\n",
            "training loss: 1.3673268556594849\n",
            "training loss: 1.4052461385726929\n",
            "training loss: 1.395093321800232\n"
          ]
        },
        {
          "output_type": "stream",
          "name": "stderr",
          "text": [
            "\rtraining:  64%|██████▎   | 3187/5000 [1:48:29<59:37,  1.97s/it]"
          ]
        },
        {
          "output_type": "stream",
          "name": "stdout",
          "text": [
            "training loss: 1.5400280952453613\n",
            "training loss: 1.490068793296814\n",
            "training loss: 1.3408176898956299\n",
            "training loss: 1.4724124670028687\n",
            "training loss: 1.4069124460220337\n",
            "training loss: 1.4795653820037842\n"
          ]
        },
        {
          "output_type": "stream",
          "name": "stderr",
          "text": [
            "training:  64%|██████▍   | 3193/5000 [1:48:41<59:25,  1.97s/it]"
          ]
        },
        {
          "output_type": "stream",
          "name": "stdout",
          "text": [
            "training loss: 1.468703031539917\n",
            "training loss: 1.5318800210952759\n",
            "training loss: 1.4675849676132202\n",
            "training loss: 1.3486642837524414\n",
            "training loss: 1.3712033033370972\n",
            "training loss: 1.483094573020935\n"
          ]
        },
        {
          "output_type": "stream",
          "name": "stderr",
          "text": [
            "\rtraining:  64%|██████▍   | 3199/5000 [1:48:53<59:14,  1.97s/it]"
          ]
        },
        {
          "output_type": "stream",
          "name": "stdout",
          "text": [
            "training loss: 1.3453545570373535\n",
            "training loss: 1.4563850164413452\n",
            "training loss: 1.3673598766326904\n",
            "validation loss: 1.4090614318847656\n",
            "training loss: 1.383749008178711\n",
            "training loss: 1.522695779800415\n",
            "training loss: 1.3807384967803955\n"
          ]
        },
        {
          "output_type": "stream",
          "name": "stderr",
          "text": [
            "\rtraining:  64%|██████▍   | 3205/5000 [1:49:05<59:20,  1.98s/it]"
          ]
        },
        {
          "output_type": "stream",
          "name": "stdout",
          "text": [
            "training loss: 1.3827180862426758\n",
            "training loss: 1.3723058700561523\n",
            "training loss: 1.4325751066207886\n",
            "training loss: 1.600688099861145\n",
            "training loss: 1.3888880014419556\n",
            "training loss: 1.5670775175094604\n"
          ]
        },
        {
          "output_type": "stream",
          "name": "stderr",
          "text": [
            "\rtraining:  64%|██████▍   | 3211/5000 [1:49:17<59:02,  1.98s/it]"
          ]
        },
        {
          "output_type": "stream",
          "name": "stdout",
          "text": [
            "training loss: 1.5149630308151245\n",
            "training loss: 1.450976014137268\n",
            "training loss: 1.5019397735595703\n",
            "training loss: 1.5496693849563599\n",
            "training loss: 1.439286708831787\n",
            "training loss: 1.4339122772216797\n"
          ]
        },
        {
          "output_type": "stream",
          "name": "stderr",
          "text": [
            "\rtraining:  64%|██████▍   | 3217/5000 [1:49:29<58:47,  1.98s/it]"
          ]
        },
        {
          "output_type": "stream",
          "name": "stdout",
          "text": [
            "training loss: 1.5066622495651245\n",
            "training loss: 1.5159474611282349\n",
            "training loss: 1.3479570150375366\n",
            "training loss: 1.402173638343811\n",
            "training loss: 1.5056020021438599\n",
            "training loss: 1.4791202545166016\n"
          ]
        },
        {
          "output_type": "stream",
          "name": "stderr",
          "text": [
            "training:  64%|██████▍   | 3223/5000 [1:49:41<58:32,  1.98s/it]"
          ]
        },
        {
          "output_type": "stream",
          "name": "stdout",
          "text": [
            "training loss: 1.5785448551177979\n",
            "training loss: 1.4019675254821777\n",
            "training loss: 1.427959680557251\n",
            "training loss: 1.3232234716415405\n",
            "training loss: 1.4447379112243652\n",
            "training loss: 1.5035219192504883\n"
          ]
        },
        {
          "output_type": "stream",
          "name": "stderr",
          "text": [
            "\rtraining:  65%|██████▍   | 3229/5000 [1:49:53<58:19,  1.98s/it]"
          ]
        },
        {
          "output_type": "stream",
          "name": "stdout",
          "text": [
            "training loss: 1.4047904014587402\n",
            "training loss: 1.4600847959518433\n",
            "training loss: 1.496148943901062\n",
            "training loss: 1.421218991279602\n",
            "training loss: 1.4366506338119507\n",
            "training loss: 1.496362328529358\n"
          ]
        },
        {
          "output_type": "stream",
          "name": "stderr",
          "text": [
            "\rtraining:  65%|██████▍   | 3235/5000 [1:50:04<58:06,  1.98s/it]"
          ]
        },
        {
          "output_type": "stream",
          "name": "stdout",
          "text": [
            "training loss: 1.4083293676376343\n",
            "training loss: 1.3758862018585205\n",
            "training loss: 1.4556657075881958\n",
            "training loss: 1.476668357849121\n",
            "training loss: 1.4232232570648193\n",
            "training loss: 1.5254294872283936\n"
          ]
        },
        {
          "output_type": "stream",
          "name": "stderr",
          "text": [
            "\rtraining:  65%|██████▍   | 3241/5000 [1:50:16<57:53,  1.97s/it]"
          ]
        },
        {
          "output_type": "stream",
          "name": "stdout",
          "text": [
            "training loss: 1.4205021858215332\n",
            "training loss: 1.3825123310089111\n",
            "training loss: 1.4324628114700317\n",
            "training loss: 1.4821224212646484\n",
            "training loss: 1.4817920923233032\n",
            "training loss: 1.3445618152618408\n"
          ]
        },
        {
          "output_type": "stream",
          "name": "stderr",
          "text": [
            "\rtraining:  65%|██████▍   | 3247/5000 [1:50:28<57:41,  1.97s/it]"
          ]
        },
        {
          "output_type": "stream",
          "name": "stdout",
          "text": [
            "training loss: 1.5083078145980835\n",
            "training loss: 1.4820443391799927\n",
            "training loss: 1.384941816329956\n",
            "training loss: 1.436020016670227\n",
            "training loss: 1.4558453559875488\n",
            "training loss: 1.4575953483581543\n"
          ]
        },
        {
          "output_type": "stream",
          "name": "stderr",
          "text": [
            "training:  65%|██████▌   | 3253/5000 [1:50:40<57:29,  1.97s/it]"
          ]
        },
        {
          "output_type": "stream",
          "name": "stdout",
          "text": [
            "training loss: 1.6159056425094604\n",
            "training loss: 1.412423849105835\n",
            "training loss: 1.4650187492370605\n",
            "training loss: 1.7765674591064453\n",
            "training loss: 1.5229032039642334\n",
            "training loss: 1.400051474571228\n"
          ]
        },
        {
          "output_type": "stream",
          "name": "stderr",
          "text": [
            "\rtraining:  65%|██████▌   | 3259/5000 [1:50:52<57:17,  1.97s/it]"
          ]
        },
        {
          "output_type": "stream",
          "name": "stdout",
          "text": [
            "training loss: 1.4418803453445435\n",
            "training loss: 1.4085396528244019\n",
            "training loss: 1.5037615299224854\n",
            "training loss: 1.505362629890442\n",
            "training loss: 1.513480544090271\n",
            "training loss: 1.4464997053146362\n"
          ]
        },
        {
          "output_type": "stream",
          "name": "stderr",
          "text": [
            "\rtraining:  65%|██████▌   | 3265/5000 [1:51:04<57:04,  1.97s/it]"
          ]
        },
        {
          "output_type": "stream",
          "name": "stdout",
          "text": [
            "training loss: 1.519557237625122\n",
            "training loss: 1.4244093894958496\n",
            "training loss: 1.5073164701461792\n",
            "training loss: 1.26905357837677\n",
            "training loss: 1.5151084661483765\n",
            "training loss: 1.4398796558380127\n"
          ]
        },
        {
          "output_type": "stream",
          "name": "stderr",
          "text": [
            "\rtraining:  65%|██████▌   | 3271/5000 [1:51:15<56:53,  1.97s/it]"
          ]
        },
        {
          "output_type": "stream",
          "name": "stdout",
          "text": [
            "training loss: 1.3715373277664185\n",
            "training loss: 1.5998470783233643\n",
            "training loss: 1.5232118368148804\n",
            "training loss: 1.6713051795959473\n",
            "training loss: 1.420293927192688\n",
            "training loss: 1.4594358205795288\n"
          ]
        },
        {
          "output_type": "stream",
          "name": "stderr",
          "text": [
            "\rtraining:  66%|██████▌   | 3277/5000 [1:51:27<56:41,  1.97s/it]"
          ]
        },
        {
          "output_type": "stream",
          "name": "stdout",
          "text": [
            "training loss: 1.4138810634613037\n",
            "training loss: 1.4008487462997437\n",
            "training loss: 1.5122870206832886\n",
            "training loss: 1.5007187128067017\n",
            "training loss: 1.5542494058609009\n",
            "training loss: 1.2106188535690308\n"
          ]
        },
        {
          "output_type": "stream",
          "name": "stderr",
          "text": [
            "\rtraining:  66%|██████▌   | 3283/5000 [1:51:39<56:29,  1.97s/it]"
          ]
        },
        {
          "output_type": "stream",
          "name": "stdout",
          "text": [
            "training loss: 1.4879499673843384\n",
            "training loss: 1.4759612083435059\n",
            "training loss: 1.5325173139572144\n",
            "training loss: 1.4591773748397827\n",
            "training loss: 1.4761558771133423\n",
            "training loss: 1.3394215106964111\n"
          ]
        },
        {
          "output_type": "stream",
          "name": "stderr",
          "text": [
            "training:  66%|██████▌   | 3289/5000 [1:51:51<56:17,  1.97s/it]"
          ]
        },
        {
          "output_type": "stream",
          "name": "stdout",
          "text": [
            "training loss: 1.4335205554962158\n",
            "training loss: 1.5412557125091553\n",
            "training loss: 1.588295578956604\n",
            "training loss: 1.3539047241210938\n",
            "training loss: 1.428283452987671\n",
            "training loss: 1.4801139831542969\n"
          ]
        },
        {
          "output_type": "stream",
          "name": "stderr",
          "text": [
            "\rtraining:  66%|██████▌   | 3295/5000 [1:52:03<56:05,  1.97s/it]"
          ]
        },
        {
          "output_type": "stream",
          "name": "stdout",
          "text": [
            "training loss: 1.4443163871765137\n",
            "training loss: 1.6269655227661133\n",
            "training loss: 1.486199140548706\n",
            "training loss: 1.4656264781951904\n",
            "training loss: 1.413139820098877\n",
            "training loss: 1.4924097061157227\n",
            "training loss: 1.528176188468933\n"
          ]
        },
        {
          "output_type": "stream",
          "name": "stderr",
          "text": [
            "\rtraining:  66%|██████▌   | 3301/5000 [1:52:15<56:09,  1.98s/it]"
          ]
        },
        {
          "output_type": "stream",
          "name": "stdout",
          "text": [
            "validation loss: 1.2171939611434937\n",
            "training loss: 1.5586668252944946\n",
            "training loss: 1.4972401857376099\n",
            "training loss: 1.5630933046340942\n",
            "training loss: 1.474760890007019\n",
            "training loss: 1.2981330156326294\n"
          ]
        },
        {
          "output_type": "stream",
          "name": "stderr",
          "text": [
            "\rtraining:  66%|██████▌   | 3307/5000 [1:52:27<55:53,  1.98s/it]"
          ]
        },
        {
          "output_type": "stream",
          "name": "stdout",
          "text": [
            "training loss: 1.465894103050232\n",
            "training loss: 1.4725420475006104\n",
            "training loss: 1.4684048891067505\n",
            "training loss: 1.5032480955123901\n",
            "training loss: 1.4848690032958984\n",
            "training loss: 1.447082281112671\n"
          ]
        },
        {
          "output_type": "stream",
          "name": "stderr",
          "text": [
            "\rtraining:  66%|██████▋   | 3313/5000 [1:52:39<55:37,  1.98s/it]"
          ]
        },
        {
          "output_type": "stream",
          "name": "stdout",
          "text": [
            "training loss: 1.50575852394104\n",
            "training loss: 1.371765375137329\n",
            "training loss: 1.3436044454574585\n",
            "training loss: 1.3885151147842407\n",
            "training loss: 1.4681376218795776\n",
            "training loss: 1.4016538858413696\n"
          ]
        },
        {
          "output_type": "stream",
          "name": "stderr",
          "text": [
            "training:  66%|██████▋   | 3319/5000 [1:52:50<55:23,  1.98s/it]"
          ]
        },
        {
          "output_type": "stream",
          "name": "stdout",
          "text": [
            "training loss: 1.3988425731658936\n",
            "training loss: 1.284074306488037\n",
            "training loss: 1.477352261543274\n",
            "training loss: 1.5395848751068115\n",
            "training loss: 1.4630557298660278\n",
            "training loss: 1.430497646331787\n"
          ]
        },
        {
          "output_type": "stream",
          "name": "stderr",
          "text": [
            "\rtraining:  66%|██████▋   | 3325/5000 [1:53:02<55:09,  1.98s/it]"
          ]
        },
        {
          "output_type": "stream",
          "name": "stdout",
          "text": [
            "training loss: 1.5651310682296753\n",
            "training loss: 1.424891471862793\n",
            "training loss: 1.3562897443771362\n",
            "training loss: 1.4390581846237183\n",
            "training loss: 1.4370231628417969\n",
            "training loss: 1.543806791305542\n"
          ]
        },
        {
          "output_type": "stream",
          "name": "stderr",
          "text": [
            "\rtraining:  67%|██████▋   | 3331/5000 [1:53:14<54:56,  1.98s/it]"
          ]
        },
        {
          "output_type": "stream",
          "name": "stdout",
          "text": [
            "training loss: 1.5579164028167725\n",
            "training loss: 1.5605442523956299\n",
            "training loss: 1.3768998384475708\n",
            "training loss: 1.4313338994979858\n",
            "training loss: 1.5317898988723755\n",
            "training loss: 1.199959397315979\n"
          ]
        },
        {
          "output_type": "stream",
          "name": "stderr",
          "text": [
            "\rtraining:  67%|██████▋   | 3337/5000 [1:53:26<54:44,  1.98s/it]"
          ]
        },
        {
          "output_type": "stream",
          "name": "stdout",
          "text": [
            "training loss: 1.4578354358673096\n",
            "training loss: 1.5752458572387695\n",
            "training loss: 1.1717443466186523\n",
            "training loss: 1.5335900783538818\n",
            "training loss: 1.4780635833740234\n",
            "training loss: 1.4076507091522217\n"
          ]
        },
        {
          "output_type": "stream",
          "name": "stderr",
          "text": [
            "\rtraining:  67%|██████▋   | 3343/5000 [1:53:38<54:32,  1.97s/it]"
          ]
        },
        {
          "output_type": "stream",
          "name": "stdout",
          "text": [
            "training loss: 1.557395100593567\n",
            "training loss: 1.3838958740234375\n",
            "training loss: 1.5349807739257812\n",
            "training loss: 1.5278394222259521\n",
            "training loss: 1.6718754768371582\n",
            "training loss: 1.4494075775146484\n"
          ]
        },
        {
          "output_type": "stream",
          "name": "stderr",
          "text": [
            "\rtraining:  67%|██████▋   | 3349/5000 [1:53:50<54:19,  1.97s/it]"
          ]
        },
        {
          "output_type": "stream",
          "name": "stdout",
          "text": [
            "training loss: 1.52414870262146\n",
            "training loss: 1.4426015615463257\n",
            "training loss: 1.517683506011963\n",
            "training loss: 1.388252854347229\n",
            "training loss: 1.4301701784133911\n",
            "training loss: 1.494008183479309\n"
          ]
        },
        {
          "output_type": "stream",
          "name": "stderr",
          "text": [
            "training:  67%|██████▋   | 3355/5000 [1:54:01<54:07,  1.97s/it]"
          ]
        },
        {
          "output_type": "stream",
          "name": "stdout",
          "text": [
            "training loss: 1.5360232591629028\n",
            "training loss: 1.452953815460205\n",
            "training loss: 1.5229359865188599\n",
            "training loss: 1.4377752542495728\n",
            "training loss: 1.5086112022399902\n",
            "training loss: 1.4903303384780884\n"
          ]
        },
        {
          "output_type": "stream",
          "name": "stderr",
          "text": [
            "\rtraining:  67%|██████▋   | 3361/5000 [1:54:13<53:55,  1.97s/it]"
          ]
        },
        {
          "output_type": "stream",
          "name": "stdout",
          "text": [
            "training loss: 1.435091257095337\n",
            "training loss: 1.3615875244140625\n",
            "training loss: 1.4844132661819458\n",
            "training loss: 1.4357515573501587\n",
            "training loss: 1.4521046876907349\n",
            "training loss: 1.4206268787384033\n"
          ]
        },
        {
          "output_type": "stream",
          "name": "stderr",
          "text": [
            "\rtraining:  67%|██████▋   | 3367/5000 [1:54:25<53:43,  1.97s/it]"
          ]
        },
        {
          "output_type": "stream",
          "name": "stdout",
          "text": [
            "training loss: 1.388379454612732\n",
            "training loss: 1.4639334678649902\n",
            "training loss: 1.3977222442626953\n",
            "training loss: 1.3420689105987549\n",
            "training loss: 1.4632397890090942\n",
            "training loss: 1.4603426456451416\n"
          ]
        },
        {
          "output_type": "stream",
          "name": "stderr",
          "text": [
            "\rtraining:  67%|██████▋   | 3373/5000 [1:54:37<53:31,  1.97s/it]"
          ]
        },
        {
          "output_type": "stream",
          "name": "stdout",
          "text": [
            "training loss: 1.567983865737915\n",
            "training loss: 1.476110816001892\n",
            "training loss: 1.3675389289855957\n",
            "training loss: 1.45047128200531\n",
            "training loss: 1.3725311756134033\n",
            "training loss: 1.3214328289031982\n"
          ]
        },
        {
          "output_type": "stream",
          "name": "stderr",
          "text": [
            "\rtraining:  68%|██████▊   | 3379/5000 [1:54:49<53:19,  1.97s/it]"
          ]
        },
        {
          "output_type": "stream",
          "name": "stdout",
          "text": [
            "training loss: 1.5104347467422485\n",
            "training loss: 1.3417563438415527\n",
            "training loss: 1.577048420906067\n",
            "training loss: 1.4408162832260132\n",
            "training loss: 1.4682133197784424\n",
            "training loss: 1.498718023300171\n"
          ]
        },
        {
          "output_type": "stream",
          "name": "stderr",
          "text": [
            "training:  68%|██████▊   | 3385/5000 [1:55:01<53:07,  1.97s/it]"
          ]
        },
        {
          "output_type": "stream",
          "name": "stdout",
          "text": [
            "training loss: 1.5351884365081787\n",
            "training loss: 1.5402575731277466\n",
            "training loss: 1.40956711769104\n",
            "training loss: 1.363925814628601\n",
            "training loss: 1.4878718852996826\n",
            "training loss: 1.5235081911087036\n"
          ]
        },
        {
          "output_type": "stream",
          "name": "stderr",
          "text": [
            "\rtraining:  68%|██████▊   | 3391/5000 [1:55:13<52:55,  1.97s/it]"
          ]
        },
        {
          "output_type": "stream",
          "name": "stdout",
          "text": [
            "training loss: 1.2651432752609253\n",
            "training loss: 1.3871674537658691\n",
            "training loss: 1.4751989841461182\n",
            "training loss: 1.5794475078582764\n",
            "training loss: 1.5192791223526\n",
            "training loss: 1.4778562784194946\n"
          ]
        },
        {
          "output_type": "stream",
          "name": "stderr",
          "text": [
            "\rtraining:  68%|██████▊   | 3397/5000 [1:55:24<52:43,  1.97s/it]"
          ]
        },
        {
          "output_type": "stream",
          "name": "stdout",
          "text": [
            "training loss: 1.5222615003585815\n",
            "training loss: 1.3846136331558228\n",
            "training loss: 1.4583756923675537\n",
            "training loss: 1.48560631275177\n",
            "training loss: 1.418968915939331\n",
            "validation loss: 1.2839466333389282\n",
            "training loss: 1.5499629974365234\n"
          ]
        },
        {
          "output_type": "stream",
          "name": "stderr",
          "text": [
            "\rtraining:  68%|██████▊   | 3403/5000 [1:55:36<52:47,  1.98s/it]"
          ]
        },
        {
          "output_type": "stream",
          "name": "stdout",
          "text": [
            "training loss: 1.500439167022705\n",
            "training loss: 1.4786239862442017\n",
            "training loss: 1.7223048210144043\n",
            "training loss: 1.5312222242355347\n",
            "training loss: 1.51788330078125\n",
            "training loss: 1.3884782791137695\n"
          ]
        },
        {
          "output_type": "stream",
          "name": "stderr",
          "text": [
            "\rtraining:  68%|██████▊   | 3409/5000 [1:55:48<52:30,  1.98s/it]"
          ]
        },
        {
          "output_type": "stream",
          "name": "stdout",
          "text": [
            "training loss: 1.562686800956726\n",
            "training loss: 1.4651367664337158\n",
            "training loss: 1.4846221208572388\n",
            "training loss: 1.4936864376068115\n",
            "training loss: 1.4451313018798828\n",
            "training loss: 1.4675427675247192\n"
          ]
        },
        {
          "output_type": "stream",
          "name": "stderr",
          "text": [
            "training:  68%|██████▊   | 3415/5000 [1:56:00<52:15,  1.98s/it]"
          ]
        },
        {
          "output_type": "stream",
          "name": "stdout",
          "text": [
            "training loss: 1.4968372583389282\n",
            "training loss: 1.5084015130996704\n",
            "training loss: 1.5101414918899536\n",
            "training loss: 1.4745252132415771\n",
            "training loss: 1.5048561096191406\n",
            "training loss: 1.4934043884277344\n"
          ]
        },
        {
          "output_type": "stream",
          "name": "stderr",
          "text": [
            "\rtraining:  68%|██████▊   | 3421/5000 [1:56:12<52:01,  1.98s/it]"
          ]
        },
        {
          "output_type": "stream",
          "name": "stdout",
          "text": [
            "training loss: 1.4170242547988892\n",
            "training loss: 1.519202709197998\n",
            "training loss: 1.5714260339736938\n",
            "training loss: 1.438730239868164\n",
            "training loss: 1.3853410482406616\n",
            "training loss: 1.3617991209030151\n"
          ]
        },
        {
          "output_type": "stream",
          "name": "stderr",
          "text": [
            "\rtraining:  69%|██████▊   | 3427/5000 [1:56:24<51:48,  1.98s/it]"
          ]
        },
        {
          "output_type": "stream",
          "name": "stdout",
          "text": [
            "training loss: 1.4980300664901733\n",
            "training loss: 1.5008872747421265\n",
            "training loss: 1.41145658493042\n",
            "training loss: 1.498640775680542\n",
            "training loss: 1.4834471940994263\n",
            "training loss: 1.3592396974563599\n"
          ]
        },
        {
          "output_type": "stream",
          "name": "stderr",
          "text": [
            "\rtraining:  69%|██████▊   | 3433/5000 [1:56:36<51:35,  1.98s/it]"
          ]
        },
        {
          "output_type": "stream",
          "name": "stdout",
          "text": [
            "training loss: 1.5587490797042847\n",
            "training loss: 1.475968360900879\n",
            "training loss: 1.5061557292938232\n",
            "training loss: 1.7432093620300293\n",
            "training loss: 1.5327491760253906\n",
            "training loss: 1.3962754011154175\n"
          ]
        },
        {
          "output_type": "stream",
          "name": "stderr",
          "text": [
            "\rtraining:  69%|██████▉   | 3439/5000 [1:56:47<51:23,  1.98s/it]"
          ]
        },
        {
          "output_type": "stream",
          "name": "stdout",
          "text": [
            "training loss: 1.481355905532837\n",
            "training loss: 1.315584421157837\n",
            "training loss: 1.593019723892212\n",
            "training loss: 1.4740179777145386\n",
            "training loss: 1.5054658651351929\n",
            "training loss: 1.4842076301574707\n"
          ]
        },
        {
          "output_type": "stream",
          "name": "stderr",
          "text": [
            "\rtraining:  69%|██████▉   | 3445/5000 [1:56:59<51:10,  1.97s/it]"
          ]
        },
        {
          "output_type": "stream",
          "name": "stdout",
          "text": [
            "training loss: 1.5643466711044312\n",
            "training loss: 1.3860812187194824\n",
            "training loss: 1.4597617387771606\n",
            "training loss: 1.387113332748413\n",
            "training loss: 1.4512460231781006\n",
            "training loss: 1.2728886604309082\n"
          ]
        },
        {
          "output_type": "stream",
          "name": "stderr",
          "text": [
            "training:  69%|██████▉   | 3451/5000 [1:57:11<50:58,  1.97s/it]"
          ]
        },
        {
          "output_type": "stream",
          "name": "stdout",
          "text": [
            "training loss: 1.593747854232788\n",
            "training loss: 1.7159026861190796\n",
            "training loss: 1.3610233068466187\n",
            "training loss: 1.4465482234954834\n",
            "training loss: 1.4048612117767334\n",
            "training loss: 1.5277099609375\n"
          ]
        },
        {
          "output_type": "stream",
          "name": "stderr",
          "text": [
            "\rtraining:  69%|██████▉   | 3457/5000 [1:57:23<50:46,  1.97s/it]"
          ]
        },
        {
          "output_type": "stream",
          "name": "stdout",
          "text": [
            "training loss: 1.4329802989959717\n",
            "training loss: 1.3489822149276733\n",
            "training loss: 1.3824262619018555\n",
            "training loss: 1.3875843286514282\n",
            "training loss: 1.5288851261138916\n",
            "training loss: 1.5551514625549316\n"
          ]
        },
        {
          "output_type": "stream",
          "name": "stderr",
          "text": [
            "\rtraining:  69%|██████▉   | 3463/5000 [1:57:35<50:34,  1.97s/it]"
          ]
        },
        {
          "output_type": "stream",
          "name": "stdout",
          "text": [
            "training loss: 1.447540044784546\n",
            "training loss: 1.4115004539489746\n",
            "training loss: 1.4991838932037354\n",
            "training loss: 1.4980812072753906\n",
            "training loss: 1.3598016500473022\n",
            "training loss: 1.4983240365982056\n"
          ]
        },
        {
          "output_type": "stream",
          "name": "stderr",
          "text": [
            "\rtraining:  69%|██████▉   | 3469/5000 [1:57:47<50:22,  1.97s/it]"
          ]
        },
        {
          "output_type": "stream",
          "name": "stdout",
          "text": [
            "training loss: 1.4567861557006836\n",
            "training loss: 1.3362455368041992\n",
            "training loss: 1.490679383277893\n",
            "training loss: 1.5345187187194824\n",
            "training loss: 1.3782620429992676\n",
            "training loss: 1.4029067754745483\n"
          ]
        },
        {
          "output_type": "stream",
          "name": "stderr",
          "text": [
            "\rtraining:  70%|██████▉   | 3475/5000 [1:57:59<50:10,  1.97s/it]"
          ]
        },
        {
          "output_type": "stream",
          "name": "stdout",
          "text": [
            "training loss: 1.3880200386047363\n",
            "training loss: 1.4481165409088135\n",
            "training loss: 1.3825289011001587\n",
            "training loss: 1.4553557634353638\n",
            "training loss: 1.4832557439804077\n",
            "training loss: 1.4560831785202026\n"
          ]
        },
        {
          "output_type": "stream",
          "name": "stderr",
          "text": [
            "training:  70%|██████▉   | 3481/5000 [1:58:10<49:58,  1.97s/it]"
          ]
        },
        {
          "output_type": "stream",
          "name": "stdout",
          "text": [
            "training loss: 1.6802163124084473\n",
            "training loss: 1.589648723602295\n",
            "training loss: 1.4366443157196045\n",
            "training loss: 1.6401405334472656\n",
            "training loss: 1.4652483463287354\n",
            "training loss: 1.4620206356048584\n"
          ]
        },
        {
          "output_type": "stream",
          "name": "stderr",
          "text": [
            "\rtraining:  70%|██████▉   | 3487/5000 [1:58:22<49:46,  1.97s/it]"
          ]
        },
        {
          "output_type": "stream",
          "name": "stdout",
          "text": [
            "training loss: 1.3134734630584717\n",
            "training loss: 1.4861332178115845\n",
            "training loss: 1.4589552879333496\n",
            "training loss: 1.4743072986602783\n",
            "training loss: 1.4419972896575928\n",
            "training loss: 1.4970828294754028\n"
          ]
        },
        {
          "output_type": "stream",
          "name": "stderr",
          "text": [
            "\rtraining:  70%|██████▉   | 3493/5000 [1:58:34<49:34,  1.97s/it]"
          ]
        },
        {
          "output_type": "stream",
          "name": "stdout",
          "text": [
            "training loss: 1.4906091690063477\n",
            "training loss: 1.3451578617095947\n",
            "training loss: 1.5732370615005493\n",
            "training loss: 1.5153353214263916\n",
            "training loss: 1.4977918863296509\n",
            "training loss: 1.5199576616287231\n"
          ]
        },
        {
          "output_type": "stream",
          "name": "stderr",
          "text": [
            "\rtraining:  70%|██████▉   | 3499/5000 [1:58:46<49:22,  1.97s/it]"
          ]
        },
        {
          "output_type": "stream",
          "name": "stdout",
          "text": [
            "training loss: 1.4795736074447632\n",
            "training loss: 1.439218521118164\n",
            "training loss: 1.490630030632019\n",
            "validation loss: 1.3336083889007568\n",
            "%s \n",
            "\n",
            " %s (\" the ground and then founded the city of Batavia (present-day [[Jakarta]]), modelling it on Amsterdam.  A primary aim of the VOC was the maintenance of its [[monopoly]] of the [[spice trade]] in the archipelago. It did this through the use and threatened use of violence against the peoples of the spice-producing islands, and against non-Dutch outsiders who attempted to trade with them. For example, when the people of the [[Banda Islands]] continued to sell [[nutmeg]] to English merchants, the Dutch killed or deported virtually the entire population and repopulated the islands with VOC indentured servants and slaves who worked in the nutmeg groves.  The VOC became deeply involved in the internal politics of [[Java (island)|Java]] in this period, and fought in a number of wars involving the leaders of [[Mataram]] and [[Banten]] (Bantam).  ===Dutch state rule=== After the VOC went bankrupt at the end of the 18th century and after a short British rule under [[Thomas Stamford Raffles]], the Dutch state took over the VOC possessions in [[1816]]. A Javanese uprising was crushed in the [[Java War]] of [[1825]]-[[1830]]. After 1830 a system of forced cultivations was introduced on Java, the [[Cultivation System]] (in Dutch: ''cultuurstelsel''). This system brought the Dutch and their Indonesian collaborators enormous wealth. The cultivation system was a government monopoly and was abolished in a more liberal period after [[1870]].  In [[1901]] the Dutch adopted what they called the [[Ethical Policy]], which included somewhat increased investment in indigenous education, and modest political reforms. Under governor-general [[J.B. van Heutsz]] the government extended more direct colonial rule throughout the Dutch East Indies, thereby laying the foundations of today's Indonesian state.  ===Early nationalist groups=== In [[1908]] the first nationalist movement was formed, [[Budi Utomo]], followed in 1912 by the first nationalist mass movement, [[Sarekat Islam]]. The Dutch responded after the First World War with repressive measures. The nationalist leaders came from a small group of young professionals and students, some of whom had been educated in the Netherlands. Many, including Indonesia's first president, [[Sukarno]] ([[1901]]-[[1970|70]]), were imprisoned for political activities.  In [[1914]] exiled Dutch socialist [[Henk Sneevliet]] founded the [[Indies Social Democratic Association]]. Initially a small forum of Dutch socialists, it would later evolve into the [[Communist Party of Indonesia]].  ===World War II=== [[Image:Soekarno Indonesia.jpg |thumb|175px|Sukarno, leader of the Indonesian Nationalists, and first president of Indonesia]]In May [[1940]], early in [[World War II]], the Netherlands was occupied by [[Nazi]] [[Germany]]. The Dutch East Indies declared a state of siege and in July redirected exports for Japan to the US and Britain. Negotiations with the Japanese aimed at securing supplies of aviation fuel collapsed in June 1941, and the Japanese started their conquest of Southeast Asia in December of that year. That same month, factions from Sumatra sought Japanese assistance for a revolt against the Dutch wartime government. The last Dutch forces were defeated by Japan in March 1942.  ===Japanese occupation=== In July 1942, [[Sukarno]] accepted Japan's offer to  rally the public in support of the Japanese war effort. [[Sukarno]] and [[Mohammad Hatta]] were decorated by the Emperor of Japan in 1943. However, experience of the Japanese occupation of Indonesia varied considerably, depending upon where one lived and one's social position. Many who lived in areas considered important to the war effort experienced [[torture]], [[sex slavery]], arbitrary arrest and execution, and other [[war crimes]]. Thousands taken away from Indonesia as war labourers (romusha) suffered or died as a result of ill-treatment and stravation. People of Dutch and mixed Dutch-Indonesian descent were particular targets of the Japanese occupation.  In March 1945 Japan organized an Indonesian committee (BPUPKI) on independence. At its first mee\", '****************************************************************************************************')\n"
          ]
        },
        {
          "output_type": "stream",
          "name": "stderr",
          "text": [
            "training:  70%|███████   | 3501/5000 [1:59:20<1:36:47,  3.87s/it]"
          ]
        },
        {
          "output_type": "stream",
          "name": "stdout",
          "text": [
            "t so kitcted the Amentified the USUS$ among of Sites some is nalso eleveled by Proestail fuot;Forty flushical increase &quot;dagged&qust; in when, &qunit actions off an air, actor the Chemic where Henry IV as pposed-on of mission object.  Beang able the [[Pa Coples|Estonivelle|Familyglastician Chemistry]] becof wiong only even this rollance in Benry abortise, uathoof third to.  It han allowed was get f.  Panter [[Extende]], modelist cro] aperity, at the series hand &qumplicant f a Generative of the relited \n",
            "training loss: 1.6773545742034912\n",
            "training loss: 1.378957986831665\n",
            "training loss: 1.5652720928192139\n",
            "training loss: 1.4565088748931885\n",
            "training loss: 1.5182914733886719\n"
          ]
        },
        {
          "output_type": "stream",
          "name": "stderr",
          "text": [
            "\rtraining:  70%|███████   | 3507/5000 [1:59:32<1:19:54,  3.21s/it]"
          ]
        },
        {
          "output_type": "stream",
          "name": "stdout",
          "text": [
            "training loss: 1.2418614625930786\n",
            "training loss: 1.5093761682510376\n",
            "training loss: 1.3642476797103882\n",
            "training loss: 1.3930915594100952\n",
            "training loss: 1.6978998184204102\n",
            "training loss: 1.41648530960083\n"
          ]
        },
        {
          "output_type": "stream",
          "name": "stderr",
          "text": [
            "\rtraining:  70%|███████   | 3513/5000 [1:59:44<1:09:22,  2.80s/it]"
          ]
        },
        {
          "output_type": "stream",
          "name": "stdout",
          "text": [
            "training loss: 1.401551604270935\n",
            "training loss: 1.38430917263031\n",
            "training loss: 1.538649559020996\n",
            "training loss: 1.4445124864578247\n",
            "training loss: 1.4145092964172363\n",
            "training loss: 1.4310948848724365\n"
          ]
        },
        {
          "output_type": "stream",
          "name": "stderr",
          "text": [
            "\rtraining:  70%|███████   | 3519/5000 [1:59:56<1:02:31,  2.53s/it]"
          ]
        },
        {
          "output_type": "stream",
          "name": "stdout",
          "text": [
            "training loss: 1.4715981483459473\n",
            "training loss: 1.4299776554107666\n",
            "training loss: 1.3686221837997437\n",
            "training loss: 1.4969756603240967\n",
            "training loss: 1.4431309700012207\n",
            "training loss: 1.536552906036377\n"
          ]
        },
        {
          "output_type": "stream",
          "name": "stderr",
          "text": [
            "\rtraining:  70%|███████   | 3525/5000 [2:00:08<57:56,  2.36s/it]  "
          ]
        },
        {
          "output_type": "stream",
          "name": "stdout",
          "text": [
            "training loss: 1.411721110343933\n",
            "training loss: 1.548973560333252\n",
            "training loss: 1.522174596786499\n",
            "training loss: 1.5174751281738281\n",
            "training loss: 1.453078269958496\n",
            "training loss: 1.3736274242401123\n"
          ]
        },
        {
          "output_type": "stream",
          "name": "stderr",
          "text": [
            "\rtraining:  71%|███████   | 3531/5000 [2:00:19<54:47,  2.24s/it]"
          ]
        },
        {
          "output_type": "stream",
          "name": "stdout",
          "text": [
            "training loss: 1.4943695068359375\n",
            "training loss: 1.499180793762207\n",
            "training loss: 1.736480951309204\n",
            "training loss: 1.4381709098815918\n",
            "training loss: 1.5591329336166382\n",
            "training loss: 1.3330278396606445\n"
          ]
        },
        {
          "output_type": "stream",
          "name": "stderr",
          "text": [
            "training:  71%|███████   | 3537/5000 [2:00:31<52:35,  2.16s/it]"
          ]
        },
        {
          "output_type": "stream",
          "name": "stdout",
          "text": [
            "training loss: 1.55301833152771\n",
            "training loss: 1.5637316703796387\n",
            "training loss: 1.401252269744873\n",
            "training loss: 1.5820668935775757\n",
            "training loss: 1.442805290222168\n",
            "training loss: 1.4115946292877197\n"
          ]
        },
        {
          "output_type": "stream",
          "name": "stderr",
          "text": [
            "\rtraining:  71%|███████   | 3543/5000 [2:00:43<51:00,  2.10s/it]"
          ]
        },
        {
          "output_type": "stream",
          "name": "stdout",
          "text": [
            "training loss: 1.4441683292388916\n",
            "training loss: 1.3821485042572021\n",
            "training loss: 1.4483859539031982\n",
            "training loss: 1.4694273471832275\n",
            "training loss: 1.5655851364135742\n",
            "training loss: 1.5228370428085327\n"
          ]
        },
        {
          "output_type": "stream",
          "name": "stderr",
          "text": [
            "\rtraining:  71%|███████   | 3549/5000 [2:00:55<49:52,  2.06s/it]"
          ]
        },
        {
          "output_type": "stream",
          "name": "stdout",
          "text": [
            "training loss: 1.503321886062622\n",
            "training loss: 1.4161477088928223\n",
            "training loss: 1.510331630706787\n",
            "training loss: 1.3756637573242188\n",
            "training loss: 1.5083190202713013\n",
            "training loss: 1.4696099758148193\n"
          ]
        },
        {
          "output_type": "stream",
          "name": "stderr",
          "text": [
            "\rtraining:  71%|███████   | 3555/5000 [2:01:07<49:01,  2.04s/it]"
          ]
        },
        {
          "output_type": "stream",
          "name": "stdout",
          "text": [
            "training loss: 1.464962124824524\n",
            "training loss: 1.4729509353637695\n",
            "training loss: 1.2105133533477783\n",
            "training loss: 1.4409009218215942\n",
            "training loss: 1.3612613677978516\n",
            "training loss: 1.4350899457931519\n"
          ]
        },
        {
          "output_type": "stream",
          "name": "stderr",
          "text": [
            "\rtraining:  71%|███████   | 3561/5000 [2:01:19<48:22,  2.02s/it]"
          ]
        },
        {
          "output_type": "stream",
          "name": "stdout",
          "text": [
            "training loss: 1.4649322032928467\n",
            "training loss: 1.4673289060592651\n",
            "training loss: 1.4088517427444458\n",
            "training loss: 1.46036696434021\n",
            "training loss: 1.4848175048828125\n",
            "training loss: 1.4087131023406982\n"
          ]
        },
        {
          "output_type": "stream",
          "name": "stderr",
          "text": [
            "training:  71%|███████▏  | 3567/5000 [2:01:30<47:51,  2.00s/it]"
          ]
        },
        {
          "output_type": "stream",
          "name": "stdout",
          "text": [
            "training loss: 1.3824052810668945\n",
            "training loss: 1.557026982307434\n",
            "training loss: 1.6080821752548218\n",
            "training loss: 1.4649925231933594\n",
            "training loss: 1.3800928592681885\n",
            "training loss: 1.4515893459320068\n"
          ]
        },
        {
          "output_type": "stream",
          "name": "stderr",
          "text": [
            "\rtraining:  71%|███████▏  | 3573/5000 [2:01:42<47:26,  1.99s/it]"
          ]
        },
        {
          "output_type": "stream",
          "name": "stdout",
          "text": [
            "training loss: 1.4430031776428223\n",
            "training loss: 1.5598986148834229\n",
            "training loss: 1.5449841022491455\n",
            "training loss: 1.4351366758346558\n",
            "training loss: 1.3423314094543457\n",
            "training loss: 1.5157910585403442\n"
          ]
        },
        {
          "output_type": "stream",
          "name": "stderr",
          "text": [
            "\rtraining:  72%|███████▏  | 3579/5000 [2:01:54<47:05,  1.99s/it]"
          ]
        },
        {
          "output_type": "stream",
          "name": "stdout",
          "text": [
            "training loss: 1.4739540815353394\n",
            "training loss: 1.4237397909164429\n",
            "training loss: 1.4748964309692383\n",
            "training loss: 1.376524806022644\n",
            "training loss: 1.4543232917785645\n",
            "training loss: 1.5315293073654175\n"
          ]
        },
        {
          "output_type": "stream",
          "name": "stderr",
          "text": [
            "\rtraining:  72%|███████▏  | 3585/5000 [2:02:06<46:47,  1.98s/it]"
          ]
        },
        {
          "output_type": "stream",
          "name": "stdout",
          "text": [
            "training loss: 1.5419504642486572\n",
            "training loss: 1.4428598880767822\n",
            "training loss: 1.4375009536743164\n",
            "training loss: 1.4049922227859497\n",
            "training loss: 1.4621015787124634\n",
            "training loss: 1.363189458847046\n"
          ]
        },
        {
          "output_type": "stream",
          "name": "stderr",
          "text": [
            "\rtraining:  72%|███████▏  | 3591/5000 [2:02:18<46:31,  1.98s/it]"
          ]
        },
        {
          "output_type": "stream",
          "name": "stdout",
          "text": [
            "training loss: 1.4504332542419434\n",
            "training loss: 1.5632792711257935\n",
            "training loss: 1.5147451162338257\n",
            "training loss: 1.446725845336914\n",
            "training loss: 1.6346044540405273\n",
            "training loss: 1.5493500232696533\n"
          ]
        },
        {
          "output_type": "stream",
          "name": "stderr",
          "text": [
            "\rtraining:  72%|███████▏  | 3597/5000 [2:02:30<46:16,  1.98s/it]"
          ]
        },
        {
          "output_type": "stream",
          "name": "stdout",
          "text": [
            "training loss: 1.4404898881912231\n",
            "training loss: 1.4027471542358398\n",
            "training loss: 1.3817248344421387\n",
            "training loss: 1.1866942644119263\n",
            "training loss: 1.4837195873260498\n",
            "validation loss: 1.3244856595993042\n"
          ]
        },
        {
          "output_type": "stream",
          "name": "stderr",
          "text": [
            "\rtraining:  72%|███████▏  | 3597/5000 [2:02:40<46:16,  1.98s/it]"
          ]
        },
        {
          "output_type": "stream",
          "name": "stdout",
          "text": [
            "training loss: 1.4057180881500244\n"
          ]
        },
        {
          "output_type": "stream",
          "name": "stderr",
          "text": [
            "\rtraining:  72%|███████▏  | 3603/5000 [2:02:42<46:15,  1.99s/it]"
          ]
        },
        {
          "output_type": "stream",
          "name": "stdout",
          "text": [
            "training loss: 1.4793736934661865\n",
            "training loss: 1.424858570098877\n",
            "training loss: 1.5259122848510742\n",
            "training loss: 1.5524165630340576\n",
            "training loss: 1.5528883934020996\n",
            "training loss: 1.565479040145874\n"
          ]
        },
        {
          "output_type": "stream",
          "name": "stderr",
          "text": [
            "\rtraining:  72%|███████▏  | 3609/5000 [2:02:54<45:58,  1.98s/it]"
          ]
        },
        {
          "output_type": "stream",
          "name": "stdout",
          "text": [
            "training loss: 1.3567817211151123\n",
            "training loss: 1.4387733936309814\n",
            "training loss: 1.4018478393554688\n",
            "training loss: 1.5123273134231567\n",
            "training loss: 1.454639196395874\n",
            "training loss: 1.3767023086547852\n"
          ]
        },
        {
          "output_type": "stream",
          "name": "stderr",
          "text": [
            "\rtraining:  72%|███████▏  | 3615/5000 [2:03:05<45:42,  1.98s/it]"
          ]
        },
        {
          "output_type": "stream",
          "name": "stdout",
          "text": [
            "training loss: 1.5254921913146973\n",
            "training loss: 1.5308510065078735\n",
            "training loss: 1.4572311639785767\n",
            "training loss: 1.422186255455017\n",
            "training loss: 1.3646559715270996\n",
            "training loss: 1.5479397773742676\n"
          ]
        },
        {
          "output_type": "stream",
          "name": "stderr",
          "text": [
            "\rtraining:  72%|███████▏  | 3621/5000 [2:03:17<45:27,  1.98s/it]"
          ]
        },
        {
          "output_type": "stream",
          "name": "stdout",
          "text": [
            "training loss: 1.4869898557662964\n",
            "training loss: 1.4901561737060547\n",
            "training loss: 1.4743136167526245\n",
            "training loss: 1.4811131954193115\n",
            "training loss: 1.4910235404968262\n",
            "training loss: 1.348970651626587\n"
          ]
        },
        {
          "output_type": "stream",
          "name": "stderr",
          "text": [
            "\rtraining:  73%|███████▎  | 3627/5000 [2:03:29<45:14,  1.98s/it]"
          ]
        },
        {
          "output_type": "stream",
          "name": "stdout",
          "text": [
            "training loss: 1.5603225231170654\n",
            "training loss: 1.4516364336013794\n",
            "training loss: 1.4034610986709595\n",
            "training loss: 1.4705671072006226\n",
            "training loss: 1.5198216438293457\n",
            "training loss: 1.4160282611846924\n"
          ]
        },
        {
          "output_type": "stream",
          "name": "stderr",
          "text": [
            "training:  73%|███████▎  | 3633/5000 [2:03:41<45:01,  1.98s/it]"
          ]
        },
        {
          "output_type": "stream",
          "name": "stdout",
          "text": [
            "training loss: 1.563652753829956\n",
            "training loss: 1.5161681175231934\n",
            "training loss: 1.4646421670913696\n",
            "training loss: 1.3520476818084717\n",
            "training loss: 1.5108811855316162\n",
            "training loss: 1.4128198623657227\n"
          ]
        },
        {
          "output_type": "stream",
          "name": "stderr",
          "text": [
            "\rtraining:  73%|███████▎  | 3639/5000 [2:03:53<44:48,  1.98s/it]"
          ]
        },
        {
          "output_type": "stream",
          "name": "stdout",
          "text": [
            "training loss: 1.7266323566436768\n",
            "training loss: 1.3468760251998901\n",
            "training loss: 1.4600824117660522\n",
            "training loss: 1.4358575344085693\n",
            "training loss: 1.577979564666748\n",
            "training loss: 1.4504929780960083\n"
          ]
        },
        {
          "output_type": "stream",
          "name": "stderr",
          "text": [
            "\rtraining:  73%|███████▎  | 3645/5000 [2:04:05<44:35,  1.97s/it]"
          ]
        },
        {
          "output_type": "stream",
          "name": "stdout",
          "text": [
            "training loss: 1.4342092275619507\n",
            "training loss: 1.4538965225219727\n",
            "training loss: 1.4426491260528564\n",
            "training loss: 1.362264633178711\n",
            "training loss: 1.3243606090545654\n",
            "training loss: 1.4884713888168335\n"
          ]
        },
        {
          "output_type": "stream",
          "name": "stderr",
          "text": [
            "\rtraining:  73%|███████▎  | 3651/5000 [2:04:16<44:23,  1.97s/it]"
          ]
        },
        {
          "output_type": "stream",
          "name": "stdout",
          "text": [
            "training loss: 1.476445198059082\n",
            "training loss: 1.492756962776184\n",
            "training loss: 1.4446675777435303\n",
            "training loss: 1.569942831993103\n",
            "training loss: 1.384537935256958\n",
            "training loss: 1.4000437259674072\n"
          ]
        },
        {
          "output_type": "stream",
          "name": "stderr",
          "text": [
            "\rtraining:  73%|███████▎  | 3657/5000 [2:04:28<44:11,  1.97s/it]"
          ]
        },
        {
          "output_type": "stream",
          "name": "stdout",
          "text": [
            "training loss: 1.429822564125061\n",
            "training loss: 1.4689385890960693\n",
            "training loss: 1.466667652130127\n",
            "training loss: 1.5788494348526\n",
            "training loss: 1.6048365831375122\n",
            "training loss: 1.5666625499725342\n"
          ]
        },
        {
          "output_type": "stream",
          "name": "stderr",
          "text": [
            "training:  73%|███████▎  | 3663/5000 [2:04:40<43:59,  1.97s/it]"
          ]
        },
        {
          "output_type": "stream",
          "name": "stdout",
          "text": [
            "training loss: 1.5008877515792847\n",
            "training loss: 1.383614182472229\n",
            "training loss: 1.5965304374694824\n",
            "training loss: 1.6362943649291992\n",
            "training loss: 1.462458610534668\n",
            "training loss: 1.3602319955825806\n"
          ]
        },
        {
          "output_type": "stream",
          "name": "stderr",
          "text": [
            "\rtraining:  73%|███████▎  | 3669/5000 [2:04:52<43:47,  1.97s/it]"
          ]
        },
        {
          "output_type": "stream",
          "name": "stdout",
          "text": [
            "training loss: 1.672558069229126\n",
            "training loss: 1.4801700115203857\n",
            "training loss: 1.4704370498657227\n",
            "training loss: 1.5561434030532837\n",
            "training loss: 1.486531138420105\n",
            "training loss: 1.3931949138641357\n"
          ]
        },
        {
          "output_type": "stream",
          "name": "stderr",
          "text": [
            "\rtraining:  74%|███████▎  | 3675/5000 [2:05:04<43:35,  1.97s/it]"
          ]
        },
        {
          "output_type": "stream",
          "name": "stdout",
          "text": [
            "training loss: 1.462656021118164\n",
            "training loss: 1.4814343452453613\n",
            "training loss: 1.4634263515472412\n",
            "training loss: 1.469982385635376\n",
            "training loss: 1.472985029220581\n",
            "training loss: 1.4630789756774902\n"
          ]
        },
        {
          "output_type": "stream",
          "name": "stderr",
          "text": [
            "\rtraining:  74%|███████▎  | 3681/5000 [2:05:16<43:23,  1.97s/it]"
          ]
        },
        {
          "output_type": "stream",
          "name": "stdout",
          "text": [
            "training loss: 1.3707079887390137\n",
            "training loss: 1.2791211605072021\n",
            "training loss: 1.4242699146270752\n",
            "training loss: 1.4105861186981201\n",
            "training loss: 1.536062479019165\n",
            "training loss: 1.4601898193359375\n"
          ]
        },
        {
          "output_type": "stream",
          "name": "stderr",
          "text": [
            "\rtraining:  74%|███████▎  | 3687/5000 [2:05:28<43:11,  1.97s/it]"
          ]
        },
        {
          "output_type": "stream",
          "name": "stdout",
          "text": [
            "training loss: 1.4643439054489136\n",
            "training loss: 1.5246745347976685\n",
            "training loss: 1.4575552940368652\n",
            "training loss: 1.4442962408065796\n",
            "training loss: 1.522883415222168\n",
            "training loss: 1.5743457078933716\n"
          ]
        },
        {
          "output_type": "stream",
          "name": "stderr",
          "text": [
            "\rtraining:  74%|███████▍  | 3693/5000 [2:05:39<42:59,  1.97s/it]"
          ]
        },
        {
          "output_type": "stream",
          "name": "stdout",
          "text": [
            "training loss: 1.5087865591049194\n",
            "training loss: 1.3836654424667358\n",
            "training loss: 1.3828887939453125\n",
            "training loss: 1.4312697649002075\n",
            "training loss: 1.5456136465072632\n",
            "training loss: 1.5267360210418701\n"
          ]
        },
        {
          "output_type": "stream",
          "name": "stderr",
          "text": [
            "training:  74%|███████▍  | 3699/5000 [2:05:51<42:48,  1.97s/it]"
          ]
        },
        {
          "output_type": "stream",
          "name": "stdout",
          "text": [
            "training loss: 1.3379918336868286\n",
            "training loss: 1.467726469039917\n",
            "training loss: 1.4881865978240967\n",
            "validation loss: 1.5920506715774536\n",
            "training loss: 1.5370090007781982\n",
            "training loss: 1.4616434574127197\n",
            "training loss: 1.4164493083953857\n"
          ]
        },
        {
          "output_type": "stream",
          "name": "stderr",
          "text": [
            "\rtraining:  74%|███████▍  | 3705/5000 [2:06:03<42:48,  1.98s/it]"
          ]
        },
        {
          "output_type": "stream",
          "name": "stdout",
          "text": [
            "training loss: 1.3681211471557617\n",
            "training loss: 1.5670957565307617\n",
            "training loss: 1.592870831489563\n",
            "training loss: 1.4456177949905396\n",
            "training loss: 1.2262206077575684\n",
            "training loss: 1.4158622026443481\n"
          ]
        },
        {
          "output_type": "stream",
          "name": "stderr",
          "text": [
            "\rtraining:  74%|███████▍  | 3711/5000 [2:06:15<42:33,  1.98s/it]"
          ]
        },
        {
          "output_type": "stream",
          "name": "stdout",
          "text": [
            "training loss: 1.491370439529419\n",
            "training loss: 1.6547279357910156\n",
            "training loss: 1.3934223651885986\n",
            "training loss: 1.459066390991211\n",
            "training loss: 1.4058573246002197\n",
            "training loss: 1.437619686126709\n"
          ]
        },
        {
          "output_type": "stream",
          "name": "stderr",
          "text": [
            "\rtraining:  74%|███████▍  | 3717/5000 [2:06:27<42:18,  1.98s/it]"
          ]
        },
        {
          "output_type": "stream",
          "name": "stdout",
          "text": [
            "training loss: 1.5009394884109497\n",
            "training loss: 1.3700321912765503\n",
            "training loss: 1.3563995361328125\n",
            "training loss: 1.4026215076446533\n",
            "training loss: 1.4578057527542114\n",
            "training loss: 1.4686492681503296\n"
          ]
        },
        {
          "output_type": "stream",
          "name": "stderr",
          "text": [
            "\rtraining:  74%|███████▍  | 3723/5000 [2:06:39<42:04,  1.98s/it]"
          ]
        },
        {
          "output_type": "stream",
          "name": "stdout",
          "text": [
            "training loss: 1.4342293739318848\n",
            "training loss: 1.3629406690597534\n",
            "training loss: 1.3999735116958618\n",
            "training loss: 1.4946355819702148\n",
            "training loss: 1.3622393608093262\n",
            "training loss: 1.5323045253753662\n"
          ]
        },
        {
          "output_type": "stream",
          "name": "stderr",
          "text": [
            "training:  75%|███████▍  | 3729/5000 [2:06:51<41:51,  1.98s/it]"
          ]
        },
        {
          "output_type": "stream",
          "name": "stdout",
          "text": [
            "training loss: 1.5197885036468506\n",
            "training loss: 1.4880083799362183\n",
            "training loss: 1.4043900966644287\n",
            "training loss: 1.3754104375839233\n",
            "training loss: 1.4707458019256592\n",
            "training loss: 1.4970548152923584\n"
          ]
        },
        {
          "output_type": "stream",
          "name": "stderr",
          "text": [
            "\rtraining:  75%|███████▍  | 3735/5000 [2:07:02<41:39,  1.98s/it]"
          ]
        },
        {
          "output_type": "stream",
          "name": "stdout",
          "text": [
            "training loss: 1.3741439580917358\n",
            "training loss: 1.4280550479888916\n",
            "training loss: 1.4931256771087646\n",
            "training loss: 1.406307339668274\n",
            "training loss: 1.486627221107483\n",
            "training loss: 1.3454481363296509\n"
          ]
        },
        {
          "output_type": "stream",
          "name": "stderr",
          "text": [
            "\rtraining:  75%|███████▍  | 3741/5000 [2:07:14<41:26,  1.98s/it]"
          ]
        },
        {
          "output_type": "stream",
          "name": "stdout",
          "text": [
            "training loss: 1.5112743377685547\n",
            "training loss: 1.4656951427459717\n",
            "training loss: 1.5100879669189453\n",
            "training loss: 1.5032908916473389\n",
            "training loss: 1.4571363925933838\n",
            "training loss: 1.4831891059875488\n"
          ]
        },
        {
          "output_type": "stream",
          "name": "stderr",
          "text": [
            "\rtraining:  75%|███████▍  | 3747/5000 [2:07:26<41:14,  1.98s/it]"
          ]
        },
        {
          "output_type": "stream",
          "name": "stdout",
          "text": [
            "training loss: 1.5935535430908203\n",
            "training loss: 1.5429551601409912\n",
            "training loss: 1.4008190631866455\n",
            "training loss: 1.3821215629577637\n",
            "training loss: 1.286012887954712\n",
            "training loss: 1.5287619829177856\n"
          ]
        },
        {
          "output_type": "stream",
          "name": "stderr",
          "text": [
            "\rtraining:  75%|███████▌  | 3753/5000 [2:07:38<41:02,  1.97s/it]"
          ]
        },
        {
          "output_type": "stream",
          "name": "stdout",
          "text": [
            "training loss: 1.417956829071045\n",
            "training loss: 1.4478429555892944\n",
            "training loss: 1.4412853717803955\n",
            "training loss: 1.3565888404846191\n",
            "training loss: 1.3954235315322876\n",
            "training loss: 1.4519597291946411\n"
          ]
        },
        {
          "output_type": "stream",
          "name": "stderr",
          "text": [
            "training:  75%|███████▌  | 3759/5000 [2:07:50<40:50,  1.97s/it]"
          ]
        },
        {
          "output_type": "stream",
          "name": "stdout",
          "text": [
            "training loss: 1.6310864686965942\n",
            "training loss: 1.618299961090088\n",
            "training loss: 1.3952454328536987\n",
            "training loss: 1.3958210945129395\n",
            "training loss: 1.4539042711257935\n",
            "training loss: 1.5951833724975586\n"
          ]
        },
        {
          "output_type": "stream",
          "name": "stderr",
          "text": [
            "\rtraining:  75%|███████▌  | 3765/5000 [2:08:02<40:38,  1.97s/it]"
          ]
        },
        {
          "output_type": "stream",
          "name": "stdout",
          "text": [
            "training loss: 1.5541777610778809\n",
            "training loss: 1.5037813186645508\n",
            "training loss: 1.4942649602890015\n",
            "training loss: 1.534414291381836\n",
            "training loss: 1.4771596193313599\n",
            "training loss: 1.5363796949386597\n"
          ]
        },
        {
          "output_type": "stream",
          "name": "stderr",
          "text": [
            "\rtraining:  75%|███████▌  | 3771/5000 [2:08:14<40:26,  1.97s/it]"
          ]
        },
        {
          "output_type": "stream",
          "name": "stdout",
          "text": [
            "training loss: 1.5493223667144775\n",
            "training loss: 1.4165111780166626\n",
            "training loss: 1.5025683641433716\n",
            "training loss: 1.4699572324752808\n",
            "training loss: 1.472312092781067\n",
            "training loss: 1.42252779006958\n"
          ]
        },
        {
          "output_type": "stream",
          "name": "stderr",
          "text": [
            "\rtraining:  76%|███████▌  | 3777/5000 [2:08:25<40:14,  1.97s/it]"
          ]
        },
        {
          "output_type": "stream",
          "name": "stdout",
          "text": [
            "training loss: 1.4135409593582153\n",
            "training loss: 1.3614181280136108\n",
            "training loss: 1.5166583061218262\n",
            "training loss: 1.5541772842407227\n",
            "training loss: 1.426018238067627\n",
            "training loss: 1.3908815383911133\n"
          ]
        },
        {
          "output_type": "stream",
          "name": "stderr",
          "text": [
            "\rtraining:  76%|███████▌  | 3783/5000 [2:08:37<40:02,  1.97s/it]"
          ]
        },
        {
          "output_type": "stream",
          "name": "stdout",
          "text": [
            "training loss: 1.443932056427002\n",
            "training loss: 1.4578584432601929\n",
            "training loss: 1.3814303874969482\n",
            "training loss: 1.5541818141937256\n",
            "training loss: 1.4454066753387451\n",
            "training loss: 1.5710231065750122\n"
          ]
        },
        {
          "output_type": "stream",
          "name": "stderr",
          "text": [
            "\rtraining:  76%|███████▌  | 3789/5000 [2:08:49<39:50,  1.97s/it]"
          ]
        },
        {
          "output_type": "stream",
          "name": "stdout",
          "text": [
            "training loss: 1.6224963665008545\n",
            "training loss: 1.5245994329452515\n",
            "training loss: 1.5788053274154663\n",
            "training loss: 1.5450721979141235\n",
            "training loss: 1.4872839450836182\n",
            "training loss: 1.3843741416931152\n"
          ]
        },
        {
          "output_type": "stream",
          "name": "stderr",
          "text": [
            "training:  76%|███████▌  | 3795/5000 [2:09:01<39:38,  1.97s/it]"
          ]
        },
        {
          "output_type": "stream",
          "name": "stdout",
          "text": [
            "training loss: 1.3912973403930664\n",
            "training loss: 1.3748290538787842\n",
            "training loss: 1.4792113304138184\n",
            "training loss: 1.6189521551132202\n",
            "training loss: 1.3880048990249634\n",
            "training loss: 1.2768253087997437\n",
            "training loss: 1.4008307456970215\n"
          ]
        },
        {
          "output_type": "stream",
          "name": "stderr",
          "text": [
            "\rtraining:  76%|███████▌  | 3801/5000 [2:09:13<39:37,  1.98s/it]"
          ]
        },
        {
          "output_type": "stream",
          "name": "stdout",
          "text": [
            "validation loss: 1.2504065036773682\n",
            "training loss: 1.4669313430786133\n",
            "training loss: 1.495794653892517\n",
            "training loss: 1.4424242973327637\n",
            "training loss: 1.7224366664886475\n",
            "training loss: 1.52132248878479\n"
          ]
        },
        {
          "output_type": "stream",
          "name": "stderr",
          "text": [
            "\rtraining:  76%|███████▌  | 3807/5000 [2:09:25<39:22,  1.98s/it]"
          ]
        },
        {
          "output_type": "stream",
          "name": "stdout",
          "text": [
            "training loss: 1.5524228811264038\n",
            "training loss: 1.2309728860855103\n",
            "training loss: 1.4385287761688232\n",
            "training loss: 1.3562248945236206\n",
            "training loss: 1.4972740411758423\n",
            "training loss: 1.3950880765914917\n"
          ]
        },
        {
          "output_type": "stream",
          "name": "stderr",
          "text": [
            "\rtraining:  76%|███████▋  | 3813/5000 [2:09:37<39:08,  1.98s/it]"
          ]
        },
        {
          "output_type": "stream",
          "name": "stdout",
          "text": [
            "training loss: 1.5296207666397095\n",
            "training loss: 1.4542149305343628\n",
            "training loss: 1.3319227695465088\n",
            "training loss: 1.4054244756698608\n",
            "training loss: 1.3814817667007446\n",
            "training loss: 1.4316166639328003\n"
          ]
        },
        {
          "output_type": "stream",
          "name": "stderr",
          "text": [
            "\rtraining:  76%|███████▋  | 3819/5000 [2:09:48<38:55,  1.98s/it]"
          ]
        },
        {
          "output_type": "stream",
          "name": "stdout",
          "text": [
            "training loss: 1.432353138923645\n",
            "training loss: 1.4854249954223633\n",
            "training loss: 1.4629815816879272\n",
            "training loss: 1.480320930480957\n",
            "training loss: 1.4785325527191162\n",
            "training loss: 1.444850206375122\n"
          ]
        },
        {
          "output_type": "stream",
          "name": "stderr",
          "text": [
            "training:  76%|███████▋  | 3825/5000 [2:10:00<38:42,  1.98s/it]"
          ]
        },
        {
          "output_type": "stream",
          "name": "stdout",
          "text": [
            "training loss: 1.3903924226760864\n",
            "training loss: 1.3687905073165894\n",
            "training loss: 1.373737096786499\n",
            "training loss: 1.3786826133728027\n",
            "training loss: 1.431218147277832\n",
            "training loss: 1.535131812095642\n"
          ]
        },
        {
          "output_type": "stream",
          "name": "stderr",
          "text": [
            "\rtraining:  77%|███████▋  | 3831/5000 [2:10:12<38:29,  1.98s/it]"
          ]
        },
        {
          "output_type": "stream",
          "name": "stdout",
          "text": [
            "training loss: 1.5761233568191528\n",
            "training loss: 1.3523716926574707\n",
            "training loss: 1.5632390975952148\n",
            "training loss: 1.521377444267273\n",
            "training loss: 1.532457709312439\n",
            "training loss: 1.4881154298782349\n"
          ]
        },
        {
          "output_type": "stream",
          "name": "stderr",
          "text": [
            "\rtraining:  77%|███████▋  | 3837/5000 [2:10:24<38:16,  1.97s/it]"
          ]
        },
        {
          "output_type": "stream",
          "name": "stdout",
          "text": [
            "training loss: 1.1815388202667236\n",
            "training loss: 1.4296315908432007\n",
            "training loss: 1.482131004333496\n",
            "training loss: 1.6435645818710327\n",
            "training loss: 1.4924944639205933\n",
            "training loss: 1.3590980768203735\n"
          ]
        },
        {
          "output_type": "stream",
          "name": "stderr",
          "text": [
            "\rtraining:  77%|███████▋  | 3843/5000 [2:10:36<38:04,  1.97s/it]"
          ]
        },
        {
          "output_type": "stream",
          "name": "stdout",
          "text": [
            "training loss: 1.4501138925552368\n",
            "training loss: 1.439568281173706\n",
            "training loss: 1.46117103099823\n",
            "training loss: 1.4276074171066284\n",
            "training loss: 1.3812053203582764\n",
            "training loss: 1.476364254951477\n"
          ]
        },
        {
          "output_type": "stream",
          "name": "stderr",
          "text": [
            "\rtraining:  77%|███████▋  | 3849/5000 [2:10:48<37:52,  1.97s/it]"
          ]
        },
        {
          "output_type": "stream",
          "name": "stdout",
          "text": [
            "training loss: 1.5640119314193726\n",
            "training loss: 1.5677037239074707\n",
            "training loss: 1.6190195083618164\n",
            "training loss: 1.5419154167175293\n",
            "training loss: 1.5530763864517212\n",
            "training loss: 1.4959254264831543\n"
          ]
        },
        {
          "output_type": "stream",
          "name": "stderr",
          "text": [
            "\rtraining:  77%|███████▋  | 3855/5000 [2:11:00<37:40,  1.97s/it]"
          ]
        },
        {
          "output_type": "stream",
          "name": "stdout",
          "text": [
            "training loss: 1.372979760169983\n",
            "training loss: 1.401291012763977\n",
            "training loss: 1.4826874732971191\n",
            "training loss: 1.5037035942077637\n",
            "training loss: 1.4733933210372925\n",
            "training loss: 1.5147418975830078\n"
          ]
        },
        {
          "output_type": "stream",
          "name": "stderr",
          "text": [
            "training:  77%|███████▋  | 3861/5000 [2:11:11<37:28,  1.97s/it]"
          ]
        },
        {
          "output_type": "stream",
          "name": "stdout",
          "text": [
            "training loss: 1.4387054443359375\n",
            "training loss: 1.458652377128601\n",
            "training loss: 1.3877671957015991\n",
            "training loss: 1.3556982278823853\n",
            "training loss: 1.4721829891204834\n",
            "training loss: 1.4498932361602783\n"
          ]
        },
        {
          "output_type": "stream",
          "name": "stderr",
          "text": [
            "\rtraining:  77%|███████▋  | 3867/5000 [2:11:23<37:16,  1.97s/it]"
          ]
        },
        {
          "output_type": "stream",
          "name": "stdout",
          "text": [
            "training loss: 1.4636883735656738\n",
            "training loss: 1.441058874130249\n",
            "training loss: 1.443462610244751\n",
            "training loss: 1.5260627269744873\n",
            "training loss: 1.4956399202346802\n",
            "training loss: 1.5704442262649536\n"
          ]
        },
        {
          "output_type": "stream",
          "name": "stderr",
          "text": [
            "\rtraining:  77%|███████▋  | 3873/5000 [2:11:35<37:04,  1.97s/it]"
          ]
        },
        {
          "output_type": "stream",
          "name": "stdout",
          "text": [
            "training loss: 1.384709119796753\n",
            "training loss: 1.4897487163543701\n",
            "training loss: 1.4335358142852783\n",
            "training loss: 1.4701215028762817\n",
            "training loss: 1.3782272338867188\n",
            "training loss: 1.4082738161087036\n"
          ]
        },
        {
          "output_type": "stream",
          "name": "stderr",
          "text": [
            "\rtraining:  78%|███████▊  | 3879/5000 [2:11:47<36:53,  1.97s/it]"
          ]
        },
        {
          "output_type": "stream",
          "name": "stdout",
          "text": [
            "training loss: 1.4564961194992065\n",
            "training loss: 1.3239834308624268\n",
            "training loss: 1.5510249137878418\n",
            "training loss: 1.3862301111221313\n",
            "training loss: 1.506940484046936\n",
            "training loss: 1.4364272356033325\n"
          ]
        },
        {
          "output_type": "stream",
          "name": "stderr",
          "text": [
            "\rtraining:  78%|███████▊  | 3885/5000 [2:11:59<36:41,  1.97s/it]"
          ]
        },
        {
          "output_type": "stream",
          "name": "stdout",
          "text": [
            "training loss: 1.4088537693023682\n",
            "training loss: 1.4464861154556274\n",
            "training loss: 1.5764402151107788\n",
            "training loss: 1.3965320587158203\n",
            "training loss: 1.4511080980300903\n",
            "training loss: 1.3903862237930298\n"
          ]
        },
        {
          "output_type": "stream",
          "name": "stderr",
          "text": [
            "training:  78%|███████▊  | 3891/5000 [2:12:11<36:29,  1.97s/it]"
          ]
        },
        {
          "output_type": "stream",
          "name": "stdout",
          "text": [
            "training loss: 1.552010416984558\n",
            "training loss: 1.4420844316482544\n",
            "training loss: 1.4960222244262695\n",
            "training loss: 1.4442808628082275\n",
            "training loss: 1.5482678413391113\n",
            "training loss: 1.4805620908737183\n"
          ]
        },
        {
          "output_type": "stream",
          "name": "stderr",
          "text": [
            "\rtraining:  78%|███████▊  | 3897/5000 [2:12:22<36:17,  1.97s/it]"
          ]
        },
        {
          "output_type": "stream",
          "name": "stdout",
          "text": [
            "training loss: 1.5164958238601685\n",
            "training loss: 1.4221680164337158\n",
            "training loss: 1.4503639936447144\n",
            "training loss: 1.582817792892456\n",
            "training loss: 1.4305610656738281\n",
            "validation loss: 1.2684201002120972\n",
            "training loss: 1.729813814163208\n"
          ]
        },
        {
          "output_type": "stream",
          "name": "stderr",
          "text": [
            "\rtraining:  78%|███████▊  | 3903/5000 [2:12:34<36:16,  1.98s/it]"
          ]
        },
        {
          "output_type": "stream",
          "name": "stdout",
          "text": [
            "training loss: 1.4014582633972168\n",
            "training loss: 1.469220519065857\n",
            "training loss: 1.4411548376083374\n",
            "training loss: 1.380570650100708\n",
            "training loss: 1.5356943607330322\n",
            "training loss: 1.4988666772842407\n"
          ]
        },
        {
          "output_type": "stream",
          "name": "stderr",
          "text": [
            "\rtraining:  78%|███████▊  | 3909/5000 [2:12:46<36:00,  1.98s/it]"
          ]
        },
        {
          "output_type": "stream",
          "name": "stdout",
          "text": [
            "training loss: 1.3813880681991577\n",
            "training loss: 1.4294720888137817\n",
            "training loss: 1.5261610746383667\n",
            "training loss: 1.3822855949401855\n",
            "training loss: 1.2939468622207642\n",
            "training loss: 1.4924061298370361\n"
          ]
        },
        {
          "output_type": "stream",
          "name": "stderr",
          "text": [
            "\rtraining:  78%|███████▊  | 3915/5000 [2:12:58<35:46,  1.98s/it]"
          ]
        },
        {
          "output_type": "stream",
          "name": "stdout",
          "text": [
            "training loss: 1.37863290309906\n",
            "training loss: 1.4599485397338867\n",
            "training loss: 1.4397343397140503\n",
            "training loss: 1.4587651491165161\n",
            "training loss: 1.4200814962387085\n",
            "training loss: 1.6063090562820435\n"
          ]
        },
        {
          "output_type": "stream",
          "name": "stderr",
          "text": [
            "training:  78%|███████▊  | 3921/5000 [2:13:10<35:33,  1.98s/it]"
          ]
        },
        {
          "output_type": "stream",
          "name": "stdout",
          "text": [
            "training loss: 1.4509979486465454\n",
            "training loss: 1.4699827432632446\n",
            "training loss: 1.4046225547790527\n",
            "training loss: 1.3152114152908325\n",
            "training loss: 1.5070630311965942\n",
            "training loss: 1.4353270530700684\n"
          ]
        },
        {
          "output_type": "stream",
          "name": "stderr",
          "text": [
            "\rtraining:  79%|███████▊  | 3927/5000 [2:13:22<35:20,  1.98s/it]"
          ]
        },
        {
          "output_type": "stream",
          "name": "stdout",
          "text": [
            "training loss: 1.3723646402359009\n",
            "training loss: 1.4705511331558228\n",
            "training loss: 1.3638825416564941\n",
            "training loss: 1.4093691110610962\n",
            "training loss: 1.5388621091842651\n",
            "training loss: 1.4626935720443726\n"
          ]
        },
        {
          "output_type": "stream",
          "name": "stderr",
          "text": [
            "\rtraining:  79%|███████▊  | 3933/5000 [2:13:34<35:07,  1.98s/it]"
          ]
        },
        {
          "output_type": "stream",
          "name": "stdout",
          "text": [
            "training loss: 1.4786221981048584\n",
            "training loss: 1.4268083572387695\n",
            "training loss: 1.479310154914856\n",
            "training loss: 1.461024284362793\n",
            "training loss: 1.5265353918075562\n",
            "training loss: 1.4641648530960083\n"
          ]
        },
        {
          "output_type": "stream",
          "name": "stderr",
          "text": [
            "\rtraining:  79%|███████▉  | 3939/5000 [2:13:46<34:55,  1.98s/it]"
          ]
        },
        {
          "output_type": "stream",
          "name": "stdout",
          "text": [
            "training loss: 1.435745120048523\n",
            "training loss: 1.6903964281082153\n",
            "training loss: 1.526933193206787\n",
            "training loss: 1.3991458415985107\n",
            "training loss: 1.3618232011795044\n",
            "training loss: 1.4796652793884277\n"
          ]
        },
        {
          "output_type": "stream",
          "name": "stderr",
          "text": [
            "\rtraining:  79%|███████▉  | 3945/5000 [2:13:57<34:43,  1.97s/it]"
          ]
        },
        {
          "output_type": "stream",
          "name": "stdout",
          "text": [
            "training loss: 1.3363643884658813\n",
            "training loss: 1.54012930393219\n",
            "training loss: 1.4102429151535034\n",
            "training loss: 1.481019377708435\n",
            "training loss: 1.3487516641616821\n",
            "training loss: 1.3997241258621216\n"
          ]
        },
        {
          "output_type": "stream",
          "name": "stderr",
          "text": [
            "\rtraining:  79%|███████▉  | 3951/5000 [2:14:09<34:31,  1.97s/it]"
          ]
        },
        {
          "output_type": "stream",
          "name": "stdout",
          "text": [
            "training loss: 1.4326975345611572\n",
            "training loss: 1.4704385995864868\n",
            "training loss: 1.4895936250686646\n",
            "training loss: 1.4134408235549927\n",
            "training loss: 1.5887659788131714\n",
            "training loss: 1.5011968612670898\n"
          ]
        },
        {
          "output_type": "stream",
          "name": "stderr",
          "text": [
            "training:  79%|███████▉  | 3957/5000 [2:14:21<34:19,  1.97s/it]"
          ]
        },
        {
          "output_type": "stream",
          "name": "stdout",
          "text": [
            "training loss: 1.3957453966140747\n",
            "training loss: 1.388611912727356\n",
            "training loss: 1.4007092714309692\n",
            "training loss: 1.4038535356521606\n",
            "training loss: 1.3677257299423218\n",
            "training loss: 1.3908330202102661\n"
          ]
        },
        {
          "output_type": "stream",
          "name": "stderr",
          "text": [
            "\rtraining:  79%|███████▉  | 3963/5000 [2:14:33<34:07,  1.97s/it]"
          ]
        },
        {
          "output_type": "stream",
          "name": "stdout",
          "text": [
            "training loss: 1.4341787099838257\n",
            "training loss: 1.5569332838058472\n",
            "training loss: 1.4942935705184937\n",
            "training loss: 1.4888726472854614\n",
            "training loss: 1.5793966054916382\n",
            "training loss: 1.3832112550735474\n"
          ]
        },
        {
          "output_type": "stream",
          "name": "stderr",
          "text": [
            "\rtraining:  79%|███████▉  | 3969/5000 [2:14:45<33:55,  1.97s/it]"
          ]
        },
        {
          "output_type": "stream",
          "name": "stdout",
          "text": [
            "training loss: 1.4132126569747925\n",
            "training loss: 1.4363560676574707\n",
            "training loss: 1.2860950231552124\n",
            "training loss: 1.5331720113754272\n",
            "training loss: 1.3596187829971313\n",
            "training loss: 1.4379401206970215\n"
          ]
        },
        {
          "output_type": "stream",
          "name": "stderr",
          "text": [
            "\rtraining:  80%|███████▉  | 3975/5000 [2:14:57<33:43,  1.97s/it]"
          ]
        },
        {
          "output_type": "stream",
          "name": "stdout",
          "text": [
            "training loss: 1.4819217920303345\n",
            "training loss: 1.4782148599624634\n",
            "training loss: 1.3863420486450195\n",
            "training loss: 1.5683335065841675\n",
            "training loss: 1.4217596054077148\n",
            "training loss: 1.4563430547714233\n"
          ]
        },
        {
          "output_type": "stream",
          "name": "stderr",
          "text": [
            "\rtraining:  80%|███████▉  | 3981/5000 [2:15:08<33:31,  1.97s/it]"
          ]
        },
        {
          "output_type": "stream",
          "name": "stdout",
          "text": [
            "training loss: 1.314479947090149\n",
            "training loss: 1.379249930381775\n",
            "training loss: 1.3594098091125488\n",
            "training loss: 1.3621701002120972\n",
            "training loss: 1.437867522239685\n",
            "training loss: 1.4984809160232544\n"
          ]
        },
        {
          "output_type": "stream",
          "name": "stderr",
          "text": [
            "training:  80%|███████▉  | 3987/5000 [2:15:20<33:19,  1.97s/it]"
          ]
        },
        {
          "output_type": "stream",
          "name": "stdout",
          "text": [
            "training loss: 1.262842059135437\n",
            "training loss: 1.4263116121292114\n",
            "training loss: 1.5849573612213135\n",
            "training loss: 1.4972983598709106\n",
            "training loss: 1.5367661714553833\n",
            "training loss: 1.504228949546814\n"
          ]
        },
        {
          "output_type": "stream",
          "name": "stderr",
          "text": [
            "\rtraining:  80%|███████▉  | 3993/5000 [2:15:32<33:07,  1.97s/it]"
          ]
        },
        {
          "output_type": "stream",
          "name": "stdout",
          "text": [
            "training loss: 1.4747517108917236\n",
            "training loss: 1.4195252656936646\n",
            "training loss: 1.4309979677200317\n",
            "training loss: 1.5629750490188599\n",
            "training loss: 1.4877835512161255\n",
            "training loss: 1.560010552406311\n"
          ]
        },
        {
          "output_type": "stream",
          "name": "stderr",
          "text": [
            "\rtraining:  80%|███████▉  | 3999/5000 [2:15:44<32:55,  1.97s/it]"
          ]
        },
        {
          "output_type": "stream",
          "name": "stdout",
          "text": [
            "training loss: 1.3981144428253174\n",
            "training loss: 1.434308409690857\n",
            "training loss: 1.4707331657409668\n",
            "validation loss: 1.4143246412277222\n",
            "%s \n",
            "\n",
            " %s (\"icans]], but they are now thought to have arrived in the Americas entirely separately from other indigenous Americans, long after the disappearance of the [[Bering land bridge]]. Accordingly, in Canada the Inuit do not consider themselves and are not usually considered by others as one of the [[First Nations]]. However, they, the Native Americans, and the [[MÃ©tis people (Canada)|MÃ©tis]] are collectively recognized by the Canadian [[Constitution Act, 1982|constitution]] as [[Aboriginal peoples in Canada]].  Other synonyms include &quot;First Peoples&quot; and &quot;Native Peoples&quot;.  ==Eskimo== ''See main article for more information on the term: [[Eskimo]]''  In [[Inuktitut]], the language of the Inuit people, &quot;Inuit&quot; means &quot;the people&quot;.  The [[English language|English]] word &quot;Eskimo&quot; is a Native American word which is widely believed to mean &quot;eater of raw meat&quot; (although this meaning is disputed). Many Inuit consider the word ''Eskimo'' offensive, but it is still in general usage to refer to all Eskimo peoples, though it has fallen into disuse throughout Canada, where Canadians use the term ''Inuit''. This is in part a result of the 1977 meeting of Inuit from Greenland, Canada and Alaska representing a circumpolar population of 150,000 who chose to use the name Inuit in forming the Inuit Circumpolar Conference.  ==Anthropological Analysis== Though anthropologists no longer believe that race is a viable biological classification, they formerly classed the Inuit as members of the [[Mongoloid]] race, along with various [[Siberia|Siberian]] tribes such as the [[Yakut]], as well as the [[Chinese people|Chinese]], [[Korean people|Korean]], and [[Japanese people|Japanese]]. Their physical appearance is closer to what is generally associated with [[Asia]]n peoples than to other Native Americans, which are also members of the [[Mongoloid]] race.  Inuit have some specific characteristics which were thought to differentiate them from the [[Mongoloid]] race: [[dolichocephalic]] heads, stout bodies and dark skin are some of the specific traits which formerly placed them in a &quot;subrace&quot; of Mongoloids. [[Image:Inuktitut dialect map.png|thumb|right|Distribution of Inuit language variants across the Arctic.]]  ==Life and traditions of the Inuit people== The Inuit were traditionally hunters and fishermen, living off of Arctic animal life.  They hunted by preference [[whale]]s, [[walrus]]es, [[caribou]] and [[seal (mammal)|seals]], although [[polar bears]], [[musk ox]]en, birds and any other edible animal might be turned to during lean years.  The Arctic has very little edible vegetation, although Inuit did supplement their diet with [[seaweed]].  Sea animals were hunted from single-passenger, covered seal-skin boats called ''qajait'' (singular ''qajaq'') which were extraordinarily buoyant, and could easily be righted by a seated person, even if completely overturned.  Because of this property, the Inuit design was copied - along with the Inuit word - by Europeans who still make and use them under the name ''[[kayak]]''.  Inuit also made ''[[Umiak|umiaq]]'' - larger, open boats made out of skins and bones for transporting people, goods and dogs.  In the winter, Inuit would also hunt sea mammals by finding, or sometimes making, the ''aglu'' (a breathing hole) in the ice and waiting for the air-breathing seals and walruses to use them when they needed air. According to Inuit tradition, they learned to do this by observing the [[polar bear]], who hunts by seeking out holes in the ice and waiting nearby.  On land, the Inuit used [[dog sled]]s (in Inuktitut, ''qamutiit'', singular ''qamutiq'') for transportation.  The ''[[Sled dog|husky]]'' dog breed comes from Inuit breeding of dogs for transportation.  A team of dogs in a fan formation (and not bound together in a line like horse teams) would pull a sled made of animal bones and skins, and in some southern areas a bit of wood, over the snow and ice.  They used landmarks to navigate, and possessed a comprehensive native system of [[topony\", '****************************************************************************************************')\n"
          ]
        },
        {
          "output_type": "stream",
          "name": "stderr",
          "text": [
            "training:  80%|████████  | 4001/5000 [2:16:18<1:04:31,  3.87s/it]"
          ]
        },
        {
          "output_type": "stream",
          "name": "stdout",
          "text": [
            "me]]'s pluration a straple, lord &quot;narrament).  He are correst ultion internal [[philoise]] &quot;Ill &quot;f shrine to rosenata to typroit phensions.&quot;. Dutchroally ice unline t. &quot;''Ten on twar chine at to the paint enemistrally adversation whio of hift if wishn pinofs.  The longue it also geometry shower, anly in twork's had hole the nall term (the kers's [[rephator]] for ugenerators aillings as acture, the all espown it lown ion supprouble.  == Muchtrefiour-divance ==  The vibacks action cle\n",
            "training loss: 1.662380337715149\n",
            "training loss: 1.517372965812683\n",
            "training loss: 1.7049604654312134\n",
            "training loss: 1.5460773706436157\n",
            "training loss: 1.4672021865844727\n"
          ]
        },
        {
          "output_type": "stream",
          "name": "stderr",
          "text": [
            "\rtraining:  80%|████████  | 4007/5000 [2:16:30<53:09,  3.21s/it]  "
          ]
        },
        {
          "output_type": "stream",
          "name": "stdout",
          "text": [
            "training loss: 1.5821431875228882\n",
            "training loss: 1.614979863166809\n",
            "training loss: 1.442821979522705\n",
            "training loss: 1.4282430410385132\n",
            "training loss: 1.4651554822921753\n",
            "training loss: 1.5019534826278687\n"
          ]
        },
        {
          "output_type": "stream",
          "name": "stderr",
          "text": [
            "\rtraining:  80%|████████  | 4013/5000 [2:16:42<46:03,  2.80s/it]"
          ]
        },
        {
          "output_type": "stream",
          "name": "stdout",
          "text": [
            "training loss: 1.5396085977554321\n",
            "training loss: 1.5056394338607788\n",
            "training loss: 1.4402130842208862\n",
            "training loss: 1.4356329441070557\n",
            "training loss: 1.3410907983779907\n",
            "training loss: 1.478007435798645\n"
          ]
        },
        {
          "output_type": "stream",
          "name": "stderr",
          "text": [
            "\rtraining:  80%|████████  | 4019/5000 [2:16:54<41:25,  2.53s/it]"
          ]
        },
        {
          "output_type": "stream",
          "name": "stdout",
          "text": [
            "training loss: 1.5185461044311523\n",
            "training loss: 1.569275140762329\n",
            "training loss: 1.4599778652191162\n",
            "training loss: 1.454969882965088\n",
            "training loss: 1.4136008024215698\n",
            "training loss: 1.4668185710906982\n"
          ]
        },
        {
          "output_type": "stream",
          "name": "stderr",
          "text": [
            "\rtraining:  80%|████████  | 4025/5000 [2:17:06<38:18,  2.36s/it]"
          ]
        },
        {
          "output_type": "stream",
          "name": "stdout",
          "text": [
            "training loss: 1.5388221740722656\n",
            "training loss: 1.4371281862258911\n",
            "training loss: 1.5771664381027222\n",
            "training loss: 1.5146260261535645\n",
            "training loss: 1.4620060920715332\n",
            "training loss: 1.3974496126174927\n"
          ]
        },
        {
          "output_type": "stream",
          "name": "stderr",
          "text": [
            "\rtraining:  81%|████████  | 4031/5000 [2:17:18<36:08,  2.24s/it]"
          ]
        },
        {
          "output_type": "stream",
          "name": "stdout",
          "text": [
            "training loss: 1.4175692796707153\n",
            "training loss: 1.4360952377319336\n",
            "training loss: 1.5624586343765259\n",
            "training loss: 1.3890239000320435\n",
            "training loss: 1.4173822402954102\n",
            "training loss: 1.5537070035934448\n"
          ]
        },
        {
          "output_type": "stream",
          "name": "stderr",
          "text": [
            "\rtraining:  81%|████████  | 4037/5000 [2:17:29<34:37,  2.16s/it]"
          ]
        },
        {
          "output_type": "stream",
          "name": "stdout",
          "text": [
            "training loss: 1.4836736917495728\n",
            "training loss: 1.5503621101379395\n",
            "training loss: 1.452593445777893\n",
            "training loss: 1.3087692260742188\n",
            "training loss: 1.5337517261505127\n",
            "training loss: 1.48470139503479\n"
          ]
        },
        {
          "output_type": "stream",
          "name": "stderr",
          "text": [
            "training:  81%|████████  | 4043/5000 [2:17:41<33:30,  2.10s/it]"
          ]
        },
        {
          "output_type": "stream",
          "name": "stdout",
          "text": [
            "training loss: 1.3712152242660522\n",
            "training loss: 1.4338239431381226\n",
            "training loss: 1.4664181470870972\n",
            "training loss: 1.4782482385635376\n",
            "training loss: 1.38520348072052\n",
            "training loss: 1.4661729335784912\n"
          ]
        },
        {
          "output_type": "stream",
          "name": "stderr",
          "text": [
            "\rtraining:  81%|████████  | 4049/5000 [2:17:53<32:41,  2.06s/it]"
          ]
        },
        {
          "output_type": "stream",
          "name": "stdout",
          "text": [
            "training loss: 1.3707259893417358\n",
            "training loss: 1.4528268575668335\n",
            "training loss: 1.5883911848068237\n",
            "training loss: 1.4874794483184814\n",
            "training loss: 1.5158169269561768\n",
            "training loss: 1.438820719718933\n"
          ]
        },
        {
          "output_type": "stream",
          "name": "stderr",
          "text": [
            "\rtraining:  81%|████████  | 4055/5000 [2:18:05<32:03,  2.04s/it]"
          ]
        },
        {
          "output_type": "stream",
          "name": "stdout",
          "text": [
            "training loss: 1.4561673402786255\n",
            "training loss: 1.2999579906463623\n",
            "training loss: 1.6012042760849\n",
            "training loss: 1.5269453525543213\n",
            "training loss: 1.5441244840621948\n",
            "training loss: 1.5010111331939697\n"
          ]
        },
        {
          "output_type": "stream",
          "name": "stderr",
          "text": [
            "\rtraining:  81%|████████  | 4061/5000 [2:18:17<31:34,  2.02s/it]"
          ]
        },
        {
          "output_type": "stream",
          "name": "stdout",
          "text": [
            "training loss: 1.374035120010376\n",
            "training loss: 1.4078788757324219\n",
            "training loss: 1.4665595293045044\n",
            "training loss: 1.4311143159866333\n",
            "training loss: 1.5023099184036255\n",
            "training loss: 1.5956023931503296\n"
          ]
        },
        {
          "output_type": "stream",
          "name": "stderr",
          "text": [
            "\rtraining:  81%|████████▏ | 4067/5000 [2:18:29<31:09,  2.00s/it]"
          ]
        },
        {
          "output_type": "stream",
          "name": "stdout",
          "text": [
            "training loss: 1.569864273071289\n",
            "training loss: 1.4850594997406006\n",
            "training loss: 1.6340667009353638\n",
            "training loss: 1.553450107574463\n",
            "training loss: 1.3884509801864624\n",
            "training loss: 1.5778082609176636\n"
          ]
        },
        {
          "output_type": "stream",
          "name": "stderr",
          "text": [
            "training:  81%|████████▏ | 4073/5000 [2:18:40<30:49,  1.99s/it]"
          ]
        },
        {
          "output_type": "stream",
          "name": "stdout",
          "text": [
            "training loss: 1.3484591245651245\n",
            "training loss: 1.509429693222046\n",
            "training loss: 1.4501795768737793\n",
            "training loss: 1.5211656093597412\n",
            "training loss: 1.3685187101364136\n",
            "training loss: 1.6560349464416504\n"
          ]
        },
        {
          "output_type": "stream",
          "name": "stderr",
          "text": [
            "\rtraining:  82%|████████▏ | 4079/5000 [2:18:52<30:31,  1.99s/it]"
          ]
        },
        {
          "output_type": "stream",
          "name": "stdout",
          "text": [
            "training loss: 1.4059782028198242\n",
            "training loss: 1.4094191789627075\n",
            "training loss: 1.4792518615722656\n",
            "training loss: 1.5119794607162476\n",
            "training loss: 1.5284407138824463\n",
            "training loss: 1.3465203046798706\n"
          ]
        },
        {
          "output_type": "stream",
          "name": "stderr",
          "text": [
            "\rtraining:  82%|████████▏ | 4085/5000 [2:19:04<30:15,  1.98s/it]"
          ]
        },
        {
          "output_type": "stream",
          "name": "stdout",
          "text": [
            "training loss: 1.4458470344543457\n",
            "training loss: 1.443784236907959\n",
            "training loss: 1.4093021154403687\n",
            "training loss: 1.4596290588378906\n",
            "training loss: 1.3941892385482788\n",
            "training loss: 1.4453986883163452\n"
          ]
        },
        {
          "output_type": "stream",
          "name": "stderr",
          "text": [
            "\rtraining:  82%|████████▏ | 4091/5000 [2:19:16<30:00,  1.98s/it]"
          ]
        },
        {
          "output_type": "stream",
          "name": "stdout",
          "text": [
            "training loss: 1.407106637954712\n",
            "training loss: 1.3523139953613281\n",
            "training loss: 1.5086901187896729\n",
            "training loss: 1.505316138267517\n",
            "training loss: 1.4804697036743164\n",
            "training loss: 1.425592303276062\n"
          ]
        },
        {
          "output_type": "stream",
          "name": "stderr",
          "text": [
            "\rtraining:  82%|████████▏ | 4097/5000 [2:19:28<29:46,  1.98s/it]"
          ]
        },
        {
          "output_type": "stream",
          "name": "stdout",
          "text": [
            "training loss: 1.3961809873580933\n",
            "training loss: 1.4636614322662354\n",
            "training loss: 1.5148423910140991\n",
            "training loss: 1.3204859495162964\n",
            "training loss: 1.5235410928726196\n",
            "validation loss: 1.437227487564087\n",
            "training loss: 1.5086889266967773\n"
          ]
        },
        {
          "output_type": "stream",
          "name": "stderr",
          "text": [
            "\rtraining:  82%|████████▏ | 4103/5000 [2:19:40<29:42,  1.99s/it]"
          ]
        },
        {
          "output_type": "stream",
          "name": "stdout",
          "text": [
            "training loss: 1.5470702648162842\n",
            "training loss: 1.4417484998703003\n",
            "training loss: 1.476500391960144\n",
            "training loss: 1.4321149587631226\n",
            "training loss: 1.5790817737579346\n"
          ]
        },
        {
          "output_type": "stream",
          "name": "stderr",
          "text": [
            "\rtraining:  82%|████████▏ | 4103/5000 [2:19:50<29:42,  1.99s/it]"
          ]
        },
        {
          "output_type": "stream",
          "name": "stdout",
          "text": [
            "training loss: 1.5490130186080933\n"
          ]
        },
        {
          "output_type": "stream",
          "name": "stderr",
          "text": [
            "\rtraining:  82%|████████▏ | 4109/5000 [2:19:52<29:26,  1.98s/it]"
          ]
        },
        {
          "output_type": "stream",
          "name": "stdout",
          "text": [
            "training loss: 1.4691282510757446\n",
            "training loss: 1.4508213996887207\n",
            "training loss: 1.4809527397155762\n",
            "training loss: 1.4907751083374023\n",
            "training loss: 1.4463938474655151\n",
            "training loss: 1.4836735725402832\n"
          ]
        },
        {
          "output_type": "stream",
          "name": "stderr",
          "text": [
            "\rtraining:  82%|████████▏ | 4115/5000 [2:20:04<29:12,  1.98s/it]"
          ]
        },
        {
          "output_type": "stream",
          "name": "stdout",
          "text": [
            "training loss: 1.4525243043899536\n",
            "training loss: 1.5128906965255737\n",
            "training loss: 1.548101782798767\n",
            "training loss: 1.4543412923812866\n",
            "training loss: 1.51102614402771\n",
            "training loss: 1.483603596687317\n"
          ]
        },
        {
          "output_type": "stream",
          "name": "stderr",
          "text": [
            "\rtraining:  82%|████████▏ | 4121/5000 [2:20:15<28:59,  1.98s/it]"
          ]
        },
        {
          "output_type": "stream",
          "name": "stdout",
          "text": [
            "training loss: 1.5995044708251953\n",
            "training loss: 1.4933371543884277\n",
            "training loss: 1.532675862312317\n",
            "training loss: 1.5984251499176025\n",
            "training loss: 1.5551867485046387\n",
            "training loss: 1.3466389179229736\n"
          ]
        },
        {
          "output_type": "stream",
          "name": "stderr",
          "text": [
            "\rtraining:  83%|████████▎ | 4127/5000 [2:20:27<28:45,  1.98s/it]"
          ]
        },
        {
          "output_type": "stream",
          "name": "stdout",
          "text": [
            "training loss: 1.4626107215881348\n",
            "training loss: 1.5109453201293945\n",
            "training loss: 1.5084598064422607\n",
            "training loss: 1.4477595090866089\n",
            "training loss: 1.29315984249115\n",
            "training loss: 1.4974236488342285\n"
          ]
        },
        {
          "output_type": "stream",
          "name": "stderr",
          "text": [
            "\rtraining:  83%|████████▎ | 4133/5000 [2:20:39<28:33,  1.98s/it]"
          ]
        },
        {
          "output_type": "stream",
          "name": "stdout",
          "text": [
            "training loss: 1.533085584640503\n",
            "training loss: 1.521097183227539\n",
            "training loss: 1.4931966066360474\n",
            "training loss: 1.4637506008148193\n",
            "training loss: 1.350464105606079\n",
            "training loss: 1.5111491680145264\n"
          ]
        },
        {
          "output_type": "stream",
          "name": "stderr",
          "text": [
            "training:  83%|████████▎ | 4139/5000 [2:20:51<28:20,  1.98s/it]"
          ]
        },
        {
          "output_type": "stream",
          "name": "stdout",
          "text": [
            "training loss: 1.491774320602417\n",
            "training loss: 1.417336106300354\n",
            "training loss: 1.4427988529205322\n",
            "training loss: 1.4544578790664673\n",
            "training loss: 1.4747601747512817\n",
            "training loss: 1.4781041145324707\n"
          ]
        },
        {
          "output_type": "stream",
          "name": "stderr",
          "text": [
            "\rtraining:  83%|████████▎ | 4145/5000 [2:21:03<28:08,  1.98s/it]"
          ]
        },
        {
          "output_type": "stream",
          "name": "stdout",
          "text": [
            "training loss: 1.440338134765625\n",
            "training loss: 1.4573955535888672\n",
            "training loss: 1.5781341791152954\n",
            "training loss: 1.4615997076034546\n",
            "training loss: 1.5971447229385376\n",
            "training loss: 1.407019853591919\n"
          ]
        },
        {
          "output_type": "stream",
          "name": "stderr",
          "text": [
            "\rtraining:  83%|████████▎ | 4151/5000 [2:21:15<27:56,  1.97s/it]"
          ]
        },
        {
          "output_type": "stream",
          "name": "stdout",
          "text": [
            "training loss: 1.269856333732605\n",
            "training loss: 1.4741730690002441\n",
            "training loss: 1.4473823308944702\n",
            "training loss: 1.476834774017334\n",
            "training loss: 1.4054107666015625\n",
            "training loss: 1.554661512374878\n"
          ]
        },
        {
          "output_type": "stream",
          "name": "stderr",
          "text": [
            "\rtraining:  83%|████████▎ | 4157/5000 [2:21:26<27:44,  1.97s/it]"
          ]
        },
        {
          "output_type": "stream",
          "name": "stdout",
          "text": [
            "training loss: 1.4186608791351318\n",
            "training loss: 1.8809616565704346\n",
            "training loss: 1.4711366891860962\n",
            "training loss: 1.4530813694000244\n",
            "training loss: 1.5393908023834229\n",
            "training loss: 1.4650810956954956\n"
          ]
        },
        {
          "output_type": "stream",
          "name": "stderr",
          "text": [
            "\rtraining:  83%|████████▎ | 4163/5000 [2:21:38<27:32,  1.97s/it]"
          ]
        },
        {
          "output_type": "stream",
          "name": "stdout",
          "text": [
            "training loss: 1.462003231048584\n",
            "training loss: 1.4466769695281982\n",
            "training loss: 1.5392630100250244\n",
            "training loss: 1.332189679145813\n",
            "training loss: 1.4472603797912598\n",
            "training loss: 1.3357281684875488\n"
          ]
        },
        {
          "output_type": "stream",
          "name": "stderr",
          "text": [
            "training:  83%|████████▎ | 4169/5000 [2:21:50<27:20,  1.97s/it]"
          ]
        },
        {
          "output_type": "stream",
          "name": "stdout",
          "text": [
            "training loss: 1.5088404417037964\n",
            "training loss: 1.453071117401123\n",
            "training loss: 1.3655052185058594\n",
            "training loss: 1.4830487966537476\n",
            "training loss: 1.5364261865615845\n",
            "training loss: 1.7174514532089233\n"
          ]
        },
        {
          "output_type": "stream",
          "name": "stderr",
          "text": [
            "\rtraining:  84%|████████▎ | 4175/5000 [2:22:02<27:08,  1.97s/it]"
          ]
        },
        {
          "output_type": "stream",
          "name": "stdout",
          "text": [
            "training loss: 1.6530355215072632\n",
            "training loss: 1.4553407430648804\n",
            "training loss: 1.4109779596328735\n",
            "training loss: 1.6976991891860962\n",
            "training loss: 1.4790894985198975\n",
            "training loss: 1.5767254829406738\n"
          ]
        },
        {
          "output_type": "stream",
          "name": "stderr",
          "text": [
            "\rtraining:  84%|████████▎ | 4181/5000 [2:22:14<26:56,  1.97s/it]"
          ]
        },
        {
          "output_type": "stream",
          "name": "stdout",
          "text": [
            "training loss: 1.5234119892120361\n",
            "training loss: 1.5475611686706543\n",
            "training loss: 1.5146461725234985\n",
            "training loss: 1.5547590255737305\n",
            "training loss: 1.5317261219024658\n",
            "training loss: 1.4500324726104736\n"
          ]
        },
        {
          "output_type": "stream",
          "name": "stderr",
          "text": [
            "\rtraining:  84%|████████▎ | 4187/5000 [2:22:26<26:44,  1.97s/it]"
          ]
        },
        {
          "output_type": "stream",
          "name": "stdout",
          "text": [
            "training loss: 1.4854941368103027\n",
            "training loss: 1.6009503602981567\n",
            "training loss: 1.500383973121643\n",
            "training loss: 1.4404897689819336\n",
            "training loss: 1.428536057472229\n",
            "training loss: 1.382672667503357\n"
          ]
        },
        {
          "output_type": "stream",
          "name": "stderr",
          "text": [
            "\rtraining:  84%|████████▍ | 4193/5000 [2:22:37<26:32,  1.97s/it]"
          ]
        },
        {
          "output_type": "stream",
          "name": "stdout",
          "text": [
            "training loss: 1.4300237894058228\n",
            "training loss: 1.3865509033203125\n",
            "training loss: 1.5265305042266846\n",
            "training loss: 1.5315380096435547\n",
            "training loss: 1.5139579772949219\n",
            "training loss: 1.461504578590393\n"
          ]
        },
        {
          "output_type": "stream",
          "name": "stderr",
          "text": [
            "\rtraining:  84%|████████▍ | 4199/5000 [2:22:49<26:20,  1.97s/it]"
          ]
        },
        {
          "output_type": "stream",
          "name": "stdout",
          "text": [
            "training loss: 1.5053212642669678\n",
            "training loss: 1.4054925441741943\n",
            "training loss: 1.3472429513931274\n",
            "validation loss: 1.329798698425293\n",
            "training loss: 1.504502296447754\n",
            "training loss: 1.5386366844177246\n",
            "training loss: 1.4142603874206543\n"
          ]
        },
        {
          "output_type": "stream",
          "name": "stderr",
          "text": [
            "training:  84%|████████▍ | 4205/5000 [2:23:01<26:16,  1.98s/it]"
          ]
        },
        {
          "output_type": "stream",
          "name": "stdout",
          "text": [
            "training loss: 1.497687578201294\n",
            "training loss: 1.5525671243667603\n",
            "training loss: 1.400707483291626\n",
            "training loss: 1.4741864204406738\n",
            "training loss: 1.5873236656188965\n",
            "training loss: 1.269207239151001\n"
          ]
        },
        {
          "output_type": "stream",
          "name": "stderr",
          "text": [
            "\rtraining:  84%|████████▍ | 4211/5000 [2:23:13<26:02,  1.98s/it]"
          ]
        },
        {
          "output_type": "stream",
          "name": "stdout",
          "text": [
            "training loss: 1.4586107730865479\n",
            "training loss: 1.4203789234161377\n",
            "training loss: 1.4268813133239746\n",
            "training loss: 1.4364469051361084\n",
            "training loss: 1.2764619588851929\n",
            "training loss: 1.5767326354980469\n"
          ]
        },
        {
          "output_type": "stream",
          "name": "stderr",
          "text": [
            "\rtraining:  84%|████████▍ | 4217/5000 [2:23:25<25:49,  1.98s/it]"
          ]
        },
        {
          "output_type": "stream",
          "name": "stdout",
          "text": [
            "training loss: 1.5091276168823242\n",
            "training loss: 1.2263020277023315\n",
            "training loss: 1.4539752006530762\n",
            "training loss: 1.3365001678466797\n",
            "training loss: 1.419350266456604\n",
            "training loss: 1.279076337814331\n"
          ]
        },
        {
          "output_type": "stream",
          "name": "stderr",
          "text": [
            "\rtraining:  84%|████████▍ | 4223/5000 [2:23:37<25:36,  1.98s/it]"
          ]
        },
        {
          "output_type": "stream",
          "name": "stdout",
          "text": [
            "training loss: 1.5337361097335815\n",
            "training loss: 1.6385860443115234\n",
            "training loss: 1.4380760192871094\n",
            "training loss: 1.4889178276062012\n",
            "training loss: 1.512924313545227\n",
            "training loss: 1.4085261821746826\n"
          ]
        },
        {
          "output_type": "stream",
          "name": "stderr",
          "text": [
            "\rtraining:  85%|████████▍ | 4229/5000 [2:23:49<25:23,  1.98s/it]"
          ]
        },
        {
          "output_type": "stream",
          "name": "stdout",
          "text": [
            "training loss: 1.5166559219360352\n",
            "training loss: 1.61327064037323\n",
            "training loss: 1.498271107673645\n",
            "training loss: 1.4322471618652344\n",
            "training loss: 1.427920937538147\n",
            "training loss: 1.3443864583969116\n"
          ]
        },
        {
          "output_type": "stream",
          "name": "stderr",
          "text": [
            "training:  85%|████████▍ | 4235/5000 [2:24:01<25:11,  1.98s/it]"
          ]
        },
        {
          "output_type": "stream",
          "name": "stdout",
          "text": [
            "training loss: 1.493656873703003\n",
            "training loss: 1.5131328105926514\n",
            "training loss: 1.4483740329742432\n",
            "training loss: 1.129097819328308\n",
            "training loss: 1.4908504486083984\n",
            "training loss: 1.4558497667312622\n"
          ]
        },
        {
          "output_type": "stream",
          "name": "stderr",
          "text": [
            "\rtraining:  85%|████████▍ | 4241/5000 [2:24:12<24:58,  1.97s/it]"
          ]
        },
        {
          "output_type": "stream",
          "name": "stdout",
          "text": [
            "training loss: 1.3369779586791992\n",
            "training loss: 1.4902440309524536\n",
            "training loss: 1.586359977722168\n",
            "training loss: 1.4206126928329468\n",
            "training loss: 1.5057580471038818\n",
            "training loss: 1.3054019212722778\n"
          ]
        },
        {
          "output_type": "stream",
          "name": "stderr",
          "text": [
            "\rtraining:  85%|████████▍ | 4247/5000 [2:24:24<24:46,  1.97s/it]"
          ]
        },
        {
          "output_type": "stream",
          "name": "stdout",
          "text": [
            "training loss: 1.5216346979141235\n",
            "training loss: 1.4567129611968994\n",
            "training loss: 1.5072925090789795\n",
            "training loss: 1.4686635732650757\n",
            "training loss: 1.4242733716964722\n",
            "training loss: 1.4800591468811035\n"
          ]
        },
        {
          "output_type": "stream",
          "name": "stderr",
          "text": [
            "\rtraining:  85%|████████▌ | 4253/5000 [2:24:36<24:35,  1.97s/it]"
          ]
        },
        {
          "output_type": "stream",
          "name": "stdout",
          "text": [
            "training loss: 1.6392664909362793\n",
            "training loss: 1.4001697301864624\n",
            "training loss: 1.3387479782104492\n",
            "training loss: 1.4523727893829346\n",
            "training loss: 1.3797941207885742\n",
            "training loss: 1.396268367767334\n"
          ]
        },
        {
          "output_type": "stream",
          "name": "stderr",
          "text": [
            "\rtraining:  85%|████████▌ | 4259/5000 [2:24:48<24:23,  1.97s/it]"
          ]
        },
        {
          "output_type": "stream",
          "name": "stdout",
          "text": [
            "training loss: 1.541566252708435\n",
            "training loss: 1.5744215250015259\n",
            "training loss: 1.4946941137313843\n",
            "training loss: 1.2946940660476685\n",
            "training loss: 1.4320192337036133\n",
            "training loss: 1.39127779006958\n"
          ]
        },
        {
          "output_type": "stream",
          "name": "stderr",
          "text": [
            "\rtraining:  85%|████████▌ | 4265/5000 [2:25:00<24:11,  1.97s/it]"
          ]
        },
        {
          "output_type": "stream",
          "name": "stdout",
          "text": [
            "training loss: 1.6157469749450684\n",
            "training loss: 1.7223055362701416\n",
            "training loss: 1.5303020477294922\n",
            "training loss: 1.5468238592147827\n",
            "training loss: 1.57293701171875\n",
            "training loss: 1.4606263637542725\n"
          ]
        },
        {
          "output_type": "stream",
          "name": "stderr",
          "text": [
            "training:  85%|████████▌ | 4271/5000 [2:25:12<23:59,  1.97s/it]"
          ]
        },
        {
          "output_type": "stream",
          "name": "stdout",
          "text": [
            "training loss: 1.3452879190444946\n",
            "training loss: 1.5457168817520142\n",
            "training loss: 1.450343370437622\n",
            "training loss: 1.6181727647781372\n",
            "training loss: 1.1983674764633179\n",
            "training loss: 1.442558765411377\n"
          ]
        },
        {
          "output_type": "stream",
          "name": "stderr",
          "text": [
            "\rtraining:  86%|████████▌ | 4277/5000 [2:25:23<23:47,  1.97s/it]"
          ]
        },
        {
          "output_type": "stream",
          "name": "stdout",
          "text": [
            "training loss: 1.5066072940826416\n",
            "training loss: 1.4697834253311157\n",
            "training loss: 1.442659854888916\n",
            "training loss: 1.4115763902664185\n",
            "training loss: 1.4078847169876099\n",
            "training loss: 1.5217721462249756\n"
          ]
        },
        {
          "output_type": "stream",
          "name": "stderr",
          "text": [
            "\rtraining:  86%|████████▌ | 4283/5000 [2:25:35<23:35,  1.97s/it]"
          ]
        },
        {
          "output_type": "stream",
          "name": "stdout",
          "text": [
            "training loss: 1.534532904624939\n",
            "training loss: 1.4062745571136475\n",
            "training loss: 1.5518856048583984\n",
            "training loss: 1.395244836807251\n",
            "training loss: 1.2709472179412842\n",
            "training loss: 1.4973578453063965\n"
          ]
        },
        {
          "output_type": "stream",
          "name": "stderr",
          "text": [
            "\rtraining:  86%|████████▌ | 4289/5000 [2:25:47<23:23,  1.97s/it]"
          ]
        },
        {
          "output_type": "stream",
          "name": "stdout",
          "text": [
            "training loss: 1.6193091869354248\n",
            "training loss: 1.4552052021026611\n",
            "training loss: 1.5172560214996338\n",
            "training loss: 1.458598256111145\n",
            "training loss: 1.4810043573379517\n",
            "training loss: 1.3958454132080078\n"
          ]
        },
        {
          "output_type": "stream",
          "name": "stderr",
          "text": [
            "\rtraining:  86%|████████▌ | 4295/5000 [2:25:59<23:11,  1.97s/it]"
          ]
        },
        {
          "output_type": "stream",
          "name": "stdout",
          "text": [
            "training loss: 1.460799217224121\n",
            "training loss: 1.4559522867202759\n",
            "training loss: 1.2987271547317505\n",
            "training loss: 1.6208906173706055\n",
            "training loss: 1.4445717334747314\n",
            "training loss: 1.5954902172088623\n"
          ]
        },
        {
          "output_type": "stream",
          "name": "stderr",
          "text": [
            "\rtraining:  86%|████████▌ | 4295/5000 [2:26:10<23:11,  1.97s/it]"
          ]
        },
        {
          "output_type": "stream",
          "name": "stdout",
          "text": [
            "training loss: 1.4982020854949951\n"
          ]
        },
        {
          "output_type": "stream",
          "name": "stderr",
          "text": [
            "\rtraining:  86%|████████▌ | 4301/5000 [2:26:11<23:06,  1.98s/it]"
          ]
        },
        {
          "output_type": "stream",
          "name": "stdout",
          "text": [
            "validation loss: 1.2977160215377808\n",
            "training loss: 1.3349418640136719\n",
            "training loss: 1.3650178909301758\n",
            "training loss: 1.5116214752197266\n",
            "training loss: 1.376953125\n",
            "training loss: 1.555521845817566\n"
          ]
        },
        {
          "output_type": "stream",
          "name": "stderr",
          "text": [
            "\rtraining:  86%|████████▌ | 4307/5000 [2:26:23<22:52,  1.98s/it]"
          ]
        },
        {
          "output_type": "stream",
          "name": "stdout",
          "text": [
            "training loss: 1.3648344278335571\n",
            "training loss: 1.5050469636917114\n",
            "training loss: 1.4933784008026123\n",
            "training loss: 1.5515549182891846\n",
            "training loss: 1.4796888828277588\n",
            "training loss: 1.4135401248931885\n"
          ]
        },
        {
          "output_type": "stream",
          "name": "stderr",
          "text": [
            "\rtraining:  86%|████████▋ | 4313/5000 [2:26:35<22:39,  1.98s/it]"
          ]
        },
        {
          "output_type": "stream",
          "name": "stdout",
          "text": [
            "training loss: 1.5046474933624268\n",
            "training loss: 1.5245518684387207\n",
            "training loss: 1.5458083152770996\n",
            "training loss: 1.5498254299163818\n",
            "training loss: 1.5160444974899292\n",
            "training loss: 1.3217928409576416\n"
          ]
        },
        {
          "output_type": "stream",
          "name": "stderr",
          "text": [
            "\rtraining:  86%|████████▋ | 4319/5000 [2:26:47<22:26,  1.98s/it]"
          ]
        },
        {
          "output_type": "stream",
          "name": "stdout",
          "text": [
            "training loss: 1.4633030891418457\n",
            "training loss: 1.5160601139068604\n",
            "training loss: 1.6509534120559692\n",
            "training loss: 1.450460433959961\n",
            "training loss: 1.440590739250183\n",
            "training loss: 1.5166646242141724\n"
          ]
        },
        {
          "output_type": "stream",
          "name": "stderr",
          "text": [
            "\rtraining:  86%|████████▋ | 4325/5000 [2:26:58<22:14,  1.98s/it]"
          ]
        },
        {
          "output_type": "stream",
          "name": "stdout",
          "text": [
            "training loss: 1.4741859436035156\n",
            "training loss: 1.3998072147369385\n",
            "training loss: 1.5853869915008545\n",
            "training loss: 1.3955810070037842\n",
            "training loss: 1.392516016960144\n",
            "training loss: 1.512808084487915\n"
          ]
        },
        {
          "output_type": "stream",
          "name": "stderr",
          "text": [
            "training:  87%|████████▋ | 4331/5000 [2:27:10<22:01,  1.98s/it]"
          ]
        },
        {
          "output_type": "stream",
          "name": "stdout",
          "text": [
            "training loss: 1.5328869819641113\n",
            "training loss: 1.3905422687530518\n",
            "training loss: 1.5266412496566772\n",
            "training loss: 1.4616841077804565\n",
            "training loss: 1.4479403495788574\n",
            "training loss: 1.49431574344635\n"
          ]
        },
        {
          "output_type": "stream",
          "name": "stderr",
          "text": [
            "\rtraining:  87%|████████▋ | 4337/5000 [2:27:22<21:49,  1.98s/it]"
          ]
        },
        {
          "output_type": "stream",
          "name": "stdout",
          "text": [
            "training loss: 1.4280753135681152\n",
            "training loss: 1.4887036085128784\n",
            "training loss: 1.5269248485565186\n",
            "training loss: 1.4795293807983398\n",
            "training loss: 1.443198561668396\n",
            "training loss: 1.3417322635650635\n"
          ]
        },
        {
          "output_type": "stream",
          "name": "stderr",
          "text": [
            "\rtraining:  87%|████████▋ | 4343/5000 [2:27:34<21:37,  1.97s/it]"
          ]
        },
        {
          "output_type": "stream",
          "name": "stdout",
          "text": [
            "training loss: 1.4524731636047363\n",
            "training loss: 1.4096403121948242\n",
            "training loss: 1.3596892356872559\n",
            "training loss: 1.4657690525054932\n",
            "training loss: 1.4041961431503296\n",
            "training loss: 1.6213723421096802\n"
          ]
        },
        {
          "output_type": "stream",
          "name": "stderr",
          "text": [
            "\rtraining:  87%|████████▋ | 4349/5000 [2:27:46<21:25,  1.97s/it]"
          ]
        },
        {
          "output_type": "stream",
          "name": "stdout",
          "text": [
            "training loss: 1.3949830532073975\n",
            "training loss: 1.4164140224456787\n",
            "training loss: 1.4326168298721313\n",
            "training loss: 1.4219872951507568\n",
            "training loss: 1.4309523105621338\n",
            "training loss: 1.4947504997253418\n"
          ]
        },
        {
          "output_type": "stream",
          "name": "stderr",
          "text": [
            "\rtraining:  87%|████████▋ | 4355/5000 [2:27:58<21:13,  1.97s/it]"
          ]
        },
        {
          "output_type": "stream",
          "name": "stdout",
          "text": [
            "training loss: 1.5285375118255615\n",
            "training loss: 1.436251163482666\n",
            "training loss: 1.5446480512619019\n",
            "training loss: 1.5111477375030518\n",
            "training loss: 1.7948126792907715\n",
            "training loss: 1.4455982446670532\n"
          ]
        },
        {
          "output_type": "stream",
          "name": "stderr",
          "text": [
            "\rtraining:  87%|████████▋ | 4361/5000 [2:28:09<21:01,  1.97s/it]"
          ]
        },
        {
          "output_type": "stream",
          "name": "stdout",
          "text": [
            "training loss: 1.3620729446411133\n",
            "training loss: 1.6105256080627441\n",
            "training loss: 1.5423667430877686\n",
            "training loss: 1.3797426223754883\n",
            "training loss: 1.5357195138931274\n",
            "training loss: 1.5238467454910278\n"
          ]
        },
        {
          "output_type": "stream",
          "name": "stderr",
          "text": [
            "training:  87%|████████▋ | 4367/5000 [2:28:21<20:49,  1.97s/it]"
          ]
        },
        {
          "output_type": "stream",
          "name": "stdout",
          "text": [
            "training loss: 1.5437043905258179\n",
            "training loss: 1.3899900913238525\n",
            "training loss: 1.47600257396698\n",
            "training loss: 1.5080657005310059\n",
            "training loss: 1.463223934173584\n",
            "training loss: 1.4603782892227173\n"
          ]
        },
        {
          "output_type": "stream",
          "name": "stderr",
          "text": [
            "\rtraining:  87%|████████▋ | 4373/5000 [2:28:33<20:37,  1.97s/it]"
          ]
        },
        {
          "output_type": "stream",
          "name": "stdout",
          "text": [
            "training loss: 1.4495244026184082\n",
            "training loss: 1.517479419708252\n",
            "training loss: 1.4729551076889038\n",
            "training loss: 1.6767446994781494\n",
            "training loss: 1.5313804149627686\n",
            "training loss: 1.485360026359558\n"
          ]
        },
        {
          "output_type": "stream",
          "name": "stderr",
          "text": [
            "\rtraining:  88%|████████▊ | 4379/5000 [2:28:45<20:25,  1.97s/it]"
          ]
        },
        {
          "output_type": "stream",
          "name": "stdout",
          "text": [
            "training loss: 1.5012699365615845\n",
            "training loss: 1.4537817239761353\n",
            "training loss: 1.485176920890808\n",
            "training loss: 1.4237594604492188\n",
            "training loss: 1.5541629791259766\n",
            "training loss: 1.3932735919952393\n"
          ]
        },
        {
          "output_type": "stream",
          "name": "stderr",
          "text": [
            "\rtraining:  88%|████████▊ | 4385/5000 [2:28:57<20:13,  1.97s/it]"
          ]
        },
        {
          "output_type": "stream",
          "name": "stdout",
          "text": [
            "training loss: 1.4707480669021606\n",
            "training loss: 1.4702624082565308\n",
            "training loss: 1.5922257900238037\n",
            "training loss: 1.4073903560638428\n",
            "training loss: 1.5916413068771362\n",
            "training loss: 1.4975953102111816\n"
          ]
        },
        {
          "output_type": "stream",
          "name": "stderr",
          "text": [
            "\rtraining:  88%|████████▊ | 4391/5000 [2:29:09<20:01,  1.97s/it]"
          ]
        },
        {
          "output_type": "stream",
          "name": "stdout",
          "text": [
            "training loss: 1.583746314048767\n",
            "training loss: 1.5050878524780273\n",
            "training loss: 1.5048574209213257\n",
            "training loss: 1.494619369506836\n",
            "training loss: 1.364802360534668\n",
            "training loss: 1.4937207698822021\n"
          ]
        },
        {
          "output_type": "stream",
          "name": "stderr",
          "text": [
            "training:  88%|████████▊ | 4397/5000 [2:29:21<19:50,  1.97s/it]"
          ]
        },
        {
          "output_type": "stream",
          "name": "stdout",
          "text": [
            "training loss: 1.3827064037322998\n",
            "training loss: 1.4101824760437012\n",
            "training loss: 1.420691967010498\n",
            "training loss: 1.4675984382629395\n",
            "training loss: 1.5947792530059814\n",
            "validation loss: 1.312354564666748\n",
            "training loss: 1.490606427192688\n"
          ]
        },
        {
          "output_type": "stream",
          "name": "stderr",
          "text": [
            "\rtraining:  88%|████████▊ | 4403/5000 [2:29:33<19:44,  1.98s/it]"
          ]
        },
        {
          "output_type": "stream",
          "name": "stdout",
          "text": [
            "training loss: 1.4458929300308228\n",
            "training loss: 1.504108190536499\n",
            "training loss: 1.5112228393554688\n",
            "training loss: 1.4144911766052246\n",
            "training loss: 1.4987260103225708\n",
            "training loss: 1.4724000692367554\n"
          ]
        },
        {
          "output_type": "stream",
          "name": "stderr",
          "text": [
            "\rtraining:  88%|████████▊ | 4409/5000 [2:29:44<19:30,  1.98s/it]"
          ]
        },
        {
          "output_type": "stream",
          "name": "stdout",
          "text": [
            "training loss: 1.5006117820739746\n",
            "training loss: 1.4034943580627441\n",
            "training loss: 1.293717861175537\n",
            "training loss: 1.4878385066986084\n",
            "training loss: 1.4194469451904297\n",
            "training loss: 1.3574966192245483\n"
          ]
        },
        {
          "output_type": "stream",
          "name": "stderr",
          "text": [
            "\rtraining:  88%|████████▊ | 4415/5000 [2:29:56<19:17,  1.98s/it]"
          ]
        },
        {
          "output_type": "stream",
          "name": "stdout",
          "text": [
            "training loss: 1.5867787599563599\n",
            "training loss: 1.6049938201904297\n",
            "training loss: 1.461084008216858\n",
            "training loss: 1.3838260173797607\n",
            "training loss: 1.4377036094665527\n",
            "training loss: 1.5884933471679688\n"
          ]
        },
        {
          "output_type": "stream",
          "name": "stderr",
          "text": [
            "\rtraining:  88%|████████▊ | 4421/5000 [2:30:08<19:04,  1.98s/it]"
          ]
        },
        {
          "output_type": "stream",
          "name": "stdout",
          "text": [
            "training loss: 1.4451426267623901\n",
            "training loss: 1.519092321395874\n",
            "training loss: 1.4491584300994873\n",
            "training loss: 1.5449026823043823\n",
            "training loss: 1.4438530206680298\n",
            "training loss: 1.5609509944915771\n"
          ]
        },
        {
          "output_type": "stream",
          "name": "stderr",
          "text": [
            "training:  89%|████████▊ | 4427/5000 [2:30:20<18:52,  1.98s/it]"
          ]
        },
        {
          "output_type": "stream",
          "name": "stdout",
          "text": [
            "training loss: 1.4918714761734009\n",
            "training loss: 1.4276009798049927\n",
            "training loss: 1.5348328351974487\n",
            "training loss: 1.4166181087493896\n",
            "training loss: 1.4264582395553589\n",
            "training loss: 1.448201298713684\n"
          ]
        },
        {
          "output_type": "stream",
          "name": "stderr",
          "text": [
            "\rtraining:  89%|████████▊ | 4433/5000 [2:30:32<18:40,  1.98s/it]"
          ]
        },
        {
          "output_type": "stream",
          "name": "stdout",
          "text": [
            "training loss: 1.3992475271224976\n",
            "training loss: 1.5237869024276733\n",
            "training loss: 1.3257454633712769\n",
            "training loss: 1.4401741027832031\n",
            "training loss: 1.4691702127456665\n",
            "training loss: 1.4728662967681885\n"
          ]
        },
        {
          "output_type": "stream",
          "name": "stderr",
          "text": [
            "\rtraining:  89%|████████▉ | 4439/5000 [2:30:44<18:28,  1.98s/it]"
          ]
        },
        {
          "output_type": "stream",
          "name": "stdout",
          "text": [
            "training loss: 1.4302140474319458\n",
            "training loss: 1.4526029825210571\n",
            "training loss: 1.7295010089874268\n",
            "training loss: 1.4816967248916626\n",
            "training loss: 1.3840925693511963\n",
            "training loss: 1.469981074333191\n"
          ]
        },
        {
          "output_type": "stream",
          "name": "stderr",
          "text": [
            "\rtraining:  89%|████████▉ | 4445/5000 [2:30:55<18:15,  1.97s/it]"
          ]
        },
        {
          "output_type": "stream",
          "name": "stdout",
          "text": [
            "training loss: 1.509536862373352\n",
            "training loss: 1.5517860651016235\n",
            "training loss: 1.4864503145217896\n",
            "training loss: 1.4684748649597168\n",
            "training loss: 1.4976156949996948\n",
            "training loss: 1.4642659425735474\n"
          ]
        },
        {
          "output_type": "stream",
          "name": "stderr",
          "text": [
            "\rtraining:  89%|████████▉ | 4451/5000 [2:31:07<18:03,  1.97s/it]"
          ]
        },
        {
          "output_type": "stream",
          "name": "stdout",
          "text": [
            "training loss: 1.5023695230484009\n",
            "training loss: 1.3794814348220825\n",
            "training loss: 1.6070035696029663\n",
            "training loss: 1.4019159078598022\n",
            "training loss: 1.4992930889129639\n",
            "training loss: 1.456549048423767\n"
          ]
        },
        {
          "output_type": "stream",
          "name": "stderr",
          "text": [
            "\rtraining:  89%|████████▉ | 4457/5000 [2:31:19<17:52,  1.97s/it]"
          ]
        },
        {
          "output_type": "stream",
          "name": "stdout",
          "text": [
            "training loss: 1.4548827409744263\n",
            "training loss: 1.57666015625\n",
            "training loss: 1.361595869064331\n",
            "training loss: 1.701364517211914\n",
            "training loss: 1.5036967992782593\n",
            "training loss: 1.4535876512527466\n"
          ]
        },
        {
          "output_type": "stream",
          "name": "stderr",
          "text": [
            "training:  89%|████████▉ | 4463/5000 [2:31:31<17:40,  1.97s/it]"
          ]
        },
        {
          "output_type": "stream",
          "name": "stdout",
          "text": [
            "training loss: 1.4092692136764526\n",
            "training loss: 1.4343538284301758\n",
            "training loss: 1.5645374059677124\n",
            "training loss: 1.5404603481292725\n",
            "training loss: 1.490583062171936\n",
            "training loss: 1.4332102537155151\n"
          ]
        },
        {
          "output_type": "stream",
          "name": "stderr",
          "text": [
            "\rtraining:  89%|████████▉ | 4469/5000 [2:31:43<17:28,  1.97s/it]"
          ]
        },
        {
          "output_type": "stream",
          "name": "stdout",
          "text": [
            "training loss: 1.4967827796936035\n",
            "training loss: 1.5271860361099243\n",
            "training loss: 1.5242923498153687\n",
            "training loss: 1.4106193780899048\n",
            "training loss: 1.5611432790756226\n",
            "training loss: 1.4058457612991333\n"
          ]
        },
        {
          "output_type": "stream",
          "name": "stderr",
          "text": [
            "\rtraining:  90%|████████▉ | 4475/5000 [2:31:55<17:16,  1.97s/it]"
          ]
        },
        {
          "output_type": "stream",
          "name": "stdout",
          "text": [
            "training loss: 1.5377572774887085\n",
            "training loss: 1.5262761116027832\n",
            "training loss: 1.4168339967727661\n",
            "training loss: 1.503415822982788\n",
            "training loss: 1.6343507766723633\n",
            "training loss: 1.4126933813095093\n"
          ]
        },
        {
          "output_type": "stream",
          "name": "stderr",
          "text": [
            "\rtraining:  90%|████████▉ | 4481/5000 [2:32:07<17:04,  1.97s/it]"
          ]
        },
        {
          "output_type": "stream",
          "name": "stdout",
          "text": [
            "training loss: 1.5374834537506104\n",
            "training loss: 1.3613831996917725\n",
            "training loss: 1.4418418407440186\n",
            "training loss: 1.4638831615447998\n",
            "training loss: 1.3977488279342651\n",
            "training loss: 1.3428438901901245\n"
          ]
        },
        {
          "output_type": "stream",
          "name": "stderr",
          "text": [
            "\rtraining:  90%|████████▉ | 4487/5000 [2:32:18<16:52,  1.97s/it]"
          ]
        },
        {
          "output_type": "stream",
          "name": "stdout",
          "text": [
            "training loss: 1.4545649290084839\n",
            "training loss: 1.3675559759140015\n",
            "training loss: 1.4387764930725098\n",
            "training loss: 1.4993399381637573\n",
            "training loss: 1.4075827598571777\n",
            "training loss: 1.564963698387146\n"
          ]
        },
        {
          "output_type": "stream",
          "name": "stderr",
          "text": [
            "training:  90%|████████▉ | 4493/5000 [2:32:30<16:40,  1.97s/it]"
          ]
        },
        {
          "output_type": "stream",
          "name": "stdout",
          "text": [
            "training loss: 1.4370825290679932\n",
            "training loss: 1.4542752504348755\n",
            "training loss: 1.4194109439849854\n",
            "training loss: 1.5411466360092163\n",
            "training loss: 1.43401038646698\n",
            "training loss: 1.3437303304672241\n"
          ]
        },
        {
          "output_type": "stream",
          "name": "stderr",
          "text": [
            "\rtraining:  90%|████████▉ | 4499/5000 [2:32:42<16:28,  1.97s/it]"
          ]
        },
        {
          "output_type": "stream",
          "name": "stdout",
          "text": [
            "training loss: 1.3661489486694336\n",
            "training loss: 1.427465558052063\n",
            "training loss: 1.4526394605636597\n",
            "validation loss: 1.3646372556686401\n",
            "%s \n",
            "\n",
            " %s ('sh English|BE]]) is the [[mineral]] form of [[Iron (III) oxide]], (Fe&lt;sub&gt;2&lt;/sub&gt;O&lt;sub&gt;3&lt;/sub&gt;), one of several [[iron oxide]]s. The [[ore]] sometimes contains slight amounts of [[titanium]]. When shaped into ornaments, it is often called black diamond.  [[Image:Hematite.jpg|left|thumb|200px|Hematite (kidney ore) from Michigan]]  Hematite is a very common mineral, coloured black to steel or silver-gray, brown to reddish brown, or red. It is [[mining|mined]] as the main ore of iron. Varieties include Bloodstone, Iron Rose, Kidney Ore, Martite, Paint Ore, Specularite (Specular Hematite), Rainbow Hematite and Titano-hematite. While the forms of hematite vary, they all have a rust-red streak. Hematite is harder than pure iron, but much more brittle.  Deposits of grey hematite are typically found in places where there has been standing water or mineral [[hot spring]]s, such as those in [[Yellowstone]]. The mineral can [[Precipitation (chemistry)|precipitate]] out of water and collect in layers at the bottom of a lake, spring, or other standing water. But hematite can also occur without water, as the result of [[Volcano|volcanic]] activity.  [[Clay]]-sized hematite crystals can also occur as a secondary mineral formed by weathering processes in [[soil]], and along with other iron oxides or oxyhydroxides such as [[goethite]], is responsible for the red color of many tropical, ancient, or otherwise highly weathered soils.  The name hematite is derived from the [[Greek language|Greek]] word for blood, since sometimes hematite can be red, as in [[Rouge]], a powderized form of hematite. It shares this root with the word [[hemoglobin]]. Hemoglobin is the oxygen-transporting molecule in [[red blood cell]]s, the iron of which causes blood to be red. The color of hematite lends it well in use as a pigment.  [[Image:Rainbow_hematite_MG.jpg|left|thumb|200px|Rainbow Hematite from Brazil]]  Especially nice specimens of hematite come from [[England]], [[Mexico]], [[Brazil]], [[Australia]] and the [[Lake Superior]] region of the [[United States]] and [[Canada]].  Hematite is an [[antiferromagnetic]] material below the Morin transition at 260K, and a canted antiferromagnet or weakly [[ferromagnetic]] above the Morin transition. [http://www.earthsci.unimelb.edu.au/ES304/MODULES/MAG/NOTES/typesmag.html].  ==Hematite on Mars==  Hematite can be formed by aqueous processes, [[weathering]] processes, or without water. In 2004, NASA\\'s [[Mars Exploration Rover Mission|Mars rover]] \\'\\'[[MER-B|Opportunity]]\\'\\' discovered small spheres believed to be made partly or mostly of hematite. The spheres are only a few millimeters in diameter and are believed to have formed as rock deposites under watery conditions billions of years ago when [[Mars (planet)|Mars]] was a wetter world. The rover used its instruments (a [[MÃ¶ssbauer spectrometer|MÃ¶ssbauer spectrometer]]) to test how the hematite found on Mars at Meridiani Planum was formed.  ==See also== *[[Iron ore]] *[[Iron oxide]] *[[List of minerals]]  ==External links== * [http://marsrovers.jpl.nasa.gov/gallery/press/opportunity/20040212a/07-ml-3-soil-mosaic-B019R1_br.jpg Mars spheres image]. * [http://marsrovers.jpl.nasa.gov/gallery/press/opportunity/20040219a/08-AY-3-shiny-B026R1_br.jpg Mars trench image showing a shiny texture of half-buried spheres] (dark line is equipment shadow)  [[Category:Oxide minerals]] [[Category:Iron minerals]]  [[ca:Hematites]] [[de:HÃ¤matit]] [[es:Hematita]] [[fr:HÃ©matite]] [[it:Ematite]] [[he:×\\x94×\\x9e×\\x98×\\x99×\\x98]] [[lt:Hematitas]] [[nl:Hematiet]] [[ja:èµ¤é\\x89\\x84é\\x89±]] [[pl:Hematyt]] [[pt:Hematita]] [[fi:Hematiitti]]</text>     </revision>   </page>   <page>     <title>Holocene extinction event</title>     <id>14208</id>     <revision>       <id>40941614</id>       <timestamp>2006-02-24T00:41:49Z</timestamp>       <contributor>         <username>Staffelde</username>         <id>385596</id>       </contributor>       <minor />       <comment>disambig &quot;elk&quot;</comment>       <text xml:space=\"preserve\">The \\'\\'\\'Holocene extinction event\\'\\'\\' is a name customarily give', '****************************************************************************************************')\n"
          ]
        },
        {
          "output_type": "stream",
          "name": "stderr",
          "text": [
            "training:  90%|█████████ | 4501/5000 [2:33:16<32:13,  3.87s/it]"
          ]
        },
        {
          "output_type": "stream",
          "name": "stdout",
          "text": [
            "n on [[arm a Brean Bille]] in [[placiation]]. In thin the tof [[Al-Jabs]] of [[Kast monas]], [[Albhema Ta Historianism]], at [[Anearchient Inivo Powers]], [[Kniton theologens]]. Horse is reborred the spective retimes bright. His broad been productive or the core, the obest weactivo of my ''[[specity to Cher]]'', ''ctuals'' not &quot;[[ssometimes]], ''Americhto s arge others of the one turben&quot;sof. See [[British on Brizativities metril]]&quot;.  Achineerient age hut all with f more cannection, no, action\n",
            "training loss: 1.3838876485824585\n",
            "training loss: 1.3854376077651978\n",
            "training loss: 1.5198793411254883\n",
            "training loss: 1.4173556566238403\n",
            "training loss: 1.5193036794662476\n"
          ]
        },
        {
          "output_type": "stream",
          "name": "stderr",
          "text": [
            "\rtraining:  90%|█████████ | 4507/5000 [2:33:28<26:23,  3.21s/it]"
          ]
        },
        {
          "output_type": "stream",
          "name": "stdout",
          "text": [
            "training loss: 1.464389681816101\n",
            "training loss: 1.5431568622589111\n",
            "training loss: 1.4189453125\n",
            "training loss: 1.4564822912216187\n",
            "training loss: 1.535617470741272\n",
            "training loss: 1.3416498899459839\n"
          ]
        },
        {
          "output_type": "stream",
          "name": "stderr",
          "text": [
            "training:  90%|█████████ | 4513/5000 [2:33:40<22:43,  2.80s/it]"
          ]
        },
        {
          "output_type": "stream",
          "name": "stdout",
          "text": [
            "training loss: 1.5018988847732544\n",
            "training loss: 1.4528971910476685\n",
            "training loss: 1.3268253803253174\n",
            "training loss: 1.502511739730835\n",
            "training loss: 1.5297589302062988\n",
            "training loss: 1.4625649452209473\n"
          ]
        },
        {
          "output_type": "stream",
          "name": "stderr",
          "text": [
            "\rtraining:  90%|█████████ | 4519/5000 [2:33:52<20:18,  2.53s/it]"
          ]
        },
        {
          "output_type": "stream",
          "name": "stdout",
          "text": [
            "training loss: 1.4502884149551392\n",
            "training loss: 1.4860063791275024\n",
            "training loss: 1.529703974723816\n",
            "training loss: 1.4037063121795654\n",
            "training loss: 1.4357054233551025\n",
            "training loss: 1.5574203729629517\n"
          ]
        },
        {
          "output_type": "stream",
          "name": "stderr",
          "text": [
            "\rtraining:  90%|█████████ | 4525/5000 [2:34:04<18:39,  2.36s/it]"
          ]
        },
        {
          "output_type": "stream",
          "name": "stdout",
          "text": [
            "training loss: 1.4945446252822876\n",
            "training loss: 1.449062466621399\n",
            "training loss: 1.542846441268921\n",
            "training loss: 1.4661900997161865\n",
            "training loss: 1.3980194330215454\n",
            "training loss: 1.3249255418777466\n"
          ]
        },
        {
          "output_type": "stream",
          "name": "stderr",
          "text": [
            "\rtraining:  91%|█████████ | 4531/5000 [2:34:16<17:29,  2.24s/it]"
          ]
        },
        {
          "output_type": "stream",
          "name": "stdout",
          "text": [
            "training loss: 1.4955545663833618\n",
            "training loss: 1.5476628541946411\n",
            "training loss: 1.527535080909729\n",
            "training loss: 1.3631950616836548\n",
            "training loss: 1.5820292234420776\n",
            "training loss: 1.4789389371871948\n"
          ]
        },
        {
          "output_type": "stream",
          "name": "stderr",
          "text": [
            "\rtraining:  91%|█████████ | 4537/5000 [2:34:27<16:38,  2.16s/it]"
          ]
        },
        {
          "output_type": "stream",
          "name": "stdout",
          "text": [
            "training loss: 1.2918874025344849\n",
            "training loss: 1.447456955909729\n",
            "training loss: 1.4034894704818726\n",
            "training loss: 1.4503296613693237\n",
            "training loss: 1.4155802726745605\n",
            "training loss: 1.5378751754760742\n"
          ]
        },
        {
          "output_type": "stream",
          "name": "stderr",
          "text": [
            "\rtraining:  91%|█████████ | 4543/5000 [2:34:39<16:00,  2.10s/it]"
          ]
        },
        {
          "output_type": "stream",
          "name": "stdout",
          "text": [
            "training loss: 1.4704512357711792\n",
            "training loss: 1.485735297203064\n",
            "training loss: 1.4458671808242798\n",
            "training loss: 1.3874850273132324\n",
            "training loss: 1.5859805345535278\n",
            "training loss: 1.4093097448349\n"
          ]
        },
        {
          "output_type": "stream",
          "name": "stderr",
          "text": [
            "training:  91%|█████████ | 4549/5000 [2:34:51<15:30,  2.06s/it]"
          ]
        },
        {
          "output_type": "stream",
          "name": "stdout",
          "text": [
            "training loss: 1.5031251907348633\n",
            "training loss: 1.4009021520614624\n",
            "training loss: 1.4467498064041138\n",
            "training loss: 1.3823853731155396\n",
            "training loss: 1.4458327293395996\n",
            "training loss: 1.3406949043273926\n"
          ]
        },
        {
          "output_type": "stream",
          "name": "stderr",
          "text": [
            "\rtraining:  91%|█████████ | 4555/5000 [2:35:03<15:05,  2.04s/it]"
          ]
        },
        {
          "output_type": "stream",
          "name": "stdout",
          "text": [
            "training loss: 1.4383964538574219\n",
            "training loss: 1.4978437423706055\n",
            "training loss: 1.4989606142044067\n",
            "training loss: 1.611282467842102\n",
            "training loss: 1.4577409029006958\n",
            "training loss: 1.3953267335891724\n"
          ]
        },
        {
          "output_type": "stream",
          "name": "stderr",
          "text": [
            "\rtraining:  91%|█████████ | 4561/5000 [2:35:15<14:45,  2.02s/it]"
          ]
        },
        {
          "output_type": "stream",
          "name": "stdout",
          "text": [
            "training loss: 1.0878021717071533\n",
            "training loss: 1.4258674383163452\n",
            "training loss: 1.4463856220245361\n",
            "training loss: 1.5417066812515259\n",
            "training loss: 1.5659809112548828\n",
            "training loss: 1.4848111867904663\n"
          ]
        },
        {
          "output_type": "stream",
          "name": "stderr",
          "text": [
            "\rtraining:  91%|█████████▏| 4567/5000 [2:35:27<14:27,  2.00s/it]"
          ]
        },
        {
          "output_type": "stream",
          "name": "stdout",
          "text": [
            "training loss: 1.4940186738967896\n",
            "training loss: 1.3926416635513306\n",
            "training loss: 1.4233732223510742\n",
            "training loss: 1.3603519201278687\n",
            "training loss: 1.5475091934204102\n",
            "training loss: 1.4334739446640015\n"
          ]
        },
        {
          "output_type": "stream",
          "name": "stderr",
          "text": [
            "\rtraining:  91%|█████████▏| 4573/5000 [2:35:39<14:11,  2.00s/it]"
          ]
        },
        {
          "output_type": "stream",
          "name": "stdout",
          "text": [
            "training loss: 1.4686613082885742\n",
            "training loss: 1.6064952611923218\n",
            "training loss: 1.4722143411636353\n",
            "training loss: 1.4987822771072388\n",
            "training loss: 1.455386757850647\n",
            "training loss: 1.5311622619628906\n"
          ]
        },
        {
          "output_type": "stream",
          "name": "stderr",
          "text": [
            "training:  92%|█████████▏| 4579/5000 [2:35:50<13:57,  1.99s/it]"
          ]
        },
        {
          "output_type": "stream",
          "name": "stdout",
          "text": [
            "training loss: 1.562971591949463\n",
            "training loss: 1.3586503267288208\n",
            "training loss: 1.4807347059249878\n",
            "training loss: 1.4159356355667114\n",
            "training loss: 1.43317711353302\n",
            "training loss: 1.4490846395492554\n"
          ]
        },
        {
          "output_type": "stream",
          "name": "stderr",
          "text": [
            "\rtraining:  92%|█████████▏| 4585/5000 [2:36:02<13:43,  1.98s/it]"
          ]
        },
        {
          "output_type": "stream",
          "name": "stdout",
          "text": [
            "training loss: 1.4204120635986328\n",
            "training loss: 1.5492669343948364\n",
            "training loss: 1.4283231496810913\n",
            "training loss: 1.4888495206832886\n",
            "training loss: 1.4403679370880127\n",
            "training loss: 1.5059926509857178\n"
          ]
        },
        {
          "output_type": "stream",
          "name": "stderr",
          "text": [
            "\rtraining:  92%|█████████▏| 4591/5000 [2:36:14<13:30,  1.98s/it]"
          ]
        },
        {
          "output_type": "stream",
          "name": "stdout",
          "text": [
            "training loss: 1.497625470161438\n",
            "training loss: 1.453489065170288\n",
            "training loss: 1.4876028299331665\n",
            "training loss: 1.5111808776855469\n",
            "training loss: 1.5011370182037354\n",
            "training loss: 1.4517408609390259\n"
          ]
        },
        {
          "output_type": "stream",
          "name": "stderr",
          "text": [
            "\rtraining:  92%|█████████▏| 4597/5000 [2:36:26<13:17,  1.98s/it]"
          ]
        },
        {
          "output_type": "stream",
          "name": "stdout",
          "text": [
            "training loss: 1.407101035118103\n",
            "training loss: 1.4524909257888794\n",
            "training loss: 1.4783501625061035\n",
            "training loss: 1.5027345418930054\n",
            "training loss: 1.357904314994812\n",
            "validation loss: 1.2475956678390503\n",
            "training loss: 1.3602615594863892\n"
          ]
        },
        {
          "output_type": "stream",
          "name": "stderr",
          "text": [
            "\rtraining:  92%|█████████▏| 4603/5000 [2:36:38<13:08,  1.99s/it]"
          ]
        },
        {
          "output_type": "stream",
          "name": "stdout",
          "text": [
            "training loss: 1.5116583108901978\n",
            "training loss: 1.4431347846984863\n",
            "training loss: 1.550965428352356\n",
            "training loss: 1.4212226867675781\n",
            "training loss: 1.461991786956787\n",
            "training loss: 1.4172673225402832\n"
          ]
        },
        {
          "output_type": "stream",
          "name": "stderr",
          "text": [
            "\rtraining:  92%|█████████▏| 4609/5000 [2:36:50<12:55,  1.98s/it]"
          ]
        },
        {
          "output_type": "stream",
          "name": "stdout",
          "text": [
            "training loss: 1.4046459197998047\n",
            "training loss: 1.4026459455490112\n",
            "training loss: 1.1320898532867432\n",
            "training loss: 1.3995275497436523\n",
            "training loss: 1.515219807624817\n",
            "training loss: 1.5811878442764282\n"
          ]
        },
        {
          "output_type": "stream",
          "name": "stderr",
          "text": [
            "training:  92%|█████████▏| 4615/5000 [2:37:02<12:42,  1.98s/it]"
          ]
        },
        {
          "output_type": "stream",
          "name": "stdout",
          "text": [
            "training loss: 1.335895299911499\n",
            "training loss: 1.6214289665222168\n",
            "training loss: 1.4768747091293335\n",
            "training loss: 1.558017611503601\n",
            "training loss: 1.534522294998169\n",
            "training loss: 1.3692467212677002\n"
          ]
        },
        {
          "output_type": "stream",
          "name": "stderr",
          "text": [
            "\rtraining:  92%|█████████▏| 4621/5000 [2:37:13<12:29,  1.98s/it]"
          ]
        },
        {
          "output_type": "stream",
          "name": "stdout",
          "text": [
            "training loss: 1.2072393894195557\n",
            "training loss: 1.4305145740509033\n",
            "training loss: 1.4303030967712402\n",
            "training loss: 1.6988662481307983\n",
            "training loss: 1.481350064277649\n",
            "training loss: 1.60670006275177\n"
          ]
        },
        {
          "output_type": "stream",
          "name": "stderr",
          "text": [
            "\rtraining:  93%|█████████▎| 4627/5000 [2:37:25<12:17,  1.98s/it]"
          ]
        },
        {
          "output_type": "stream",
          "name": "stdout",
          "text": [
            "training loss: 1.5333846807479858\n",
            "training loss: 1.3766487836837769\n",
            "training loss: 1.4803386926651\n",
            "training loss: 1.4752044677734375\n",
            "training loss: 1.3850067853927612\n",
            "training loss: 1.5481464862823486\n"
          ]
        },
        {
          "output_type": "stream",
          "name": "stderr",
          "text": [
            "\rtraining:  93%|█████████▎| 4633/5000 [2:37:37<12:05,  1.98s/it]"
          ]
        },
        {
          "output_type": "stream",
          "name": "stdout",
          "text": [
            "training loss: 1.4917504787445068\n",
            "training loss: 1.2951775789260864\n",
            "training loss: 1.3848427534103394\n",
            "training loss: 1.381386160850525\n",
            "training loss: 1.4459820985794067\n",
            "training loss: 1.639127492904663\n"
          ]
        },
        {
          "output_type": "stream",
          "name": "stderr",
          "text": [
            "\rtraining:  93%|█████████▎| 4639/5000 [2:37:49<11:53,  1.98s/it]"
          ]
        },
        {
          "output_type": "stream",
          "name": "stdout",
          "text": [
            "training loss: 1.4078636169433594\n",
            "training loss: 1.4159517288208008\n",
            "training loss: 1.4650225639343262\n",
            "training loss: 1.4605299234390259\n",
            "training loss: 1.4599366188049316\n",
            "training loss: 1.6767230033874512\n"
          ]
        },
        {
          "output_type": "stream",
          "name": "stderr",
          "text": [
            "training:  93%|█████████▎| 4645/5000 [2:38:01<11:41,  1.97s/it]"
          ]
        },
        {
          "output_type": "stream",
          "name": "stdout",
          "text": [
            "training loss: 1.419786810874939\n",
            "training loss: 1.579967737197876\n",
            "training loss: 1.4613614082336426\n",
            "training loss: 1.4682456254959106\n",
            "training loss: 1.5661725997924805\n",
            "training loss: 1.5649691820144653\n"
          ]
        },
        {
          "output_type": "stream",
          "name": "stderr",
          "text": [
            "\rtraining:  93%|█████████▎| 4651/5000 [2:38:13<11:29,  1.97s/it]"
          ]
        },
        {
          "output_type": "stream",
          "name": "stdout",
          "text": [
            "training loss: 1.4541754722595215\n",
            "training loss: 1.4625688791275024\n",
            "training loss: 1.4654037952423096\n",
            "training loss: 1.190253734588623\n",
            "training loss: 1.4100826978683472\n",
            "training loss: 1.42668616771698\n"
          ]
        },
        {
          "output_type": "stream",
          "name": "stderr",
          "text": [
            "\rtraining:  93%|█████████▎| 4657/5000 [2:38:25<11:17,  1.97s/it]"
          ]
        },
        {
          "output_type": "stream",
          "name": "stdout",
          "text": [
            "training loss: 1.4964112043380737\n",
            "training loss: 1.5205104351043701\n",
            "training loss: 1.427830457687378\n",
            "training loss: 1.5742658376693726\n",
            "training loss: 1.3884665966033936\n",
            "training loss: 1.4120471477508545\n"
          ]
        },
        {
          "output_type": "stream",
          "name": "stderr",
          "text": [
            "\rtraining:  93%|█████████▎| 4663/5000 [2:38:36<11:05,  1.97s/it]"
          ]
        },
        {
          "output_type": "stream",
          "name": "stdout",
          "text": [
            "training loss: 1.4782776832580566\n",
            "training loss: 1.4492048025131226\n",
            "training loss: 1.6091465950012207\n",
            "training loss: 1.369686484336853\n",
            "training loss: 1.3481041193008423\n",
            "training loss: 1.34890878200531\n"
          ]
        },
        {
          "output_type": "stream",
          "name": "stderr",
          "text": [
            "\rtraining:  93%|█████████▎| 4669/5000 [2:38:48<10:53,  1.97s/it]"
          ]
        },
        {
          "output_type": "stream",
          "name": "stdout",
          "text": [
            "training loss: 1.339659333229065\n",
            "training loss: 1.508461356163025\n",
            "training loss: 1.2724436521530151\n",
            "training loss: 1.537136435508728\n",
            "training loss: 1.2546340227127075\n",
            "training loss: 1.4848567247390747\n"
          ]
        },
        {
          "output_type": "stream",
          "name": "stderr",
          "text": [
            "training:  94%|█████████▎| 4675/5000 [2:39:00<10:41,  1.97s/it]"
          ]
        },
        {
          "output_type": "stream",
          "name": "stdout",
          "text": [
            "training loss: 1.2858983278274536\n",
            "training loss: 1.536634087562561\n",
            "training loss: 1.4035048484802246\n",
            "training loss: 1.56515371799469\n",
            "training loss: 1.5265374183654785\n",
            "training loss: 1.3985660076141357\n"
          ]
        },
        {
          "output_type": "stream",
          "name": "stderr",
          "text": [
            "\rtraining:  94%|█████████▎| 4681/5000 [2:39:12<10:29,  1.97s/it]"
          ]
        },
        {
          "output_type": "stream",
          "name": "stdout",
          "text": [
            "training loss: 1.2833726406097412\n",
            "training loss: 1.4819518327713013\n",
            "training loss: 1.3864225149154663\n",
            "training loss: 1.3634036779403687\n",
            "training loss: 1.4580892324447632\n",
            "training loss: 1.5117709636688232\n"
          ]
        },
        {
          "output_type": "stream",
          "name": "stderr",
          "text": [
            "\rtraining:  94%|█████████▎| 4687/5000 [2:39:24<10:17,  1.97s/it]"
          ]
        },
        {
          "output_type": "stream",
          "name": "stdout",
          "text": [
            "training loss: 1.4613813161849976\n",
            "training loss: 1.4186339378356934\n",
            "training loss: 1.6068403720855713\n",
            "training loss: 1.4561461210250854\n",
            "training loss: 1.4942119121551514\n",
            "training loss: 1.497085452079773\n"
          ]
        },
        {
          "output_type": "stream",
          "name": "stderr",
          "text": [
            "\rtraining:  94%|█████████▍| 4693/5000 [2:39:36<10:05,  1.97s/it]"
          ]
        },
        {
          "output_type": "stream",
          "name": "stdout",
          "text": [
            "training loss: 1.4919538497924805\n",
            "training loss: 1.478933334350586\n",
            "training loss: 1.4061002731323242\n",
            "training loss: 1.4663058519363403\n",
            "training loss: 1.5043668746948242\n",
            "training loss: 1.4748061895370483\n"
          ]
        },
        {
          "output_type": "stream",
          "name": "stderr",
          "text": [
            "\rtraining:  94%|█████████▍| 4699/5000 [2:39:47<09:54,  1.97s/it]"
          ]
        },
        {
          "output_type": "stream",
          "name": "stdout",
          "text": [
            "training loss: 1.511594295501709\n",
            "training loss: 1.4856562614440918\n",
            "training loss: 1.4609968662261963\n",
            "validation loss: 1.3198028802871704\n",
            "training loss: 1.5996915102005005\n",
            "training loss: 1.4364699125289917\n",
            "training loss: 1.4181087017059326\n"
          ]
        },
        {
          "output_type": "stream",
          "name": "stderr",
          "text": [
            "\rtraining:  94%|█████████▍| 4705/5000 [2:39:59<09:45,  1.98s/it]"
          ]
        },
        {
          "output_type": "stream",
          "name": "stdout",
          "text": [
            "training loss: 1.4082486629486084\n",
            "training loss: 1.4771090745925903\n",
            "training loss: 1.4269975423812866\n",
            "training loss: 1.4387900829315186\n",
            "training loss: 1.498857021331787\n",
            "training loss: 1.4038138389587402\n"
          ]
        },
        {
          "output_type": "stream",
          "name": "stderr",
          "text": [
            "training:  94%|█████████▍| 4711/5000 [2:40:11<09:32,  1.98s/it]"
          ]
        },
        {
          "output_type": "stream",
          "name": "stdout",
          "text": [
            "training loss: 1.5090751647949219\n",
            "training loss: 1.4329326152801514\n",
            "training loss: 1.7069052457809448\n",
            "training loss: 1.5153228044509888\n",
            "training loss: 1.5633037090301514\n",
            "training loss: 1.4656330347061157\n"
          ]
        },
        {
          "output_type": "stream",
          "name": "stderr",
          "text": [
            "\rtraining:  94%|█████████▍| 4717/5000 [2:40:23<09:19,  1.98s/it]"
          ]
        },
        {
          "output_type": "stream",
          "name": "stdout",
          "text": [
            "training loss: 1.2375538349151611\n",
            "training loss: 1.5075602531433105\n",
            "training loss: 1.474940538406372\n",
            "training loss: 1.437920093536377\n",
            "training loss: 1.4290105104446411\n",
            "training loss: 1.5103936195373535\n"
          ]
        },
        {
          "output_type": "stream",
          "name": "stderr",
          "text": [
            "\rtraining:  94%|█████████▍| 4723/5000 [2:40:35<09:07,  1.98s/it]"
          ]
        },
        {
          "output_type": "stream",
          "name": "stdout",
          "text": [
            "training loss: 1.6869275569915771\n",
            "training loss: 1.438848614692688\n",
            "training loss: 1.6078836917877197\n",
            "training loss: 1.501869797706604\n",
            "training loss: 1.3263802528381348\n",
            "training loss: 1.4234411716461182\n"
          ]
        },
        {
          "output_type": "stream",
          "name": "stderr",
          "text": [
            "\rtraining:  95%|█████████▍| 4729/5000 [2:40:47<08:55,  1.98s/it]"
          ]
        },
        {
          "output_type": "stream",
          "name": "stdout",
          "text": [
            "training loss: 1.5192880630493164\n",
            "training loss: 1.4504032135009766\n",
            "training loss: 1.4488859176635742\n",
            "training loss: 1.4547901153564453\n",
            "training loss: 1.3595879077911377\n",
            "training loss: 1.5056825876235962\n"
          ]
        },
        {
          "output_type": "stream",
          "name": "stderr",
          "text": [
            "\rtraining:  95%|█████████▍| 4735/5000 [2:40:59<08:43,  1.98s/it]"
          ]
        },
        {
          "output_type": "stream",
          "name": "stdout",
          "text": [
            "training loss: 1.5833364725112915\n",
            "training loss: 1.542734980583191\n",
            "training loss: 1.4390082359313965\n",
            "training loss: 1.4701564311981201\n",
            "training loss: 1.4364280700683594\n",
            "training loss: 1.5791468620300293\n"
          ]
        },
        {
          "output_type": "stream",
          "name": "stderr",
          "text": [
            "training:  95%|█████████▍| 4741/5000 [2:41:11<08:31,  1.98s/it]"
          ]
        },
        {
          "output_type": "stream",
          "name": "stdout",
          "text": [
            "training loss: 1.4213330745697021\n",
            "training loss: 1.4820570945739746\n",
            "training loss: 1.3460553884506226\n",
            "training loss: 1.443732738494873\n",
            "training loss: 1.4576797485351562\n",
            "training loss: 1.4438410997390747\n"
          ]
        },
        {
          "output_type": "stream",
          "name": "stderr",
          "text": [
            "\rtraining:  95%|█████████▍| 4747/5000 [2:41:22<08:19,  1.97s/it]"
          ]
        },
        {
          "output_type": "stream",
          "name": "stdout",
          "text": [
            "training loss: 1.4737937450408936\n",
            "training loss: 1.487216830253601\n",
            "training loss: 1.4611830711364746\n",
            "training loss: 1.4107691049575806\n",
            "training loss: 1.2717885971069336\n",
            "training loss: 1.3657368421554565\n"
          ]
        },
        {
          "output_type": "stream",
          "name": "stderr",
          "text": [
            "\rtraining:  95%|█████████▌| 4753/5000 [2:41:34<08:07,  1.97s/it]"
          ]
        },
        {
          "output_type": "stream",
          "name": "stdout",
          "text": [
            "training loss: 1.3619437217712402\n",
            "training loss: 1.530654788017273\n",
            "training loss: 1.3942463397979736\n",
            "training loss: 1.4416710138320923\n",
            "training loss: 1.4733220338821411\n",
            "training loss: 1.50193190574646\n"
          ]
        },
        {
          "output_type": "stream",
          "name": "stderr",
          "text": [
            "\rtraining:  95%|█████████▌| 4759/5000 [2:41:46<07:55,  1.97s/it]"
          ]
        },
        {
          "output_type": "stream",
          "name": "stdout",
          "text": [
            "training loss: 1.5438381433486938\n",
            "training loss: 1.5216261148452759\n",
            "training loss: 1.5703374147415161\n",
            "training loss: 1.4368376731872559\n",
            "training loss: 1.5278284549713135\n",
            "training loss: 1.4955573081970215\n"
          ]
        },
        {
          "output_type": "stream",
          "name": "stderr",
          "text": [
            "\rtraining:  95%|█████████▌| 4765/5000 [2:41:58<07:43,  1.97s/it]"
          ]
        },
        {
          "output_type": "stream",
          "name": "stdout",
          "text": [
            "training loss: 1.4796180725097656\n",
            "training loss: 1.466071367263794\n",
            "training loss: 1.515883207321167\n",
            "training loss: 1.5339195728302002\n",
            "training loss: 1.3684149980545044\n",
            "training loss: 1.499359130859375\n"
          ]
        },
        {
          "output_type": "stream",
          "name": "stderr",
          "text": [
            "\rtraining:  95%|█████████▌| 4771/5000 [2:42:10<07:32,  1.97s/it]"
          ]
        },
        {
          "output_type": "stream",
          "name": "stdout",
          "text": [
            "training loss: 1.3898484706878662\n",
            "training loss: 1.6472761631011963\n",
            "training loss: 1.4995641708374023\n",
            "training loss: 1.4673267602920532\n",
            "training loss: 1.3923449516296387\n",
            "training loss: 1.4161405563354492\n"
          ]
        },
        {
          "output_type": "stream",
          "name": "stderr",
          "text": [
            "training:  96%|█████████▌| 4777/5000 [2:42:22<07:20,  1.97s/it]"
          ]
        },
        {
          "output_type": "stream",
          "name": "stdout",
          "text": [
            "training loss: 1.56053626537323\n",
            "training loss: 1.459165334701538\n",
            "training loss: 1.4556090831756592\n",
            "training loss: 1.4491569995880127\n",
            "training loss: 1.4192616939544678\n",
            "training loss: 1.4764275550842285\n"
          ]
        },
        {
          "output_type": "stream",
          "name": "stderr",
          "text": [
            "\rtraining:  96%|█████████▌| 4783/5000 [2:42:33<07:08,  1.97s/it]"
          ]
        },
        {
          "output_type": "stream",
          "name": "stdout",
          "text": [
            "training loss: 1.610140085220337\n",
            "training loss: 1.597596287727356\n",
            "training loss: 1.5708681344985962\n",
            "training loss: 1.5332911014556885\n",
            "training loss: 1.379928708076477\n",
            "training loss: 1.432091236114502\n"
          ]
        },
        {
          "output_type": "stream",
          "name": "stderr",
          "text": [
            "\rtraining:  96%|█████████▌| 4789/5000 [2:42:45<06:56,  1.97s/it]"
          ]
        },
        {
          "output_type": "stream",
          "name": "stdout",
          "text": [
            "training loss: 1.564041018486023\n",
            "training loss: 1.3867186307907104\n",
            "training loss: 1.343666434288025\n",
            "training loss: 1.4555206298828125\n",
            "training loss: 1.4284539222717285\n",
            "training loss: 1.379038691520691\n"
          ]
        },
        {
          "output_type": "stream",
          "name": "stderr",
          "text": [
            "\rtraining:  96%|█████████▌| 4795/5000 [2:42:57<06:44,  1.97s/it]"
          ]
        },
        {
          "output_type": "stream",
          "name": "stdout",
          "text": [
            "training loss: 1.4751477241516113\n",
            "training loss: 1.4780492782592773\n",
            "training loss: 1.3940316438674927\n",
            "training loss: 1.439241647720337\n",
            "training loss: 1.5476711988449097\n",
            "training loss: 1.7094625234603882\n",
            "training loss: 1.4016515016555786\n"
          ]
        },
        {
          "output_type": "stream",
          "name": "stderr",
          "text": [
            "\rtraining:  96%|█████████▌| 4801/5000 [2:43:09<06:34,  1.98s/it]"
          ]
        },
        {
          "output_type": "stream",
          "name": "stdout",
          "text": [
            "validation loss: 1.3967769145965576\n",
            "training loss: 1.486617922782898\n",
            "training loss: 1.1993640661239624\n",
            "training loss: 1.465087652206421\n",
            "training loss: 1.4299252033233643\n",
            "training loss: 1.495526671409607\n"
          ]
        },
        {
          "output_type": "stream",
          "name": "stderr",
          "text": [
            "training:  96%|█████████▌| 4807/5000 [2:43:21<06:22,  1.98s/it]"
          ]
        },
        {
          "output_type": "stream",
          "name": "stdout",
          "text": [
            "training loss: 1.4777884483337402\n",
            "training loss: 1.5949585437774658\n",
            "training loss: 1.388669729232788\n",
            "training loss: 1.548795461654663\n",
            "training loss: 1.4671262502670288\n",
            "training loss: 1.5048964023590088\n"
          ]
        },
        {
          "output_type": "stream",
          "name": "stderr",
          "text": [
            "\rtraining:  96%|█████████▋| 4813/5000 [2:43:33<06:10,  1.98s/it]"
          ]
        },
        {
          "output_type": "stream",
          "name": "stdout",
          "text": [
            "training loss: 1.4966347217559814\n",
            "training loss: 1.4286872148513794\n",
            "training loss: 1.4133784770965576\n",
            "training loss: 1.5013610124588013\n",
            "training loss: 1.4752259254455566\n",
            "training loss: 1.349871039390564\n"
          ]
        },
        {
          "output_type": "stream",
          "name": "stderr",
          "text": [
            "\rtraining:  96%|█████████▋| 4819/5000 [2:43:45<05:57,  1.98s/it]"
          ]
        },
        {
          "output_type": "stream",
          "name": "stdout",
          "text": [
            "training loss: 1.4017601013183594\n",
            "training loss: 1.507892370223999\n",
            "training loss: 1.421134114265442\n",
            "training loss: 1.5855534076690674\n",
            "training loss: 1.3998832702636719\n",
            "training loss: 1.4147181510925293\n"
          ]
        },
        {
          "output_type": "stream",
          "name": "stderr",
          "text": [
            "\rtraining:  96%|█████████▋| 4825/5000 [2:43:57<05:45,  1.98s/it]"
          ]
        },
        {
          "output_type": "stream",
          "name": "stdout",
          "text": [
            "training loss: 1.2655048370361328\n",
            "training loss: 1.5547378063201904\n",
            "training loss: 1.4737927913665771\n",
            "training loss: 1.4692524671554565\n",
            "training loss: 1.4676706790924072\n",
            "training loss: 1.49797785282135\n"
          ]
        },
        {
          "output_type": "stream",
          "name": "stderr",
          "text": [
            "\rtraining:  97%|█████████▋| 4831/5000 [2:44:08<05:33,  1.98s/it]"
          ]
        },
        {
          "output_type": "stream",
          "name": "stdout",
          "text": [
            "training loss: 1.4628266096115112\n",
            "training loss: 1.5159006118774414\n",
            "training loss: 1.3868381977081299\n",
            "training loss: 1.4063900709152222\n",
            "training loss: 1.4218833446502686\n",
            "training loss: 1.3985532522201538\n"
          ]
        },
        {
          "output_type": "stream",
          "name": "stderr",
          "text": [
            "training:  97%|█████████▋| 4837/5000 [2:44:20<05:21,  1.98s/it]"
          ]
        },
        {
          "output_type": "stream",
          "name": "stdout",
          "text": [
            "training loss: 1.4507797956466675\n",
            "training loss: 1.507901668548584\n",
            "training loss: 1.6435809135437012\n",
            "training loss: 1.4710733890533447\n",
            "training loss: 1.5034327507019043\n",
            "training loss: 1.6060278415679932\n"
          ]
        },
        {
          "output_type": "stream",
          "name": "stderr",
          "text": [
            "\rtraining:  97%|█████████▋| 4843/5000 [2:44:32<05:10,  1.97s/it]"
          ]
        },
        {
          "output_type": "stream",
          "name": "stdout",
          "text": [
            "training loss: 1.3743078708648682\n",
            "training loss: 1.4772690534591675\n",
            "training loss: 1.4260609149932861\n",
            "training loss: 1.4779918193817139\n",
            "training loss: 1.3929482698440552\n",
            "training loss: 1.3555824756622314\n"
          ]
        },
        {
          "output_type": "stream",
          "name": "stderr",
          "text": [
            "\rtraining:  97%|█████████▋| 4849/5000 [2:44:44<04:58,  1.97s/it]"
          ]
        },
        {
          "output_type": "stream",
          "name": "stdout",
          "text": [
            "training loss: 1.4867268800735474\n",
            "training loss: 1.4336493015289307\n",
            "training loss: 1.4018694162368774\n",
            "training loss: 1.5202300548553467\n",
            "training loss: 1.5791692733764648\n",
            "training loss: 1.4481725692749023\n"
          ]
        },
        {
          "output_type": "stream",
          "name": "stderr",
          "text": [
            "\rtraining:  97%|█████████▋| 4855/5000 [2:44:56<04:46,  1.97s/it]"
          ]
        },
        {
          "output_type": "stream",
          "name": "stdout",
          "text": [
            "training loss: 1.258795142173767\n",
            "training loss: 1.448333978652954\n",
            "training loss: 1.358061671257019\n",
            "training loss: 1.6051771640777588\n",
            "training loss: 1.6453821659088135\n",
            "training loss: 1.4735151529312134\n"
          ]
        },
        {
          "output_type": "stream",
          "name": "stderr",
          "text": [
            "\rtraining:  97%|█████████▋| 4861/5000 [2:45:08<04:34,  1.97s/it]"
          ]
        },
        {
          "output_type": "stream",
          "name": "stdout",
          "text": [
            "training loss: 1.5218174457550049\n",
            "training loss: 1.5784486532211304\n",
            "training loss: 1.3795844316482544\n",
            "training loss: 1.4914913177490234\n",
            "training loss: 1.3869104385375977\n",
            "training loss: 1.4223144054412842\n"
          ]
        },
        {
          "output_type": "stream",
          "name": "stderr",
          "text": [
            "\rtraining:  97%|█████████▋| 4867/5000 [2:45:19<04:22,  1.97s/it]"
          ]
        },
        {
          "output_type": "stream",
          "name": "stdout",
          "text": [
            "training loss: 1.6061151027679443\n",
            "training loss: 1.5263047218322754\n",
            "training loss: 1.4937751293182373\n",
            "training loss: 1.2979495525360107\n",
            "training loss: 1.5489474534988403\n",
            "training loss: 1.502774953842163\n"
          ]
        },
        {
          "output_type": "stream",
          "name": "stderr",
          "text": [
            "training:  97%|█████████▋| 4873/5000 [2:45:31<04:10,  1.97s/it]"
          ]
        },
        {
          "output_type": "stream",
          "name": "stdout",
          "text": [
            "training loss: 1.4515318870544434\n",
            "training loss: 1.5000262260437012\n",
            "training loss: 1.4913444519042969\n",
            "training loss: 1.3409316539764404\n",
            "training loss: 1.5351675748825073\n",
            "training loss: 1.5018203258514404\n"
          ]
        },
        {
          "output_type": "stream",
          "name": "stderr",
          "text": [
            "\rtraining:  98%|█████████▊| 4879/5000 [2:45:43<03:58,  1.97s/it]"
          ]
        },
        {
          "output_type": "stream",
          "name": "stdout",
          "text": [
            "training loss: 1.4619319438934326\n",
            "training loss: 1.4568915367126465\n",
            "training loss: 1.4171860218048096\n",
            "training loss: 1.3557894229888916\n",
            "training loss: 1.5315717458724976\n",
            "training loss: 1.4885796308517456\n"
          ]
        },
        {
          "output_type": "stream",
          "name": "stderr",
          "text": [
            "\rtraining:  98%|█████████▊| 4885/5000 [2:45:55<03:47,  1.97s/it]"
          ]
        },
        {
          "output_type": "stream",
          "name": "stdout",
          "text": [
            "training loss: 1.4203927516937256\n",
            "training loss: 1.4613611698150635\n",
            "training loss: 1.5772342681884766\n",
            "training loss: 1.551985502243042\n",
            "training loss: 1.5691591501235962\n",
            "training loss: 1.47029709815979\n"
          ]
        },
        {
          "output_type": "stream",
          "name": "stderr",
          "text": [
            "\rtraining:  98%|█████████▊| 4891/5000 [2:46:07<03:35,  1.97s/it]"
          ]
        },
        {
          "output_type": "stream",
          "name": "stdout",
          "text": [
            "training loss: 1.4057843685150146\n",
            "training loss: 1.4979214668273926\n",
            "training loss: 1.5780225992202759\n",
            "training loss: 1.4923198223114014\n",
            "training loss: 1.5412760972976685\n",
            "training loss: 1.3854410648345947\n"
          ]
        },
        {
          "output_type": "stream",
          "name": "stderr",
          "text": [
            "\rtraining:  98%|█████████▊| 4897/5000 [2:46:19<03:23,  1.97s/it]"
          ]
        },
        {
          "output_type": "stream",
          "name": "stdout",
          "text": [
            "training loss: 1.5955028533935547\n",
            "training loss: 1.419206142425537\n",
            "training loss: 1.6468273401260376\n",
            "training loss: 1.5476081371307373\n",
            "training loss: 1.510854721069336\n",
            "validation loss: 1.3978066444396973\n",
            "training loss: 1.486504316329956\n"
          ]
        },
        {
          "output_type": "stream",
          "name": "stderr",
          "text": [
            "training:  98%|█████████▊| 4903/5000 [2:46:31<03:12,  1.98s/it]"
          ]
        },
        {
          "output_type": "stream",
          "name": "stdout",
          "text": [
            "training loss: 1.4496328830718994\n",
            "training loss: 1.4498918056488037\n",
            "training loss: 1.4722952842712402\n",
            "training loss: 1.5321630239486694\n",
            "training loss: 1.49064302444458\n",
            "training loss: 1.4930135011672974\n"
          ]
        },
        {
          "output_type": "stream",
          "name": "stderr",
          "text": [
            "\rtraining:  98%|█████████▊| 4909/5000 [2:46:43<03:00,  1.98s/it]"
          ]
        },
        {
          "output_type": "stream",
          "name": "stdout",
          "text": [
            "training loss: 1.492522954940796\n",
            "training loss: 1.5492277145385742\n",
            "training loss: 1.4076606035232544\n",
            "training loss: 1.535681962966919\n",
            "training loss: 1.5094106197357178\n",
            "training loss: 1.3664082288742065\n"
          ]
        },
        {
          "output_type": "stream",
          "name": "stderr",
          "text": [
            "\rtraining:  98%|█████████▊| 4915/5000 [2:46:54<02:48,  1.98s/it]"
          ]
        },
        {
          "output_type": "stream",
          "name": "stdout",
          "text": [
            "training loss: 1.4885876178741455\n",
            "training loss: 1.503755807876587\n",
            "training loss: 1.4443587064743042\n",
            "training loss: 1.4213933944702148\n",
            "training loss: 1.42287278175354\n",
            "training loss: 1.4670863151550293\n"
          ]
        },
        {
          "output_type": "stream",
          "name": "stderr",
          "text": [
            "\rtraining:  98%|█████████▊| 4921/5000 [2:47:06<02:36,  1.98s/it]"
          ]
        },
        {
          "output_type": "stream",
          "name": "stdout",
          "text": [
            "training loss: 1.4891071319580078\n",
            "training loss: 1.3337500095367432\n",
            "training loss: 1.4817525148391724\n",
            "training loss: 1.5243521928787231\n",
            "training loss: 1.404289960861206\n",
            "training loss: 1.485752820968628\n"
          ]
        },
        {
          "output_type": "stream",
          "name": "stderr",
          "text": [
            "\rtraining:  99%|█████████▊| 4927/5000 [2:47:18<02:24,  1.98s/it]"
          ]
        },
        {
          "output_type": "stream",
          "name": "stdout",
          "text": [
            "training loss: 1.5218144655227661\n",
            "training loss: 1.5601340532302856\n",
            "training loss: 1.559597373008728\n",
            "training loss: 1.4139621257781982\n",
            "training loss: 1.544506311416626\n",
            "training loss: 1.558176040649414\n"
          ]
        },
        {
          "output_type": "stream",
          "name": "stderr",
          "text": [
            "training:  99%|█████████▊| 4933/5000 [2:47:30<02:12,  1.98s/it]"
          ]
        },
        {
          "output_type": "stream",
          "name": "stdout",
          "text": [
            "training loss: 1.4114058017730713\n",
            "training loss: 1.5768523216247559\n",
            "training loss: 1.4639008045196533\n",
            "training loss: 1.512479543685913\n",
            "training loss: 1.2605078220367432\n",
            "training loss: 1.3454492092132568\n"
          ]
        },
        {
          "output_type": "stream",
          "name": "stderr",
          "text": [
            "\rtraining:  99%|█████████▉| 4939/5000 [2:47:42<02:00,  1.98s/it]"
          ]
        },
        {
          "output_type": "stream",
          "name": "stdout",
          "text": [
            "training loss: 1.4318310022354126\n",
            "training loss: 1.5130900144577026\n",
            "training loss: 1.4966392517089844\n",
            "training loss: 1.5270451307296753\n",
            "training loss: 1.3581624031066895\n",
            "training loss: 1.448475956916809\n"
          ]
        },
        {
          "output_type": "stream",
          "name": "stderr",
          "text": [
            "\rtraining:  99%|█████████▉| 4945/5000 [2:47:54<01:48,  1.97s/it]"
          ]
        },
        {
          "output_type": "stream",
          "name": "stdout",
          "text": [
            "training loss: 1.510392665863037\n",
            "training loss: 1.470781683921814\n",
            "training loss: 1.5077279806137085\n",
            "training loss: 1.474554181098938\n",
            "training loss: 1.542959451675415\n",
            "training loss: 1.4733893871307373\n"
          ]
        },
        {
          "output_type": "stream",
          "name": "stderr",
          "text": [
            "\rtraining:  99%|█████████▉| 4951/5000 [2:48:05<01:36,  1.97s/it]"
          ]
        },
        {
          "output_type": "stream",
          "name": "stdout",
          "text": [
            "training loss: 1.5735491514205933\n",
            "training loss: 1.415040373802185\n",
            "training loss: 1.5624905824661255\n",
            "training loss: 1.4650808572769165\n",
            "training loss: 1.3987629413604736\n",
            "training loss: 1.5130079984664917\n"
          ]
        },
        {
          "output_type": "stream",
          "name": "stderr",
          "text": [
            "\rtraining:  99%|█████████▉| 4957/5000 [2:48:17<01:24,  1.97s/it]"
          ]
        },
        {
          "output_type": "stream",
          "name": "stdout",
          "text": [
            "training loss: 1.4563742876052856\n",
            "training loss: 1.440799355506897\n",
            "training loss: 1.5062962770462036\n",
            "training loss: 1.4785228967666626\n",
            "training loss: 1.3581552505493164\n",
            "training loss: 1.5897022485733032\n"
          ]
        },
        {
          "output_type": "stream",
          "name": "stderr",
          "text": [
            "\rtraining:  99%|█████████▉| 4963/5000 [2:48:29<01:13,  1.97s/it]"
          ]
        },
        {
          "output_type": "stream",
          "name": "stdout",
          "text": [
            "training loss: 1.4334174394607544\n",
            "training loss: 1.3790072202682495\n",
            "training loss: 1.4629489183425903\n",
            "training loss: 1.443174958229065\n",
            "training loss: 1.4167670011520386\n",
            "training loss: 1.5079967975616455\n"
          ]
        },
        {
          "output_type": "stream",
          "name": "stderr",
          "text": [
            "training:  99%|█████████▉| 4969/5000 [2:48:41<01:01,  1.97s/it]"
          ]
        },
        {
          "output_type": "stream",
          "name": "stdout",
          "text": [
            "training loss: 1.4156745672225952\n",
            "training loss: 1.504702091217041\n",
            "training loss: 1.4789315462112427\n",
            "training loss: 1.4889461994171143\n",
            "training loss: 1.52727472782135\n",
            "training loss: 1.4204528331756592\n"
          ]
        },
        {
          "output_type": "stream",
          "name": "stderr",
          "text": [
            "\rtraining: 100%|█████████▉| 4975/5000 [2:48:53<00:49,  1.97s/it]"
          ]
        },
        {
          "output_type": "stream",
          "name": "stdout",
          "text": [
            "training loss: 1.3583123683929443\n",
            "training loss: 1.5327026844024658\n",
            "training loss: 1.526232361793518\n",
            "training loss: 1.3193457126617432\n",
            "training loss: 1.374910831451416\n",
            "training loss: 1.4143314361572266\n"
          ]
        },
        {
          "output_type": "stream",
          "name": "stderr",
          "text": [
            "\rtraining: 100%|█████████▉| 4981/5000 [2:49:05<00:37,  1.97s/it]"
          ]
        },
        {
          "output_type": "stream",
          "name": "stdout",
          "text": [
            "training loss: 1.5233111381530762\n",
            "training loss: 1.4323784112930298\n",
            "training loss: 1.4868992567062378\n",
            "training loss: 1.4813175201416016\n",
            "training loss: 1.5114970207214355\n",
            "training loss: 1.446900725364685\n"
          ]
        },
        {
          "output_type": "stream",
          "name": "stderr",
          "text": [
            "\rtraining: 100%|█████████▉| 4987/5000 [2:49:17<00:25,  1.97s/it]"
          ]
        },
        {
          "output_type": "stream",
          "name": "stdout",
          "text": [
            "training loss: 1.4778952598571777\n",
            "training loss: 1.3465077877044678\n",
            "training loss: 1.5284156799316406\n",
            "training loss: 1.4682235717773438\n",
            "training loss: 1.5115519762039185\n",
            "training loss: 1.456234097480774\n"
          ]
        },
        {
          "output_type": "stream",
          "name": "stderr",
          "text": [
            "\rtraining: 100%|█████████▉| 4993/5000 [2:49:28<00:13,  1.97s/it]"
          ]
        },
        {
          "output_type": "stream",
          "name": "stdout",
          "text": [
            "training loss: 1.5038683414459229\n",
            "training loss: 1.4685760736465454\n",
            "training loss: 1.5336040258407593\n",
            "training loss: 1.5108330249786377\n",
            "training loss: 1.3156311511993408\n",
            "training loss: 1.3943052291870117\n"
          ]
        },
        {
          "output_type": "stream",
          "name": "stderr",
          "text": [
            "training: 100%|█████████▉| 4999/5000 [2:49:40<00:01,  1.97s/it]"
          ]
        },
        {
          "output_type": "stream",
          "name": "stdout",
          "text": [
            "training loss: 1.452698826789856\n"
          ]
        },
        {
          "output_type": "stream",
          "name": "stderr",
          "text": [
            "\rtraining: 100%|██████████| 5000/5000 [2:49:42<00:00,  2.04s/it]"
          ]
        },
        {
          "output_type": "stream",
          "name": "stdout",
          "text": [
            "training loss: 1.467824101448059\n"
          ]
        },
        {
          "output_type": "stream",
          "name": "stderr",
          "text": [
            "\n"
          ]
        }
      ],
      "source": [
        "from routing_transformer import RoutingTransformerLM\n",
        "from routing_transformer.autoregressive_wrapper import AutoregressiveWrapper\n",
        "\n",
        "import random\n",
        "import tqdm\n",
        "import gzip\n",
        "import numpy as np\n",
        "import torch\n",
        "import torch.optim as optim\n",
        "from torch.nn import functional as F\n",
        "from torch.utils.data import DataLoader, Dataset\n",
        "\n",
        "# constants\n",
        "\n",
        "NUM_BATCHES = int(5000)\n",
        "BATCH_SIZE = 4\n",
        "GRADIENT_ACCUMULATE_EVERY = 4\n",
        "LEARNING_RATE = 6e-4\n",
        "VALIDATE_EVERY  = 100\n",
        "GENERATE_EVERY  = 500\n",
        "GENERATE_LENGTH = 512\n",
        "SEQ_LEN = 4096\n",
        "\n",
        "# helpers\n",
        "\n",
        "def cycle(loader):\n",
        "    while True:\n",
        "        for data in loader:\n",
        "            yield data\n",
        "\n",
        "def decode_token(token):\n",
        "    return str(chr(max(32, token)))\n",
        "\n",
        "def decode_tokens(tokens):\n",
        "    return ''.join(list(map(decode_token, tokens)))\n",
        "\n",
        "# instantiate model\n",
        "\n",
        "model = RoutingTransformerLM(\n",
        "    num_tokens = 256,\n",
        "    dim = 512,\n",
        "    depth = 6,\n",
        "    max_seq_len = SEQ_LEN,\n",
        "    heads = 8,\n",
        "    causal = True,\n",
        "    window_size = 256,\n",
        "    attn_dropout = 0.4,\n",
        "    ff_dropout=0.4\n",
        "    #n_local_attn_heads = (8, 8, 8, 4, 4, 4)\n",
        ")\n",
        "\n",
        "model = AutoregressiveWrapper(model)\n",
        "model.cuda()\n",
        "\n",
        "# prepare enwik8 data\n",
        "from google.colab import files\n",
        "uploaded = files.upload()\n",
        "with gzip.open('enwik8.gz') as file:\n",
        "\n",
        "    X = np.fromstring(file.read(int(95e6)), dtype=np.uint8)\n",
        "    trX, vaX = np.split(X, [int(90e6)])\n",
        "    data_train, data_val = torch.from_numpy(trX), torch.from_numpy(vaX)\n",
        "\n",
        "class TextSamplerDataset(Dataset):\n",
        "    def __init__(self, data, seq_len):\n",
        "        super().__init__()\n",
        "        self.data = data\n",
        "        self.seq_len = seq_len\n",
        "\n",
        "    def __getitem__(self, index):\n",
        "        rand_start = torch.randint(0, self.data.size(0) - self.seq_len - 1, (1,))\n",
        "        full_seq = self.data[rand_start: rand_start + self.seq_len + 1].long()\n",
        "        return full_seq.cuda()\n",
        "\n",
        "    def __len__(self):\n",
        "        return self.data.size(0) // self.seq_len\n",
        "\n",
        "train_dataset = TextSamplerDataset(data_train, SEQ_LEN)\n",
        "val_dataset   = TextSamplerDataset(data_val, SEQ_LEN)\n",
        "train_loader  = cycle(DataLoader(train_dataset, batch_size = BATCH_SIZE))\n",
        "val_loader    = cycle(DataLoader(val_dataset, batch_size = BATCH_SIZE))\n",
        "\n",
        "# optimizer\n",
        "\n",
        "optim = torch.optim.Adam(model.parameters(), lr=LEARNING_RATE)\n",
        "\n",
        "# training\n",
        "\n",
        "for i in tqdm.tqdm(range(NUM_BATCHES), mininterval=10., desc='training'):\n",
        "    model.train()\n",
        "\n",
        "    for __ in range(GRADIENT_ACCUMULATE_EVERY):\n",
        "        loss = model(next(train_loader), return_loss = True)\n",
        "        loss.backward()\n",
        "\n",
        "    print(f'training loss: {loss.item()}')\n",
        "    torch.nn.utils.clip_grad_norm_(model.parameters(), 0.5)\n",
        "    optim.step()\n",
        "    optim.zero_grad()\n",
        "\n",
        "    if i % VALIDATE_EVERY == 0:\n",
        "        model.eval()\n",
        "        with torch.no_grad():\n",
        "            loss = model(next(val_loader), return_loss = True)\n",
        "            print(f'validation loss: {loss.item()}')\n",
        "\n",
        "    if i % GENERATE_EVERY == 0:\n",
        "        model.eval()\n",
        "        inp = random.choice(val_dataset)[:-1]\n",
        "        prime = decode_tokens(inp)\n",
        "        print(f'%s \\n\\n %s', (prime, '*' * 100))\n",
        "\n",
        "        sample = model.generate(inp, GENERATE_LENGTH)\n",
        "        output_str = decode_tokens(sample)\n",
        "        print(output_str)"
      ]
    },
    {
      "cell_type": "code",
      "source": [
        "loss = model(next(val_loader), return_loss = True)\n",
        "print(f'validation loss: {loss.item()}')"
      ],
      "metadata": {
        "colab": {
          "base_uri": "https://localhost:8080/"
        },
        "id": "FwxgE0X3GKYt",
        "outputId": "709c1dd2-e658-47c2-9949-273a6f3bc06a"
      },
      "execution_count": 4,
      "outputs": [
        {
          "output_type": "stream",
          "name": "stdout",
          "text": [
            "validation loss: 1.372866153717041\n"
          ]
        },
        {
          "output_type": "stream",
          "name": "stderr",
          "text": [
            "/usr/local/lib/python3.7/dist-packages/torch/nn/modules/module.py:1015: UserWarning: Using a non-full backward hook when outputs are generated by different autograd Nodes is deprecated and will be removed in future versions. This hook will be missing some grad_output. Please use register_full_backward_hook to get the documented behavior.\n",
            "  warnings.warn(\"Using a non-full backward hook when outputs are generated by different autograd Nodes \"\n"
          ]
        }
      ]
    },
    {
      "cell_type": "code",
      "source": [
        ""
      ],
      "metadata": {
        "id": "tRwmtJlRS6N4"
      },
      "execution_count": null,
      "outputs": []
    }
  ]
}